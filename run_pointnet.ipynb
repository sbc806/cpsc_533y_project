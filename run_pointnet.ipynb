{
  "nbformat": 4,
  "nbformat_minor": 0,
  "metadata": {
    "colab": {
      "provenance": [],
      "gpuType": "T4",
      "authorship_tag": "ABX9TyNOAU5n6RGHLKvMQKg6pacq",
      "include_colab_link": true
    },
    "kernelspec": {
      "name": "python3",
      "display_name": "Python 3"
    },
    "language_info": {
      "name": "python"
    },
    "accelerator": "GPU"
  },
  "cells": [
    {
      "cell_type": "markdown",
      "metadata": {
        "id": "view-in-github",
        "colab_type": "text"
      },
      "source": [
        "<a href=\"https://colab.research.google.com/github/sbc806/cpsc_533y_project/blob/master/run_pointnet.ipynb\" target=\"_parent\"><img src=\"https://colab.research.google.com/assets/colab-badge.svg\" alt=\"Open In Colab\"/></a>"
      ]
    },
    {
      "cell_type": "markdown",
      "metadata": {
        "id": "Qop7snG-N5lC"
      },
      "source": []
    },
    {
      "cell_type": "code",
      "source": [
        "!git clone https://github.com/yanx27/Pointnet_Pointnet2_pytorch.git"
      ],
      "metadata": {
        "colab": {
          "base_uri": "https://localhost:8080/"
        },
        "id": "B6NYd-cwfIrT",
        "outputId": "08edf952-911c-4a53-8c80-b1537c130f3a"
      },
      "execution_count": null,
      "outputs": [
        {
          "output_type": "stream",
          "name": "stdout",
          "text": [
            "Cloning into 'Pointnet_Pointnet2_pytorch'...\n",
            "remote: Enumerating objects: 842, done.\u001b[K\n",
            "remote: Counting objects: 100% (16/16), done.\u001b[K\n",
            "remote: Compressing objects: 100% (11/11), done.\u001b[K\n",
            "remote: Total 842 (delta 7), reused 11 (delta 5), pack-reused 826\u001b[K\n",
            "Receiving objects: 100% (842/842), 68.77 MiB | 22.30 MiB/s, done.\n",
            "Resolving deltas: 100% (485/485), done.\n"
          ]
        }
      ]
    },
    {
      "cell_type": "code",
      "source": [
        "!git clone https://github.com/sbc806/cpsc_533y_project.git"
      ],
      "metadata": {
        "id": "9ybMTMHRCOCz",
        "outputId": "5cc98ce1-4f47-49c7-dc2f-113a68e84b37",
        "colab": {
          "base_uri": "https://localhost:8080/"
        }
      },
      "execution_count": null,
      "outputs": [
        {
          "output_type": "stream",
          "name": "stdout",
          "text": [
            "Cloning into 'cpsc_533y_project'...\n",
            "remote: Enumerating objects: 34, done.\u001b[K\n",
            "remote: Counting objects: 100% (24/24), done.\u001b[K\n",
            "remote: Compressing objects: 100% (21/21), done.\u001b[K\n",
            "remote: Total 34 (delta 11), reused 6 (delta 3), pack-reused 10\u001b[K\n",
            "Receiving objects: 100% (34/34), 266.66 KiB | 6.20 MiB/s, done.\n",
            "Resolving deltas: 100% (11/11), done.\n"
          ]
        }
      ]
    },
    {
      "cell_type": "code",
      "execution_count": null,
      "metadata": {
        "id": "qwJD3oaghjyt"
      },
      "outputs": [],
      "source": [
        "import sys as sys\n",
        "\n",
        "sys.path.append(\"/content/cpsc_533y_project\")"
      ]
    },
    {
      "cell_type": "code",
      "execution_count": null,
      "metadata": {
        "id": "97zqHHP90idz"
      },
      "outputs": [],
      "source": [
        "import sys as sys\n",
        "\n",
        "sys.path.append(\"/content/Pointnet_Pointnet2_pytorch\")"
      ]
    },
    {
      "cell_type": "code",
      "execution_count": null,
      "metadata": {
        "id": "QgLt8fO7n88I"
      },
      "outputs": [],
      "source": [
        "import sys as sys\n",
        "\n",
        "sys.path.append(\"/content/Pointnet_Pointnet2_pytorch/models\")"
      ]
    },
    {
      "cell_type": "markdown",
      "metadata": {
        "id": "QwW_m4FZQE7C"
      },
      "source": [
        "Read in data"
      ]
    },
    {
      "cell_type": "code",
      "execution_count": null,
      "metadata": {
        "colab": {
          "base_uri": "https://localhost:8080/"
        },
        "id": "-Anb4xHnQDHL",
        "outputId": "1a385469-cd2b-489f-bbda-450474010da3"
      },
      "outputs": [
        {
          "output_type": "stream",
          "name": "stdout",
          "text": [
            "Collecting open3d\n",
            "  Downloading open3d-0.17.0-cp310-cp310-manylinux_2_27_x86_64.whl (420.5 MB)\n",
            "\u001b[2K     \u001b[90m━━━━━━━━━━━━━━━━━━━━━━━━━━━━━━━━━━━━━━━━\u001b[0m \u001b[32m420.5/420.5 MB\u001b[0m \u001b[31m1.4 MB/s\u001b[0m eta \u001b[36m0:00:00\u001b[0m\n",
            "\u001b[?25hRequirement already satisfied: numpy>=1.18.0 in /usr/local/lib/python3.10/dist-packages (from open3d) (1.23.5)\n",
            "Collecting dash>=2.6.0 (from open3d)\n",
            "  Downloading dash-2.14.2-py3-none-any.whl (10.2 MB)\n",
            "\u001b[2K     \u001b[90m━━━━━━━━━━━━━━━━━━━━━━━━━━━━━━━━━━━━━━━━\u001b[0m \u001b[32m10.2/10.2 MB\u001b[0m \u001b[31m103.2 MB/s\u001b[0m eta \u001b[36m0:00:00\u001b[0m\n",
            "\u001b[?25hRequirement already satisfied: werkzeug>=2.2.3 in /usr/local/lib/python3.10/dist-packages (from open3d) (3.0.1)\n",
            "Collecting nbformat==5.7.0 (from open3d)\n",
            "  Downloading nbformat-5.7.0-py3-none-any.whl (77 kB)\n",
            "\u001b[2K     \u001b[90m━━━━━━━━━━━━━━━━━━━━━━━━━━━━━━━━━━━━━━━━\u001b[0m \u001b[32m77.1/77.1 kB\u001b[0m \u001b[31m12.1 MB/s\u001b[0m eta \u001b[36m0:00:00\u001b[0m\n",
            "\u001b[?25hCollecting configargparse (from open3d)\n",
            "  Downloading ConfigArgParse-1.7-py3-none-any.whl (25 kB)\n",
            "Collecting ipywidgets>=8.0.4 (from open3d)\n",
            "  Downloading ipywidgets-8.1.1-py3-none-any.whl (139 kB)\n",
            "\u001b[2K     \u001b[90m━━━━━━━━━━━━━━━━━━━━━━━━━━━━━━━━━━━━━━━━\u001b[0m \u001b[32m139.4/139.4 kB\u001b[0m \u001b[31m21.0 MB/s\u001b[0m eta \u001b[36m0:00:00\u001b[0m\n",
            "\u001b[?25hCollecting addict (from open3d)\n",
            "  Downloading addict-2.4.0-py3-none-any.whl (3.8 kB)\n",
            "Requirement already satisfied: pillow>=9.3.0 in /usr/local/lib/python3.10/dist-packages (from open3d) (9.4.0)\n",
            "Requirement already satisfied: matplotlib>=3 in /usr/local/lib/python3.10/dist-packages (from open3d) (3.7.1)\n",
            "Requirement already satisfied: pandas>=1.0 in /usr/local/lib/python3.10/dist-packages (from open3d) (1.5.3)\n",
            "Requirement already satisfied: pyyaml>=5.4.1 in /usr/local/lib/python3.10/dist-packages (from open3d) (6.0.1)\n",
            "Requirement already satisfied: scikit-learn>=0.21 in /usr/local/lib/python3.10/dist-packages (from open3d) (1.2.2)\n",
            "Requirement already satisfied: tqdm in /usr/local/lib/python3.10/dist-packages (from open3d) (4.66.1)\n",
            "Collecting pyquaternion (from open3d)\n",
            "  Downloading pyquaternion-0.9.9-py3-none-any.whl (14 kB)\n",
            "Requirement already satisfied: fastjsonschema in /usr/local/lib/python3.10/dist-packages (from nbformat==5.7.0->open3d) (2.19.0)\n",
            "Requirement already satisfied: jsonschema>=2.6 in /usr/local/lib/python3.10/dist-packages (from nbformat==5.7.0->open3d) (4.19.2)\n",
            "Requirement already satisfied: jupyter-core in /usr/local/lib/python3.10/dist-packages (from nbformat==5.7.0->open3d) (5.5.0)\n",
            "Requirement already satisfied: traitlets>=5.1 in /usr/local/lib/python3.10/dist-packages (from nbformat==5.7.0->open3d) (5.7.1)\n",
            "Requirement already satisfied: Flask<3.1,>=1.0.4 in /usr/local/lib/python3.10/dist-packages (from dash>=2.6.0->open3d) (2.2.5)\n",
            "Requirement already satisfied: plotly>=5.0.0 in /usr/local/lib/python3.10/dist-packages (from dash>=2.6.0->open3d) (5.15.0)\n",
            "Collecting dash-html-components==2.0.0 (from dash>=2.6.0->open3d)\n",
            "  Downloading dash_html_components-2.0.0-py3-none-any.whl (4.1 kB)\n",
            "Collecting dash-core-components==2.0.0 (from dash>=2.6.0->open3d)\n",
            "  Downloading dash_core_components-2.0.0-py3-none-any.whl (3.8 kB)\n",
            "Collecting dash-table==5.0.0 (from dash>=2.6.0->open3d)\n",
            "  Downloading dash_table-5.0.0-py3-none-any.whl (3.9 kB)\n",
            "Requirement already satisfied: typing-extensions>=4.1.1 in /usr/local/lib/python3.10/dist-packages (from dash>=2.6.0->open3d) (4.5.0)\n",
            "Requirement already satisfied: requests in /usr/local/lib/python3.10/dist-packages (from dash>=2.6.0->open3d) (2.31.0)\n",
            "Collecting retrying (from dash>=2.6.0->open3d)\n",
            "  Downloading retrying-1.3.4-py3-none-any.whl (11 kB)\n",
            "Collecting ansi2html (from dash>=2.6.0->open3d)\n",
            "  Downloading ansi2html-1.9.1-py3-none-any.whl (17 kB)\n",
            "Requirement already satisfied: nest-asyncio in /usr/local/lib/python3.10/dist-packages (from dash>=2.6.0->open3d) (1.5.8)\n",
            "Requirement already satisfied: setuptools in /usr/local/lib/python3.10/dist-packages (from dash>=2.6.0->open3d) (67.7.2)\n",
            "Requirement already satisfied: importlib-metadata in /usr/local/lib/python3.10/dist-packages (from dash>=2.6.0->open3d) (7.0.0)\n",
            "Collecting comm>=0.1.3 (from ipywidgets>=8.0.4->open3d)\n",
            "  Downloading comm-0.2.0-py3-none-any.whl (7.0 kB)\n",
            "Requirement already satisfied: ipython>=6.1.0 in /usr/local/lib/python3.10/dist-packages (from ipywidgets>=8.0.4->open3d) (7.34.0)\n",
            "Collecting widgetsnbextension~=4.0.9 (from ipywidgets>=8.0.4->open3d)\n",
            "  Downloading widgetsnbextension-4.0.9-py3-none-any.whl (2.3 MB)\n",
            "\u001b[2K     \u001b[90m━━━━━━━━━━━━━━━━━━━━━━━━━━━━━━━━━━━━━━━━\u001b[0m \u001b[32m2.3/2.3 MB\u001b[0m \u001b[31m87.0 MB/s\u001b[0m eta \u001b[36m0:00:00\u001b[0m\n",
            "\u001b[?25hRequirement already satisfied: jupyterlab-widgets~=3.0.9 in /usr/local/lib/python3.10/dist-packages (from ipywidgets>=8.0.4->open3d) (3.0.9)\n",
            "Requirement already satisfied: contourpy>=1.0.1 in /usr/local/lib/python3.10/dist-packages (from matplotlib>=3->open3d) (1.2.0)\n",
            "Requirement already satisfied: cycler>=0.10 in /usr/local/lib/python3.10/dist-packages (from matplotlib>=3->open3d) (0.12.1)\n",
            "Requirement already satisfied: fonttools>=4.22.0 in /usr/local/lib/python3.10/dist-packages (from matplotlib>=3->open3d) (4.46.0)\n",
            "Requirement already satisfied: kiwisolver>=1.0.1 in /usr/local/lib/python3.10/dist-packages (from matplotlib>=3->open3d) (1.4.5)\n",
            "Requirement already satisfied: packaging>=20.0 in /usr/local/lib/python3.10/dist-packages (from matplotlib>=3->open3d) (23.2)\n",
            "Requirement already satisfied: pyparsing>=2.3.1 in /usr/local/lib/python3.10/dist-packages (from matplotlib>=3->open3d) (3.1.1)\n",
            "Requirement already satisfied: python-dateutil>=2.7 in /usr/local/lib/python3.10/dist-packages (from matplotlib>=3->open3d) (2.8.2)\n",
            "Requirement already satisfied: pytz>=2020.1 in /usr/local/lib/python3.10/dist-packages (from pandas>=1.0->open3d) (2023.3.post1)\n",
            "Requirement already satisfied: scipy>=1.3.2 in /usr/local/lib/python3.10/dist-packages (from scikit-learn>=0.21->open3d) (1.11.4)\n",
            "Requirement already satisfied: joblib>=1.1.1 in /usr/local/lib/python3.10/dist-packages (from scikit-learn>=0.21->open3d) (1.3.2)\n",
            "Requirement already satisfied: threadpoolctl>=2.0.0 in /usr/local/lib/python3.10/dist-packages (from scikit-learn>=0.21->open3d) (3.2.0)\n",
            "Requirement already satisfied: MarkupSafe>=2.1.1 in /usr/local/lib/python3.10/dist-packages (from werkzeug>=2.2.3->open3d) (2.1.3)\n",
            "Requirement already satisfied: Jinja2>=3.0 in /usr/local/lib/python3.10/dist-packages (from Flask<3.1,>=1.0.4->dash>=2.6.0->open3d) (3.1.2)\n",
            "Requirement already satisfied: itsdangerous>=2.0 in /usr/local/lib/python3.10/dist-packages (from Flask<3.1,>=1.0.4->dash>=2.6.0->open3d) (2.1.2)\n",
            "Requirement already satisfied: click>=8.0 in /usr/local/lib/python3.10/dist-packages (from Flask<3.1,>=1.0.4->dash>=2.6.0->open3d) (8.1.7)\n",
            "Collecting jedi>=0.16 (from ipython>=6.1.0->ipywidgets>=8.0.4->open3d)\n",
            "  Downloading jedi-0.19.1-py2.py3-none-any.whl (1.6 MB)\n",
            "\u001b[2K     \u001b[90m━━━━━━━━━━━━━━━━━━━━━━━━━━━━━━━━━━━━━━━━\u001b[0m \u001b[32m1.6/1.6 MB\u001b[0m \u001b[31m92.6 MB/s\u001b[0m eta \u001b[36m0:00:00\u001b[0m\n",
            "\u001b[?25hRequirement already satisfied: decorator in /usr/local/lib/python3.10/dist-packages (from ipython>=6.1.0->ipywidgets>=8.0.4->open3d) (4.4.2)\n",
            "Requirement already satisfied: pickleshare in /usr/local/lib/python3.10/dist-packages (from ipython>=6.1.0->ipywidgets>=8.0.4->open3d) (0.7.5)\n",
            "Requirement already satisfied: prompt-toolkit!=3.0.0,!=3.0.1,<3.1.0,>=2.0.0 in /usr/local/lib/python3.10/dist-packages (from ipython>=6.1.0->ipywidgets>=8.0.4->open3d) (3.0.43)\n",
            "Requirement already satisfied: pygments in /usr/local/lib/python3.10/dist-packages (from ipython>=6.1.0->ipywidgets>=8.0.4->open3d) (2.16.1)\n",
            "Requirement already satisfied: backcall in /usr/local/lib/python3.10/dist-packages (from ipython>=6.1.0->ipywidgets>=8.0.4->open3d) (0.2.0)\n",
            "Requirement already satisfied: matplotlib-inline in /usr/local/lib/python3.10/dist-packages (from ipython>=6.1.0->ipywidgets>=8.0.4->open3d) (0.1.6)\n",
            "Requirement already satisfied: pexpect>4.3 in /usr/local/lib/python3.10/dist-packages (from ipython>=6.1.0->ipywidgets>=8.0.4->open3d) (4.9.0)\n",
            "Requirement already satisfied: attrs>=22.2.0 in /usr/local/lib/python3.10/dist-packages (from jsonschema>=2.6->nbformat==5.7.0->open3d) (23.1.0)\n",
            "Requirement already satisfied: jsonschema-specifications>=2023.03.6 in /usr/local/lib/python3.10/dist-packages (from jsonschema>=2.6->nbformat==5.7.0->open3d) (2023.11.2)\n",
            "Requirement already satisfied: referencing>=0.28.4 in /usr/local/lib/python3.10/dist-packages (from jsonschema>=2.6->nbformat==5.7.0->open3d) (0.32.0)\n",
            "Requirement already satisfied: rpds-py>=0.7.1 in /usr/local/lib/python3.10/dist-packages (from jsonschema>=2.6->nbformat==5.7.0->open3d) (0.13.2)\n",
            "Requirement already satisfied: tenacity>=6.2.0 in /usr/local/lib/python3.10/dist-packages (from plotly>=5.0.0->dash>=2.6.0->open3d) (8.2.3)\n",
            "Requirement already satisfied: six>=1.5 in /usr/local/lib/python3.10/dist-packages (from python-dateutil>=2.7->matplotlib>=3->open3d) (1.16.0)\n",
            "Requirement already satisfied: zipp>=0.5 in /usr/local/lib/python3.10/dist-packages (from importlib-metadata->dash>=2.6.0->open3d) (3.17.0)\n",
            "Requirement already satisfied: platformdirs>=2.5 in /usr/local/lib/python3.10/dist-packages (from jupyter-core->nbformat==5.7.0->open3d) (4.1.0)\n",
            "Requirement already satisfied: charset-normalizer<4,>=2 in /usr/local/lib/python3.10/dist-packages (from requests->dash>=2.6.0->open3d) (3.3.2)\n",
            "Requirement already satisfied: idna<4,>=2.5 in /usr/local/lib/python3.10/dist-packages (from requests->dash>=2.6.0->open3d) (3.6)\n",
            "Requirement already satisfied: urllib3<3,>=1.21.1 in /usr/local/lib/python3.10/dist-packages (from requests->dash>=2.6.0->open3d) (2.0.7)\n",
            "Requirement already satisfied: certifi>=2017.4.17 in /usr/local/lib/python3.10/dist-packages (from requests->dash>=2.6.0->open3d) (2023.11.17)\n",
            "Requirement already satisfied: parso<0.9.0,>=0.8.3 in /usr/local/lib/python3.10/dist-packages (from jedi>=0.16->ipython>=6.1.0->ipywidgets>=8.0.4->open3d) (0.8.3)\n",
            "Requirement already satisfied: ptyprocess>=0.5 in /usr/local/lib/python3.10/dist-packages (from pexpect>4.3->ipython>=6.1.0->ipywidgets>=8.0.4->open3d) (0.7.0)\n",
            "Requirement already satisfied: wcwidth in /usr/local/lib/python3.10/dist-packages (from prompt-toolkit!=3.0.0,!=3.0.1,<3.1.0,>=2.0.0->ipython>=6.1.0->ipywidgets>=8.0.4->open3d) (0.2.12)\n",
            "Installing collected packages: dash-table, dash-html-components, dash-core-components, addict, widgetsnbextension, retrying, pyquaternion, jedi, configargparse, comm, ansi2html, ipywidgets, dash, nbformat, open3d\n",
            "  Attempting uninstall: widgetsnbextension\n",
            "    Found existing installation: widgetsnbextension 3.6.6\n",
            "    Uninstalling widgetsnbextension-3.6.6:\n",
            "      Successfully uninstalled widgetsnbextension-3.6.6\n",
            "  Attempting uninstall: ipywidgets\n",
            "    Found existing installation: ipywidgets 7.7.1\n",
            "    Uninstalling ipywidgets-7.7.1:\n",
            "      Successfully uninstalled ipywidgets-7.7.1\n",
            "  Attempting uninstall: nbformat\n",
            "    Found existing installation: nbformat 5.9.2\n",
            "    Uninstalling nbformat-5.9.2:\n",
            "      Successfully uninstalled nbformat-5.9.2\n",
            "Successfully installed addict-2.4.0 ansi2html-1.9.1 comm-0.2.0 configargparse-1.7 dash-2.14.2 dash-core-components-2.0.0 dash-html-components-2.0.0 dash-table-5.0.0 ipywidgets-8.1.1 jedi-0.19.1 nbformat-5.7.0 open3d-0.17.0 pyquaternion-0.9.9 retrying-1.3.4 widgetsnbextension-4.0.9\n"
          ]
        }
      ],
      "source": [
        "!pip install open3d"
      ]
    },
    {
      "cell_type": "code",
      "execution_count": null,
      "metadata": {
        "colab": {
          "base_uri": "https://localhost:8080/"
        },
        "id": "-IfFGo3VQTLL",
        "outputId": "9785d6aa-dbd9-4b62-e7d7-b42e451ef37f"
      },
      "outputs": [
        {
          "output_type": "stream",
          "name": "stdout",
          "text": [
            "Collecting tdqm\n",
            "  Downloading tdqm-0.0.1.tar.gz (1.4 kB)\n",
            "  Preparing metadata (setup.py) ... \u001b[?25l\u001b[?25hdone\n",
            "Requirement already satisfied: tqdm in /usr/local/lib/python3.10/dist-packages (from tdqm) (4.66.1)\n",
            "Building wheels for collected packages: tdqm\n",
            "  Building wheel for tdqm (setup.py) ... \u001b[?25l\u001b[?25hdone\n",
            "  Created wheel for tdqm: filename=tdqm-0.0.1-py3-none-any.whl size=1322 sha256=207d10c12c17b2adaa442b4a6d55552a81f4d6d5f59cfd2b22a1349debc3a9c5\n",
            "  Stored in directory: /root/.cache/pip/wheels/37/31/b8/7b711038035720ba0df14376af06e5e76b9bd61759c861ad92\n",
            "Successfully built tdqm\n",
            "Installing collected packages: tdqm\n",
            "Successfully installed tdqm-0.0.1\n"
          ]
        }
      ],
      "source": [
        "!pip install tdqm"
      ]
    },
    {
      "cell_type": "markdown",
      "source": [
        "## Copy data from original directory to /cpsc_533y_project/data"
      ],
      "metadata": {
        "id": "epy8yKDlQzrA"
      }
    },
    {
      "cell_type": "code",
      "execution_count": null,
      "metadata": {
        "id": "GSg93u8FOua7"
      },
      "outputs": [],
      "source": [
        "!cp -r /content/drive/MyDrive/cpsc_533y/project_datasets/modelnet40_ply_hdf5_2048 /content/cpsc_533y_project/data"
      ]
    },
    {
      "cell_type": "markdown",
      "metadata": {
        "id": "CouOosfHbfAd"
      },
      "source": [
        "# Get configuration"
      ]
    },
    {
      "cell_type": "code",
      "execution_count": null,
      "metadata": {
        "colab": {
          "base_uri": "https://localhost:8080/"
        },
        "id": "FyyhnPE6S4UD",
        "outputId": "1c60018c-4382-43d3-c586-f5bb39b9db68"
      },
      "outputs": [
        {
          "output_type": "stream",
          "name": "stdout",
          "text": [
            "Collecting ml_collections==0.1.1\n",
            "  Downloading ml_collections-0.1.1.tar.gz (77 kB)\n",
            "\u001b[2K     \u001b[90m━━━━━━━━━━━━━━━━━━━━━━━━━━━━━━━━━━━━━━━━\u001b[0m \u001b[32m77.9/77.9 kB\u001b[0m \u001b[31m1.2 MB/s\u001b[0m eta \u001b[36m0:00:00\u001b[0m\n",
            "\u001b[?25h  Preparing metadata (setup.py) ... \u001b[?25l\u001b[?25hdone\n",
            "Requirement already satisfied: absl-py in /usr/local/lib/python3.10/dist-packages (from ml_collections==0.1.1) (1.4.0)\n",
            "Requirement already satisfied: PyYAML in /usr/local/lib/python3.10/dist-packages (from ml_collections==0.1.1) (6.0.1)\n",
            "Requirement already satisfied: six in /usr/local/lib/python3.10/dist-packages (from ml_collections==0.1.1) (1.16.0)\n",
            "Requirement already satisfied: contextlib2 in /usr/local/lib/python3.10/dist-packages (from ml_collections==0.1.1) (21.6.0)\n",
            "Building wheels for collected packages: ml_collections\n",
            "  Building wheel for ml_collections (setup.py) ... \u001b[?25l\u001b[?25hdone\n",
            "  Created wheel for ml_collections: filename=ml_collections-0.1.1-py3-none-any.whl size=94505 sha256=97176221e7f65b190840d3ce0e96a8065054f2fe8c3867de5e26a278c90ead6a\n",
            "  Stored in directory: /root/.cache/pip/wheels/7b/89/c9/a9b87790789e94aadcfc393c283e3ecd5ab916aed0a31be8fe\n",
            "Successfully built ml_collections\n",
            "Installing collected packages: ml_collections\n",
            "Successfully installed ml_collections-0.1.1\n"
          ]
        }
      ],
      "source": [
        "!pip install ml_collections==0.1.1"
      ]
    },
    {
      "cell_type": "code",
      "execution_count": null,
      "metadata": {
        "id": "feoN_Qrj8sCc"
      },
      "outputs": [],
      "source": [
        "import ml_collections"
      ]
    },
    {
      "cell_type": "code",
      "execution_count": null,
      "metadata": {
        "id": "JEhnFbgmS6Tp"
      },
      "outputs": [],
      "source": [
        "def get_config():\n",
        "    config = ml_collections.ConfigDict()\n",
        "\n",
        "    config.mode = \"train\"\n",
        "\n",
        "    # Hyperparameters for dataset.\n",
        "    config.num_pts = 64\n",
        "    config.num_classes = 40\n",
        "    config.use_voxel = False\n",
        "    config.rot_type = \"SO3\"\n",
        "    config.rot = False\n",
        "    config.normalize = False\n",
        "    config.center = False\n",
        "    config.preprocess = True\n",
        "\n",
        "    # Hyperparameters for models.\n",
        "\n",
        "    # Hyperparameters for training.\n",
        "    config.log_dir = \"logs\"\n",
        "    config.use_cuda = True\n",
        "    config.batch_size = 16\n",
        "    config.num_epochs = 200\n",
        "    config.lr = 0.02\n",
        "    config.label_smoothing = 0.20\n",
        "\n",
        "    # Hyperparameters for ablation study\n",
        "    config.mode = \"both\"\n",
        "    return config"
      ]
    },
    {
      "cell_type": "code",
      "execution_count": null,
      "metadata": {
        "id": "DjKJyT-qUR_k"
      },
      "outputs": [],
      "source": [
        "config = get_config()"
      ]
    },
    {
      "cell_type": "code",
      "execution_count": null,
      "metadata": {
        "colab": {
          "base_uri": "https://localhost:8080/"
        },
        "id": "BIobrn2rbjGF",
        "outputId": "33bba155-694e-41fe-a674-08a66bd877cf"
      },
      "outputs": [
        {
          "output_type": "execute_result",
          "data": {
            "text/plain": [
              "batch_size: 16\n",
              "center: false\n",
              "label_smoothing: 0.2\n",
              "log_dir: logs\n",
              "lr: 0.02\n",
              "mode: both\n",
              "normalize: false\n",
              "num_classes: 40\n",
              "num_epochs: 200\n",
              "num_pts: 64\n",
              "preprocess: true\n",
              "rot: false\n",
              "rot_type: SO3\n",
              "use_cuda: true\n",
              "use_voxel: false"
            ]
          },
          "metadata": {},
          "execution_count": 19
        }
      ],
      "source": [
        "config"
      ]
    },
    {
      "cell_type": "markdown",
      "metadata": {
        "id": "L54QsUg9bhnE"
      },
      "source": [
        "# Get dataloaders"
      ]
    },
    {
      "cell_type": "code",
      "source": [
        "def normalize_batch_data(batch_data):\n",
        "    \"\"\" Normalize the batch data, use coordinates of the block centered at origin,\n",
        "        Input:\n",
        "            BxNxC array\n",
        "        Output:\n",
        "            BxNxC array\n",
        "    \"\"\"\n",
        "    B, N, C = batch_data.shape\n",
        "    normal_data = np.zeros((B, N, C))\n",
        "    for b in range(B):\n",
        "        pc = batch_data[b]\n",
        "        centroid = np.mean(pc, axis=0)\n",
        "        pc = pc - centroid\n",
        "        m = np.max(np.sqrt(np.sum(pc ** 2, axis=1)))\n",
        "        pc = pc / m\n",
        "        normal_data[b] = pc\n",
        "    return normal_data"
      ],
      "metadata": {
        "id": "2V1ukTIihx4p"
      },
      "execution_count": null,
      "outputs": []
    },
    {
      "cell_type": "code",
      "execution_count": null,
      "metadata": {
        "id": "P-CoUi-mHgtP"
      },
      "outputs": [],
      "source": [
        "# From ScanObjectNN GitHub\n",
        "def normalize_data(pcs):\n",
        "    for pc in pcs:\n",
        "        d = max(np.sum(np.abs(pc)**2, axis=-1)**(1./2))\n",
        "        # print(d)\n",
        "        pc /= d\n",
        "    return pcs"
      ]
    },
    {
      "cell_type": "code",
      "execution_count": null,
      "metadata": {
        "id": "Il-Hej1tIetm"
      },
      "outputs": [],
      "source": [
        "# From ScanObjectNN GitHub\n",
        "def center_data(pcs):\n",
        "    for pc in pcs:\n",
        "        centroid = np.mean(pc, axis=0)\n",
        "        pc[:0]-=centroid[0]\n",
        "        pc[:,1]-=centroid[1]\n",
        "        pc[:,2]-=centroid[2]\n",
        "        # print(centroid)\n",
        "    return pcs"
      ]
    },
    {
      "cell_type": "code",
      "source": [
        "# Make anyadjustments to the hyperparameters for the dataloaders such as the number of points or rotation\n",
        "config.num_pts = 16\n",
        "config.batch_size = 24\n",
        "config.rot = True\n",
        "config.preprocess = False\n",
        "config.batch_preprocess = True"
      ],
      "metadata": {
        "id": "9wsJIlUqh8OR"
      },
      "execution_count": null,
      "outputs": []
    },
    {
      "cell_type": "code",
      "execution_count": null,
      "metadata": {
        "colab": {
          "base_uri": "https://localhost:8080/"
        },
        "id": "Rv0jvCMWPQUJ",
        "outputId": "b7ef40b5-26fa-4526-f584-be5f8027c2f9"
      },
      "outputs": [
        {
          "output_type": "stream",
          "name": "stdout",
          "text": [
            "batch_preprocess: true\n",
            "batch_size: 24\n",
            "center: false\n",
            "label_smoothing: 0.2\n",
            "log_dir: logs\n",
            "lr: 0.02\n",
            "mode: both\n",
            "normalize: false\n",
            "num_classes: 40\n",
            "num_epochs: 200\n",
            "num_pts: 16\n",
            "preprocess: false\n",
            "rot: true\n",
            "rot_type: SO3\n",
            "use_cuda: true\n",
            "use_voxel: false\n",
            "\n",
            "Preprocessing batch training data\n",
            "Preprocessing batch test data\n"
          ]
        }
      ],
      "source": [
        "import torch\n",
        "import torch.nn as nn\n",
        "import torch.utils.data\n",
        "import torch.optim as optim\n",
        "import torch.nn.functional as F\n",
        "# from torchvision import transforms, utils\n",
        "from torch.utils.data import Subset\n",
        "\n",
        "import time\n",
        "import numpy as np\n",
        "# from model import Reconstruction, TriangleNet\n",
        "from dataloader import load_data, ModelNetDataLoader\n",
        "from tqdm import tqdm\n",
        "import argparse\n",
        "# parser = argparse.ArgumentParser('Triangle-Net')\n",
        "# parser.add_argument('--batch_size', type=int, default=32, help='batch size')\n",
        "# parser.add_argument('--datapath', type=str, default=r'./data/modelnet40_ply_hdf5_2048/', help='path of modelnet 40 dataset')\n",
        "# parser.add_argument('--episodes', type=int, default=1000)\n",
        "# parser.add_argument('--n_points', type=int, default=16)\n",
        "# parser.add_argument('--descriptor_type', type=str, default='C', help='[A, B, C]')\n",
        "# parser.add_argument('--rot_type', type=str, default='SO3', help='[SO3, z]')\n",
        "# args = parser.parse_args()\n",
        "\n",
        "# datapath = args.datapath\n",
        "# batch_size = args.batch_size\n",
        "# train_episodes = args.episodes\n",
        "# descriptor_type = args.descriptor_type\n",
        "# n_points = args.n_points\n",
        "# rot_type = args.rot_type\n",
        "\n",
        "print(config)\n",
        "\n",
        "# Adjust path to modelnet40_ply_hdf5_2048 directory as necessary\n",
        "datapath = \"/content/cpsc_533y_project/data/modelnet40_ply_hdf5_2048/\"\n",
        "n_points = config.num_pts\n",
        "use_voxel = config.use_voxel\n",
        "rot_type = config.rot_type\n",
        "rot = config.rot\n",
        "\n",
        "train_data, train_label, test_data, test_label = load_data(datapath, classification=True)\n",
        "if config.center or config.preprocess:\n",
        "    print(\"Centering training data\")\n",
        "    train_data = center_data(train_data)\n",
        "    print(\"Centering test data\")\n",
        "    test_data = center_data(test_data)\n",
        "if config.normalize or config.preprocess:\n",
        "    print(\"Normalizing training data\")\n",
        "    train_data = normalize_data(train_data)\n",
        "    print(\"Normalizing test data\")\n",
        "    test_data = normalize_data(test_data)\n",
        "\n",
        "if config.batch_preprocess and not config.preprocess:\n",
        "    print(\"Preprocessing batch training data\")\n",
        "    train_data = normalize_batch_data(train_data)\n",
        "    print(\"Preprocessing batch test data\")\n",
        "    test_data = normalize_batch_data(test_data)\n",
        "\n",
        "trainDataset = ModelNetDataLoader(train_data, train_label, use_voxel=use_voxel, point_num = n_points, rot_type=rot_type,rot=rot)\n",
        "testDataset = ModelNetDataLoader(test_data, test_label, use_voxel=use_voxel, point_num = n_points, rot_type=rot_type,rot=rot)\n",
        "\n",
        "weights = torch.ones(len(trainDataset))\n",
        "random_indices = torch.multinomial(weights, len(trainDataset), replacement=False)\n",
        "val_proportion = 0.20\n",
        "num_val = int(len(trainDataset) * val_proportion)\n",
        "\n",
        "trainDataLoader = torch.utils.data.DataLoader(trainDataset, batch_size=config.batch_size, shuffle=True) #, num_workers = 6\n",
        "# valDataLoader = torch.utils.data.DataLoader(Subset(trainDataset, random_indices[0: num_val]), batch_size=config.batch_size, shuffle=False)\n",
        "testDataLoader = torch.utils.data.DataLoader(testDataset, batch_size=config.batch_size, shuffle=False) #, num_workers = 6\n",
        "\n",
        "# Create a single batch to overfit on\n",
        "num_all=4\n",
        "weights = torch.ones(len(trainDataset))\n",
        "random_indices=torch.multinomial(weights,num_all,replacement=False)\n",
        "batch_subset = Subset(trainDataset, random_indices)\n",
        "batchTrainDataLoader=torch.utils.data.DataLoader(batch_subset,batch_size=4,shuffle=True)\n",
        "batchTestDataLoader=torch.utils.data.DataLoader(batch_subset,batch_size=4,shuffle=False)"
      ]
    },
    {
      "cell_type": "code",
      "execution_count": null,
      "metadata": {
        "colab": {
          "base_uri": "https://localhost:8080/"
        },
        "id": "EM1VDNhv-Ufr",
        "outputId": "0e0a679e-dff1-4000-e0ef-1c14a5331b67"
      },
      "outputs": [
        {
          "output_type": "stream",
          "name": "stdout",
          "text": [
            "3\n"
          ]
        }
      ],
      "source": [
        "print(len(trainDataset[0]))"
      ]
    },
    {
      "cell_type": "code",
      "execution_count": null,
      "metadata": {
        "colab": {
          "base_uri": "https://localhost:8080/"
        },
        "id": "6iPZtuTCQgja",
        "outputId": "1e4f51eb-c429-40c0-db6b-1987d818f1a8"
      },
      "outputs": [
        {
          "output_type": "stream",
          "name": "stdout",
          "text": [
            "3\n"
          ]
        }
      ],
      "source": [
        "data = next(iter(testDataLoader))\n",
        "# First element is the point cloud, second element is the estimated normals, third element is the labels\n",
        "# If use_voxel=True, third elment will be the voxels, and fourth element will be the labels\n",
        "print(len(data))"
      ]
    },
    {
      "cell_type": "code",
      "execution_count": null,
      "metadata": {
        "colab": {
          "base_uri": "https://localhost:8080/"
        },
        "id": "g7hOpbBRTrhj",
        "outputId": "c4a53c64-e353-4f4c-ec8b-78bc2ea44e63"
      },
      "outputs": [
        {
          "output_type": "stream",
          "name": "stdout",
          "text": [
            "Point cloud batch shape: torch.Size([24, 16, 3])\n"
          ]
        }
      ],
      "source": [
        "pc = data[0]\n",
        "print(f\"Point cloud batch shape: {pc.shape}\")"
      ]
    },
    {
      "cell_type": "markdown",
      "source": [
        "# Run PointNet"
      ],
      "metadata": {
        "id": "psf3ea1fi4r3"
      }
    },
    {
      "cell_type": "code",
      "source": [
        "\"\"\"\n",
        "Author: Benny\n",
        "Date: Nov 2019\n",
        "\"\"\"\n",
        "\n",
        "import os\n",
        "import sys\n",
        "import torch\n",
        "import numpy as np\n",
        "\n",
        "import datetime\n",
        "import logging\n",
        "import provider\n",
        "import importlib\n",
        "import shutil\n",
        "import argparse\n",
        "\n",
        "from pathlib import Path\n",
        "from tqdm import tqdm\n",
        "# from data_utils.ModelNetDataLoader import ModelNetDataLoader\n",
        "\n",
        "# BASE_DIR = os.path.dirname(os.path.abspath(__file__))\n",
        "# ROOT_DIR = BASE_DIR\n",
        "# sys.path.append(os.path.join(ROOT_DIR, 'models'))\n",
        "\n",
        "def parse_args():\n",
        "    '''PARAMETERS'''\n",
        "    parser = argparse.ArgumentParser('training')\n",
        "    parser.add_argument('--use_cpu', action='store_true', default=False, help='use cpu mode')\n",
        "    parser.add_argument('--gpu', type=str, default='0', help='specify gpu device')\n",
        "    parser.add_argument('--batch_size', type=int, default=24, help='batch size in training')\n",
        "    parser.add_argument('--model', default='pointnet_cls', help='model name [default: pointnet_cls]')\n",
        "    parser.add_argument('--num_category', default=40, type=int, choices=[10, 40],  help='training on ModelNet10/40')\n",
        "    parser.add_argument('--epoch', default=200, type=int, help='number of epoch in training')\n",
        "    parser.add_argument('--learning_rate', default=0.001, type=float, help='learning rate in training')\n",
        "    parser.add_argument('--num_point', type=int, default=1024, help='Point Number')\n",
        "    parser.add_argument('--optimizer', type=str, default='Adam', help='optimizer for training')\n",
        "    parser.add_argument('--log_dir', type=str, default=None, help='experiment root')\n",
        "    parser.add_argument('--decay_rate', type=float, default=1e-4, help='decay rate')\n",
        "    parser.add_argument('--use_normals', action='store_true', default=False, help='use normals')\n",
        "    parser.add_argument('--process_data', action='store_true', default=False, help='save data offline')\n",
        "    parser.add_argument('--use_uniform_sample', action='store_true', default=False, help='use uniform sampiling')\n",
        "    return parser.parse_args()\n",
        "\n",
        "\n",
        "def inplace_relu(m):\n",
        "    classname = m.__class__.__name__\n",
        "    if classname.find('ReLU') != -1:\n",
        "        m.inplace=True\n",
        "\n",
        "\n",
        "def test(model, loader, num_class=40, use_cpu=True):\n",
        "    mean_correct = []\n",
        "    class_acc = np.zeros((num_class, 3))\n",
        "    classifier = model.eval()\n",
        "\n",
        "    for j, (points, _, target) in tqdm(enumerate(loader), total=len(loader)):\n",
        "\n",
        "        if not use_cpu:\n",
        "            points, target = points.cuda(), target.cuda()\n",
        "\n",
        "        points = points.transpose(2, 1)\n",
        "        pred, _ = classifier(points)\n",
        "        pred_choice = pred.data.max(1)[1]\n",
        "\n",
        "        target = target.squeeze(-1)\n",
        "        for cat in np.unique(target.cpu()):\n",
        "            classacc = pred_choice[target == cat].eq(target[target == cat].long().data).cpu().sum()\n",
        "            class_acc[cat, 0] += classacc.item() / float(points[target == cat].size()[0])\n",
        "            class_acc[cat, 1] += 1\n",
        "\n",
        "        correct = pred_choice.eq(target.long().data).cpu().sum()\n",
        "        mean_correct.append(correct.item() / float(points.size()[0]))\n",
        "\n",
        "    class_acc[:, 2] = class_acc[:, 0] / class_acc[:, 1]\n",
        "    class_acc = np.mean(class_acc[:, 2])\n",
        "    instance_acc = np.mean(mean_correct)\n",
        "\n",
        "    return instance_acc, class_acc\n",
        "\n",
        "\n",
        "def log_string(str):\n",
        "    logger.info(str)\n",
        "    print(str)\n",
        "\n",
        "def main(args):\n",
        "    def log_string(str):\n",
        "        logger.info(str)\n",
        "        print(str)\n",
        "\n",
        "    '''HYPER PARAMETER'''\n",
        "    os.environ[\"CUDA_VISIBLE_DEVICES\"] = args.gpu\n",
        "\n",
        "    '''CREATE DIR'''\n",
        "    timestr = str(datetime.datetime.now().strftime('%Y-%m-%d_%H-%M'))\n",
        "    exp_dir = Path('./log/')\n",
        "    exp_dir.mkdir(exist_ok=True)\n",
        "    exp_dir = exp_dir.joinpath('classification')\n",
        "    exp_dir.mkdir(exist_ok=True)\n",
        "    if args.log_dir is None:\n",
        "        exp_dir = exp_dir.joinpath(timestr)\n",
        "    else:\n",
        "        exp_dir = exp_dir.joinpath(args.log_dir)\n",
        "    exp_dir.mkdir(exist_ok=True)\n",
        "    checkpoints_dir = exp_dir.joinpath('checkpoints/')\n",
        "    checkpoints_dir.mkdir(exist_ok=True)\n",
        "    log_dir = exp_dir.joinpath('logs/')\n",
        "    log_dir.mkdir(exist_ok=True)\n",
        "\n",
        "    '''LOG'''\n",
        "    args = parse_args()\n",
        "    logger = logging.getLogger(\"Model\")\n",
        "    logger.setLevel(logging.INFO)\n",
        "    formatter = logging.Formatter('%(asctime)s - %(name)s - %(levelname)s - %(message)s')\n",
        "    file_handler = logging.FileHandler('%s/%s.txt' % (log_dir, args.model))\n",
        "    file_handler.setLevel(logging.INFO)\n",
        "    file_handler.setFormatter(formatter)\n",
        "    logger.addHandler(file_handler)\n",
        "    log_string('PARAMETER ...')\n",
        "    log_string(args)\n",
        "\n",
        "    '''DATA LOADING'''\n",
        "    log_string('Load dataset ...')\n",
        "    data_path = 'data/modelnet40_normal_resampled/'\n",
        "\n",
        "    train_dataset = ModelNetDataLoader(root=data_path, args=args, split='train', process_data=args.process_data)\n",
        "    test_dataset = ModelNetDataLoader(root=data_path, args=args, split='test', process_data=args.process_data)\n",
        "    trainDataLoader = torch.utils.data.DataLoader(train_dataset, batch_size=args.batch_size, shuffle=True, num_workers=10, drop_last=True)\n",
        "    testDataLoader = torch.utils.data.DataLoader(test_dataset, batch_size=args.batch_size, shuffle=False, num_workers=10)\n"
      ],
      "metadata": {
        "id": "m95qwYYaP0HW"
      },
      "execution_count": null,
      "outputs": []
    },
    {
      "cell_type": "code",
      "source": [
        "'''MODEL LOADING'''\n",
        "num_class = 40\n",
        "model = importlib.import_module(\"pointnet_cls\")\n",
        "# from models import pointnet_utils\n",
        "# from models import pointnet_cls\n",
        "# from models import pointnet_utils\n",
        "classifier = model.get_model(num_class, normal_channel=False)\n",
        "criterion = model.get_loss()\n",
        "classifier.apply(inplace_relu)\n",
        "\n",
        "use_cpu=False\n",
        "if not use_cpu:\n",
        "    classifier = classifier.cuda()\n",
        "    criterion = criterion.cuda()\n",
        "\n",
        "# try:\n",
        "    # checkpoint = torch.load(str(exp_dir) + '/checkpoints/best_model.pth')\n",
        "    # start_epoch = checkpoint['epoch']\n",
        "    # classifier.load_state_dict(checkpoint['model_state_dict'])\n",
        "    # log_string('Use pretrain model')\n",
        "# except:\n",
        "    # log_string('No existing model, starting training from scratch...')\n",
        "    # start_epoch = 0\n",
        "\n",
        "start_epoch = 0\n",
        "optimizer = \"Adam\"\n",
        "learning_rate = 0.001\n",
        "decay_rate=1e-4\n",
        "if optimizer == 'Adam':\n",
        "    optimizer = torch.optim.Adam(\n",
        "    classifier.parameters(),\n",
        "    lr=learning_rate,\n",
        "    betas=(0.9, 0.999),\n",
        "    eps=1e-08,\n",
        "            weight_decay=decay_rate\n",
        "        )\n",
        "else:\n",
        "    optimizer = torch.optim.SGD(classifier.parameters(), lr=0.01, momentum=0.9)\n",
        "\n",
        "scheduler = torch.optim.lr_scheduler.StepLR(optimizer, step_size=20, gamma=0.7)\n",
        "global_epoch = 0\n",
        "global_step = 0\n",
        "best_instance_acc = 0.0\n",
        "best_class_acc = 0.0\n",
        "\n",
        "total_epochs = 200\n",
        "'''TRANING'''\n",
        "print('Start training...')\n",
        "for epoch in range(start_epoch, total_epochs):\n",
        "    print('Epoch %d (%d/%s):' % (global_epoch + 1, epoch + 1, epoch))\n",
        "    mean_correct = []\n",
        "    classifier = classifier.train()\n",
        "\n",
        "    # scheduler.step()\n",
        "    for batch_id, (points, _, target) in tqdm(enumerate(trainDataLoader, 0), total=len(trainDataLoader), smoothing=0.9):\n",
        "        optimizer.zero_grad()\n",
        "\n",
        "        points = points.data.numpy()\n",
        "        points = provider.random_point_dropout(points)\n",
        "        points[:, :, 0:3] = provider.random_scale_point_cloud(points[:, :, 0:3])\n",
        "        points[:, :, 0:3] = provider.shift_point_cloud(points[:, :, 0:3])\n",
        "        points = torch.Tensor(points)\n",
        "        points = points.transpose(2, 1)\n",
        "\n",
        "        if not use_cpu:\n",
        "            points, target = points.cuda(), target.cuda()\n",
        "\n",
        "        pred, trans_feat = classifier(points)\n",
        "        loss = criterion(pred, target.long().squeeze(-1), trans_feat)\n",
        "        pred_choice = pred.data.max(1)[1]\n",
        "\n",
        "        correct = pred_choice.eq(target.long().squeeze(-1).data).cpu().sum()\n",
        "        mean_correct.append(correct.item() / float(points.size()[0]))\n",
        "        loss.backward()\n",
        "        optimizer.step()\n",
        "        global_step += 1\n",
        "\n",
        "    scheduler.step()\n",
        "\n",
        "    train_instance_acc = np.mean(mean_correct)\n",
        "    print('Train Instance Accuracy: %f' % train_instance_acc)\n",
        "\n",
        "    state = {\n",
        "        'epoch': epoch,\n",
        "        'model_state_dict': classifier.state_dict(),\n",
        "        'optimizer_state_dict': optimizer,\n",
        "        'config': config,\n",
        "    }\n",
        "    torch.save(state, \"/content/drive/MyDrive/cpsc_533y/pointnet_16_rot_batch_center_normalize_checkpoint.pth\")\n",
        "\n",
        "    with torch.no_grad():\n",
        "        instance_acc, class_acc = test(classifier.eval(), testDataLoader, num_class=num_class, use_cpu=use_cpu)\n",
        "\n",
        "        if (instance_acc >= best_instance_acc):\n",
        "            best_instance_acc = instance_acc\n",
        "            best_epoch = epoch + 1\n",
        "\n",
        "        if (class_acc >= best_class_acc):\n",
        "            best_class_acc = class_acc\n",
        "        print('Test Instance Accuracy: %f, Class Accuracy: %f' % (instance_acc, class_acc))\n",
        "        print('Best Instance Accuracy: %f, Class Accuracy: %f' % (best_instance_acc, best_class_acc))\n",
        "\n",
        "        if (instance_acc >= best_instance_acc):\n",
        "            state = {\n",
        "                'epoch': epoch,\n",
        "                'model_state_dict': classifier.state_dict(),\n",
        "                'optimizer_state_dict': optimizer,\n",
        "                'config': config,\n",
        "            }\n",
        "            torch.save(state, \"/content/drive/MyDrive/cpsc_533y/pointnet_16_rot_batch_center_normalize_best.pth\")\n",
        "\n",
        "        # if (instance_acc >= best_instance_acc):\n",
        "            # logger.info('Save model...')\n",
        "            # savepath = str(checkpoints_dir) + '/best_model.pth'\n",
        "            # log_string('Saving at %s' % savepath)\n",
        "            # state = {\n",
        "                # 'epoch': best_epoch,\n",
        "                # 'instance_acc': instance_acc,\n",
        "                # 'class_acc': class_acc,\n",
        "                # 'model_state_dict': classifier.state_dict(),\n",
        "                # 'optimizer_state_dict': optimizer.state_dict(),\n",
        "            # }\n",
        "            # torch.save(state, savepath)\n",
        "            # global_epoch += 1\n",
        "\n",
        "print('End of training...')\n",
        "\n",
        "print()\n",
        "instance_acc, class_acc = test(classifier.eval(), testDataLoader, num_class=num_class, use_cpu=use_cpu)\n",
        "print('Test Instance Accuracy: %f, Class Accuracy: %f' % (instance_acc, class_acc))\n",
        "\n",
        "# main(args)"
      ],
      "metadata": {
        "colab": {
          "base_uri": "https://localhost:8080/"
        },
        "id": "yfxZlGpWi44_",
        "outputId": "7f0a57ec-ee00-44ab-e20f-05b62086ebc9"
      },
      "execution_count": null,
      "outputs": [
        {
          "output_type": "stream",
          "name": "stdout",
          "text": [
            "Start training...\n",
            "Epoch 1 (1/0):\n"
          ]
        },
        {
          "output_type": "stream",
          "name": "stderr",
          "text": [
            "100%|██████████| 410/410 [01:16<00:00,  5.39it/s]\n"
          ]
        },
        {
          "output_type": "stream",
          "name": "stdout",
          "text": [
            "Train Instance Accuracy: 0.088720\n"
          ]
        },
        {
          "output_type": "stream",
          "name": "stderr",
          "text": [
            "100%|██████████| 103/103 [00:18<00:00,  5.43it/s]\n"
          ]
        },
        {
          "output_type": "stream",
          "name": "stdout",
          "text": [
            "Test Instance Accuracy: 0.051375, Class Accuracy: 0.032230\n",
            "Best Instance Accuracy: 0.051375, Class Accuracy: 0.032230\n",
            "Epoch 1 (2/1):\n"
          ]
        },
        {
          "output_type": "stream",
          "name": "stderr",
          "text": [
            "100%|██████████| 410/410 [00:08<00:00, 46.76it/s]\n"
          ]
        },
        {
          "output_type": "stream",
          "name": "stdout",
          "text": [
            "Train Instance Accuracy: 0.099593\n"
          ]
        },
        {
          "output_type": "stream",
          "name": "stderr",
          "text": [
            "100%|██████████| 103/103 [00:01<00:00, 62.91it/s]\n"
          ]
        },
        {
          "output_type": "stream",
          "name": "stdout",
          "text": [
            "Test Instance Accuracy: 0.063107, Class Accuracy: 0.039695\n",
            "Best Instance Accuracy: 0.063107, Class Accuracy: 0.039695\n",
            "Epoch 1 (3/2):\n"
          ]
        },
        {
          "output_type": "stream",
          "name": "stderr",
          "text": [
            "100%|██████████| 410/410 [00:07<00:00, 54.18it/s]\n"
          ]
        },
        {
          "output_type": "stream",
          "name": "stdout",
          "text": [
            "Train Instance Accuracy: 0.108232\n"
          ]
        },
        {
          "output_type": "stream",
          "name": "stderr",
          "text": [
            "100%|██████████| 103/103 [00:02<00:00, 45.36it/s]\n"
          ]
        },
        {
          "output_type": "stream",
          "name": "stdout",
          "text": [
            "Test Instance Accuracy: 0.080663, Class Accuracy: 0.048080\n",
            "Best Instance Accuracy: 0.080663, Class Accuracy: 0.048080\n",
            "Epoch 1 (4/3):\n"
          ]
        },
        {
          "output_type": "stream",
          "name": "stderr",
          "text": [
            "100%|██████████| 410/410 [00:07<00:00, 55.04it/s]\n"
          ]
        },
        {
          "output_type": "stream",
          "name": "stdout",
          "text": [
            "Train Instance Accuracy: 0.116972\n"
          ]
        },
        {
          "output_type": "stream",
          "name": "stderr",
          "text": [
            "100%|██████████| 103/103 [00:01<00:00, 70.56it/s]\n"
          ]
        },
        {
          "output_type": "stream",
          "name": "stdout",
          "text": [
            "Test Instance Accuracy: 0.111408, Class Accuracy: 0.068101\n",
            "Best Instance Accuracy: 0.111408, Class Accuracy: 0.068101\n",
            "Epoch 1 (5/4):\n"
          ]
        },
        {
          "output_type": "stream",
          "name": "stderr",
          "text": [
            "100%|██████████| 410/410 [00:08<00:00, 48.86it/s]\n"
          ]
        },
        {
          "output_type": "stream",
          "name": "stdout",
          "text": [
            "Train Instance Accuracy: 0.120020\n"
          ]
        },
        {
          "output_type": "stream",
          "name": "stderr",
          "text": [
            "100%|██████████| 103/103 [00:01<00:00, 67.50it/s]\n"
          ]
        },
        {
          "output_type": "stream",
          "name": "stdout",
          "text": [
            "Test Instance Accuracy: 0.110518, Class Accuracy: 0.072871\n",
            "Best Instance Accuracy: 0.111408, Class Accuracy: 0.072871\n",
            "Epoch 1 (6/5):\n"
          ]
        },
        {
          "output_type": "stream",
          "name": "stderr",
          "text": [
            "100%|██████████| 410/410 [00:07<00:00, 54.80it/s]\n"
          ]
        },
        {
          "output_type": "stream",
          "name": "stdout",
          "text": [
            "Train Instance Accuracy: 0.125407\n"
          ]
        },
        {
          "output_type": "stream",
          "name": "stderr",
          "text": [
            "100%|██████████| 103/103 [00:02<00:00, 51.07it/s]\n"
          ]
        },
        {
          "output_type": "stream",
          "name": "stdout",
          "text": [
            "Test Instance Accuracy: 0.096440, Class Accuracy: 0.059109\n",
            "Best Instance Accuracy: 0.111408, Class Accuracy: 0.072871\n",
            "Epoch 1 (7/6):\n"
          ]
        },
        {
          "output_type": "stream",
          "name": "stderr",
          "text": [
            "100%|██████████| 410/410 [00:07<00:00, 54.03it/s]\n"
          ]
        },
        {
          "output_type": "stream",
          "name": "stdout",
          "text": [
            "Train Instance Accuracy: 0.132114\n"
          ]
        },
        {
          "output_type": "stream",
          "name": "stderr",
          "text": [
            "100%|██████████| 103/103 [00:01<00:00, 69.77it/s]\n"
          ]
        },
        {
          "output_type": "stream",
          "name": "stdout",
          "text": [
            "Test Instance Accuracy: 0.100081, Class Accuracy: 0.062960\n",
            "Best Instance Accuracy: 0.111408, Class Accuracy: 0.072871\n",
            "Epoch 1 (8/7):\n"
          ]
        },
        {
          "output_type": "stream",
          "name": "stderr",
          "text": [
            "100%|██████████| 410/410 [00:08<00:00, 49.13it/s]\n"
          ]
        },
        {
          "output_type": "stream",
          "name": "stdout",
          "text": [
            "Train Instance Accuracy: 0.136585\n"
          ]
        },
        {
          "output_type": "stream",
          "name": "stderr",
          "text": [
            "100%|██████████| 103/103 [00:01<00:00, 70.47it/s]\n"
          ]
        },
        {
          "output_type": "stream",
          "name": "stdout",
          "text": [
            "Test Instance Accuracy: 0.116667, Class Accuracy: 0.071436\n",
            "Best Instance Accuracy: 0.116667, Class Accuracy: 0.072871\n",
            "Epoch 1 (9/8):\n"
          ]
        },
        {
          "output_type": "stream",
          "name": "stderr",
          "text": [
            "100%|██████████| 410/410 [00:07<00:00, 56.99it/s]\n"
          ]
        },
        {
          "output_type": "stream",
          "name": "stdout",
          "text": [
            "Train Instance Accuracy: 0.140549\n"
          ]
        },
        {
          "output_type": "stream",
          "name": "stderr",
          "text": [
            "100%|██████████| 103/103 [00:01<00:00, 52.20it/s]\n"
          ]
        },
        {
          "output_type": "stream",
          "name": "stdout",
          "text": [
            "Test Instance Accuracy: 0.109709, Class Accuracy: 0.069524\n",
            "Best Instance Accuracy: 0.116667, Class Accuracy: 0.072871\n",
            "Epoch 1 (10/9):\n"
          ]
        },
        {
          "output_type": "stream",
          "name": "stderr",
          "text": [
            "100%|██████████| 410/410 [00:07<00:00, 52.67it/s]\n"
          ]
        },
        {
          "output_type": "stream",
          "name": "stdout",
          "text": [
            "Train Instance Accuracy: 0.139228\n"
          ]
        },
        {
          "output_type": "stream",
          "name": "stderr",
          "text": [
            "100%|██████████| 103/103 [00:01<00:00, 68.18it/s]\n"
          ]
        },
        {
          "output_type": "stream",
          "name": "stdout",
          "text": [
            "Test Instance Accuracy: 0.117880, Class Accuracy: 0.075067\n",
            "Best Instance Accuracy: 0.117880, Class Accuracy: 0.075067\n",
            "Epoch 1 (11/10):\n"
          ]
        },
        {
          "output_type": "stream",
          "name": "stderr",
          "text": [
            "100%|██████████| 410/410 [00:08<00:00, 48.75it/s]\n"
          ]
        },
        {
          "output_type": "stream",
          "name": "stdout",
          "text": [
            "Train Instance Accuracy: 0.138821\n"
          ]
        },
        {
          "output_type": "stream",
          "name": "stderr",
          "text": [
            "100%|██████████| 103/103 [00:01<00:00, 67.19it/s]\n"
          ]
        },
        {
          "output_type": "stream",
          "name": "stdout",
          "text": [
            "Test Instance Accuracy: 0.136084, Class Accuracy: 0.083569\n",
            "Best Instance Accuracy: 0.136084, Class Accuracy: 0.083569\n",
            "Epoch 1 (12/11):\n"
          ]
        },
        {
          "output_type": "stream",
          "name": "stderr",
          "text": [
            "100%|██████████| 410/410 [00:07<00:00, 57.36it/s]\n"
          ]
        },
        {
          "output_type": "stream",
          "name": "stdout",
          "text": [
            "Train Instance Accuracy: 0.140752\n"
          ]
        },
        {
          "output_type": "stream",
          "name": "stderr",
          "text": [
            "100%|██████████| 103/103 [00:01<00:00, 51.65it/s]\n"
          ]
        },
        {
          "output_type": "stream",
          "name": "stdout",
          "text": [
            "Test Instance Accuracy: 0.148139, Class Accuracy: 0.090299\n",
            "Best Instance Accuracy: 0.148139, Class Accuracy: 0.090299\n",
            "Epoch 1 (13/12):\n"
          ]
        },
        {
          "output_type": "stream",
          "name": "stderr",
          "text": [
            "100%|██████████| 410/410 [00:09<00:00, 43.08it/s]\n"
          ]
        },
        {
          "output_type": "stream",
          "name": "stdout",
          "text": [
            "Train Instance Accuracy: 0.148984\n"
          ]
        },
        {
          "output_type": "stream",
          "name": "stderr",
          "text": [
            "100%|██████████| 103/103 [00:01<00:00, 66.96it/s]\n"
          ]
        },
        {
          "output_type": "stream",
          "name": "stdout",
          "text": [
            "Test Instance Accuracy: 0.139725, Class Accuracy: 0.088127\n",
            "Best Instance Accuracy: 0.148139, Class Accuracy: 0.090299\n",
            "Epoch 1 (14/13):\n"
          ]
        },
        {
          "output_type": "stream",
          "name": "stderr",
          "text": [
            "100%|██████████| 410/410 [00:08<00:00, 48.01it/s]\n"
          ]
        },
        {
          "output_type": "stream",
          "name": "stdout",
          "text": [
            "Train Instance Accuracy: 0.144512\n"
          ]
        },
        {
          "output_type": "stream",
          "name": "stderr",
          "text": [
            "100%|██████████| 103/103 [00:01<00:00, 66.48it/s]\n"
          ]
        },
        {
          "output_type": "stream",
          "name": "stdout",
          "text": [
            "Test Instance Accuracy: 0.145388, Class Accuracy: 0.096085\n",
            "Best Instance Accuracy: 0.148139, Class Accuracy: 0.096085\n",
            "Epoch 1 (15/14):\n"
          ]
        },
        {
          "output_type": "stream",
          "name": "stderr",
          "text": [
            "100%|██████████| 410/410 [00:07<00:00, 56.97it/s]\n"
          ]
        },
        {
          "output_type": "stream",
          "name": "stdout",
          "text": [
            "Train Instance Accuracy: 0.149187\n"
          ]
        },
        {
          "output_type": "stream",
          "name": "stderr",
          "text": [
            "100%|██████████| 103/103 [00:01<00:00, 61.15it/s]\n"
          ]
        },
        {
          "output_type": "stream",
          "name": "stdout",
          "text": [
            "Test Instance Accuracy: 0.123544, Class Accuracy: 0.082134\n",
            "Best Instance Accuracy: 0.148139, Class Accuracy: 0.096085\n",
            "Epoch 1 (16/15):\n"
          ]
        },
        {
          "output_type": "stream",
          "name": "stderr",
          "text": [
            "100%|██████████| 410/410 [00:08<00:00, 47.82it/s]\n"
          ]
        },
        {
          "output_type": "stream",
          "name": "stdout",
          "text": [
            "Train Instance Accuracy: 0.150610\n"
          ]
        },
        {
          "output_type": "stream",
          "name": "stderr",
          "text": [
            "100%|██████████| 103/103 [00:01<00:00, 63.49it/s]\n"
          ]
        },
        {
          "output_type": "stream",
          "name": "stdout",
          "text": [
            "Test Instance Accuracy: 0.153964, Class Accuracy: 0.096795\n",
            "Best Instance Accuracy: 0.153964, Class Accuracy: 0.096795\n",
            "Epoch 1 (17/16):\n"
          ]
        },
        {
          "output_type": "stream",
          "name": "stderr",
          "text": [
            "100%|██████████| 410/410 [00:09<00:00, 44.48it/s]\n"
          ]
        },
        {
          "output_type": "stream",
          "name": "stdout",
          "text": [
            "Train Instance Accuracy: 0.153963\n"
          ]
        },
        {
          "output_type": "stream",
          "name": "stderr",
          "text": [
            "100%|██████████| 103/103 [00:01<00:00, 68.04it/s]\n"
          ]
        },
        {
          "output_type": "stream",
          "name": "stdout",
          "text": [
            "Test Instance Accuracy: 0.146602, Class Accuracy: 0.091078\n",
            "Best Instance Accuracy: 0.153964, Class Accuracy: 0.096795\n",
            "Epoch 1 (18/17):\n"
          ]
        },
        {
          "output_type": "stream",
          "name": "stderr",
          "text": [
            "100%|██████████| 410/410 [00:07<00:00, 55.76it/s]\n"
          ]
        },
        {
          "output_type": "stream",
          "name": "stdout",
          "text": [
            "Train Instance Accuracy: 0.151423\n"
          ]
        },
        {
          "output_type": "stream",
          "name": "stderr",
          "text": [
            "100%|██████████| 103/103 [00:01<00:00, 55.85it/s]\n"
          ]
        },
        {
          "output_type": "stream",
          "name": "stdout",
          "text": [
            "Test Instance Accuracy: 0.164806, Class Accuracy: 0.112712\n",
            "Best Instance Accuracy: 0.164806, Class Accuracy: 0.112712\n",
            "Epoch 1 (19/18):\n"
          ]
        },
        {
          "output_type": "stream",
          "name": "stderr",
          "text": [
            "100%|██████████| 410/410 [00:08<00:00, 48.40it/s]\n"
          ]
        },
        {
          "output_type": "stream",
          "name": "stdout",
          "text": [
            "Train Instance Accuracy: 0.147154\n"
          ]
        },
        {
          "output_type": "stream",
          "name": "stderr",
          "text": [
            "100%|██████████| 103/103 [00:01<00:00, 69.70it/s]\n"
          ]
        },
        {
          "output_type": "stream",
          "name": "stdout",
          "text": [
            "Test Instance Accuracy: 0.113430, Class Accuracy: 0.069591\n",
            "Best Instance Accuracy: 0.164806, Class Accuracy: 0.112712\n",
            "Epoch 1 (20/19):\n"
          ]
        },
        {
          "output_type": "stream",
          "name": "stderr",
          "text": [
            "100%|██████████| 410/410 [00:08<00:00, 47.17it/s]\n"
          ]
        },
        {
          "output_type": "stream",
          "name": "stdout",
          "text": [
            "Train Instance Accuracy: 0.157012\n"
          ]
        },
        {
          "output_type": "stream",
          "name": "stderr",
          "text": [
            "100%|██████████| 103/103 [00:01<00:00, 69.18it/s]\n"
          ]
        },
        {
          "output_type": "stream",
          "name": "stdout",
          "text": [
            "Test Instance Accuracy: 0.159466, Class Accuracy: 0.096968\n",
            "Best Instance Accuracy: 0.164806, Class Accuracy: 0.112712\n",
            "Epoch 1 (21/20):\n"
          ]
        },
        {
          "output_type": "stream",
          "name": "stderr",
          "text": [
            "100%|██████████| 410/410 [00:07<00:00, 56.27it/s]\n"
          ]
        },
        {
          "output_type": "stream",
          "name": "stdout",
          "text": [
            "Train Instance Accuracy: 0.155793\n"
          ]
        },
        {
          "output_type": "stream",
          "name": "stderr",
          "text": [
            "100%|██████████| 103/103 [00:01<00:00, 54.85it/s]\n"
          ]
        },
        {
          "output_type": "stream",
          "name": "stdout",
          "text": [
            "Test Instance Accuracy: 0.168528, Class Accuracy: 0.116987\n",
            "Best Instance Accuracy: 0.168528, Class Accuracy: 0.116987\n",
            "Epoch 1 (22/21):\n"
          ]
        },
        {
          "output_type": "stream",
          "name": "stderr",
          "text": [
            "100%|██████████| 410/410 [00:08<00:00, 48.39it/s]\n"
          ]
        },
        {
          "output_type": "stream",
          "name": "stdout",
          "text": [
            "Train Instance Accuracy: 0.158638\n"
          ]
        },
        {
          "output_type": "stream",
          "name": "stderr",
          "text": [
            "100%|██████████| 103/103 [00:01<00:00, 69.70it/s]\n"
          ]
        },
        {
          "output_type": "stream",
          "name": "stdout",
          "text": [
            "Test Instance Accuracy: 0.166828, Class Accuracy: 0.110071\n",
            "Best Instance Accuracy: 0.168528, Class Accuracy: 0.116987\n",
            "Epoch 1 (23/22):\n"
          ]
        },
        {
          "output_type": "stream",
          "name": "stderr",
          "text": [
            "100%|██████████| 410/410 [00:08<00:00, 46.48it/s]\n"
          ]
        },
        {
          "output_type": "stream",
          "name": "stdout",
          "text": [
            "Train Instance Accuracy: 0.164431\n"
          ]
        },
        {
          "output_type": "stream",
          "name": "stderr",
          "text": [
            "100%|██████████| 103/103 [00:01<00:00, 68.70it/s]\n"
          ]
        },
        {
          "output_type": "stream",
          "name": "stdout",
          "text": [
            "Test Instance Accuracy: 0.176942, Class Accuracy: 0.113006\n",
            "Best Instance Accuracy: 0.176942, Class Accuracy: 0.116987\n",
            "Epoch 1 (24/23):\n"
          ]
        },
        {
          "output_type": "stream",
          "name": "stderr",
          "text": [
            "100%|██████████| 410/410 [00:07<00:00, 56.76it/s]\n"
          ]
        },
        {
          "output_type": "stream",
          "name": "stdout",
          "text": [
            "Train Instance Accuracy: 0.165447\n"
          ]
        },
        {
          "output_type": "stream",
          "name": "stderr",
          "text": [
            "100%|██████████| 103/103 [00:02<00:00, 47.77it/s]\n"
          ]
        },
        {
          "output_type": "stream",
          "name": "stdout",
          "text": [
            "Test Instance Accuracy: 0.175809, Class Accuracy: 0.110156\n",
            "Best Instance Accuracy: 0.176942, Class Accuracy: 0.116987\n",
            "Epoch 1 (25/24):\n"
          ]
        },
        {
          "output_type": "stream",
          "name": "stderr",
          "text": [
            "100%|██████████| 410/410 [00:08<00:00, 50.84it/s]\n"
          ]
        },
        {
          "output_type": "stream",
          "name": "stdout",
          "text": [
            "Train Instance Accuracy: 0.164939\n"
          ]
        },
        {
          "output_type": "stream",
          "name": "stderr",
          "text": [
            "100%|██████████| 103/103 [00:01<00:00, 68.26it/s]\n"
          ]
        },
        {
          "output_type": "stream",
          "name": "stdout",
          "text": [
            "Test Instance Accuracy: 0.173463, Class Accuracy: 0.114137\n",
            "Best Instance Accuracy: 0.176942, Class Accuracy: 0.116987\n",
            "Epoch 1 (26/25):\n"
          ]
        },
        {
          "output_type": "stream",
          "name": "stderr",
          "text": [
            "100%|██████████| 410/410 [00:08<00:00, 48.06it/s]\n"
          ]
        },
        {
          "output_type": "stream",
          "name": "stdout",
          "text": [
            "Train Instance Accuracy: 0.160569\n"
          ]
        },
        {
          "output_type": "stream",
          "name": "stderr",
          "text": [
            "100%|██████████| 103/103 [00:01<00:00, 69.69it/s]\n"
          ]
        },
        {
          "output_type": "stream",
          "name": "stdout",
          "text": [
            "Test Instance Accuracy: 0.184304, Class Accuracy: 0.129540\n",
            "Best Instance Accuracy: 0.184304, Class Accuracy: 0.129540\n",
            "Epoch 1 (27/26):\n"
          ]
        },
        {
          "output_type": "stream",
          "name": "stderr",
          "text": [
            "100%|██████████| 410/410 [00:07<00:00, 56.50it/s]\n"
          ]
        },
        {
          "output_type": "stream",
          "name": "stdout",
          "text": [
            "Train Instance Accuracy: 0.166972\n"
          ]
        },
        {
          "output_type": "stream",
          "name": "stderr",
          "text": [
            "100%|██████████| 103/103 [00:02<00:00, 45.80it/s]\n"
          ]
        },
        {
          "output_type": "stream",
          "name": "stdout",
          "text": [
            "Test Instance Accuracy: 0.202023, Class Accuracy: 0.147991\n",
            "Best Instance Accuracy: 0.202023, Class Accuracy: 0.147991\n",
            "Epoch 1 (28/27):\n"
          ]
        },
        {
          "output_type": "stream",
          "name": "stderr",
          "text": [
            "100%|██████████| 410/410 [00:08<00:00, 48.92it/s]\n"
          ]
        },
        {
          "output_type": "stream",
          "name": "stdout",
          "text": [
            "Train Instance Accuracy: 0.169614\n"
          ]
        },
        {
          "output_type": "stream",
          "name": "stderr",
          "text": [
            "100%|██████████| 103/103 [00:01<00:00, 69.25it/s]\n"
          ]
        },
        {
          "output_type": "stream",
          "name": "stdout",
          "text": [
            "Test Instance Accuracy: 0.188835, Class Accuracy: 0.128612\n",
            "Best Instance Accuracy: 0.202023, Class Accuracy: 0.147991\n",
            "Epoch 1 (29/28):\n"
          ]
        },
        {
          "output_type": "stream",
          "name": "stderr",
          "text": [
            "100%|██████████| 410/410 [00:08<00:00, 47.67it/s]\n"
          ]
        },
        {
          "output_type": "stream",
          "name": "stdout",
          "text": [
            "Train Instance Accuracy: 0.165650\n"
          ]
        },
        {
          "output_type": "stream",
          "name": "stderr",
          "text": [
            "100%|██████████| 103/103 [00:01<00:00, 66.67it/s]\n"
          ]
        },
        {
          "output_type": "stream",
          "name": "stdout",
          "text": [
            "Test Instance Accuracy: 0.208981, Class Accuracy: 0.132727\n",
            "Best Instance Accuracy: 0.208981, Class Accuracy: 0.147991\n",
            "Epoch 1 (30/29):\n"
          ]
        },
        {
          "output_type": "stream",
          "name": "stderr",
          "text": [
            "100%|██████████| 410/410 [00:07<00:00, 54.65it/s]\n"
          ]
        },
        {
          "output_type": "stream",
          "name": "stdout",
          "text": [
            "Train Instance Accuracy: 0.167378\n"
          ]
        },
        {
          "output_type": "stream",
          "name": "stderr",
          "text": [
            "100%|██████████| 103/103 [00:02<00:00, 46.20it/s]\n"
          ]
        },
        {
          "output_type": "stream",
          "name": "stdout",
          "text": [
            "Test Instance Accuracy: 0.203722, Class Accuracy: 0.141157\n",
            "Best Instance Accuracy: 0.208981, Class Accuracy: 0.147991\n",
            "Epoch 1 (31/30):\n"
          ]
        },
        {
          "output_type": "stream",
          "name": "stderr",
          "text": [
            "100%|██████████| 410/410 [00:07<00:00, 51.31it/s]\n"
          ]
        },
        {
          "output_type": "stream",
          "name": "stdout",
          "text": [
            "Train Instance Accuracy: 0.168801\n"
          ]
        },
        {
          "output_type": "stream",
          "name": "stderr",
          "text": [
            "100%|██████████| 103/103 [00:01<00:00, 66.04it/s]\n"
          ]
        },
        {
          "output_type": "stream",
          "name": "stdout",
          "text": [
            "Test Instance Accuracy: 0.201699, Class Accuracy: 0.138689\n",
            "Best Instance Accuracy: 0.208981, Class Accuracy: 0.147991\n",
            "Epoch 1 (32/31):\n"
          ]
        },
        {
          "output_type": "stream",
          "name": "stderr",
          "text": [
            "100%|██████████| 410/410 [00:08<00:00, 47.14it/s]\n"
          ]
        },
        {
          "output_type": "stream",
          "name": "stdout",
          "text": [
            "Train Instance Accuracy: 0.171850\n"
          ]
        },
        {
          "output_type": "stream",
          "name": "stderr",
          "text": [
            "100%|██████████| 103/103 [00:01<00:00, 66.50it/s]\n"
          ]
        },
        {
          "output_type": "stream",
          "name": "stdout",
          "text": [
            "Test Instance Accuracy: 0.214887, Class Accuracy: 0.156256\n",
            "Best Instance Accuracy: 0.214887, Class Accuracy: 0.156256\n",
            "Epoch 1 (33/32):\n"
          ]
        },
        {
          "output_type": "stream",
          "name": "stderr",
          "text": [
            "100%|██████████| 410/410 [00:07<00:00, 53.72it/s]\n"
          ]
        },
        {
          "output_type": "stream",
          "name": "stdout",
          "text": [
            "Train Instance Accuracy: 0.169614\n"
          ]
        },
        {
          "output_type": "stream",
          "name": "stderr",
          "text": [
            "100%|██████████| 103/103 [00:02<00:00, 51.17it/s]\n"
          ]
        },
        {
          "output_type": "stream",
          "name": "stdout",
          "text": [
            "Test Instance Accuracy: 0.208172, Class Accuracy: 0.142362\n",
            "Best Instance Accuracy: 0.214887, Class Accuracy: 0.156256\n",
            "Epoch 1 (34/33):\n"
          ]
        },
        {
          "output_type": "stream",
          "name": "stderr",
          "text": [
            "100%|██████████| 410/410 [00:07<00:00, 53.56it/s]\n"
          ]
        },
        {
          "output_type": "stream",
          "name": "stdout",
          "text": [
            "Train Instance Accuracy: 0.180894\n"
          ]
        },
        {
          "output_type": "stream",
          "name": "stderr",
          "text": [
            "100%|██████████| 103/103 [00:01<00:00, 66.76it/s]\n"
          ]
        },
        {
          "output_type": "stream",
          "name": "stdout",
          "text": [
            "Test Instance Accuracy: 0.207282, Class Accuracy: 0.137986\n",
            "Best Instance Accuracy: 0.214887, Class Accuracy: 0.156256\n",
            "Epoch 1 (35/34):\n"
          ]
        },
        {
          "output_type": "stream",
          "name": "stderr",
          "text": [
            "100%|██████████| 410/410 [00:08<00:00, 46.67it/s]\n"
          ]
        },
        {
          "output_type": "stream",
          "name": "stdout",
          "text": [
            "Train Instance Accuracy: 0.178963\n"
          ]
        },
        {
          "output_type": "stream",
          "name": "stderr",
          "text": [
            "100%|██████████| 103/103 [00:01<00:00, 66.88it/s]\n"
          ]
        },
        {
          "output_type": "stream",
          "name": "stdout",
          "text": [
            "Test Instance Accuracy: 0.225162, Class Accuracy: 0.169681\n",
            "Best Instance Accuracy: 0.225162, Class Accuracy: 0.169681\n",
            "Epoch 1 (36/35):\n"
          ]
        },
        {
          "output_type": "stream",
          "name": "stderr",
          "text": [
            "100%|██████████| 410/410 [00:07<00:00, 56.03it/s]\n"
          ]
        },
        {
          "output_type": "stream",
          "name": "stdout",
          "text": [
            "Train Instance Accuracy: 0.175813\n"
          ]
        },
        {
          "output_type": "stream",
          "name": "stderr",
          "text": [
            "100%|██████████| 103/103 [00:02<00:00, 51.48it/s]\n"
          ]
        },
        {
          "output_type": "stream",
          "name": "stdout",
          "text": [
            "Test Instance Accuracy: 0.213754, Class Accuracy: 0.157410\n",
            "Best Instance Accuracy: 0.225162, Class Accuracy: 0.169681\n",
            "Epoch 1 (37/36):\n"
          ]
        },
        {
          "output_type": "stream",
          "name": "stderr",
          "text": [
            "100%|██████████| 410/410 [00:07<00:00, 52.94it/s]\n"
          ]
        },
        {
          "output_type": "stream",
          "name": "stdout",
          "text": [
            "Train Instance Accuracy: 0.178963\n"
          ]
        },
        {
          "output_type": "stream",
          "name": "stderr",
          "text": [
            "100%|██████████| 103/103 [00:01<00:00, 67.76it/s]\n"
          ]
        },
        {
          "output_type": "stream",
          "name": "stdout",
          "text": [
            "Test Instance Accuracy: 0.223220, Class Accuracy: 0.163276\n",
            "Best Instance Accuracy: 0.225162, Class Accuracy: 0.169681\n",
            "Epoch 1 (38/37):\n"
          ]
        },
        {
          "output_type": "stream",
          "name": "stderr",
          "text": [
            "100%|██████████| 410/410 [00:08<00:00, 46.94it/s]\n"
          ]
        },
        {
          "output_type": "stream",
          "name": "stdout",
          "text": [
            "Train Instance Accuracy: 0.172459\n"
          ]
        },
        {
          "output_type": "stream",
          "name": "stderr",
          "text": [
            "100%|██████████| 103/103 [00:01<00:00, 67.96it/s]\n"
          ]
        },
        {
          "output_type": "stream",
          "name": "stdout",
          "text": [
            "Test Instance Accuracy: 0.211003, Class Accuracy: 0.154386\n",
            "Best Instance Accuracy: 0.225162, Class Accuracy: 0.169681\n",
            "Epoch 1 (39/38):\n"
          ]
        },
        {
          "output_type": "stream",
          "name": "stderr",
          "text": [
            "100%|██████████| 410/410 [00:07<00:00, 57.85it/s]\n"
          ]
        },
        {
          "output_type": "stream",
          "name": "stdout",
          "text": [
            "Train Instance Accuracy: 0.173069\n"
          ]
        },
        {
          "output_type": "stream",
          "name": "stderr",
          "text": [
            "100%|██████████| 103/103 [00:02<00:00, 50.95it/s]\n"
          ]
        },
        {
          "output_type": "stream",
          "name": "stdout",
          "text": [
            "Test Instance Accuracy: 0.209385, Class Accuracy: 0.146422\n",
            "Best Instance Accuracy: 0.225162, Class Accuracy: 0.169681\n",
            "Epoch 1 (40/39):\n"
          ]
        },
        {
          "output_type": "stream",
          "name": "stderr",
          "text": [
            "100%|██████████| 410/410 [00:07<00:00, 52.79it/s]\n"
          ]
        },
        {
          "output_type": "stream",
          "name": "stdout",
          "text": [
            "Train Instance Accuracy: 0.184451\n"
          ]
        },
        {
          "output_type": "stream",
          "name": "stderr",
          "text": [
            "100%|██████████| 103/103 [00:01<00:00, 70.07it/s]\n"
          ]
        },
        {
          "output_type": "stream",
          "name": "stdout",
          "text": [
            "Test Instance Accuracy: 0.210113, Class Accuracy: 0.153763\n",
            "Best Instance Accuracy: 0.225162, Class Accuracy: 0.169681\n",
            "Epoch 1 (41/40):\n"
          ]
        },
        {
          "output_type": "stream",
          "name": "stderr",
          "text": [
            "100%|██████████| 410/410 [00:08<00:00, 48.53it/s]\n"
          ]
        },
        {
          "output_type": "stream",
          "name": "stdout",
          "text": [
            "Train Instance Accuracy: 0.179980\n"
          ]
        },
        {
          "output_type": "stream",
          "name": "stderr",
          "text": [
            "100%|██████████| 103/103 [00:01<00:00, 66.95it/s]\n"
          ]
        },
        {
          "output_type": "stream",
          "name": "stdout",
          "text": [
            "Test Instance Accuracy: 0.236974, Class Accuracy: 0.167906\n",
            "Best Instance Accuracy: 0.236974, Class Accuracy: 0.169681\n",
            "Epoch 1 (42/41):\n"
          ]
        },
        {
          "output_type": "stream",
          "name": "stderr",
          "text": [
            "100%|██████████| 410/410 [00:07<00:00, 57.79it/s]\n"
          ]
        },
        {
          "output_type": "stream",
          "name": "stdout",
          "text": [
            "Train Instance Accuracy: 0.186280\n"
          ]
        },
        {
          "output_type": "stream",
          "name": "stderr",
          "text": [
            "100%|██████████| 103/103 [00:02<00:00, 43.35it/s]\n"
          ]
        },
        {
          "output_type": "stream",
          "name": "stdout",
          "text": [
            "Test Instance Accuracy: 0.223463, Class Accuracy: 0.165686\n",
            "Best Instance Accuracy: 0.236974, Class Accuracy: 0.169681\n",
            "Epoch 1 (43/42):\n"
          ]
        },
        {
          "output_type": "stream",
          "name": "stderr",
          "text": [
            "100%|██████████| 410/410 [00:09<00:00, 43.03it/s]\n"
          ]
        },
        {
          "output_type": "stream",
          "name": "stdout",
          "text": [
            "Train Instance Accuracy: 0.193394\n"
          ]
        },
        {
          "output_type": "stream",
          "name": "stderr",
          "text": [
            "100%|██████████| 103/103 [00:01<00:00, 67.24it/s]\n"
          ]
        },
        {
          "output_type": "stream",
          "name": "stdout",
          "text": [
            "Test Instance Accuracy: 0.218689, Class Accuracy: 0.162230\n",
            "Best Instance Accuracy: 0.236974, Class Accuracy: 0.169681\n",
            "Epoch 1 (44/43):\n"
          ]
        },
        {
          "output_type": "stream",
          "name": "stderr",
          "text": [
            "100%|██████████| 410/410 [00:08<00:00, 50.80it/s]\n"
          ]
        },
        {
          "output_type": "stream",
          "name": "stdout",
          "text": [
            "Train Instance Accuracy: 0.193801\n"
          ]
        },
        {
          "output_type": "stream",
          "name": "stderr",
          "text": [
            "100%|██████████| 103/103 [00:02<00:00, 50.11it/s]\n"
          ]
        },
        {
          "output_type": "stream",
          "name": "stdout",
          "text": [
            "Test Instance Accuracy: 0.228803, Class Accuracy: 0.165889\n",
            "Best Instance Accuracy: 0.236974, Class Accuracy: 0.169681\n",
            "Epoch 1 (45/44):\n"
          ]
        },
        {
          "output_type": "stream",
          "name": "stderr",
          "text": [
            "100%|██████████| 410/410 [00:07<00:00, 58.06it/s]\n"
          ]
        },
        {
          "output_type": "stream",
          "name": "stdout",
          "text": [
            "Train Instance Accuracy: 0.190752\n"
          ]
        },
        {
          "output_type": "stream",
          "name": "stderr",
          "text": [
            "100%|██████████| 103/103 [00:01<00:00, 65.41it/s]\n"
          ]
        },
        {
          "output_type": "stream",
          "name": "stdout",
          "text": [
            "Test Instance Accuracy: 0.231958, Class Accuracy: 0.178662\n",
            "Best Instance Accuracy: 0.236974, Class Accuracy: 0.178662\n",
            "Epoch 1 (46/45):\n"
          ]
        },
        {
          "output_type": "stream",
          "name": "stderr",
          "text": [
            "100%|██████████| 410/410 [00:08<00:00, 48.76it/s]\n"
          ]
        },
        {
          "output_type": "stream",
          "name": "stdout",
          "text": [
            "Train Instance Accuracy: 0.190244\n"
          ]
        },
        {
          "output_type": "stream",
          "name": "stderr",
          "text": [
            "100%|██████████| 103/103 [00:01<00:00, 67.76it/s]\n"
          ]
        },
        {
          "output_type": "stream",
          "name": "stdout",
          "text": [
            "Test Instance Accuracy: 0.221926, Class Accuracy: 0.178044\n",
            "Best Instance Accuracy: 0.236974, Class Accuracy: 0.178662\n",
            "Epoch 1 (47/46):\n"
          ]
        },
        {
          "output_type": "stream",
          "name": "stderr",
          "text": [
            "100%|██████████| 410/410 [00:07<00:00, 54.86it/s]\n"
          ]
        },
        {
          "output_type": "stream",
          "name": "stdout",
          "text": [
            "Train Instance Accuracy: 0.187297\n"
          ]
        },
        {
          "output_type": "stream",
          "name": "stderr",
          "text": [
            "100%|██████████| 103/103 [00:02<00:00, 47.22it/s]\n"
          ]
        },
        {
          "output_type": "stream",
          "name": "stdout",
          "text": [
            "Test Instance Accuracy: 0.219498, Class Accuracy: 0.175664\n",
            "Best Instance Accuracy: 0.236974, Class Accuracy: 0.178662\n",
            "Epoch 1 (48/47):\n"
          ]
        },
        {
          "output_type": "stream",
          "name": "stderr",
          "text": [
            "100%|██████████| 410/410 [00:07<00:00, 53.86it/s]\n"
          ]
        },
        {
          "output_type": "stream",
          "name": "stdout",
          "text": [
            "Train Instance Accuracy: 0.192276\n"
          ]
        },
        {
          "output_type": "stream",
          "name": "stderr",
          "text": [
            "100%|██████████| 103/103 [00:01<00:00, 68.79it/s]\n"
          ]
        },
        {
          "output_type": "stream",
          "name": "stdout",
          "text": [
            "Test Instance Accuracy: 0.228317, Class Accuracy: 0.163256\n",
            "Best Instance Accuracy: 0.236974, Class Accuracy: 0.178662\n",
            "Epoch 1 (49/48):\n"
          ]
        },
        {
          "output_type": "stream",
          "name": "stderr",
          "text": [
            "100%|██████████| 410/410 [00:08<00:00, 48.68it/s]\n"
          ]
        },
        {
          "output_type": "stream",
          "name": "stdout",
          "text": [
            "Train Instance Accuracy: 0.190955\n"
          ]
        },
        {
          "output_type": "stream",
          "name": "stderr",
          "text": [
            "100%|██████████| 103/103 [00:01<00:00, 64.03it/s]\n"
          ]
        },
        {
          "output_type": "stream",
          "name": "stdout",
          "text": [
            "Test Instance Accuracy: 0.229531, Class Accuracy: 0.178241\n",
            "Best Instance Accuracy: 0.236974, Class Accuracy: 0.178662\n",
            "Epoch 1 (50/49):\n"
          ]
        },
        {
          "output_type": "stream",
          "name": "stderr",
          "text": [
            "100%|██████████| 410/410 [00:07<00:00, 54.53it/s]\n"
          ]
        },
        {
          "output_type": "stream",
          "name": "stdout",
          "text": [
            "Train Instance Accuracy: 0.189329\n"
          ]
        },
        {
          "output_type": "stream",
          "name": "stderr",
          "text": [
            "100%|██████████| 103/103 [00:02<00:00, 50.41it/s]\n"
          ]
        },
        {
          "output_type": "stream",
          "name": "stdout",
          "text": [
            "Test Instance Accuracy: 0.234547, Class Accuracy: 0.182481\n",
            "Best Instance Accuracy: 0.236974, Class Accuracy: 0.182481\n",
            "Epoch 1 (51/50):\n"
          ]
        },
        {
          "output_type": "stream",
          "name": "stderr",
          "text": [
            "100%|██████████| 410/410 [00:07<00:00, 54.92it/s]\n"
          ]
        },
        {
          "output_type": "stream",
          "name": "stdout",
          "text": [
            "Train Instance Accuracy: 0.187907\n"
          ]
        },
        {
          "output_type": "stream",
          "name": "stderr",
          "text": [
            "100%|██████████| 103/103 [00:01<00:00, 65.87it/s]\n"
          ]
        },
        {
          "output_type": "stream",
          "name": "stdout",
          "text": [
            "Test Instance Accuracy: 0.234871, Class Accuracy: 0.179862\n",
            "Best Instance Accuracy: 0.236974, Class Accuracy: 0.182481\n",
            "Epoch 1 (52/51):\n"
          ]
        },
        {
          "output_type": "stream",
          "name": "stderr",
          "text": [
            "100%|██████████| 410/410 [00:08<00:00, 47.96it/s]\n"
          ]
        },
        {
          "output_type": "stream",
          "name": "stdout",
          "text": [
            "Train Instance Accuracy: 0.193089\n"
          ]
        },
        {
          "output_type": "stream",
          "name": "stderr",
          "text": [
            "100%|██████████| 103/103 [00:01<00:00, 65.54it/s]\n"
          ]
        },
        {
          "output_type": "stream",
          "name": "stdout",
          "text": [
            "Test Instance Accuracy: 0.242395, Class Accuracy: 0.184201\n",
            "Best Instance Accuracy: 0.242395, Class Accuracy: 0.184201\n",
            "Epoch 1 (53/52):\n"
          ]
        },
        {
          "output_type": "stream",
          "name": "stderr",
          "text": [
            "100%|██████████| 410/410 [00:09<00:00, 42.30it/s]\n"
          ]
        },
        {
          "output_type": "stream",
          "name": "stdout",
          "text": [
            "Train Instance Accuracy: 0.202642\n"
          ]
        },
        {
          "output_type": "stream",
          "name": "stderr",
          "text": [
            "100%|██████████| 103/103 [00:02<00:00, 51.22it/s]\n"
          ]
        },
        {
          "output_type": "stream",
          "name": "stdout",
          "text": [
            "Test Instance Accuracy: 0.220793, Class Accuracy: 0.167318\n",
            "Best Instance Accuracy: 0.242395, Class Accuracy: 0.184201\n",
            "Epoch 1 (54/53):\n"
          ]
        },
        {
          "output_type": "stream",
          "name": "stderr",
          "text": [
            "100%|██████████| 410/410 [00:07<00:00, 56.64it/s]\n"
          ]
        },
        {
          "output_type": "stream",
          "name": "stdout",
          "text": [
            "Train Instance Accuracy: 0.192988\n"
          ]
        },
        {
          "output_type": "stream",
          "name": "stderr",
          "text": [
            "100%|██████████| 103/103 [00:01<00:00, 65.90it/s]\n"
          ]
        },
        {
          "output_type": "stream",
          "name": "stdout",
          "text": [
            "Test Instance Accuracy: 0.230016, Class Accuracy: 0.179627\n",
            "Best Instance Accuracy: 0.242395, Class Accuracy: 0.184201\n",
            "Epoch 1 (55/54):\n"
          ]
        },
        {
          "output_type": "stream",
          "name": "stderr",
          "text": [
            "100%|██████████| 410/410 [00:08<00:00, 45.89it/s]\n"
          ]
        },
        {
          "output_type": "stream",
          "name": "stdout",
          "text": [
            "Train Instance Accuracy: 0.191159\n"
          ]
        },
        {
          "output_type": "stream",
          "name": "stderr",
          "text": [
            "100%|██████████| 103/103 [00:01<00:00, 65.90it/s]\n"
          ]
        },
        {
          "output_type": "stream",
          "name": "stdout",
          "text": [
            "Test Instance Accuracy: 0.243042, Class Accuracy: 0.202109\n",
            "Best Instance Accuracy: 0.243042, Class Accuracy: 0.202109\n",
            "Epoch 1 (56/55):\n"
          ]
        },
        {
          "output_type": "stream",
          "name": "stderr",
          "text": [
            "100%|██████████| 410/410 [00:08<00:00, 46.25it/s]\n"
          ]
        },
        {
          "output_type": "stream",
          "name": "stdout",
          "text": [
            "Train Instance Accuracy: 0.198476\n"
          ]
        },
        {
          "output_type": "stream",
          "name": "stderr",
          "text": [
            "100%|██████████| 103/103 [00:01<00:00, 55.53it/s]\n"
          ]
        },
        {
          "output_type": "stream",
          "name": "stdout",
          "text": [
            "Test Instance Accuracy: 0.233981, Class Accuracy: 0.179643\n",
            "Best Instance Accuracy: 0.243042, Class Accuracy: 0.202109\n",
            "Epoch 1 (57/56):\n"
          ]
        },
        {
          "output_type": "stream",
          "name": "stderr",
          "text": [
            "100%|██████████| 410/410 [00:07<00:00, 56.08it/s]\n"
          ]
        },
        {
          "output_type": "stream",
          "name": "stdout",
          "text": [
            "Train Instance Accuracy: 0.191565\n"
          ]
        },
        {
          "output_type": "stream",
          "name": "stderr",
          "text": [
            "100%|██████████| 103/103 [00:01<00:00, 60.34it/s]\n"
          ]
        },
        {
          "output_type": "stream",
          "name": "stdout",
          "text": [
            "Test Instance Accuracy: 0.244579, Class Accuracy: 0.189674\n",
            "Best Instance Accuracy: 0.244579, Class Accuracy: 0.202109\n",
            "Epoch 1 (58/57):\n"
          ]
        },
        {
          "output_type": "stream",
          "name": "stderr",
          "text": [
            "100%|██████████| 410/410 [00:08<00:00, 47.22it/s]\n"
          ]
        },
        {
          "output_type": "stream",
          "name": "stdout",
          "text": [
            "Train Instance Accuracy: 0.196545\n"
          ]
        },
        {
          "output_type": "stream",
          "name": "stderr",
          "text": [
            "100%|██████████| 103/103 [00:01<00:00, 66.33it/s]\n"
          ]
        },
        {
          "output_type": "stream",
          "name": "stdout",
          "text": [
            "Test Instance Accuracy: 0.241019, Class Accuracy: 0.179706\n",
            "Best Instance Accuracy: 0.244579, Class Accuracy: 0.202109\n",
            "Epoch 1 (59/58):\n"
          ]
        },
        {
          "output_type": "stream",
          "name": "stderr",
          "text": [
            "100%|██████████| 410/410 [00:08<00:00, 50.35it/s]\n"
          ]
        },
        {
          "output_type": "stream",
          "name": "stdout",
          "text": [
            "Train Instance Accuracy: 0.195528\n"
          ]
        },
        {
          "output_type": "stream",
          "name": "stderr",
          "text": [
            "100%|██████████| 103/103 [00:01<00:00, 59.68it/s]\n"
          ]
        },
        {
          "output_type": "stream",
          "name": "stdout",
          "text": [
            "Test Instance Accuracy: 0.250243, Class Accuracy: 0.201660\n",
            "Best Instance Accuracy: 0.250243, Class Accuracy: 0.202109\n",
            "Epoch 1 (60/59):\n"
          ]
        },
        {
          "output_type": "stream",
          "name": "stderr",
          "text": [
            "100%|██████████| 410/410 [00:07<00:00, 58.50it/s]\n"
          ]
        },
        {
          "output_type": "stream",
          "name": "stdout",
          "text": [
            "Train Instance Accuracy: 0.195630\n"
          ]
        },
        {
          "output_type": "stream",
          "name": "stderr",
          "text": [
            "100%|██████████| 103/103 [00:01<00:00, 61.82it/s]\n"
          ]
        },
        {
          "output_type": "stream",
          "name": "stdout",
          "text": [
            "Test Instance Accuracy: 0.230421, Class Accuracy: 0.176872\n",
            "Best Instance Accuracy: 0.250243, Class Accuracy: 0.202109\n",
            "Epoch 1 (61/60):\n"
          ]
        },
        {
          "output_type": "stream",
          "name": "stderr",
          "text": [
            "100%|██████████| 410/410 [00:08<00:00, 46.17it/s]\n"
          ]
        },
        {
          "output_type": "stream",
          "name": "stdout",
          "text": [
            "Train Instance Accuracy: 0.195833\n"
          ]
        },
        {
          "output_type": "stream",
          "name": "stderr",
          "text": [
            "100%|██████████| 103/103 [00:01<00:00, 66.86it/s]\n"
          ]
        },
        {
          "output_type": "stream",
          "name": "stdout",
          "text": [
            "Test Instance Accuracy: 0.235680, Class Accuracy: 0.184801\n",
            "Best Instance Accuracy: 0.250243, Class Accuracy: 0.202109\n",
            "Epoch 1 (62/61):\n"
          ]
        },
        {
          "output_type": "stream",
          "name": "stderr",
          "text": [
            "100%|██████████| 410/410 [00:08<00:00, 49.82it/s]\n"
          ]
        },
        {
          "output_type": "stream",
          "name": "stdout",
          "text": [
            "Train Instance Accuracy: 0.191565\n"
          ]
        },
        {
          "output_type": "stream",
          "name": "stderr",
          "text": [
            "100%|██████████| 103/103 [00:01<00:00, 54.10it/s]\n"
          ]
        },
        {
          "output_type": "stream",
          "name": "stdout",
          "text": [
            "Test Instance Accuracy: 0.232524, Class Accuracy: 0.171229\n",
            "Best Instance Accuracy: 0.250243, Class Accuracy: 0.202109\n",
            "Epoch 1 (63/62):\n"
          ]
        },
        {
          "output_type": "stream",
          "name": "stderr",
          "text": [
            "100%|██████████| 410/410 [00:07<00:00, 53.52it/s]\n"
          ]
        },
        {
          "output_type": "stream",
          "name": "stdout",
          "text": [
            "Train Instance Accuracy: 0.197866\n"
          ]
        },
        {
          "output_type": "stream",
          "name": "stderr",
          "text": [
            "100%|██████████| 103/103 [00:01<00:00, 57.79it/s]\n"
          ]
        },
        {
          "output_type": "stream",
          "name": "stdout",
          "text": [
            "Test Instance Accuracy: 0.247816, Class Accuracy: 0.194485\n",
            "Best Instance Accuracy: 0.250243, Class Accuracy: 0.202109\n",
            "Epoch 1 (64/63):\n"
          ]
        },
        {
          "output_type": "stream",
          "name": "stderr",
          "text": [
            "100%|██████████| 410/410 [00:08<00:00, 47.43it/s]\n"
          ]
        },
        {
          "output_type": "stream",
          "name": "stdout",
          "text": [
            "Train Instance Accuracy: 0.202439\n"
          ]
        },
        {
          "output_type": "stream",
          "name": "stderr",
          "text": [
            "100%|██████████| 103/103 [00:01<00:00, 65.66it/s]\n"
          ]
        },
        {
          "output_type": "stream",
          "name": "stdout",
          "text": [
            "Test Instance Accuracy: 0.242233, Class Accuracy: 0.186697\n",
            "Best Instance Accuracy: 0.250243, Class Accuracy: 0.202109\n",
            "Epoch 1 (65/64):\n"
          ]
        },
        {
          "output_type": "stream",
          "name": "stderr",
          "text": [
            "100%|██████████| 410/410 [00:08<00:00, 46.81it/s]\n"
          ]
        },
        {
          "output_type": "stream",
          "name": "stdout",
          "text": [
            "Train Instance Accuracy: 0.199085\n"
          ]
        },
        {
          "output_type": "stream",
          "name": "stderr",
          "text": [
            "100%|██████████| 103/103 [00:01<00:00, 64.06it/s]\n"
          ]
        },
        {
          "output_type": "stream",
          "name": "stdout",
          "text": [
            "Test Instance Accuracy: 0.238916, Class Accuracy: 0.185803\n",
            "Best Instance Accuracy: 0.250243, Class Accuracy: 0.202109\n",
            "Epoch 1 (66/65):\n"
          ]
        },
        {
          "output_type": "stream",
          "name": "stderr",
          "text": [
            "100%|██████████| 410/410 [00:07<00:00, 55.01it/s]\n"
          ]
        },
        {
          "output_type": "stream",
          "name": "stdout",
          "text": [
            "Train Instance Accuracy: 0.191667\n"
          ]
        },
        {
          "output_type": "stream",
          "name": "stderr",
          "text": [
            "100%|██████████| 103/103 [00:01<00:00, 55.75it/s]\n"
          ]
        },
        {
          "output_type": "stream",
          "name": "stdout",
          "text": [
            "Test Instance Accuracy: 0.247411, Class Accuracy: 0.192459\n",
            "Best Instance Accuracy: 0.250243, Class Accuracy: 0.202109\n",
            "Epoch 1 (67/66):\n"
          ]
        },
        {
          "output_type": "stream",
          "name": "stderr",
          "text": [
            "100%|██████████| 410/410 [00:08<00:00, 48.16it/s]\n"
          ]
        },
        {
          "output_type": "stream",
          "name": "stdout",
          "text": [
            "Train Instance Accuracy: 0.199289\n"
          ]
        },
        {
          "output_type": "stream",
          "name": "stderr",
          "text": [
            "100%|██████████| 103/103 [00:01<00:00, 65.14it/s]\n"
          ]
        },
        {
          "output_type": "stream",
          "name": "stdout",
          "text": [
            "Test Instance Accuracy: 0.235680, Class Accuracy: 0.187830\n",
            "Best Instance Accuracy: 0.250243, Class Accuracy: 0.202109\n",
            "Epoch 1 (68/67):\n"
          ]
        },
        {
          "output_type": "stream",
          "name": "stderr",
          "text": [
            "100%|██████████| 410/410 [00:08<00:00, 49.80it/s]\n"
          ]
        },
        {
          "output_type": "stream",
          "name": "stdout",
          "text": [
            "Train Instance Accuracy: 0.199289\n"
          ]
        },
        {
          "output_type": "stream",
          "name": "stderr",
          "text": [
            "100%|██████████| 103/103 [00:01<00:00, 60.89it/s]\n"
          ]
        },
        {
          "output_type": "stream",
          "name": "stdout",
          "text": [
            "Test Instance Accuracy: 0.236893, Class Accuracy: 0.173958\n",
            "Best Instance Accuracy: 0.250243, Class Accuracy: 0.202109\n",
            "Epoch 1 (69/68):\n"
          ]
        },
        {
          "output_type": "stream",
          "name": "stderr",
          "text": [
            "100%|██████████| 410/410 [00:07<00:00, 55.71it/s]\n"
          ]
        },
        {
          "output_type": "stream",
          "name": "stdout",
          "text": [
            "Train Instance Accuracy: 0.198882\n"
          ]
        },
        {
          "output_type": "stream",
          "name": "stderr",
          "text": [
            "100%|██████████| 103/103 [00:01<00:00, 60.52it/s]\n"
          ]
        },
        {
          "output_type": "stream",
          "name": "stdout",
          "text": [
            "Test Instance Accuracy: 0.239644, Class Accuracy: 0.187881\n",
            "Best Instance Accuracy: 0.250243, Class Accuracy: 0.202109\n",
            "Epoch 1 (70/69):\n"
          ]
        },
        {
          "output_type": "stream",
          "name": "stderr",
          "text": [
            "100%|██████████| 410/410 [00:08<00:00, 47.82it/s]\n"
          ]
        },
        {
          "output_type": "stream",
          "name": "stdout",
          "text": [
            "Train Instance Accuracy: 0.207724\n"
          ]
        },
        {
          "output_type": "stream",
          "name": "stderr",
          "text": [
            "100%|██████████| 103/103 [00:01<00:00, 66.80it/s]\n"
          ]
        },
        {
          "output_type": "stream",
          "name": "stdout",
          "text": [
            "Test Instance Accuracy: 0.239239, Class Accuracy: 0.187837\n",
            "Best Instance Accuracy: 0.250243, Class Accuracy: 0.202109\n",
            "Epoch 1 (71/70):\n"
          ]
        },
        {
          "output_type": "stream",
          "name": "stderr",
          "text": [
            "100%|██████████| 410/410 [00:08<00:00, 50.50it/s]\n"
          ]
        },
        {
          "output_type": "stream",
          "name": "stdout",
          "text": [
            "Train Instance Accuracy: 0.196850\n"
          ]
        },
        {
          "output_type": "stream",
          "name": "stderr",
          "text": [
            "100%|██████████| 103/103 [00:02<00:00, 50.64it/s]\n"
          ]
        },
        {
          "output_type": "stream",
          "name": "stdout",
          "text": [
            "Test Instance Accuracy: 0.229207, Class Accuracy: 0.177916\n",
            "Best Instance Accuracy: 0.250243, Class Accuracy: 0.202109\n",
            "Epoch 1 (72/71):\n"
          ]
        },
        {
          "output_type": "stream",
          "name": "stderr",
          "text": [
            "100%|██████████| 410/410 [00:08<00:00, 48.96it/s]\n"
          ]
        },
        {
          "output_type": "stream",
          "name": "stdout",
          "text": [
            "Train Instance Accuracy: 0.206301\n"
          ]
        },
        {
          "output_type": "stream",
          "name": "stderr",
          "text": [
            "100%|██████████| 103/103 [00:02<00:00, 50.91it/s]\n"
          ]
        },
        {
          "output_type": "stream",
          "name": "stdout",
          "text": [
            "Test Instance Accuracy: 0.232120, Class Accuracy: 0.177939\n",
            "Best Instance Accuracy: 0.250243, Class Accuracy: 0.202109\n",
            "Epoch 1 (73/72):\n"
          ]
        },
        {
          "output_type": "stream",
          "name": "stderr",
          "text": [
            "100%|██████████| 410/410 [00:08<00:00, 50.14it/s]\n"
          ]
        },
        {
          "output_type": "stream",
          "name": "stdout",
          "text": [
            "Train Instance Accuracy: 0.202846\n"
          ]
        },
        {
          "output_type": "stream",
          "name": "stderr",
          "text": [
            "100%|██████████| 103/103 [00:01<00:00, 66.54it/s]\n"
          ]
        },
        {
          "output_type": "stream",
          "name": "stdout",
          "text": [
            "Test Instance Accuracy: 0.243528, Class Accuracy: 0.194121\n",
            "Best Instance Accuracy: 0.250243, Class Accuracy: 0.202109\n",
            "Epoch 1 (74/73):\n"
          ]
        },
        {
          "output_type": "stream",
          "name": "stderr",
          "text": [
            "100%|██████████| 410/410 [00:08<00:00, 48.26it/s]\n"
          ]
        },
        {
          "output_type": "stream",
          "name": "stdout",
          "text": [
            "Train Instance Accuracy: 0.206809\n"
          ]
        },
        {
          "output_type": "stream",
          "name": "stderr",
          "text": [
            "100%|██████████| 103/103 [00:01<00:00, 65.23it/s]\n"
          ]
        },
        {
          "output_type": "stream",
          "name": "stdout",
          "text": [
            "Test Instance Accuracy: 0.251456, Class Accuracy: 0.191272\n",
            "Best Instance Accuracy: 0.251456, Class Accuracy: 0.202109\n",
            "Epoch 1 (75/74):\n"
          ]
        },
        {
          "output_type": "stream",
          "name": "stderr",
          "text": [
            "100%|██████████| 410/410 [00:07<00:00, 55.87it/s]\n"
          ]
        },
        {
          "output_type": "stream",
          "name": "stdout",
          "text": [
            "Train Instance Accuracy: 0.207114\n"
          ]
        },
        {
          "output_type": "stream",
          "name": "stderr",
          "text": [
            "100%|██████████| 103/103 [00:02<00:00, 45.12it/s]\n"
          ]
        },
        {
          "output_type": "stream",
          "name": "stdout",
          "text": [
            "Test Instance Accuracy: 0.248786, Class Accuracy: 0.190549\n",
            "Best Instance Accuracy: 0.251456, Class Accuracy: 0.202109\n",
            "Epoch 1 (76/75):\n"
          ]
        },
        {
          "output_type": "stream",
          "name": "stderr",
          "text": [
            "100%|██████████| 410/410 [00:08<00:00, 48.20it/s]\n"
          ]
        },
        {
          "output_type": "stream",
          "name": "stdout",
          "text": [
            "Train Instance Accuracy: 0.204573\n"
          ]
        },
        {
          "output_type": "stream",
          "name": "stderr",
          "text": [
            "100%|██████████| 103/103 [00:01<00:00, 64.16it/s]\n"
          ]
        },
        {
          "output_type": "stream",
          "name": "stdout",
          "text": [
            "Test Instance Accuracy: 0.240291, Class Accuracy: 0.186562\n",
            "Best Instance Accuracy: 0.251456, Class Accuracy: 0.202109\n",
            "Epoch 1 (77/76):\n"
          ]
        },
        {
          "output_type": "stream",
          "name": "stderr",
          "text": [
            "100%|██████████| 410/410 [00:09<00:00, 44.74it/s]\n"
          ]
        },
        {
          "output_type": "stream",
          "name": "stdout",
          "text": [
            "Train Instance Accuracy: 0.203557\n"
          ]
        },
        {
          "output_type": "stream",
          "name": "stderr",
          "text": [
            "100%|██████████| 103/103 [00:01<00:00, 63.87it/s]\n"
          ]
        },
        {
          "output_type": "stream",
          "name": "stdout",
          "text": [
            "Test Instance Accuracy: 0.232848, Class Accuracy: 0.177459\n",
            "Best Instance Accuracy: 0.251456, Class Accuracy: 0.202109\n",
            "Epoch 1 (78/77):\n"
          ]
        },
        {
          "output_type": "stream",
          "name": "stderr",
          "text": [
            "100%|██████████| 410/410 [00:07<00:00, 52.13it/s]\n"
          ]
        },
        {
          "output_type": "stream",
          "name": "stdout",
          "text": [
            "Train Instance Accuracy: 0.209756\n"
          ]
        },
        {
          "output_type": "stream",
          "name": "stderr",
          "text": [
            "100%|██████████| 103/103 [00:02<00:00, 49.15it/s]\n"
          ]
        },
        {
          "output_type": "stream",
          "name": "stdout",
          "text": [
            "Test Instance Accuracy: 0.255502, Class Accuracy: 0.196454\n",
            "Best Instance Accuracy: 0.255502, Class Accuracy: 0.202109\n",
            "Epoch 1 (79/78):\n"
          ]
        },
        {
          "output_type": "stream",
          "name": "stderr",
          "text": [
            "100%|██████████| 410/410 [00:08<00:00, 50.69it/s]\n"
          ]
        },
        {
          "output_type": "stream",
          "name": "stdout",
          "text": [
            "Train Instance Accuracy: 0.206809\n"
          ]
        },
        {
          "output_type": "stream",
          "name": "stderr",
          "text": [
            "100%|██████████| 103/103 [00:01<00:00, 66.71it/s]\n"
          ]
        },
        {
          "output_type": "stream",
          "name": "stdout",
          "text": [
            "Test Instance Accuracy: 0.233091, Class Accuracy: 0.187608\n",
            "Best Instance Accuracy: 0.255502, Class Accuracy: 0.202109\n",
            "Epoch 1 (80/79):\n"
          ]
        },
        {
          "output_type": "stream",
          "name": "stderr",
          "text": [
            "100%|██████████| 410/410 [00:08<00:00, 45.90it/s]\n"
          ]
        },
        {
          "output_type": "stream",
          "name": "stdout",
          "text": [
            "Train Instance Accuracy: 0.207012\n"
          ]
        },
        {
          "output_type": "stream",
          "name": "stderr",
          "text": [
            "100%|██████████| 103/103 [00:01<00:00, 63.86it/s]\n"
          ]
        },
        {
          "output_type": "stream",
          "name": "stdout",
          "text": [
            "Test Instance Accuracy: 0.244984, Class Accuracy: 0.190133\n",
            "Best Instance Accuracy: 0.255502, Class Accuracy: 0.202109\n",
            "Epoch 1 (81/80):\n"
          ]
        },
        {
          "output_type": "stream",
          "name": "stderr",
          "text": [
            "100%|██████████| 410/410 [00:08<00:00, 49.10it/s]\n"
          ]
        },
        {
          "output_type": "stream",
          "name": "stdout",
          "text": [
            "Train Instance Accuracy: 0.207419\n"
          ]
        },
        {
          "output_type": "stream",
          "name": "stderr",
          "text": [
            "100%|██████████| 103/103 [00:02<00:00, 50.57it/s]\n"
          ]
        },
        {
          "output_type": "stream",
          "name": "stdout",
          "text": [
            "Test Instance Accuracy: 0.253964, Class Accuracy: 0.197183\n",
            "Best Instance Accuracy: 0.255502, Class Accuracy: 0.202109\n",
            "Epoch 1 (82/81):\n"
          ]
        },
        {
          "output_type": "stream",
          "name": "stderr",
          "text": [
            "100%|██████████| 410/410 [00:07<00:00, 55.68it/s]\n"
          ]
        },
        {
          "output_type": "stream",
          "name": "stdout",
          "text": [
            "Train Instance Accuracy: 0.208537\n"
          ]
        },
        {
          "output_type": "stream",
          "name": "stderr",
          "text": [
            "100%|██████████| 103/103 [00:01<00:00, 65.48it/s]\n"
          ]
        },
        {
          "output_type": "stream",
          "name": "stdout",
          "text": [
            "Test Instance Accuracy: 0.246764, Class Accuracy: 0.195914\n",
            "Best Instance Accuracy: 0.255502, Class Accuracy: 0.202109\n",
            "Epoch 1 (83/82):\n"
          ]
        },
        {
          "output_type": "stream",
          "name": "stderr",
          "text": [
            "100%|██████████| 410/410 [00:09<00:00, 45.32it/s]\n"
          ]
        },
        {
          "output_type": "stream",
          "name": "stdout",
          "text": [
            "Train Instance Accuracy: 0.202744\n"
          ]
        },
        {
          "output_type": "stream",
          "name": "stderr",
          "text": [
            "100%|██████████| 103/103 [00:01<00:00, 62.50it/s]\n"
          ]
        },
        {
          "output_type": "stream",
          "name": "stdout",
          "text": [
            "Test Instance Accuracy: 0.250566, Class Accuracy: 0.201186\n",
            "Best Instance Accuracy: 0.255502, Class Accuracy: 0.202109\n",
            "Epoch 1 (84/83):\n"
          ]
        },
        {
          "output_type": "stream",
          "name": "stderr",
          "text": [
            "100%|██████████| 410/410 [00:08<00:00, 47.92it/s]\n"
          ]
        },
        {
          "output_type": "stream",
          "name": "stdout",
          "text": [
            "Train Instance Accuracy: 0.202236\n"
          ]
        },
        {
          "output_type": "stream",
          "name": "stderr",
          "text": [
            "100%|██████████| 103/103 [00:01<00:00, 55.51it/s]\n"
          ]
        },
        {
          "output_type": "stream",
          "name": "stdout",
          "text": [
            "Test Instance Accuracy: 0.257524, Class Accuracy: 0.211475\n",
            "Best Instance Accuracy: 0.257524, Class Accuracy: 0.211475\n",
            "Epoch 1 (85/84):\n"
          ]
        },
        {
          "output_type": "stream",
          "name": "stderr",
          "text": [
            "100%|██████████| 410/410 [00:07<00:00, 53.56it/s]\n"
          ]
        },
        {
          "output_type": "stream",
          "name": "stdout",
          "text": [
            "Train Instance Accuracy: 0.208232\n"
          ]
        },
        {
          "output_type": "stream",
          "name": "stderr",
          "text": [
            "100%|██████████| 103/103 [00:01<00:00, 61.04it/s]\n"
          ]
        },
        {
          "output_type": "stream",
          "name": "stdout",
          "text": [
            "Test Instance Accuracy: 0.253479, Class Accuracy: 0.198153\n",
            "Best Instance Accuracy: 0.257524, Class Accuracy: 0.211475\n",
            "Epoch 1 (86/85):\n"
          ]
        },
        {
          "output_type": "stream",
          "name": "stderr",
          "text": [
            "100%|██████████| 410/410 [00:08<00:00, 47.69it/s]\n"
          ]
        },
        {
          "output_type": "stream",
          "name": "stdout",
          "text": [
            "Train Instance Accuracy: 0.208333\n"
          ]
        },
        {
          "output_type": "stream",
          "name": "stderr",
          "text": [
            "100%|██████████| 103/103 [00:01<00:00, 64.88it/s]\n"
          ]
        },
        {
          "output_type": "stream",
          "name": "stdout",
          "text": [
            "Test Instance Accuracy: 0.238188, Class Accuracy: 0.181194\n",
            "Best Instance Accuracy: 0.257524, Class Accuracy: 0.211475\n",
            "Epoch 1 (87/86):\n"
          ]
        },
        {
          "output_type": "stream",
          "name": "stderr",
          "text": [
            "100%|██████████| 410/410 [00:09<00:00, 44.65it/s]\n"
          ]
        },
        {
          "output_type": "stream",
          "name": "stdout",
          "text": [
            "Train Instance Accuracy: 0.204980\n"
          ]
        },
        {
          "output_type": "stream",
          "name": "stderr",
          "text": [
            "100%|██████████| 103/103 [00:01<00:00, 64.59it/s]\n"
          ]
        },
        {
          "output_type": "stream",
          "name": "stdout",
          "text": [
            "Test Instance Accuracy: 0.249515, Class Accuracy: 0.195278\n",
            "Best Instance Accuracy: 0.257524, Class Accuracy: 0.211475\n",
            "Epoch 1 (88/87):\n"
          ]
        },
        {
          "output_type": "stream",
          "name": "stderr",
          "text": [
            "100%|██████████| 410/410 [00:07<00:00, 56.94it/s]\n"
          ]
        },
        {
          "output_type": "stream",
          "name": "stdout",
          "text": [
            "Train Instance Accuracy: 0.202134\n"
          ]
        },
        {
          "output_type": "stream",
          "name": "stderr",
          "text": [
            "100%|██████████| 103/103 [00:01<00:00, 55.67it/s]\n"
          ]
        },
        {
          "output_type": "stream",
          "name": "stdout",
          "text": [
            "Test Instance Accuracy: 0.245065, Class Accuracy: 0.192831\n",
            "Best Instance Accuracy: 0.257524, Class Accuracy: 0.211475\n",
            "Epoch 1 (89/88):\n"
          ]
        },
        {
          "output_type": "stream",
          "name": "stderr",
          "text": [
            "100%|██████████| 410/410 [00:08<00:00, 46.75it/s]\n"
          ]
        },
        {
          "output_type": "stream",
          "name": "stdout",
          "text": [
            "Train Instance Accuracy: 0.202439\n"
          ]
        },
        {
          "output_type": "stream",
          "name": "stderr",
          "text": [
            "100%|██████████| 103/103 [00:01<00:00, 63.72it/s]\n"
          ]
        },
        {
          "output_type": "stream",
          "name": "stdout",
          "text": [
            "Test Instance Accuracy: 0.252751, Class Accuracy: 0.197505\n",
            "Best Instance Accuracy: 0.257524, Class Accuracy: 0.211475\n",
            "Epoch 1 (90/89):\n"
          ]
        },
        {
          "output_type": "stream",
          "name": "stderr",
          "text": [
            "100%|██████████| 410/410 [00:08<00:00, 45.57it/s]\n"
          ]
        },
        {
          "output_type": "stream",
          "name": "stdout",
          "text": [
            "Train Instance Accuracy: 0.204370\n"
          ]
        },
        {
          "output_type": "stream",
          "name": "stderr",
          "text": [
            "100%|██████████| 103/103 [00:01<00:00, 66.35it/s]\n"
          ]
        },
        {
          "output_type": "stream",
          "name": "stdout",
          "text": [
            "Test Instance Accuracy: 0.250809, Class Accuracy: 0.191253\n",
            "Best Instance Accuracy: 0.257524, Class Accuracy: 0.211475\n",
            "Epoch 1 (91/90):\n"
          ]
        },
        {
          "output_type": "stream",
          "name": "stderr",
          "text": [
            "100%|██████████| 410/410 [00:07<00:00, 56.25it/s]\n"
          ]
        },
        {
          "output_type": "stream",
          "name": "stdout",
          "text": [
            "Train Instance Accuracy: 0.212805\n"
          ]
        },
        {
          "output_type": "stream",
          "name": "stderr",
          "text": [
            "100%|██████████| 103/103 [00:01<00:00, 52.31it/s]\n"
          ]
        },
        {
          "output_type": "stream",
          "name": "stdout",
          "text": [
            "Test Instance Accuracy: 0.243770, Class Accuracy: 0.191009\n",
            "Best Instance Accuracy: 0.257524, Class Accuracy: 0.211475\n",
            "Epoch 1 (92/91):\n"
          ]
        },
        {
          "output_type": "stream",
          "name": "stderr",
          "text": [
            "100%|██████████| 410/410 [00:08<00:00, 47.75it/s]\n"
          ]
        },
        {
          "output_type": "stream",
          "name": "stdout",
          "text": [
            "Train Instance Accuracy: 0.215346\n"
          ]
        },
        {
          "output_type": "stream",
          "name": "stderr",
          "text": [
            "100%|██████████| 103/103 [00:01<00:00, 66.17it/s]\n"
          ]
        },
        {
          "output_type": "stream",
          "name": "stdout",
          "text": [
            "Test Instance Accuracy: 0.249757, Class Accuracy: 0.200247\n",
            "Best Instance Accuracy: 0.257524, Class Accuracy: 0.211475\n",
            "Epoch 1 (93/92):\n"
          ]
        },
        {
          "output_type": "stream",
          "name": "stderr",
          "text": [
            "100%|██████████| 410/410 [00:09<00:00, 45.01it/s]\n"
          ]
        },
        {
          "output_type": "stream",
          "name": "stdout",
          "text": [
            "Train Instance Accuracy: 0.208435\n"
          ]
        },
        {
          "output_type": "stream",
          "name": "stderr",
          "text": [
            "100%|██████████| 103/103 [00:01<00:00, 65.30it/s]\n"
          ]
        },
        {
          "output_type": "stream",
          "name": "stdout",
          "text": [
            "Test Instance Accuracy: 0.252023, Class Accuracy: 0.203283\n",
            "Best Instance Accuracy: 0.257524, Class Accuracy: 0.211475\n",
            "Epoch 1 (94/93):\n"
          ]
        },
        {
          "output_type": "stream",
          "name": "stderr",
          "text": [
            "100%|██████████| 410/410 [00:07<00:00, 54.98it/s]\n"
          ]
        },
        {
          "output_type": "stream",
          "name": "stdout",
          "text": [
            "Train Instance Accuracy: 0.203963\n"
          ]
        },
        {
          "output_type": "stream",
          "name": "stderr",
          "text": [
            "100%|██████████| 103/103 [00:02<00:00, 47.62it/s]\n"
          ]
        },
        {
          "output_type": "stream",
          "name": "stdout",
          "text": [
            "Test Instance Accuracy: 0.258010, Class Accuracy: 0.206291\n",
            "Best Instance Accuracy: 0.258010, Class Accuracy: 0.211475\n",
            "Epoch 1 (95/94):\n"
          ]
        },
        {
          "output_type": "stream",
          "name": "stderr",
          "text": [
            "100%|██████████| 410/410 [00:08<00:00, 48.97it/s]\n"
          ]
        },
        {
          "output_type": "stream",
          "name": "stdout",
          "text": [
            "Train Instance Accuracy: 0.204167\n"
          ]
        },
        {
          "output_type": "stream",
          "name": "stderr",
          "text": [
            "100%|██████████| 103/103 [00:01<00:00, 65.70it/s]\n"
          ]
        },
        {
          "output_type": "stream",
          "name": "stdout",
          "text": [
            "Test Instance Accuracy: 0.249110, Class Accuracy: 0.201345\n",
            "Best Instance Accuracy: 0.258010, Class Accuracy: 0.211475\n",
            "Epoch 1 (96/95):\n"
          ]
        },
        {
          "output_type": "stream",
          "name": "stderr",
          "text": [
            "100%|██████████| 410/410 [00:08<00:00, 47.58it/s]\n"
          ]
        },
        {
          "output_type": "stream",
          "name": "stdout",
          "text": [
            "Train Instance Accuracy: 0.206301\n"
          ]
        },
        {
          "output_type": "stream",
          "name": "stderr",
          "text": [
            "100%|██████████| 103/103 [00:01<00:00, 69.68it/s]\n"
          ]
        },
        {
          "output_type": "stream",
          "name": "stdout",
          "text": [
            "Test Instance Accuracy: 0.259628, Class Accuracy: 0.205865\n",
            "Best Instance Accuracy: 0.259628, Class Accuracy: 0.211475\n",
            "Epoch 1 (97/96):\n"
          ]
        },
        {
          "output_type": "stream",
          "name": "stderr",
          "text": [
            "100%|██████████| 410/410 [00:07<00:00, 54.45it/s]\n"
          ]
        },
        {
          "output_type": "stream",
          "name": "stdout",
          "text": [
            "Train Instance Accuracy: 0.214939\n"
          ]
        },
        {
          "output_type": "stream",
          "name": "stderr",
          "text": [
            "100%|██████████| 103/103 [00:02<00:00, 46.11it/s]\n"
          ]
        },
        {
          "output_type": "stream",
          "name": "stdout",
          "text": [
            "Test Instance Accuracy: 0.252427, Class Accuracy: 0.198586\n",
            "Best Instance Accuracy: 0.259628, Class Accuracy: 0.211475\n",
            "Epoch 1 (98/97):\n"
          ]
        },
        {
          "output_type": "stream",
          "name": "stderr",
          "text": [
            "100%|██████████| 410/410 [00:07<00:00, 53.76it/s]\n"
          ]
        },
        {
          "output_type": "stream",
          "name": "stdout",
          "text": [
            "Train Instance Accuracy: 0.205081\n"
          ]
        },
        {
          "output_type": "stream",
          "name": "stderr",
          "text": [
            "100%|██████████| 103/103 [00:01<00:00, 66.71it/s]\n"
          ]
        },
        {
          "output_type": "stream",
          "name": "stdout",
          "text": [
            "Test Instance Accuracy: 0.250647, Class Accuracy: 0.208158\n",
            "Best Instance Accuracy: 0.259628, Class Accuracy: 0.211475\n",
            "Epoch 1 (99/98):\n"
          ]
        },
        {
          "output_type": "stream",
          "name": "stderr",
          "text": [
            "100%|██████████| 410/410 [00:08<00:00, 45.98it/s]\n"
          ]
        },
        {
          "output_type": "stream",
          "name": "stdout",
          "text": [
            "Train Instance Accuracy: 0.210671\n"
          ]
        },
        {
          "output_type": "stream",
          "name": "stderr",
          "text": [
            "100%|██████████| 103/103 [00:01<00:00, 66.96it/s]\n"
          ]
        },
        {
          "output_type": "stream",
          "name": "stdout",
          "text": [
            "Test Instance Accuracy: 0.254288, Class Accuracy: 0.200032\n",
            "Best Instance Accuracy: 0.259628, Class Accuracy: 0.211475\n",
            "Epoch 1 (100/99):\n"
          ]
        },
        {
          "output_type": "stream",
          "name": "stderr",
          "text": [
            "100%|██████████| 410/410 [00:07<00:00, 54.89it/s]\n"
          ]
        },
        {
          "output_type": "stream",
          "name": "stdout",
          "text": [
            "Train Instance Accuracy: 0.209451\n"
          ]
        },
        {
          "output_type": "stream",
          "name": "stderr",
          "text": [
            "100%|██████████| 103/103 [00:02<00:00, 49.43it/s]\n"
          ]
        },
        {
          "output_type": "stream",
          "name": "stdout",
          "text": [
            "Test Instance Accuracy: 0.249595, Class Accuracy: 0.214947\n",
            "Best Instance Accuracy: 0.259628, Class Accuracy: 0.214947\n",
            "Epoch 1 (101/100):\n"
          ]
        },
        {
          "output_type": "stream",
          "name": "stderr",
          "text": [
            "100%|██████████| 410/410 [00:09<00:00, 44.74it/s]\n"
          ]
        },
        {
          "output_type": "stream",
          "name": "stdout",
          "text": [
            "Train Instance Accuracy: 0.207317\n"
          ]
        },
        {
          "output_type": "stream",
          "name": "stderr",
          "text": [
            "100%|██████████| 103/103 [00:01<00:00, 66.35it/s]\n"
          ]
        },
        {
          "output_type": "stream",
          "name": "stdout",
          "text": [
            "Test Instance Accuracy: 0.246197, Class Accuracy: 0.197080\n",
            "Best Instance Accuracy: 0.259628, Class Accuracy: 0.214947\n",
            "Epoch 1 (102/101):\n"
          ]
        },
        {
          "output_type": "stream",
          "name": "stderr",
          "text": [
            "100%|██████████| 410/410 [00:08<00:00, 48.73it/s]\n"
          ]
        },
        {
          "output_type": "stream",
          "name": "stdout",
          "text": [
            "Train Instance Accuracy: 0.210163\n"
          ]
        },
        {
          "output_type": "stream",
          "name": "stderr",
          "text": [
            "100%|██████████| 103/103 [00:01<00:00, 67.22it/s]\n"
          ]
        },
        {
          "output_type": "stream",
          "name": "stdout",
          "text": [
            "Test Instance Accuracy: 0.249515, Class Accuracy: 0.203913\n",
            "Best Instance Accuracy: 0.259628, Class Accuracy: 0.214947\n",
            "Epoch 1 (103/102):\n"
          ]
        },
        {
          "output_type": "stream",
          "name": "stderr",
          "text": [
            "100%|██████████| 410/410 [00:08<00:00, 50.65it/s]\n"
          ]
        },
        {
          "output_type": "stream",
          "name": "stdout",
          "text": [
            "Train Instance Accuracy: 0.213313\n"
          ]
        },
        {
          "output_type": "stream",
          "name": "stderr",
          "text": [
            "100%|██████████| 103/103 [00:02<00:00, 50.19it/s]\n"
          ]
        },
        {
          "output_type": "stream",
          "name": "stdout",
          "text": [
            "Test Instance Accuracy: 0.253398, Class Accuracy: 0.214006\n",
            "Best Instance Accuracy: 0.259628, Class Accuracy: 0.214947\n",
            "Epoch 1 (104/103):\n"
          ]
        },
        {
          "output_type": "stream",
          "name": "stderr",
          "text": [
            "100%|██████████| 410/410 [00:07<00:00, 55.97it/s]\n"
          ]
        },
        {
          "output_type": "stream",
          "name": "stdout",
          "text": [
            "Train Instance Accuracy: 0.207317\n"
          ]
        },
        {
          "output_type": "stream",
          "name": "stderr",
          "text": [
            "100%|██████████| 103/103 [00:01<00:00, 64.70it/s]\n"
          ]
        },
        {
          "output_type": "stream",
          "name": "stdout",
          "text": [
            "Test Instance Accuracy: 0.252751, Class Accuracy: 0.198497\n",
            "Best Instance Accuracy: 0.259628, Class Accuracy: 0.214947\n",
            "Epoch 1 (105/104):\n"
          ]
        },
        {
          "output_type": "stream",
          "name": "stderr",
          "text": [
            "100%|██████████| 410/410 [00:08<00:00, 46.76it/s]\n"
          ]
        },
        {
          "output_type": "stream",
          "name": "stdout",
          "text": [
            "Train Instance Accuracy: 0.212093\n"
          ]
        },
        {
          "output_type": "stream",
          "name": "stderr",
          "text": [
            "100%|██████████| 103/103 [00:01<00:00, 65.76it/s]\n"
          ]
        },
        {
          "output_type": "stream",
          "name": "stdout",
          "text": [
            "Test Instance Accuracy: 0.254773, Class Accuracy: 0.204213\n",
            "Best Instance Accuracy: 0.259628, Class Accuracy: 0.214947\n",
            "Epoch 1 (106/105):\n"
          ]
        },
        {
          "output_type": "stream",
          "name": "stderr",
          "text": [
            "100%|██████████| 410/410 [00:07<00:00, 52.23it/s]\n"
          ]
        },
        {
          "output_type": "stream",
          "name": "stdout",
          "text": [
            "Train Instance Accuracy: 0.211992\n"
          ]
        },
        {
          "output_type": "stream",
          "name": "stderr",
          "text": [
            "100%|██████████| 103/103 [00:02<00:00, 48.58it/s]\n"
          ]
        },
        {
          "output_type": "stream",
          "name": "stdout",
          "text": [
            "Test Instance Accuracy: 0.248139, Class Accuracy: 0.201614\n",
            "Best Instance Accuracy: 0.259628, Class Accuracy: 0.214947\n",
            "Epoch 1 (107/106):\n"
          ]
        },
        {
          "output_type": "stream",
          "name": "stderr",
          "text": [
            "100%|██████████| 410/410 [00:07<00:00, 56.06it/s]\n"
          ]
        },
        {
          "output_type": "stream",
          "name": "stdout",
          "text": [
            "Train Instance Accuracy: 0.212703\n"
          ]
        },
        {
          "output_type": "stream",
          "name": "stderr",
          "text": [
            "100%|██████████| 103/103 [00:01<00:00, 65.96it/s]\n"
          ]
        },
        {
          "output_type": "stream",
          "name": "stdout",
          "text": [
            "Test Instance Accuracy: 0.255016, Class Accuracy: 0.206995\n",
            "Best Instance Accuracy: 0.259628, Class Accuracy: 0.214947\n",
            "Epoch 1 (108/107):\n"
          ]
        },
        {
          "output_type": "stream",
          "name": "stderr",
          "text": [
            "100%|██████████| 410/410 [00:08<00:00, 48.82it/s]\n"
          ]
        },
        {
          "output_type": "stream",
          "name": "stdout",
          "text": [
            "Train Instance Accuracy: 0.215142\n"
          ]
        },
        {
          "output_type": "stream",
          "name": "stderr",
          "text": [
            "100%|██████████| 103/103 [00:01<00:00, 68.95it/s]\n"
          ]
        },
        {
          "output_type": "stream",
          "name": "stdout",
          "text": [
            "Test Instance Accuracy: 0.259223, Class Accuracy: 0.208426\n",
            "Best Instance Accuracy: 0.259628, Class Accuracy: 0.214947\n",
            "Epoch 1 (109/108):\n"
          ]
        },
        {
          "output_type": "stream",
          "name": "stderr",
          "text": [
            "100%|██████████| 410/410 [00:08<00:00, 50.31it/s]\n"
          ]
        },
        {
          "output_type": "stream",
          "name": "stdout",
          "text": [
            "Train Instance Accuracy: 0.209045\n"
          ]
        },
        {
          "output_type": "stream",
          "name": "stderr",
          "text": [
            "100%|██████████| 103/103 [00:02<00:00, 50.59it/s]\n"
          ]
        },
        {
          "output_type": "stream",
          "name": "stdout",
          "text": [
            "Test Instance Accuracy: 0.253074, Class Accuracy: 0.198141\n",
            "Best Instance Accuracy: 0.259628, Class Accuracy: 0.214947\n",
            "Epoch 1 (110/109):\n"
          ]
        },
        {
          "output_type": "stream",
          "name": "stderr",
          "text": [
            "100%|██████████| 410/410 [00:07<00:00, 55.77it/s]\n"
          ]
        },
        {
          "output_type": "stream",
          "name": "stdout",
          "text": [
            "Train Instance Accuracy: 0.213821\n"
          ]
        },
        {
          "output_type": "stream",
          "name": "stderr",
          "text": [
            "100%|██████████| 103/103 [00:01<00:00, 66.59it/s]\n"
          ]
        },
        {
          "output_type": "stream",
          "name": "stdout",
          "text": [
            "Test Instance Accuracy: 0.253560, Class Accuracy: 0.195874\n",
            "Best Instance Accuracy: 0.259628, Class Accuracy: 0.214947\n",
            "Epoch 1 (111/110):\n"
          ]
        },
        {
          "output_type": "stream",
          "name": "stderr",
          "text": [
            "100%|██████████| 410/410 [00:08<00:00, 46.45it/s]\n"
          ]
        },
        {
          "output_type": "stream",
          "name": "stdout",
          "text": [
            "Train Instance Accuracy: 0.218902\n"
          ]
        },
        {
          "output_type": "stream",
          "name": "stderr",
          "text": [
            "100%|██████████| 103/103 [00:01<00:00, 66.41it/s]\n"
          ]
        },
        {
          "output_type": "stream",
          "name": "stdout",
          "text": [
            "Test Instance Accuracy: 0.243851, Class Accuracy: 0.184436\n",
            "Best Instance Accuracy: 0.259628, Class Accuracy: 0.214947\n",
            "Epoch 1 (112/111):\n"
          ]
        },
        {
          "output_type": "stream",
          "name": "stderr",
          "text": [
            "100%|██████████| 410/410 [00:07<00:00, 52.46it/s]\n"
          ]
        },
        {
          "output_type": "stream",
          "name": "stdout",
          "text": [
            "Train Instance Accuracy: 0.210772\n"
          ]
        },
        {
          "output_type": "stream",
          "name": "stderr",
          "text": [
            "100%|██████████| 103/103 [00:02<00:00, 47.26it/s]\n"
          ]
        },
        {
          "output_type": "stream",
          "name": "stdout",
          "text": [
            "Test Instance Accuracy: 0.257605, Class Accuracy: 0.204215\n",
            "Best Instance Accuracy: 0.259628, Class Accuracy: 0.214947\n",
            "Epoch 1 (113/112):\n"
          ]
        },
        {
          "output_type": "stream",
          "name": "stderr",
          "text": [
            "100%|██████████| 410/410 [00:08<00:00, 46.33it/s]\n"
          ]
        },
        {
          "output_type": "stream",
          "name": "stdout",
          "text": [
            "Train Instance Accuracy: 0.212500\n"
          ]
        },
        {
          "output_type": "stream",
          "name": "stderr",
          "text": [
            "100%|██████████| 103/103 [00:02<00:00, 44.96it/s]\n"
          ]
        },
        {
          "output_type": "stream",
          "name": "stdout",
          "text": [
            "Test Instance Accuracy: 0.246521, Class Accuracy: 0.188985\n",
            "Best Instance Accuracy: 0.259628, Class Accuracy: 0.214947\n",
            "Epoch 1 (114/113):\n"
          ]
        },
        {
          "output_type": "stream",
          "name": "stderr",
          "text": [
            "100%|██████████| 410/410 [00:09<00:00, 43.39it/s]\n"
          ]
        },
        {
          "output_type": "stream",
          "name": "stdout",
          "text": [
            "Train Instance Accuracy: 0.212297\n"
          ]
        },
        {
          "output_type": "stream",
          "name": "stderr",
          "text": [
            "100%|██████████| 103/103 [00:01<00:00, 63.42it/s]\n"
          ]
        },
        {
          "output_type": "stream",
          "name": "stdout",
          "text": [
            "Test Instance Accuracy: 0.258414, Class Accuracy: 0.205318\n",
            "Best Instance Accuracy: 0.259628, Class Accuracy: 0.214947\n",
            "Epoch 1 (115/114):\n"
          ]
        },
        {
          "output_type": "stream",
          "name": "stderr",
          "text": [
            "100%|██████████| 410/410 [00:08<00:00, 46.07it/s]\n"
          ]
        },
        {
          "output_type": "stream",
          "name": "stdout",
          "text": [
            "Train Instance Accuracy: 0.215244\n"
          ]
        },
        {
          "output_type": "stream",
          "name": "stderr",
          "text": [
            "100%|██████████| 103/103 [00:01<00:00, 53.69it/s]\n"
          ]
        },
        {
          "output_type": "stream",
          "name": "stdout",
          "text": [
            "Test Instance Accuracy: 0.259547, Class Accuracy: 0.210962\n",
            "Best Instance Accuracy: 0.259628, Class Accuracy: 0.214947\n",
            "Epoch 1 (116/115):\n"
          ]
        },
        {
          "output_type": "stream",
          "name": "stderr",
          "text": [
            "100%|██████████| 410/410 [00:07<00:00, 52.19it/s]\n"
          ]
        },
        {
          "output_type": "stream",
          "name": "stdout",
          "text": [
            "Train Instance Accuracy: 0.209959\n"
          ]
        },
        {
          "output_type": "stream",
          "name": "stderr",
          "text": [
            "100%|██████████| 103/103 [00:01<00:00, 54.15it/s]\n"
          ]
        },
        {
          "output_type": "stream",
          "name": "stdout",
          "text": [
            "Test Instance Accuracy: 0.253560, Class Accuracy: 0.207984\n",
            "Best Instance Accuracy: 0.259628, Class Accuracy: 0.214947\n",
            "Epoch 1 (117/116):\n"
          ]
        },
        {
          "output_type": "stream",
          "name": "stderr",
          "text": [
            "100%|██████████| 410/410 [00:08<00:00, 48.15it/s]\n"
          ]
        },
        {
          "output_type": "stream",
          "name": "stdout",
          "text": [
            "Train Instance Accuracy: 0.209045\n"
          ]
        },
        {
          "output_type": "stream",
          "name": "stderr",
          "text": [
            "100%|██████████| 103/103 [00:01<00:00, 65.71it/s]\n"
          ]
        },
        {
          "output_type": "stream",
          "name": "stdout",
          "text": [
            "Test Instance Accuracy: 0.247087, Class Accuracy: 0.204881\n",
            "Best Instance Accuracy: 0.259628, Class Accuracy: 0.214947\n",
            "Epoch 1 (118/117):\n"
          ]
        },
        {
          "output_type": "stream",
          "name": "stderr",
          "text": [
            "100%|██████████| 410/410 [00:08<00:00, 46.61it/s]\n"
          ]
        },
        {
          "output_type": "stream",
          "name": "stdout",
          "text": [
            "Train Instance Accuracy: 0.211280\n"
          ]
        },
        {
          "output_type": "stream",
          "name": "stderr",
          "text": [
            "100%|██████████| 103/103 [00:01<00:00, 65.68it/s]\n"
          ]
        },
        {
          "output_type": "stream",
          "name": "stdout",
          "text": [
            "Test Instance Accuracy: 0.249919, Class Accuracy: 0.191373\n",
            "Best Instance Accuracy: 0.259628, Class Accuracy: 0.214947\n",
            "Epoch 1 (119/118):\n"
          ]
        },
        {
          "output_type": "stream",
          "name": "stderr",
          "text": [
            "100%|██████████| 410/410 [00:07<00:00, 54.84it/s]\n"
          ]
        },
        {
          "output_type": "stream",
          "name": "stdout",
          "text": [
            "Train Instance Accuracy: 0.214329\n"
          ]
        },
        {
          "output_type": "stream",
          "name": "stderr",
          "text": [
            "100%|██████████| 103/103 [00:01<00:00, 53.96it/s]\n"
          ]
        },
        {
          "output_type": "stream",
          "name": "stdout",
          "text": [
            "Test Instance Accuracy: 0.250971, Class Accuracy: 0.197981\n",
            "Best Instance Accuracy: 0.259628, Class Accuracy: 0.214947\n",
            "Epoch 1 (120/119):\n"
          ]
        },
        {
          "output_type": "stream",
          "name": "stderr",
          "text": [
            "100%|██████████| 410/410 [00:08<00:00, 48.87it/s]\n"
          ]
        },
        {
          "output_type": "stream",
          "name": "stdout",
          "text": [
            "Train Instance Accuracy: 0.217581\n"
          ]
        },
        {
          "output_type": "stream",
          "name": "stderr",
          "text": [
            "100%|██████████| 103/103 [00:01<00:00, 63.73it/s]\n"
          ]
        },
        {
          "output_type": "stream",
          "name": "stdout",
          "text": [
            "Test Instance Accuracy: 0.253883, Class Accuracy: 0.202506\n",
            "Best Instance Accuracy: 0.259628, Class Accuracy: 0.214947\n",
            "Epoch 1 (121/120):\n"
          ]
        },
        {
          "output_type": "stream",
          "name": "stderr",
          "text": [
            "100%|██████████| 410/410 [00:08<00:00, 46.57it/s]\n"
          ]
        },
        {
          "output_type": "stream",
          "name": "stdout",
          "text": [
            "Train Instance Accuracy: 0.216768\n"
          ]
        },
        {
          "output_type": "stream",
          "name": "stderr",
          "text": [
            "100%|██████████| 103/103 [00:01<00:00, 65.81it/s]\n"
          ]
        },
        {
          "output_type": "stream",
          "name": "stdout",
          "text": [
            "Test Instance Accuracy: 0.253074, Class Accuracy: 0.200532\n",
            "Best Instance Accuracy: 0.259628, Class Accuracy: 0.214947\n",
            "Epoch 1 (122/121):\n"
          ]
        },
        {
          "output_type": "stream",
          "name": "stderr",
          "text": [
            "100%|██████████| 410/410 [00:07<00:00, 54.91it/s]\n"
          ]
        },
        {
          "output_type": "stream",
          "name": "stdout",
          "text": [
            "Train Instance Accuracy: 0.218902\n"
          ]
        },
        {
          "output_type": "stream",
          "name": "stderr",
          "text": [
            "100%|██████████| 103/103 [00:02<00:00, 50.96it/s]\n"
          ]
        },
        {
          "output_type": "stream",
          "name": "stdout",
          "text": [
            "Test Instance Accuracy: 0.259547, Class Accuracy: 0.204900\n",
            "Best Instance Accuracy: 0.259628, Class Accuracy: 0.214947\n",
            "Epoch 1 (123/122):\n"
          ]
        },
        {
          "output_type": "stream",
          "name": "stderr",
          "text": [
            "100%|██████████| 410/410 [00:08<00:00, 48.51it/s]\n"
          ]
        },
        {
          "output_type": "stream",
          "name": "stdout",
          "text": [
            "Train Instance Accuracy: 0.220224\n"
          ]
        },
        {
          "output_type": "stream",
          "name": "stderr",
          "text": [
            "100%|██████████| 103/103 [00:01<00:00, 65.60it/s]\n"
          ]
        },
        {
          "output_type": "stream",
          "name": "stdout",
          "text": [
            "Test Instance Accuracy: 0.258738, Class Accuracy: 0.209425\n",
            "Best Instance Accuracy: 0.259628, Class Accuracy: 0.214947\n",
            "Epoch 1 (124/123):\n"
          ]
        },
        {
          "output_type": "stream",
          "name": "stderr",
          "text": [
            "100%|██████████| 410/410 [00:08<00:00, 47.05it/s]\n"
          ]
        },
        {
          "output_type": "stream",
          "name": "stdout",
          "text": [
            "Train Instance Accuracy: 0.216463\n"
          ]
        },
        {
          "output_type": "stream",
          "name": "stderr",
          "text": [
            "100%|██████████| 103/103 [00:01<00:00, 64.69it/s]\n"
          ]
        },
        {
          "output_type": "stream",
          "name": "stdout",
          "text": [
            "Test Instance Accuracy: 0.253479, Class Accuracy: 0.204886\n",
            "Best Instance Accuracy: 0.259628, Class Accuracy: 0.214947\n",
            "Epoch 1 (125/124):\n"
          ]
        },
        {
          "output_type": "stream",
          "name": "stderr",
          "text": [
            "100%|██████████| 410/410 [00:07<00:00, 54.59it/s]\n"
          ]
        },
        {
          "output_type": "stream",
          "name": "stdout",
          "text": [
            "Train Instance Accuracy: 0.219614\n"
          ]
        },
        {
          "output_type": "stream",
          "name": "stderr",
          "text": [
            "100%|██████████| 103/103 [00:02<00:00, 50.66it/s]\n"
          ]
        },
        {
          "output_type": "stream",
          "name": "stdout",
          "text": [
            "Test Instance Accuracy: 0.251052, Class Accuracy: 0.203334\n",
            "Best Instance Accuracy: 0.259628, Class Accuracy: 0.214947\n",
            "Epoch 1 (126/125):\n"
          ]
        },
        {
          "output_type": "stream",
          "name": "stderr",
          "text": [
            "100%|██████████| 410/410 [00:08<00:00, 49.87it/s]\n"
          ]
        },
        {
          "output_type": "stream",
          "name": "stdout",
          "text": [
            "Train Instance Accuracy: 0.227846\n"
          ]
        },
        {
          "output_type": "stream",
          "name": "stderr",
          "text": [
            "100%|██████████| 103/103 [00:01<00:00, 64.59it/s]\n"
          ]
        },
        {
          "output_type": "stream",
          "name": "stdout",
          "text": [
            "Test Instance Accuracy: 0.249515, Class Accuracy: 0.199067\n",
            "Best Instance Accuracy: 0.259628, Class Accuracy: 0.214947\n",
            "Epoch 1 (127/126):\n"
          ]
        },
        {
          "output_type": "stream",
          "name": "stderr",
          "text": [
            "100%|██████████| 410/410 [00:08<00:00, 46.71it/s]\n"
          ]
        },
        {
          "output_type": "stream",
          "name": "stdout",
          "text": [
            "Train Instance Accuracy: 0.218902\n"
          ]
        },
        {
          "output_type": "stream",
          "name": "stderr",
          "text": [
            "100%|██████████| 103/103 [00:01<00:00, 66.11it/s]\n"
          ]
        },
        {
          "output_type": "stream",
          "name": "stdout",
          "text": [
            "Test Instance Accuracy: 0.254288, Class Accuracy: 0.200243\n",
            "Best Instance Accuracy: 0.259628, Class Accuracy: 0.214947\n",
            "Epoch 1 (128/127):\n"
          ]
        },
        {
          "output_type": "stream",
          "name": "stderr",
          "text": [
            "100%|██████████| 410/410 [00:07<00:00, 55.47it/s]\n"
          ]
        },
        {
          "output_type": "stream",
          "name": "stdout",
          "text": [
            "Train Instance Accuracy: 0.220732\n"
          ]
        },
        {
          "output_type": "stream",
          "name": "stderr",
          "text": [
            "100%|██████████| 103/103 [00:01<00:00, 52.68it/s]\n"
          ]
        },
        {
          "output_type": "stream",
          "name": "stdout",
          "text": [
            "Test Instance Accuracy: 0.253398, Class Accuracy: 0.199244\n",
            "Best Instance Accuracy: 0.259628, Class Accuracy: 0.214947\n",
            "Epoch 1 (129/128):\n"
          ]
        },
        {
          "output_type": "stream",
          "name": "stderr",
          "text": [
            "100%|██████████| 410/410 [00:08<00:00, 49.57it/s]\n"
          ]
        },
        {
          "output_type": "stream",
          "name": "stdout",
          "text": [
            "Train Instance Accuracy: 0.218394\n"
          ]
        },
        {
          "output_type": "stream",
          "name": "stderr",
          "text": [
            "100%|██████████| 103/103 [00:01<00:00, 64.92it/s]\n"
          ]
        },
        {
          "output_type": "stream",
          "name": "stdout",
          "text": [
            "Test Instance Accuracy: 0.255825, Class Accuracy: 0.204101\n",
            "Best Instance Accuracy: 0.259628, Class Accuracy: 0.214947\n",
            "Epoch 1 (130/129):\n"
          ]
        },
        {
          "output_type": "stream",
          "name": "stderr",
          "text": [
            "100%|██████████| 410/410 [00:10<00:00, 40.05it/s]\n"
          ]
        },
        {
          "output_type": "stream",
          "name": "stdout",
          "text": [
            "Train Instance Accuracy: 0.213211\n"
          ]
        },
        {
          "output_type": "stream",
          "name": "stderr",
          "text": [
            "100%|██████████| 103/103 [00:01<00:00, 64.95it/s]\n"
          ]
        },
        {
          "output_type": "stream",
          "name": "stdout",
          "text": [
            "Test Instance Accuracy: 0.255906, Class Accuracy: 0.196249\n",
            "Best Instance Accuracy: 0.259628, Class Accuracy: 0.214947\n",
            "Epoch 1 (131/130):\n"
          ]
        },
        {
          "output_type": "stream",
          "name": "stderr",
          "text": [
            "100%|██████████| 410/410 [00:07<00:00, 55.58it/s]\n"
          ]
        },
        {
          "output_type": "stream",
          "name": "stdout",
          "text": [
            "Train Instance Accuracy: 0.221850\n"
          ]
        },
        {
          "output_type": "stream",
          "name": "stderr",
          "text": [
            "100%|██████████| 103/103 [00:01<00:00, 51.51it/s]\n"
          ]
        },
        {
          "output_type": "stream",
          "name": "stdout",
          "text": [
            "Test Instance Accuracy: 0.251214, Class Accuracy: 0.203219\n",
            "Best Instance Accuracy: 0.259628, Class Accuracy: 0.214947\n",
            "Epoch 1 (132/131):\n"
          ]
        },
        {
          "output_type": "stream",
          "name": "stderr",
          "text": [
            "100%|██████████| 410/410 [00:07<00:00, 51.28it/s]\n"
          ]
        },
        {
          "output_type": "stream",
          "name": "stdout",
          "text": [
            "Train Instance Accuracy: 0.215650\n"
          ]
        },
        {
          "output_type": "stream",
          "name": "stderr",
          "text": [
            "100%|██████████| 103/103 [00:01<00:00, 69.03it/s]\n"
          ]
        },
        {
          "output_type": "stream",
          "name": "stdout",
          "text": [
            "Test Instance Accuracy: 0.258657, Class Accuracy: 0.205699\n",
            "Best Instance Accuracy: 0.259628, Class Accuracy: 0.214947\n",
            "Epoch 1 (133/132):\n"
          ]
        },
        {
          "output_type": "stream",
          "name": "stderr",
          "text": [
            "100%|██████████| 410/410 [00:08<00:00, 49.22it/s]\n"
          ]
        },
        {
          "output_type": "stream",
          "name": "stdout",
          "text": [
            "Train Instance Accuracy: 0.213110\n"
          ]
        },
        {
          "output_type": "stream",
          "name": "stderr",
          "text": [
            "100%|██████████| 103/103 [00:01<00:00, 65.27it/s]\n"
          ]
        },
        {
          "output_type": "stream",
          "name": "stdout",
          "text": [
            "Test Instance Accuracy: 0.255744, Class Accuracy: 0.214773\n",
            "Best Instance Accuracy: 0.259628, Class Accuracy: 0.214947\n",
            "Epoch 1 (134/133):\n"
          ]
        },
        {
          "output_type": "stream",
          "name": "stderr",
          "text": [
            "100%|██████████| 410/410 [00:07<00:00, 57.24it/s]\n"
          ]
        },
        {
          "output_type": "stream",
          "name": "stdout",
          "text": [
            "Train Instance Accuracy: 0.222053\n"
          ]
        },
        {
          "output_type": "stream",
          "name": "stderr",
          "text": [
            "100%|██████████| 103/103 [00:01<00:00, 58.18it/s]\n"
          ]
        },
        {
          "output_type": "stream",
          "name": "stdout",
          "text": [
            "Test Instance Accuracy: 0.268851, Class Accuracy: 0.223441\n",
            "Best Instance Accuracy: 0.268851, Class Accuracy: 0.223441\n",
            "Epoch 1 (135/134):\n"
          ]
        },
        {
          "output_type": "stream",
          "name": "stderr",
          "text": [
            "100%|██████████| 410/410 [00:08<00:00, 49.32it/s]\n"
          ]
        },
        {
          "output_type": "stream",
          "name": "stdout",
          "text": [
            "Train Instance Accuracy: 0.220020\n"
          ]
        },
        {
          "output_type": "stream",
          "name": "stderr",
          "text": [
            "100%|██████████| 103/103 [00:01<00:00, 65.47it/s]\n"
          ]
        },
        {
          "output_type": "stream",
          "name": "stdout",
          "text": [
            "Test Instance Accuracy: 0.267152, Class Accuracy: 0.216755\n",
            "Best Instance Accuracy: 0.268851, Class Accuracy: 0.223441\n",
            "Epoch 1 (136/135):\n"
          ]
        },
        {
          "output_type": "stream",
          "name": "stderr",
          "text": [
            "100%|██████████| 410/410 [00:08<00:00, 48.33it/s]\n"
          ]
        },
        {
          "output_type": "stream",
          "name": "stdout",
          "text": [
            "Train Instance Accuracy: 0.215244\n"
          ]
        },
        {
          "output_type": "stream",
          "name": "stderr",
          "text": [
            "100%|██████████| 103/103 [00:01<00:00, 62.62it/s]\n"
          ]
        },
        {
          "output_type": "stream",
          "name": "stdout",
          "text": [
            "Test Instance Accuracy: 0.261893, Class Accuracy: 0.210954\n",
            "Best Instance Accuracy: 0.268851, Class Accuracy: 0.223441\n",
            "Epoch 1 (137/136):\n"
          ]
        },
        {
          "output_type": "stream",
          "name": "stderr",
          "text": [
            "100%|██████████| 410/410 [00:07<00:00, 54.16it/s]\n"
          ]
        },
        {
          "output_type": "stream",
          "name": "stdout",
          "text": [
            "Train Instance Accuracy: 0.217581\n"
          ]
        },
        {
          "output_type": "stream",
          "name": "stderr",
          "text": [
            "100%|██████████| 103/103 [00:01<00:00, 58.51it/s]\n"
          ]
        },
        {
          "output_type": "stream",
          "name": "stdout",
          "text": [
            "Test Instance Accuracy: 0.263511, Class Accuracy: 0.221760\n",
            "Best Instance Accuracy: 0.268851, Class Accuracy: 0.223441\n",
            "Epoch 1 (138/137):\n"
          ]
        },
        {
          "output_type": "stream",
          "name": "stderr",
          "text": [
            "100%|██████████| 410/410 [00:08<00:00, 47.75it/s]\n"
          ]
        },
        {
          "output_type": "stream",
          "name": "stdout",
          "text": [
            "Train Instance Accuracy: 0.222459\n"
          ]
        },
        {
          "output_type": "stream",
          "name": "stderr",
          "text": [
            "100%|██████████| 103/103 [00:01<00:00, 63.93it/s]\n"
          ]
        },
        {
          "output_type": "stream",
          "name": "stdout",
          "text": [
            "Test Instance Accuracy: 0.266424, Class Accuracy: 0.215355\n",
            "Best Instance Accuracy: 0.268851, Class Accuracy: 0.223441\n",
            "Epoch 1 (139/138):\n"
          ]
        },
        {
          "output_type": "stream",
          "name": "stderr",
          "text": [
            "100%|██████████| 410/410 [00:09<00:00, 45.48it/s]\n"
          ]
        },
        {
          "output_type": "stream",
          "name": "stdout",
          "text": [
            "Train Instance Accuracy: 0.212907\n"
          ]
        },
        {
          "output_type": "stream",
          "name": "stderr",
          "text": [
            "100%|██████████| 103/103 [00:01<00:00, 65.44it/s]\n"
          ]
        },
        {
          "output_type": "stream",
          "name": "stdout",
          "text": [
            "Test Instance Accuracy: 0.248625, Class Accuracy: 0.197047\n",
            "Best Instance Accuracy: 0.268851, Class Accuracy: 0.223441\n",
            "Epoch 1 (140/139):\n"
          ]
        },
        {
          "output_type": "stream",
          "name": "stderr",
          "text": [
            "100%|██████████| 410/410 [00:07<00:00, 54.83it/s]\n"
          ]
        },
        {
          "output_type": "stream",
          "name": "stdout",
          "text": [
            "Train Instance Accuracy: 0.218598\n"
          ]
        },
        {
          "output_type": "stream",
          "name": "stderr",
          "text": [
            "100%|██████████| 103/103 [00:02<00:00, 51.02it/s]\n"
          ]
        },
        {
          "output_type": "stream",
          "name": "stdout",
          "text": [
            "Test Instance Accuracy: 0.264806, Class Accuracy: 0.212327\n",
            "Best Instance Accuracy: 0.268851, Class Accuracy: 0.223441\n",
            "Epoch 1 (141/140):\n"
          ]
        },
        {
          "output_type": "stream",
          "name": "stderr",
          "text": [
            "100%|██████████| 410/410 [00:08<00:00, 47.55it/s]\n"
          ]
        },
        {
          "output_type": "stream",
          "name": "stdout",
          "text": [
            "Train Instance Accuracy: 0.221240\n"
          ]
        },
        {
          "output_type": "stream",
          "name": "stderr",
          "text": [
            "100%|██████████| 103/103 [00:01<00:00, 65.35it/s]\n"
          ]
        },
        {
          "output_type": "stream",
          "name": "stdout",
          "text": [
            "Test Instance Accuracy: 0.266586, Class Accuracy: 0.222986\n",
            "Best Instance Accuracy: 0.268851, Class Accuracy: 0.223441\n",
            "Epoch 1 (142/141):\n"
          ]
        },
        {
          "output_type": "stream",
          "name": "stderr",
          "text": [
            "100%|██████████| 410/410 [00:09<00:00, 44.31it/s]\n"
          ]
        },
        {
          "output_type": "stream",
          "name": "stdout",
          "text": [
            "Train Instance Accuracy: 0.217785\n"
          ]
        },
        {
          "output_type": "stream",
          "name": "stderr",
          "text": [
            "100%|██████████| 103/103 [00:01<00:00, 62.34it/s]\n"
          ]
        },
        {
          "output_type": "stream",
          "name": "stdout",
          "text": [
            "Test Instance Accuracy: 0.262702, Class Accuracy: 0.214368\n",
            "Best Instance Accuracy: 0.268851, Class Accuracy: 0.223441\n",
            "Epoch 1 (143/142):\n"
          ]
        },
        {
          "output_type": "stream",
          "name": "stderr",
          "text": [
            "100%|██████████| 410/410 [00:07<00:00, 52.40it/s]\n"
          ]
        },
        {
          "output_type": "stream",
          "name": "stdout",
          "text": [
            "Train Instance Accuracy: 0.217175\n"
          ]
        },
        {
          "output_type": "stream",
          "name": "stderr",
          "text": [
            "100%|██████████| 103/103 [00:02<00:00, 47.76it/s]\n"
          ]
        },
        {
          "output_type": "stream",
          "name": "stdout",
          "text": [
            "Test Instance Accuracy: 0.261650, Class Accuracy: 0.219345\n",
            "Best Instance Accuracy: 0.268851, Class Accuracy: 0.223441\n",
            "Epoch 1 (144/143):\n"
          ]
        },
        {
          "output_type": "stream",
          "name": "stderr",
          "text": [
            "100%|██████████| 410/410 [00:07<00:00, 51.56it/s]\n"
          ]
        },
        {
          "output_type": "stream",
          "name": "stdout",
          "text": [
            "Train Instance Accuracy: 0.216362\n"
          ]
        },
        {
          "output_type": "stream",
          "name": "stderr",
          "text": [
            "100%|██████████| 103/103 [00:01<00:00, 63.82it/s]\n"
          ]
        },
        {
          "output_type": "stream",
          "name": "stdout",
          "text": [
            "Test Instance Accuracy: 0.249515, Class Accuracy: 0.195477\n",
            "Best Instance Accuracy: 0.268851, Class Accuracy: 0.223441\n",
            "Epoch 1 (145/144):\n"
          ]
        },
        {
          "output_type": "stream",
          "name": "stderr",
          "text": [
            "100%|██████████| 410/410 [00:09<00:00, 44.42it/s]\n"
          ]
        },
        {
          "output_type": "stream",
          "name": "stdout",
          "text": [
            "Train Instance Accuracy: 0.219207\n"
          ]
        },
        {
          "output_type": "stream",
          "name": "stderr",
          "text": [
            "100%|██████████| 103/103 [00:01<00:00, 62.96it/s]\n"
          ]
        },
        {
          "output_type": "stream",
          "name": "stdout",
          "text": [
            "Test Instance Accuracy: 0.260032, Class Accuracy: 0.210763\n",
            "Best Instance Accuracy: 0.268851, Class Accuracy: 0.223441\n",
            "Epoch 1 (146/145):\n"
          ]
        },
        {
          "output_type": "stream",
          "name": "stderr",
          "text": [
            "100%|██████████| 410/410 [00:08<00:00, 48.64it/s]\n"
          ]
        },
        {
          "output_type": "stream",
          "name": "stdout",
          "text": [
            "Train Instance Accuracy: 0.216565\n"
          ]
        },
        {
          "output_type": "stream",
          "name": "stderr",
          "text": [
            "100%|██████████| 103/103 [00:02<00:00, 48.35it/s]\n"
          ]
        },
        {
          "output_type": "stream",
          "name": "stdout",
          "text": [
            "Test Instance Accuracy: 0.264320, Class Accuracy: 0.219688\n",
            "Best Instance Accuracy: 0.268851, Class Accuracy: 0.223441\n",
            "Epoch 1 (147/146):\n"
          ]
        },
        {
          "output_type": "stream",
          "name": "stderr",
          "text": [
            "100%|██████████| 410/410 [00:07<00:00, 53.29it/s]\n"
          ]
        },
        {
          "output_type": "stream",
          "name": "stdout",
          "text": [
            "Train Instance Accuracy: 0.217276\n"
          ]
        },
        {
          "output_type": "stream",
          "name": "stderr",
          "text": [
            "100%|██████████| 103/103 [00:01<00:00, 64.09it/s]\n"
          ]
        },
        {
          "output_type": "stream",
          "name": "stdout",
          "text": [
            "Test Instance Accuracy: 0.258252, Class Accuracy: 0.211638\n",
            "Best Instance Accuracy: 0.268851, Class Accuracy: 0.223441\n",
            "Epoch 1 (148/147):\n"
          ]
        },
        {
          "output_type": "stream",
          "name": "stderr",
          "text": [
            "100%|██████████| 410/410 [00:09<00:00, 44.41it/s]\n"
          ]
        },
        {
          "output_type": "stream",
          "name": "stdout",
          "text": [
            "Train Instance Accuracy: 0.222154\n"
          ]
        },
        {
          "output_type": "stream",
          "name": "stderr",
          "text": [
            "100%|██████████| 103/103 [00:01<00:00, 65.83it/s]\n"
          ]
        },
        {
          "output_type": "stream",
          "name": "stdout",
          "text": [
            "Test Instance Accuracy: 0.257524, Class Accuracy: 0.205301\n",
            "Best Instance Accuracy: 0.268851, Class Accuracy: 0.223441\n",
            "Epoch 1 (149/148):\n"
          ]
        },
        {
          "output_type": "stream",
          "name": "stderr",
          "text": [
            "100%|██████████| 410/410 [00:08<00:00, 47.76it/s]\n"
          ]
        },
        {
          "output_type": "stream",
          "name": "stdout",
          "text": [
            "Train Instance Accuracy: 0.221545\n"
          ]
        },
        {
          "output_type": "stream",
          "name": "stderr",
          "text": [
            "100%|██████████| 103/103 [00:01<00:00, 52.23it/s]\n"
          ]
        },
        {
          "output_type": "stream",
          "name": "stdout",
          "text": [
            "Test Instance Accuracy: 0.257848, Class Accuracy: 0.207679\n",
            "Best Instance Accuracy: 0.268851, Class Accuracy: 0.223441\n",
            "Epoch 1 (150/149):\n"
          ]
        },
        {
          "output_type": "stream",
          "name": "stderr",
          "text": [
            "100%|██████████| 410/410 [00:07<00:00, 55.45it/s]\n"
          ]
        },
        {
          "output_type": "stream",
          "name": "stdout",
          "text": [
            "Train Instance Accuracy: 0.222053\n"
          ]
        },
        {
          "output_type": "stream",
          "name": "stderr",
          "text": [
            "100%|██████████| 103/103 [00:01<00:00, 65.31it/s]\n"
          ]
        },
        {
          "output_type": "stream",
          "name": "stdout",
          "text": [
            "Test Instance Accuracy: 0.263188, Class Accuracy: 0.221134\n",
            "Best Instance Accuracy: 0.268851, Class Accuracy: 0.223441\n",
            "Epoch 1 (151/150):\n"
          ]
        },
        {
          "output_type": "stream",
          "name": "stderr",
          "text": [
            "100%|██████████| 410/410 [00:09<00:00, 45.34it/s]\n"
          ]
        },
        {
          "output_type": "stream",
          "name": "stdout",
          "text": [
            "Train Instance Accuracy: 0.225508\n"
          ]
        },
        {
          "output_type": "stream",
          "name": "stderr",
          "text": [
            "100%|██████████| 103/103 [00:01<00:00, 64.70it/s]\n"
          ]
        },
        {
          "output_type": "stream",
          "name": "stdout",
          "text": [
            "Test Instance Accuracy: 0.253398, Class Accuracy: 0.196249\n",
            "Best Instance Accuracy: 0.268851, Class Accuracy: 0.223441\n",
            "Epoch 1 (152/151):\n"
          ]
        },
        {
          "output_type": "stream",
          "name": "stderr",
          "text": [
            "100%|██████████| 410/410 [00:08<00:00, 46.13it/s]\n"
          ]
        },
        {
          "output_type": "stream",
          "name": "stdout",
          "text": [
            "Train Instance Accuracy: 0.219512\n"
          ]
        },
        {
          "output_type": "stream",
          "name": "stderr",
          "text": [
            "100%|██████████| 103/103 [00:01<00:00, 59.44it/s]\n"
          ]
        },
        {
          "output_type": "stream",
          "name": "stdout",
          "text": [
            "Test Instance Accuracy: 0.262298, Class Accuracy: 0.215406\n",
            "Best Instance Accuracy: 0.268851, Class Accuracy: 0.223441\n",
            "Epoch 1 (153/152):\n"
          ]
        },
        {
          "output_type": "stream",
          "name": "stderr",
          "text": [
            "100%|██████████| 410/410 [00:07<00:00, 54.98it/s]\n"
          ]
        },
        {
          "output_type": "stream",
          "name": "stdout",
          "text": [
            "Train Instance Accuracy: 0.222154\n"
          ]
        },
        {
          "output_type": "stream",
          "name": "stderr",
          "text": [
            "100%|██████████| 103/103 [00:01<00:00, 56.39it/s]\n"
          ]
        },
        {
          "output_type": "stream",
          "name": "stdout",
          "text": [
            "Test Instance Accuracy: 0.264887, Class Accuracy: 0.224768\n",
            "Best Instance Accuracy: 0.268851, Class Accuracy: 0.224768\n",
            "Epoch 1 (154/153):\n"
          ]
        },
        {
          "output_type": "stream",
          "name": "stderr",
          "text": [
            "100%|██████████| 410/410 [00:08<00:00, 46.65it/s]\n"
          ]
        },
        {
          "output_type": "stream",
          "name": "stdout",
          "text": [
            "Train Instance Accuracy: 0.226016\n"
          ]
        },
        {
          "output_type": "stream",
          "name": "stderr",
          "text": [
            "100%|██████████| 103/103 [00:01<00:00, 62.95it/s]\n"
          ]
        },
        {
          "output_type": "stream",
          "name": "stdout",
          "text": [
            "Test Instance Accuracy: 0.262702, Class Accuracy: 0.209558\n",
            "Best Instance Accuracy: 0.268851, Class Accuracy: 0.224768\n",
            "Epoch 1 (155/154):\n"
          ]
        },
        {
          "output_type": "stream",
          "name": "stderr",
          "text": [
            "100%|██████████| 410/410 [00:08<00:00, 45.60it/s]\n"
          ]
        },
        {
          "output_type": "stream",
          "name": "stdout",
          "text": [
            "Train Instance Accuracy: 0.226626\n"
          ]
        },
        {
          "output_type": "stream",
          "name": "stderr",
          "text": [
            "100%|██████████| 103/103 [00:01<00:00, 64.76it/s]\n"
          ]
        },
        {
          "output_type": "stream",
          "name": "stdout",
          "text": [
            "Test Instance Accuracy: 0.262379, Class Accuracy: 0.212966\n",
            "Best Instance Accuracy: 0.268851, Class Accuracy: 0.224768\n",
            "Epoch 1 (156/155):\n"
          ]
        },
        {
          "output_type": "stream",
          "name": "stderr",
          "text": [
            "100%|██████████| 410/410 [00:07<00:00, 54.91it/s]\n"
          ]
        },
        {
          "output_type": "stream",
          "name": "stdout",
          "text": [
            "Train Instance Accuracy: 0.216972\n"
          ]
        },
        {
          "output_type": "stream",
          "name": "stderr",
          "text": [
            "100%|██████████| 103/103 [00:02<00:00, 48.36it/s]\n"
          ]
        },
        {
          "output_type": "stream",
          "name": "stdout",
          "text": [
            "Test Instance Accuracy: 0.255987, Class Accuracy: 0.208854\n",
            "Best Instance Accuracy: 0.268851, Class Accuracy: 0.224768\n",
            "Epoch 1 (157/156):\n"
          ]
        },
        {
          "output_type": "stream",
          "name": "stderr",
          "text": [
            "100%|██████████| 410/410 [00:08<00:00, 48.27it/s]\n"
          ]
        },
        {
          "output_type": "stream",
          "name": "stdout",
          "text": [
            "Train Instance Accuracy: 0.214939\n"
          ]
        },
        {
          "output_type": "stream",
          "name": "stderr",
          "text": [
            "100%|██████████| 103/103 [00:01<00:00, 64.60it/s]\n"
          ]
        },
        {
          "output_type": "stream",
          "name": "stdout",
          "text": [
            "Test Instance Accuracy: 0.252104, Class Accuracy: 0.203861\n",
            "Best Instance Accuracy: 0.268851, Class Accuracy: 0.224768\n",
            "Epoch 1 (158/157):\n"
          ]
        },
        {
          "output_type": "stream",
          "name": "stderr",
          "text": [
            "100%|██████████| 410/410 [00:09<00:00, 45.45it/s]\n"
          ]
        },
        {
          "output_type": "stream",
          "name": "stdout",
          "text": [
            "Train Instance Accuracy: 0.223882\n"
          ]
        },
        {
          "output_type": "stream",
          "name": "stderr",
          "text": [
            "100%|██████████| 103/103 [00:01<00:00, 54.29it/s]\n"
          ]
        },
        {
          "output_type": "stream",
          "name": "stdout",
          "text": [
            "Test Instance Accuracy: 0.259466, Class Accuracy: 0.215934\n",
            "Best Instance Accuracy: 0.268851, Class Accuracy: 0.224768\n",
            "Epoch 1 (159/158):\n"
          ]
        },
        {
          "output_type": "stream",
          "name": "stderr",
          "text": [
            "100%|██████████| 410/410 [00:09<00:00, 42.90it/s]\n"
          ]
        },
        {
          "output_type": "stream",
          "name": "stdout",
          "text": [
            "Train Instance Accuracy: 0.226931\n"
          ]
        },
        {
          "output_type": "stream",
          "name": "stderr",
          "text": [
            "100%|██████████| 103/103 [00:02<00:00, 48.54it/s]\n"
          ]
        },
        {
          "output_type": "stream",
          "name": "stdout",
          "text": [
            "Test Instance Accuracy: 0.263754, Class Accuracy: 0.219333\n",
            "Best Instance Accuracy: 0.268851, Class Accuracy: 0.224768\n",
            "Epoch 1 (160/159):\n"
          ]
        },
        {
          "output_type": "stream",
          "name": "stderr",
          "text": [
            "100%|██████████| 410/410 [00:07<00:00, 53.06it/s]\n"
          ]
        },
        {
          "output_type": "stream",
          "name": "stdout",
          "text": [
            "Train Instance Accuracy: 0.225203\n"
          ]
        },
        {
          "output_type": "stream",
          "name": "stderr",
          "text": [
            "100%|██████████| 103/103 [00:01<00:00, 62.01it/s]\n"
          ]
        },
        {
          "output_type": "stream",
          "name": "stdout",
          "text": [
            "Test Instance Accuracy: 0.261327, Class Accuracy: 0.213530\n",
            "Best Instance Accuracy: 0.268851, Class Accuracy: 0.224768\n",
            "Epoch 1 (161/160):\n"
          ]
        },
        {
          "output_type": "stream",
          "name": "stderr",
          "text": [
            "100%|██████████| 410/410 [00:08<00:00, 45.94it/s]\n"
          ]
        },
        {
          "output_type": "stream",
          "name": "stdout",
          "text": [
            "Train Instance Accuracy: 0.219411\n"
          ]
        },
        {
          "output_type": "stream",
          "name": "stderr",
          "text": [
            "100%|██████████| 103/103 [00:01<00:00, 64.48it/s]\n"
          ]
        },
        {
          "output_type": "stream",
          "name": "stdout",
          "text": [
            "Test Instance Accuracy: 0.263188, Class Accuracy: 0.217377\n",
            "Best Instance Accuracy: 0.268851, Class Accuracy: 0.224768\n",
            "Epoch 1 (162/161):\n"
          ]
        },
        {
          "output_type": "stream",
          "name": "stderr",
          "text": [
            "100%|██████████| 410/410 [00:08<00:00, 48.59it/s]\n"
          ]
        },
        {
          "output_type": "stream",
          "name": "stdout",
          "text": [
            "Train Instance Accuracy: 0.224898\n"
          ]
        },
        {
          "output_type": "stream",
          "name": "stderr",
          "text": [
            "100%|██████████| 103/103 [00:02<00:00, 50.64it/s]\n"
          ]
        },
        {
          "output_type": "stream",
          "name": "stdout",
          "text": [
            "Test Instance Accuracy: 0.259061, Class Accuracy: 0.208294\n",
            "Best Instance Accuracy: 0.268851, Class Accuracy: 0.224768\n",
            "Epoch 1 (163/162):\n"
          ]
        },
        {
          "output_type": "stream",
          "name": "stderr",
          "text": [
            "100%|██████████| 410/410 [00:07<00:00, 54.74it/s]\n"
          ]
        },
        {
          "output_type": "stream",
          "name": "stdout",
          "text": [
            "Train Instance Accuracy: 0.223069\n"
          ]
        },
        {
          "output_type": "stream",
          "name": "stderr",
          "text": [
            "100%|██████████| 103/103 [00:01<00:00, 63.20it/s]\n"
          ]
        },
        {
          "output_type": "stream",
          "name": "stdout",
          "text": [
            "Test Instance Accuracy: 0.250405, Class Accuracy: 0.201605\n",
            "Best Instance Accuracy: 0.268851, Class Accuracy: 0.224768\n",
            "Epoch 1 (164/163):\n"
          ]
        },
        {
          "output_type": "stream",
          "name": "stderr",
          "text": [
            "100%|██████████| 410/410 [00:08<00:00, 46.19it/s]\n"
          ]
        },
        {
          "output_type": "stream",
          "name": "stdout",
          "text": [
            "Train Instance Accuracy: 0.220935\n"
          ]
        },
        {
          "output_type": "stream",
          "name": "stderr",
          "text": [
            "100%|██████████| 103/103 [00:01<00:00, 64.71it/s]\n"
          ]
        },
        {
          "output_type": "stream",
          "name": "stdout",
          "text": [
            "Test Instance Accuracy: 0.264320, Class Accuracy: 0.221962\n",
            "Best Instance Accuracy: 0.268851, Class Accuracy: 0.224768\n",
            "Epoch 1 (165/164):\n"
          ]
        },
        {
          "output_type": "stream",
          "name": "stderr",
          "text": [
            "100%|██████████| 410/410 [00:08<00:00, 47.95it/s]\n"
          ]
        },
        {
          "output_type": "stream",
          "name": "stdout",
          "text": [
            "Train Instance Accuracy: 0.217988\n"
          ]
        },
        {
          "output_type": "stream",
          "name": "stderr",
          "text": [
            "100%|██████████| 103/103 [00:01<00:00, 54.36it/s]\n"
          ]
        },
        {
          "output_type": "stream",
          "name": "stdout",
          "text": [
            "Test Instance Accuracy: 0.263511, Class Accuracy: 0.210679\n",
            "Best Instance Accuracy: 0.268851, Class Accuracy: 0.224768\n",
            "Epoch 1 (166/165):\n"
          ]
        },
        {
          "output_type": "stream",
          "name": "stderr",
          "text": [
            "100%|██████████| 410/410 [00:07<00:00, 54.94it/s]\n"
          ]
        },
        {
          "output_type": "stream",
          "name": "stdout",
          "text": [
            "Train Instance Accuracy: 0.228862\n"
          ]
        },
        {
          "output_type": "stream",
          "name": "stderr",
          "text": [
            "100%|██████████| 103/103 [00:01<00:00, 59.84it/s]\n"
          ]
        },
        {
          "output_type": "stream",
          "name": "stdout",
          "text": [
            "Test Instance Accuracy: 0.260356, Class Accuracy: 0.212040\n",
            "Best Instance Accuracy: 0.268851, Class Accuracy: 0.224768\n",
            "Epoch 1 (167/166):\n"
          ]
        },
        {
          "output_type": "stream",
          "name": "stderr",
          "text": [
            "100%|██████████| 410/410 [00:08<00:00, 47.14it/s]\n"
          ]
        },
        {
          "output_type": "stream",
          "name": "stdout",
          "text": [
            "Train Instance Accuracy: 0.221037\n"
          ]
        },
        {
          "output_type": "stream",
          "name": "stderr",
          "text": [
            "100%|██████████| 103/103 [00:01<00:00, 64.19it/s]\n"
          ]
        },
        {
          "output_type": "stream",
          "name": "stdout",
          "text": [
            "Test Instance Accuracy: 0.253560, Class Accuracy: 0.202511\n",
            "Best Instance Accuracy: 0.268851, Class Accuracy: 0.224768\n",
            "Epoch 1 (168/167):\n"
          ]
        },
        {
          "output_type": "stream",
          "name": "stderr",
          "text": [
            "100%|██████████| 410/410 [00:08<00:00, 47.98it/s]\n"
          ]
        },
        {
          "output_type": "stream",
          "name": "stdout",
          "text": [
            "Train Instance Accuracy: 0.222866\n"
          ]
        },
        {
          "output_type": "stream",
          "name": "stderr",
          "text": [
            "100%|██████████| 103/103 [00:01<00:00, 57.17it/s]\n"
          ]
        },
        {
          "output_type": "stream",
          "name": "stdout",
          "text": [
            "Test Instance Accuracy: 0.266909, Class Accuracy: 0.215510\n",
            "Best Instance Accuracy: 0.268851, Class Accuracy: 0.224768\n",
            "Epoch 1 (169/168):\n"
          ]
        },
        {
          "output_type": "stream",
          "name": "stderr",
          "text": [
            "100%|██████████| 410/410 [00:07<00:00, 53.67it/s]\n"
          ]
        },
        {
          "output_type": "stream",
          "name": "stdout",
          "text": [
            "Train Instance Accuracy: 0.216667\n"
          ]
        },
        {
          "output_type": "stream",
          "name": "stderr",
          "text": [
            "100%|██████████| 103/103 [00:01<00:00, 55.32it/s]\n"
          ]
        },
        {
          "output_type": "stream",
          "name": "stdout",
          "text": [
            "Test Instance Accuracy: 0.262864, Class Accuracy: 0.218598\n",
            "Best Instance Accuracy: 0.268851, Class Accuracy: 0.224768\n",
            "Epoch 1 (170/169):\n"
          ]
        },
        {
          "output_type": "stream",
          "name": "stderr",
          "text": [
            "100%|██████████| 410/410 [00:08<00:00, 46.57it/s]\n"
          ]
        },
        {
          "output_type": "stream",
          "name": "stdout",
          "text": [
            "Train Instance Accuracy: 0.221341\n"
          ]
        },
        {
          "output_type": "stream",
          "name": "stderr",
          "text": [
            "100%|██████████| 103/103 [00:01<00:00, 65.97it/s]\n"
          ]
        },
        {
          "output_type": "stream",
          "name": "stdout",
          "text": [
            "Test Instance Accuracy: 0.261570, Class Accuracy: 0.220558\n",
            "Best Instance Accuracy: 0.268851, Class Accuracy: 0.224768\n",
            "Epoch 1 (171/170):\n"
          ]
        },
        {
          "output_type": "stream",
          "name": "stderr",
          "text": [
            "100%|██████████| 410/410 [00:08<00:00, 45.91it/s]\n"
          ]
        },
        {
          "output_type": "stream",
          "name": "stdout",
          "text": [
            "Train Instance Accuracy: 0.222967\n"
          ]
        },
        {
          "output_type": "stream",
          "name": "stderr",
          "text": [
            "100%|██████████| 103/103 [00:01<00:00, 64.86it/s]\n"
          ]
        },
        {
          "output_type": "stream",
          "name": "stdout",
          "text": [
            "Test Instance Accuracy: 0.261731, Class Accuracy: 0.212575\n",
            "Best Instance Accuracy: 0.268851, Class Accuracy: 0.224768\n",
            "Epoch 1 (172/171):\n"
          ]
        },
        {
          "output_type": "stream",
          "name": "stderr",
          "text": [
            "100%|██████████| 410/410 [00:07<00:00, 54.83it/s]\n"
          ]
        },
        {
          "output_type": "stream",
          "name": "stdout",
          "text": [
            "Train Instance Accuracy: 0.229878\n"
          ]
        },
        {
          "output_type": "stream",
          "name": "stderr",
          "text": [
            "100%|██████████| 103/103 [00:02<00:00, 50.21it/s]\n"
          ]
        },
        {
          "output_type": "stream",
          "name": "stdout",
          "text": [
            "Test Instance Accuracy: 0.264401, Class Accuracy: 0.213560\n",
            "Best Instance Accuracy: 0.268851, Class Accuracy: 0.224768\n",
            "Epoch 1 (173/172):\n"
          ]
        },
        {
          "output_type": "stream",
          "name": "stderr",
          "text": [
            "100%|██████████| 410/410 [00:08<00:00, 49.22it/s]\n"
          ]
        },
        {
          "output_type": "stream",
          "name": "stdout",
          "text": [
            "Train Instance Accuracy: 0.225305\n"
          ]
        },
        {
          "output_type": "stream",
          "name": "stderr",
          "text": [
            "100%|██████████| 103/103 [00:01<00:00, 66.54it/s]\n"
          ]
        },
        {
          "output_type": "stream",
          "name": "stdout",
          "text": [
            "Test Instance Accuracy: 0.265210, Class Accuracy: 0.220121\n",
            "Best Instance Accuracy: 0.268851, Class Accuracy: 0.224768\n",
            "Epoch 1 (174/173):\n"
          ]
        },
        {
          "output_type": "stream",
          "name": "stderr",
          "text": [
            "100%|██████████| 410/410 [00:09<00:00, 43.10it/s]\n"
          ]
        },
        {
          "output_type": "stream",
          "name": "stdout",
          "text": [
            "Train Instance Accuracy: 0.229167\n"
          ]
        },
        {
          "output_type": "stream",
          "name": "stderr",
          "text": [
            "100%|██████████| 103/103 [00:02<00:00, 42.25it/s]\n"
          ]
        },
        {
          "output_type": "stream",
          "name": "stdout",
          "text": [
            "Test Instance Accuracy: 0.270146, Class Accuracy: 0.224073\n",
            "Best Instance Accuracy: 0.270146, Class Accuracy: 0.224768\n",
            "Epoch 1 (175/174):\n"
          ]
        },
        {
          "output_type": "stream",
          "name": "stderr",
          "text": [
            "100%|██████████| 410/410 [00:08<00:00, 48.84it/s]\n"
          ]
        },
        {
          "output_type": "stream",
          "name": "stdout",
          "text": [
            "Train Instance Accuracy: 0.219715\n"
          ]
        },
        {
          "output_type": "stream",
          "name": "stderr",
          "text": [
            "100%|██████████| 103/103 [00:02<00:00, 50.04it/s]\n"
          ]
        },
        {
          "output_type": "stream",
          "name": "stdout",
          "text": [
            "Test Instance Accuracy: 0.261246, Class Accuracy: 0.213083\n",
            "Best Instance Accuracy: 0.270146, Class Accuracy: 0.224768\n",
            "Epoch 1 (176/175):\n"
          ]
        },
        {
          "output_type": "stream",
          "name": "stderr",
          "text": [
            "100%|██████████| 410/410 [00:08<00:00, 49.58it/s]\n"
          ]
        },
        {
          "output_type": "stream",
          "name": "stdout",
          "text": [
            "Train Instance Accuracy: 0.217988\n"
          ]
        },
        {
          "output_type": "stream",
          "name": "stderr",
          "text": [
            "100%|██████████| 103/103 [00:01<00:00, 66.02it/s]\n"
          ]
        },
        {
          "output_type": "stream",
          "name": "stdout",
          "text": [
            "Test Instance Accuracy: 0.270065, Class Accuracy: 0.217000\n",
            "Best Instance Accuracy: 0.270146, Class Accuracy: 0.224768\n",
            "Epoch 1 (177/176):\n"
          ]
        },
        {
          "output_type": "stream",
          "name": "stderr",
          "text": [
            "100%|██████████| 410/410 [00:09<00:00, 44.52it/s]\n"
          ]
        },
        {
          "output_type": "stream",
          "name": "stdout",
          "text": [
            "Train Instance Accuracy: 0.224695\n"
          ]
        },
        {
          "output_type": "stream",
          "name": "stderr",
          "text": [
            "100%|██████████| 103/103 [00:01<00:00, 64.48it/s]\n"
          ]
        },
        {
          "output_type": "stream",
          "name": "stdout",
          "text": [
            "Test Instance Accuracy: 0.264159, Class Accuracy: 0.223497\n",
            "Best Instance Accuracy: 0.270146, Class Accuracy: 0.224768\n",
            "Epoch 1 (178/177):\n"
          ]
        },
        {
          "output_type": "stream",
          "name": "stderr",
          "text": [
            "100%|██████████| 410/410 [00:07<00:00, 52.85it/s]\n"
          ]
        },
        {
          "output_type": "stream",
          "name": "stdout",
          "text": [
            "Train Instance Accuracy: 0.223679\n"
          ]
        },
        {
          "output_type": "stream",
          "name": "stderr",
          "text": [
            "100%|██████████| 103/103 [00:02<00:00, 44.43it/s]\n"
          ]
        },
        {
          "output_type": "stream",
          "name": "stdout",
          "text": [
            "Test Instance Accuracy: 0.262783, Class Accuracy: 0.212261\n",
            "Best Instance Accuracy: 0.270146, Class Accuracy: 0.224768\n",
            "Epoch 1 (179/178):\n"
          ]
        },
        {
          "output_type": "stream",
          "name": "stderr",
          "text": [
            "100%|██████████| 410/410 [00:08<00:00, 50.91it/s]\n"
          ]
        },
        {
          "output_type": "stream",
          "name": "stdout",
          "text": [
            "Train Instance Accuracy: 0.220528\n"
          ]
        },
        {
          "output_type": "stream",
          "name": "stderr",
          "text": [
            "100%|██████████| 103/103 [00:01<00:00, 63.73it/s]\n"
          ]
        },
        {
          "output_type": "stream",
          "name": "stdout",
          "text": [
            "Test Instance Accuracy: 0.262621, Class Accuracy: 0.217701\n",
            "Best Instance Accuracy: 0.270146, Class Accuracy: 0.224768\n",
            "Epoch 1 (180/179):\n"
          ]
        },
        {
          "output_type": "stream",
          "name": "stderr",
          "text": [
            "100%|██████████| 410/410 [00:08<00:00, 46.70it/s]\n"
          ]
        },
        {
          "output_type": "stream",
          "name": "stdout",
          "text": [
            "Train Instance Accuracy: 0.223171\n"
          ]
        },
        {
          "output_type": "stream",
          "name": "stderr",
          "text": [
            "100%|██████████| 103/103 [00:01<00:00, 65.20it/s]\n"
          ]
        },
        {
          "output_type": "stream",
          "name": "stdout",
          "text": [
            "Test Instance Accuracy: 0.259142, Class Accuracy: 0.212722\n",
            "Best Instance Accuracy: 0.270146, Class Accuracy: 0.224768\n",
            "Epoch 1 (181/180):\n"
          ]
        },
        {
          "output_type": "stream",
          "name": "stderr",
          "text": [
            "100%|██████████| 410/410 [00:07<00:00, 53.08it/s]\n"
          ]
        },
        {
          "output_type": "stream",
          "name": "stdout",
          "text": [
            "Train Instance Accuracy: 0.222764\n"
          ]
        },
        {
          "output_type": "stream",
          "name": "stderr",
          "text": [
            "100%|██████████| 103/103 [00:02<00:00, 48.59it/s]\n"
          ]
        },
        {
          "output_type": "stream",
          "name": "stdout",
          "text": [
            "Test Instance Accuracy: 0.255421, Class Accuracy: 0.214679\n",
            "Best Instance Accuracy: 0.270146, Class Accuracy: 0.224768\n",
            "Epoch 1 (182/181):\n"
          ]
        },
        {
          "output_type": "stream",
          "name": "stderr",
          "text": [
            "100%|██████████| 410/410 [00:07<00:00, 51.73it/s]\n"
          ]
        },
        {
          "output_type": "stream",
          "name": "stdout",
          "text": [
            "Train Instance Accuracy: 0.226016\n"
          ]
        },
        {
          "output_type": "stream",
          "name": "stderr",
          "text": [
            "100%|██████████| 103/103 [00:01<00:00, 64.70it/s]\n"
          ]
        },
        {
          "output_type": "stream",
          "name": "stdout",
          "text": [
            "Test Instance Accuracy: 0.266990, Class Accuracy: 0.220284\n",
            "Best Instance Accuracy: 0.270146, Class Accuracy: 0.224768\n",
            "Epoch 1 (183/182):\n"
          ]
        },
        {
          "output_type": "stream",
          "name": "stderr",
          "text": [
            "100%|██████████| 410/410 [00:09<00:00, 45.35it/s]\n"
          ]
        },
        {
          "output_type": "stream",
          "name": "stdout",
          "text": [
            "Train Instance Accuracy: 0.223374\n"
          ]
        },
        {
          "output_type": "stream",
          "name": "stderr",
          "text": [
            "100%|██████████| 103/103 [00:01<00:00, 65.52it/s]\n"
          ]
        },
        {
          "output_type": "stream",
          "name": "stdout",
          "text": [
            "Test Instance Accuracy: 0.266424, Class Accuracy: 0.214694\n",
            "Best Instance Accuracy: 0.270146, Class Accuracy: 0.224768\n",
            "Epoch 1 (184/183):\n"
          ]
        },
        {
          "output_type": "stream",
          "name": "stderr",
          "text": [
            "100%|██████████| 410/410 [00:07<00:00, 53.84it/s]\n"
          ]
        },
        {
          "output_type": "stream",
          "name": "stdout",
          "text": [
            "Train Instance Accuracy: 0.218902\n"
          ]
        },
        {
          "output_type": "stream",
          "name": "stderr",
          "text": [
            "100%|██████████| 103/103 [00:02<00:00, 46.97it/s]\n"
          ]
        },
        {
          "output_type": "stream",
          "name": "stdout",
          "text": [
            "Test Instance Accuracy: 0.276861, Class Accuracy: 0.218703\n",
            "Best Instance Accuracy: 0.276861, Class Accuracy: 0.224768\n",
            "Epoch 1 (185/184):\n"
          ]
        },
        {
          "output_type": "stream",
          "name": "stderr",
          "text": [
            "100%|██████████| 410/410 [00:07<00:00, 52.43it/s]\n"
          ]
        },
        {
          "output_type": "stream",
          "name": "stdout",
          "text": [
            "Train Instance Accuracy: 0.220833\n"
          ]
        },
        {
          "output_type": "stream",
          "name": "stderr",
          "text": [
            "100%|██████████| 103/103 [00:01<00:00, 64.45it/s]\n"
          ]
        },
        {
          "output_type": "stream",
          "name": "stdout",
          "text": [
            "Test Instance Accuracy: 0.275728, Class Accuracy: 0.231818\n",
            "Best Instance Accuracy: 0.276861, Class Accuracy: 0.231818\n",
            "Epoch 1 (186/185):\n"
          ]
        },
        {
          "output_type": "stream",
          "name": "stderr",
          "text": [
            "100%|██████████| 410/410 [00:08<00:00, 46.46it/s]\n"
          ]
        },
        {
          "output_type": "stream",
          "name": "stdout",
          "text": [
            "Train Instance Accuracy: 0.220122\n"
          ]
        },
        {
          "output_type": "stream",
          "name": "stderr",
          "text": [
            "100%|██████████| 103/103 [00:01<00:00, 63.32it/s]\n"
          ]
        },
        {
          "output_type": "stream",
          "name": "stdout",
          "text": [
            "Test Instance Accuracy: 0.265696, Class Accuracy: 0.223494\n",
            "Best Instance Accuracy: 0.276861, Class Accuracy: 0.231818\n",
            "Epoch 1 (187/186):\n"
          ]
        },
        {
          "output_type": "stream",
          "name": "stderr",
          "text": [
            "100%|██████████| 410/410 [00:07<00:00, 51.80it/s]\n"
          ]
        },
        {
          "output_type": "stream",
          "name": "stdout",
          "text": [
            "Train Instance Accuracy: 0.225610\n"
          ]
        },
        {
          "output_type": "stream",
          "name": "stderr",
          "text": [
            "100%|██████████| 103/103 [00:02<00:00, 48.35it/s]\n"
          ]
        },
        {
          "output_type": "stream",
          "name": "stdout",
          "text": [
            "Test Instance Accuracy: 0.268851, Class Accuracy: 0.218092\n",
            "Best Instance Accuracy: 0.276861, Class Accuracy: 0.231818\n",
            "Epoch 1 (188/187):\n"
          ]
        },
        {
          "output_type": "stream",
          "name": "stderr",
          "text": [
            "100%|██████████| 410/410 [00:09<00:00, 42.92it/s]\n"
          ]
        },
        {
          "output_type": "stream",
          "name": "stdout",
          "text": [
            "Train Instance Accuracy: 0.222561\n"
          ]
        },
        {
          "output_type": "stream",
          "name": "stderr",
          "text": [
            "100%|██████████| 103/103 [00:01<00:00, 64.89it/s]\n"
          ]
        },
        {
          "output_type": "stream",
          "name": "stdout",
          "text": [
            "Test Instance Accuracy: 0.268042, Class Accuracy: 0.218532\n",
            "Best Instance Accuracy: 0.276861, Class Accuracy: 0.231818\n",
            "Epoch 1 (189/188):\n"
          ]
        },
        {
          "output_type": "stream",
          "name": "stderr",
          "text": [
            "100%|██████████| 410/410 [00:08<00:00, 45.94it/s]\n"
          ]
        },
        {
          "output_type": "stream",
          "name": "stdout",
          "text": [
            "Train Instance Accuracy: 0.224492\n"
          ]
        },
        {
          "output_type": "stream",
          "name": "stderr",
          "text": [
            "100%|██████████| 103/103 [00:01<00:00, 65.11it/s]\n"
          ]
        },
        {
          "output_type": "stream",
          "name": "stdout",
          "text": [
            "Test Instance Accuracy: 0.265372, Class Accuracy: 0.211521\n",
            "Best Instance Accuracy: 0.276861, Class Accuracy: 0.231818\n",
            "Epoch 1 (190/189):\n"
          ]
        },
        {
          "output_type": "stream",
          "name": "stderr",
          "text": [
            "100%|██████████| 410/410 [00:07<00:00, 51.70it/s]\n"
          ]
        },
        {
          "output_type": "stream",
          "name": "stdout",
          "text": [
            "Train Instance Accuracy: 0.223374\n"
          ]
        },
        {
          "output_type": "stream",
          "name": "stderr",
          "text": [
            "100%|██████████| 103/103 [00:02<00:00, 48.14it/s]\n"
          ]
        },
        {
          "output_type": "stream",
          "name": "stdout",
          "text": [
            "Test Instance Accuracy: 0.261570, Class Accuracy: 0.210989\n",
            "Best Instance Accuracy: 0.276861, Class Accuracy: 0.231818\n",
            "Epoch 1 (191/190):\n"
          ]
        },
        {
          "output_type": "stream",
          "name": "stderr",
          "text": [
            "100%|██████████| 410/410 [00:07<00:00, 53.16it/s]\n"
          ]
        },
        {
          "output_type": "stream",
          "name": "stdout",
          "text": [
            "Train Instance Accuracy: 0.226524\n"
          ]
        },
        {
          "output_type": "stream",
          "name": "stderr",
          "text": [
            "100%|██████████| 103/103 [00:01<00:00, 66.60it/s]\n"
          ]
        },
        {
          "output_type": "stream",
          "name": "stdout",
          "text": [
            "Test Instance Accuracy: 0.272087, Class Accuracy: 0.216621\n",
            "Best Instance Accuracy: 0.276861, Class Accuracy: 0.231818\n",
            "Epoch 1 (192/191):\n"
          ]
        },
        {
          "output_type": "stream",
          "name": "stderr",
          "text": [
            "100%|██████████| 410/410 [00:08<00:00, 45.81it/s]\n"
          ]
        },
        {
          "output_type": "stream",
          "name": "stdout",
          "text": [
            "Train Instance Accuracy: 0.219512\n"
          ]
        },
        {
          "output_type": "stream",
          "name": "stderr",
          "text": [
            "100%|██████████| 103/103 [00:01<00:00, 64.69it/s]\n"
          ]
        },
        {
          "output_type": "stream",
          "name": "stdout",
          "text": [
            "Test Instance Accuracy: 0.270874, Class Accuracy: 0.216812\n",
            "Best Instance Accuracy: 0.276861, Class Accuracy: 0.231818\n",
            "Epoch 1 (193/192):\n"
          ]
        },
        {
          "output_type": "stream",
          "name": "stderr",
          "text": [
            "100%|██████████| 410/410 [00:07<00:00, 51.71it/s]\n"
          ]
        },
        {
          "output_type": "stream",
          "name": "stdout",
          "text": [
            "Train Instance Accuracy: 0.224390\n"
          ]
        },
        {
          "output_type": "stream",
          "name": "stderr",
          "text": [
            "100%|██████████| 103/103 [00:02<00:00, 49.33it/s]\n"
          ]
        },
        {
          "output_type": "stream",
          "name": "stdout",
          "text": [
            "Test Instance Accuracy: 0.266343, Class Accuracy: 0.216696\n",
            "Best Instance Accuracy: 0.276861, Class Accuracy: 0.231818\n",
            "Epoch 1 (194/193):\n"
          ]
        },
        {
          "output_type": "stream",
          "name": "stderr",
          "text": [
            "100%|██████████| 410/410 [00:07<00:00, 53.11it/s]\n"
          ]
        },
        {
          "output_type": "stream",
          "name": "stdout",
          "text": [
            "Train Instance Accuracy: 0.221443\n"
          ]
        },
        {
          "output_type": "stream",
          "name": "stderr",
          "text": [
            "100%|██████████| 103/103 [00:01<00:00, 64.30it/s]\n"
          ]
        },
        {
          "output_type": "stream",
          "name": "stdout",
          "text": [
            "Test Instance Accuracy: 0.275000, Class Accuracy: 0.227960\n",
            "Best Instance Accuracy: 0.276861, Class Accuracy: 0.231818\n",
            "Epoch 1 (195/194):\n"
          ]
        },
        {
          "output_type": "stream",
          "name": "stderr",
          "text": [
            "100%|██████████| 410/410 [00:09<00:00, 44.91it/s]\n"
          ]
        },
        {
          "output_type": "stream",
          "name": "stdout",
          "text": [
            "Train Instance Accuracy: 0.227033\n"
          ]
        },
        {
          "output_type": "stream",
          "name": "stderr",
          "text": [
            "100%|██████████| 103/103 [00:01<00:00, 65.79it/s]\n"
          ]
        },
        {
          "output_type": "stream",
          "name": "stdout",
          "text": [
            "Test Instance Accuracy: 0.266505, Class Accuracy: 0.211158\n",
            "Best Instance Accuracy: 0.276861, Class Accuracy: 0.231818\n",
            "Epoch 1 (196/195):\n"
          ]
        },
        {
          "output_type": "stream",
          "name": "stderr",
          "text": [
            "100%|██████████| 410/410 [00:08<00:00, 48.73it/s]\n"
          ]
        },
        {
          "output_type": "stream",
          "name": "stdout",
          "text": [
            "Train Instance Accuracy: 0.224187\n"
          ]
        },
        {
          "output_type": "stream",
          "name": "stderr",
          "text": [
            "100%|██████████| 103/103 [00:02<00:00, 47.74it/s]\n"
          ]
        },
        {
          "output_type": "stream",
          "name": "stdout",
          "text": [
            "Test Instance Accuracy: 0.259628, Class Accuracy: 0.212937\n",
            "Best Instance Accuracy: 0.276861, Class Accuracy: 0.231818\n",
            "Epoch 1 (197/196):\n"
          ]
        },
        {
          "output_type": "stream",
          "name": "stderr",
          "text": [
            "100%|██████████| 410/410 [00:07<00:00, 53.07it/s]\n"
          ]
        },
        {
          "output_type": "stream",
          "name": "stdout",
          "text": [
            "Train Instance Accuracy: 0.222256\n"
          ]
        },
        {
          "output_type": "stream",
          "name": "stderr",
          "text": [
            "100%|██████████| 103/103 [00:01<00:00, 64.51it/s]\n"
          ]
        },
        {
          "output_type": "stream",
          "name": "stdout",
          "text": [
            "Test Instance Accuracy: 0.259142, Class Accuracy: 0.214360\n",
            "Best Instance Accuracy: 0.276861, Class Accuracy: 0.231818\n",
            "Epoch 1 (198/197):\n"
          ]
        },
        {
          "output_type": "stream",
          "name": "stderr",
          "text": [
            "100%|██████████| 410/410 [00:09<00:00, 45.48it/s]\n"
          ]
        },
        {
          "output_type": "stream",
          "name": "stdout",
          "text": [
            "Train Instance Accuracy: 0.225407\n"
          ]
        },
        {
          "output_type": "stream",
          "name": "stderr",
          "text": [
            "100%|██████████| 103/103 [00:01<00:00, 64.23it/s]\n"
          ]
        },
        {
          "output_type": "stream",
          "name": "stdout",
          "text": [
            "Test Instance Accuracy: 0.264725, Class Accuracy: 0.220871\n",
            "Best Instance Accuracy: 0.276861, Class Accuracy: 0.231818\n",
            "Epoch 1 (199/198):\n"
          ]
        },
        {
          "output_type": "stream",
          "name": "stderr",
          "text": [
            "100%|██████████| 410/410 [00:09<00:00, 45.36it/s]\n"
          ]
        },
        {
          "output_type": "stream",
          "name": "stdout",
          "text": [
            "Train Instance Accuracy: 0.224797\n"
          ]
        },
        {
          "output_type": "stream",
          "name": "stderr",
          "text": [
            "100%|██████████| 103/103 [00:01<00:00, 58.18it/s]\n"
          ]
        },
        {
          "output_type": "stream",
          "name": "stdout",
          "text": [
            "Test Instance Accuracy: 0.263269, Class Accuracy: 0.223772\n",
            "Best Instance Accuracy: 0.276861, Class Accuracy: 0.231818\n",
            "Epoch 1 (200/199):\n"
          ]
        },
        {
          "output_type": "stream",
          "name": "stderr",
          "text": [
            "100%|██████████| 410/410 [00:07<00:00, 54.14it/s]\n"
          ]
        },
        {
          "output_type": "stream",
          "name": "stdout",
          "text": [
            "Train Instance Accuracy: 0.225508\n"
          ]
        },
        {
          "output_type": "stream",
          "name": "stderr",
          "text": [
            "100%|██████████| 103/103 [00:01<00:00, 56.99it/s]\n"
          ]
        },
        {
          "output_type": "stream",
          "name": "stdout",
          "text": [
            "Test Instance Accuracy: 0.272896, Class Accuracy: 0.225941\n",
            "Best Instance Accuracy: 0.276861, Class Accuracy: 0.231818\n",
            "End of training...\n",
            "\n"
          ]
        },
        {
          "output_type": "stream",
          "name": "stderr",
          "text": [
            "100%|██████████| 103/103 [00:02<00:00, 46.16it/s]"
          ]
        },
        {
          "output_type": "stream",
          "name": "stdout",
          "text": [
            "Test Instance Accuracy: 0.271359, Class Accuracy: 0.226514\n"
          ]
        },
        {
          "output_type": "stream",
          "name": "stderr",
          "text": [
            "\n"
          ]
        }
      ]
    },
    {
      "cell_type": "markdown",
      "source": [
        "# Load in pre-trained model"
      ],
      "metadata": {
        "id": "SzbbOYKqSw_D"
      }
    },
    {
      "cell_type": "code",
      "source": [
        "import torch\n",
        "import importlib\n",
        "\n",
        "num_class = 40\n",
        "model = importlib.import_module(\"pointnet_cls\")\n",
        "\n",
        "# Load pre-trained model\n",
        "pre_trained_classifier = model.get_model(num_class, normal_channel=False)\n",
        "criterion = model.get_loss()\n",
        "pre_trained_classifier.apply(inplace_relu)\n",
        "\n",
        "use_cpu = False\n",
        "if not use_cpu:\n",
        "    pre_trained_classifier = pre_trained_classifier.cuda()\n",
        "    criterion = criterion.cuda()\n",
        "\n",
        "checkpoint = torch.load(\"/content/drive/MyDrive/cpsc_533y/pointnet_1024_no_rot_normalize_checkpoint.pth\")\n",
        "pre_trained_classifier.load_state_dict(checkpoint[\"model_state_dict\"])"
      ],
      "metadata": {
        "colab": {
          "base_uri": "https://localhost:8080/"
        },
        "id": "a_wdai2uNXKp",
        "outputId": "42d3ac6d-c370-4afc-f24f-877bcc186621"
      },
      "execution_count": null,
      "outputs": [
        {
          "output_type": "execute_result",
          "data": {
            "text/plain": [
              "<All keys matched successfully>"
            ]
          },
          "metadata": {},
          "execution_count": 57
        }
      ]
    },
    {
      "cell_type": "markdown",
      "source": [
        "# Visualization functions"
      ],
      "metadata": {
        "id": "oA_T7rBZRz4B"
      }
    },
    {
      "cell_type": "code",
      "execution_count": null,
      "metadata": {
        "id": "iR6hdXjA4L1a"
      },
      "outputs": [],
      "source": [
        "import plotly.graph_objects as go\n",
        "import plotly.io as pio"
      ]
    },
    {
      "cell_type": "code",
      "execution_count": null,
      "metadata": {
        "id": "AOiWjljaRJyG"
      },
      "outputs": [],
      "source": [
        "def interactive_3d_visualization(embeddings, desired_obs_all):\n",
        "\n",
        "  # Create a meshgrid for the angles\n",
        "  # phi, theta = np.linspace(0, np.pi, 100), np.linspace(0, 2 * np.pi, 100)\n",
        "  # PHI, THETA = np.meshgrid(phi, theta)\n",
        "\n",
        "  # Convert angles to Cartesian coordinates\n",
        "  # x = np.sin(PHI) * np.cos(THETA)\n",
        "  # y = np.sin(PHI) * np.sin(THETA)\n",
        "  # z = np.cos(PHI)\n",
        "\n",
        "  x = embeddings[:, 0]\n",
        "  y = embeddings[:, 1]\n",
        "  z = embeddings[:, 2]\n",
        "  print(min(x))\n",
        "  print(max(x))\n",
        "  print(min(y), max(y))\n",
        "  print(min(z), max(z))\n",
        "  # Create the 3D scatter plot\n",
        "  fig = go.Figure()\n",
        "  fig.add_trace(go.Scatter3d(x=x,\n",
        "                               y=y,\n",
        "                               z=z,\n",
        "                               mode='markers',\n",
        "                               ))\n",
        "\n",
        "  # Set plot title and axis labels\n",
        "  fig.update_layout(\n",
        "    # title='Interactive 3D Sphere',\n",
        "      scene=dict(\n",
        "        xaxis_title='X',\n",
        "        yaxis_title='Y',\n",
        "        zaxis_title='Z',\n",
        "      )\n",
        "  )\n",
        "\n",
        "  fig.show()\n",
        "  # Save the figure as an interactive HTML file\n",
        "  # pio.write_html(fig, file=os.path.join(figure_save_path, f'{dataset_name}_{model_name}_{desired_obs}.html'))\n",
        "\n",
        "  # Save the figure as an image (e.g., PNG)\n",
        "  # pio.write_image(fig, file='output_plot.png', format='png')\n"
      ]
    },
    {
      "cell_type": "code",
      "execution_count": null,
      "metadata": {
        "colab": {
          "base_uri": "https://localhost:8080/",
          "height": 615
        },
        "id": "h5_d8yo2My5Q",
        "outputId": "c749e88a-ea3b-43e5-b8c0-6456e3663681"
      },
      "outputs": [
        {
          "name": "stdout",
          "output_type": "stream",
          "text": [
            "-0.83714527\n",
            "0.8551462\n",
            "-0.14703815 0.33583084\n",
            "-0.9998928 0.9316149\n"
          ]
        },
        {
          "data": {
            "text/html": [
              "<html>\n",
              "<head><meta charset=\"utf-8\" /></head>\n",
              "<body>\n",
              "    <div>            <script src=\"https://cdnjs.cloudflare.com/ajax/libs/mathjax/2.7.5/MathJax.js?config=TeX-AMS-MML_SVG\"></script><script type=\"text/javascript\">if (window.MathJax && window.MathJax.Hub && window.MathJax.Hub.Config) {window.MathJax.Hub.Config({SVG: {font: \"STIX-Web\"}});}</script>                <script type=\"text/javascript\">window.PlotlyConfig = {MathJaxConfig: 'local'};</script>\n",
              "        <script charset=\"utf-8\" src=\"https://cdn.plot.ly/plotly-2.24.1.min.js\"></script>                <div id=\"5e87b754-b094-45ba-9452-5f41c07814c0\" class=\"plotly-graph-div\" style=\"height:525px; width:100%;\"></div>            <script type=\"text/javascript\">                                    window.PLOTLYENV=window.PLOTLYENV || {};                                    if (document.getElementById(\"5e87b754-b094-45ba-9452-5f41c07814c0\")) {                    Plotly.newPlot(                        \"5e87b754-b094-45ba-9452-5f41c07814c0\",                        [{\"mode\":\"markers\",\"x\":[-0.5569867491722107,0.83143550157547,0.15610693395137787,-0.1461900770664215,-0.016912246122956276,-0.11456816643476486,-0.038506124168634415,0.022158607840538025,0.24927613139152527,0.4466037154197693,0.014645460993051529,0.27112728357315063,-0.2648549973964691,0.05734403431415558,0.29456472396850586,0.031109487637877464,0.003164055058732629,0.04786571115255356,-0.31644371151924133,-0.8371452689170837,-0.272706538438797,0.022929951548576355,0.01471503172069788,0.052991487085819244,-0.015599643811583519,0.06313133239746094,-0.014856926165521145,-0.07436588406562805,0.6650261878967285,0.11039990931749344,-0.024771058931946754,-0.24342617392539978,0.0016310767969116569,-0.06971001625061035,-0.06884206831455231,0.07518815249204636,-0.0704793706536293,-0.03396374732255936,0.23081304132938385,0.07259335368871689,0.1410408765077591,-0.1053997278213501,-0.21630847454071045,0.05673479288816452,-0.03657444193959236,-0.00036825257120653987,-0.17126835882663727,-0.7285751104354858,0.05561142414808273,-0.4228571951389313,-0.20417533814907074,-0.06191202253103256,0.0813765674829483,0.15821890532970428,-0.020396646112203598,0.011429104022681713,0.014814617112278938,0.2193954735994339,-0.07779543101787567,0.27489206194877625,0.07860814779996872,-0.051597461104393005,0.07030169665813446,-0.05506426841020584,-0.3180637061595917,0.0574495829641819,0.0746820718050003,-0.07833391427993774,0.06560586392879486,0.0031277192756533623,-0.07830707728862762,0.003857487114146352,0.058737337589263916,-0.1357673704624176,-0.07771273702383041,-0.46261295676231384,0.20586197078227997,-0.23229584097862244,-0.30466538667678833,0.06629501283168793,0.5705241560935974,0.4203178882598877,0.06834913790225983,0.5449131727218628,0.060610976070165634,0.7098764777183533,-0.04285062104463577,-0.07329320907592773,-0.0750715360045433,-0.2936036288738251,0.025961048901081085,0.006911187432706356,-0.0726664736866951,0.33413657546043396,0.0025265482254326344,-0.0725267305970192,-0.12879636883735657,-0.015027672052383423,-0.0007239480619318783,0.06811269372701645,-0.3581623435020447,0.16155432164669037,-0.04801406338810921,0.05341139808297157,-0.2123081535100937,-0.17953434586524963,0.08001527190208435,-0.5904174447059631,0.12485373765230179,0.28573617339134216,-0.05188041180372238,-0.012869884259998798,-0.031355343759059906,-0.7571578025817871,-0.25425636768341064,-0.051973238587379456,0.05810484290122986,0.2862917482852936,-0.03501953184604645,-0.14874231815338135,0.14228719472885132,0.07290125638246536,0.225284144282341,-0.6434791088104248,-0.0196123868227005,0.0798528641462326,-0.0640314444899559,0.20595340430736542,0.3659970164299011,0.07129853963851929,-0.49763286113739014,0.07957419008016586,-0.22855094075202942,0.006510499399155378,-0.07743853330612183,0.07761318981647491,0.20013529062271118,0.04506151005625725,-0.06364423781633377,0.00303590577095747,-0.4019998610019684,0.08081304281949997,-0.02568303607404232,0.01068734098225832,-0.05575620010495186,-0.04411203786730766,-0.002949030604213476,-0.06837127357721329,0.34390130639076233,-0.20770356059074402,0.5258448719978333,0.20799978077411652,0.019719954580068588,0.15212947130203247,-0.01498523447662592,0.02678198553621769,0.20878691971302032,-0.2956887483596802,0.2512708008289337,-0.01232931949198246,0.25426334142684937,0.681297779083252,-0.25993433594703674,0.04016660898923874,-0.12917105853557587,0.07375279814004898,-0.06440136581659317,-0.016348524019122124,-0.00469589326530695,-0.194619283080101,-0.0007368684164248407,0.08077547699213028,0.06336628645658493,0.4942060112953186,-0.008970342576503754,-0.05405857414007187,0.15246638655662537,-0.4078209698200226,0.30516430735588074,0.0013854586286470294,-0.1119324266910553,0.2116890251636505,-0.0249539315700531,0.0416572131216526,-0.18421845138072968,-0.11789364367723465,-0.15447098016738892,0.7975624799728394,-0.04956728219985962,-0.03037985786795616,0.04482327774167061,0.00027906394097954035,-0.14184387028217316,-0.07296344637870789,0.40381869673728943,-0.3376320004463196,-0.07000052183866501,0.02161615528166294,-0.06545884162187576,0.024136705324053764,-0.36694616079330444,-0.045716043561697006,-0.05584654584527016,-0.49227195978164673,0.4959850609302521,0.04320406913757324,0.051138024777173996,-0.06289426982402802,0.04050850123167038,0.11383869498968124,0.05189833045005798,-0.04731448367238045,-0.2951411306858063,-0.0442122183740139,-0.07456774264574051,-0.25829246640205383,-0.03451763093471527,0.053704291582107544,-0.007229263428598642,-0.07402846962213516,-0.011051701381802559,-0.05721410736441612,0.06585203856229782,-0.25702032446861267,0.07918339222669601,0.008229255676269531,0.23086769878864288,0.1132383942604065,0.10408388078212738,0.18661074340343475,-0.5789840221405029,-0.19149655103683472,0.0045454129576683044,0.019614703953266144,-0.05963347852230072,0.09360034763813019,-0.2364025115966797,0.0036563975736498833,-0.061691880226135254,0.5813841819763184,0.041552457958459854,-0.5804886817932129,0.05355789139866829,0.07697035372257233,0.029947156086564064,-0.0172733161598444,0.24258840084075928,0.07889716327190399,-0.12072418630123138,0.0478517971932888,0.05546224117279053,-0.039828069508075714,0.1018625795841217,-0.221827432513237,-0.06576833128929138,0.2621566355228424,-0.19682468473911285,-0.6451815962791443,0.024984871968626976,0.04358859732747078,0.05925822630524635,0.6261529922485352,0.08149046450853348,-0.02191249653697014,-0.28659483790397644,-0.19961248338222504,0.04283345863223076,0.08076126128435135,-0.25231632590293884,-0.014797392301261425,0.08105286210775375,0.11855360865592957,0.11828824877738953,0.12415802478790283,-0.24340729415416718,-0.26348641514778137,-0.06773588806390762,0.3666897416114807,0.07540541142225266,0.04715867340564728,0.1973385512828827,-0.5428588390350342,-0.07303838431835175,-0.013316628523170948,0.07032942026853561,-0.024685489013791084,0.27156561613082886,0.06836434453725815,0.1274368017911911,-0.06281634420156479,-0.0005176309496164322,0.013973507098853588,0.24222661554813385,0.3200613856315613,-0.07690045237541199,0.33698102831840515,-0.14234976470470428,-0.015394906513392925,0.30386531352996826,0.0067675733007490635,-0.0380287691950798,0.40071582794189453,0.08127966523170471,0.29544129967689514,-0.0670456513762474,0.0807451605796814,0.2744925618171692,0.013184871524572372,-0.7789711952209473,-0.05819922685623169,-0.0653877779841423,-0.06559699028730392,-0.07038564234972,-0.15514282882213593,0.12916018068790436,0.0008100937120616436,-0.03963237628340721,0.27538207173347473,-0.02333621308207512,0.2675483822822571,0.006140273530036211,-0.06549988687038422,0.03469983860850334,0.1883261501789093,0.03844006359577179,-0.30183783173561096,0.06108624488115311,-0.057537611573934555,-0.005686551332473755,0.11413884162902832,-0.07284527271986008,-0.07724950462579727,-0.0745105966925621,0.518283486366272,0.019874798133969307,-0.024623172357678413,0.0789765790104866,-0.050461266189813614,-0.14777429401874542,0.04216001182794571,-0.07372613251209259,-0.2195981740951538,0.1743772178888321,-0.03114444389939308,-0.21693462133407593,-0.05557531863451004,0.21010977029800415,-0.07800006866455078,-0.08326499164104462,0.12688422203063965,-0.03954511135816574,-0.01882564276456833,-0.7094172835350037,0.08045118302106857,-0.26613208651542664,0.6100940704345703,-0.42944255471229553,-0.044350169599056244,-0.016997817903757095,0.04979351535439491,0.016497336328029633,0.055805426090955734,0.07653682678937912,-0.03375712409615517,0.2515689730644226,-0.2167656570672989,0.036080121994018555,-0.4649246633052826,0.050163235515356064,-0.0015976676950231194,-0.07007227838039398,0.22498300671577454,-0.0771522969007492,-0.4767785370349884,-0.02560918964445591,0.05151400342583656,0.014773868955671787,0.0010348581708967686,0.22548390924930573,0.6857920289039612,-0.3727155327796936,0.2314222753047943,0.20554491877555847,-0.2305605411529541,-0.06555356085300446,0.0180578101426363,-0.0635923519730568,0.45590832829475403,0.08030159771442413,0.08129675686359406,-0.16736145317554474,-0.00723649887368083,-0.07868067175149918,0.21427208185195923,0.05292102321982384,-0.07801477611064911,-0.04369242861866951,0.43227311968803406,0.29917922616004944,-0.05418618395924568,0.07530482858419418,-0.537993848323822,0.16093911230564117,-0.012253685854375362,-0.2067544162273407,0.03714634105563164,0.7495457530021667,0.18197833001613617,0.0540795736014843,-0.10427764803171158,-0.6789959669113159,-0.4533103108406067,-0.07705171406269073,-0.17959895730018616,-0.37768787145614624,0.06616342812776566,0.04681837186217308,-0.07733804732561111,0.1314729005098343,0.04575960338115692,-0.11841443181037903,0.020247897133231163,0.010375654324889183,1.7537340681883506e-05,0.056410495191812515,0.2755768299102783,-0.2820538580417633,-0.003436115337535739,0.035417210310697556,0.22776682674884796,-0.0005909586325287819,0.01790117472410202,0.07886536419391632,-0.29742205142974854,-0.2361331731081009,0.35674411058425903,0.05595669150352478,0.07569462060928345,-0.03568711876869202,-0.12502562999725342,0.8169230818748474,-0.2684617340564728,-0.16208399832248688,0.17713221907615662,-0.11519230902194977,-0.08765610307455063,0.0015881415456533432,0.2101534903049469,0.24801689386367798,-0.2629139721393585,-0.34447479248046875,-0.12363720685243607,-0.1248348131775856,0.3617442548274994,-0.615597128868103,0.49332547187805176,-0.32271501421928406,0.061711590737104416,0.011978614144027233,0.008520041592419147,0.011510700918734074,-0.015765121206641197,0.11005105823278427,0.3763859272003174,0.059086188673973083,-0.056618981063365936,-0.05484114587306976,0.08421525359153748,0.06317188590765,0.029993174597620964,0.29997533559799194,0.027930399402976036,0.015362835489213467,-0.22653736174106598,-0.37601616978645325,-0.2537534832954407,-0.0941634476184845,-0.17677339911460876,-0.07496877014636993,0.0736466571688652,0.014387154951691628,0.007734776474535465,0.07075579464435577,0.38837891817092896,0.20822936296463013,0.07776792347431183,-0.1597186028957367,0.4017196297645569,-0.0958380252122879,-0.033450812101364136,0.07211967557668686,0.042339205741882324,0.15315017104148865,0.006868113297969103,-0.19118347764015198,-0.06045282259583473,0.26349636912345886,-0.03354393690824509,0.3179822266101837,0.08051886409521103,-0.35160279273986816,0.15132641792297363,0.33681008219718933,0.0323752760887146,0.19424661993980408,0.3097390830516815,-0.4936216175556183,-0.7904672622680664,0.008601002395153046,0.5404845476150513,-0.07805930078029633,-0.19317419826984406,-0.07766324281692505,0.03382553160190582,0.05868197977542877,0.07453328371047974,0.19173313677310944,-0.24785982072353363,-0.27402740716934204,0.23979860544204712,-0.4198557138442993,-0.05136867240071297,-0.12596285343170166,-0.006874562706798315,0.08090944588184357,-0.2662036716938019,-0.05457349866628647,0.06025109812617302,0.014638405293226242,0.07690952718257904,-0.24975913763046265,0.2974697947502136,0.13448432087898254,-0.5051704049110413,0.19008231163024902,0.07114111632108688,0.043939828872680664,0.15689507126808167,-0.1734647899866104,0.28387266397476196,0.4404646158218384,-0.3004026710987091,-0.21176649630069733,0.24505814909934998,-0.027854636311531067,0.15144966542720795,0.046308018267154694,0.07436194270849228,0.07863955199718475,-0.06339805573225021,-0.10916052758693695,-0.03412584587931633,0.006382668390870094,0.0054101478308439255,0.08046896755695343,-0.07788130640983582,0.012302019633352757,-0.20800669491291046,0.08979075402021408,0.05173066630959511,-0.07731181383132935,0.06567970663309097,0.47746530175209045,0.6104499101638794,-0.09055968374013901,0.33520299196243286,-0.02926374413073063,-0.1406283676624298,-0.1506306678056717,-0.27963680028915405,-0.2013636827468872,-0.05805690586566925,0.06586576253175735,0.07385636121034622,0.007503085769712925,-0.005022488534450531,0.020685000345110893,0.06142207607626915,0.4921994209289551,0.04387841001152992,-0.055089812725782394,0.7681310772895813,0.06383776664733887,0.08053983002901077,-0.15836594998836517,-0.05622073635458946,0.05152086168527603,-0.7477418184280396,0.002926311921328306,0.5183639526367188,-0.07816703617572784,-0.03181857988238335,-0.1319727748632431,0.14052803814411163,0.06322713941335678,-0.22370882332324982,-0.2756235599517822,0.15254589915275574,-0.3749030530452728,-0.02422453463077545,-0.21987348794937134,0.08112969249486923,0.00712323933839798,0.01029180083423853,0.03338554501533508,0.06590262800455093,0.12592513859272003,-0.2383912354707718,-0.4042758345603943,-0.009675989858806133,-0.05775248259305954,0.05735546350479126,0.08119508624076843,-0.5207899808883667,-0.01702922210097313,-0.012801705859601498,-0.034784186631441116,0.2847622036933899,-0.07632182538509369,0.062138255685567856,-0.07649823278188705,0.02138001285493374,0.01628047414124012,0.0743323266506195,-0.2788834571838379,-0.4531433582305908,0.0814041942358017,-0.076384536921978,-0.06665078550577164,-0.20204845070838928,-0.06937567889690399,0.5847981572151184,0.03226346895098686,0.024851694703102112,0.25588536262512207,0.07474030554294586,-0.13308990001678467,-0.1784818470478058,-0.015530170872807503,0.04148845374584198,0.2764971852302551,-0.010789915919303894,-0.04469653218984604,-0.07438069581985474,0.0016319085843861103,-0.011858722195029259,-0.22996918857097626,-0.050712019205093384,-0.07597516477108002,0.03228861466050148,0.2747827470302582,-0.6470619440078735,-0.25279638171195984,0.08111249655485153,0.030746426433324814,-0.01996511220932007,-0.39002278447151184,-0.02481866627931595,-0.055518265813589096,0.15981008112430573,-0.09130429476499557,-0.07766354829072952,-0.2447301298379898,0.010532625019550323,-0.05661590024828911,-0.42465710639953613,0.03272491693496704,0.09418703615665436,-0.3489402234554291,-0.07409973442554474,0.10214483737945557,0.25990256667137146,-0.02692040055990219,0.07250579446554184,-0.22471162676811218,0.07177569717168808,0.3542206585407257,-0.32673919200897217,0.08059827238321304,-0.081602543592453,0.23536893725395203,-0.021134495735168457,-0.004867882467806339,0.02742561511695385,-0.03494171425700188,-0.13528038561344147,0.21458019316196442,-0.29757314920425415,0.36882755160331726,0.08051886409521103,-0.2068319469690323,0.004145042505115271,-0.2524544894695282,-0.2558733820915222,-0.0004032069118693471,0.23062917590141296,-0.01912062056362629,0.00802809651941061,-0.3325781524181366,0.04088378697633743,-0.22342456877231598,0.25440746545791626,0.0632505938410759,-0.04497441649436951,0.22800634801387787,0.07431821525096893,0.0032250387594103813,-0.10007358342409134,-0.03876522555947304,0.1237197294831276,0.05488808453083038,0.23637571930885315,0.0004084168467670679,-0.004136077128350735,0.5563138723373413,-0.07787653058767319,-0.007581540383398533,0.19934915006160736,-0.06603428721427917,0.0012731309980154037,0.07193680852651596,0.0073069557547569275,0.0719543918967247,-0.07164040207862854,0.22401000559329987,0.17851966619491577,-0.01937038078904152,-0.6254960298538208,0.08059211075305939,0.078719362616539,-0.05510770156979561,0.015965119004249573,-0.054737985134124756,0.11698528379201889,-0.1180616095662117,0.2828509509563446,0.4247654378414154,-0.8160991072654724,-0.6186920404434204,-0.07386796176433563,-0.04221474379301071,-0.05740582197904587,0.06369177252054214,0.05315627157688141,-0.2656620144844055,0.11034723371267319,-0.021600620821118355,-0.0024296448100358248,-0.3294554352760315,-0.07680295407772064,0.007487183902412653,0.6527697443962097,0.21603022515773773,-0.026773706078529358,-0.07236294448375702,0.0790596604347229,0.16264161467552185,0.05058533325791359,-0.08772129565477371,0.06047124043107033,-0.04670901596546173,-0.057743243873119354,0.30606475472450256,0.4189145565032959,0.24593275785446167,-0.07158275693655014,-0.38164645433425903,-0.0740543082356453,-0.05972938612103462,0.02022027038037777,-0.02756412699818611,-0.566372811794281,0.01398106012493372,0.04434652253985405,-0.21180029213428497,-0.6953470706939697,-0.2927856743335724,-0.11659764498472214,-0.23613813519477844,0.1576136350631714,-0.03702039271593094,-0.07773460447788239,0.3969848155975342,-0.09705620259046555,-0.13363254070281982,-0.04364422336220741,0.38205891847610474,-0.005299638491123915,-0.006428275723010302,-0.07748226076364517,0.04637948051095009,-0.0030952980741858482,0.029615702107548714,-0.4290102422237396,0.0810161903500557,0.11119400709867477,0.7136760354042053,0.35460129380226135,-0.0367916040122509,0.5187546014785767,0.6333793997764587,0.06628895550966263,0.3030235171318054,-0.06039160490036011,-0.12237201631069183,0.005401024129241705,0.1820528656244278,0.07940015941858292,0.03306204080581665,-0.05705369636416435,-0.05658777058124542,-0.35788601636886597,-0.07289914041757584,-0.2952256202697754,-0.5022881627082825,-0.06563972681760788,0.053219083696603775,-0.04119155555963516,-0.004483215510845184,-0.06324857473373413,0.1329130232334137,0.21260835230350494,0.219212606549263,-0.09470947831869125,-0.0011641323799267411,-0.4974142014980316,-0.04297127574682236,0.021823078393936157,-0.23547323048114777,-0.032347422093153,0.08044043928384781,-0.2784043848514557,0.01840745098888874,0.12057910859584808,0.22715461254119873,0.01936126872897148,-0.07806248962879181,0.20051495730876923,0.13755439221858978,0.051046088337898254,-0.11580652743577957,-0.13583196699619293,-0.042983103543519974,0.04492306336760521,0.14286363124847412,-0.061319779604673386,-0.4783041179180145,0.016156239435076714,0.2484293431043625,-0.1557987928390503,0.06838790327310562,-0.5191958546638489,0.006261028349399567,0.652034342288971,-0.02002156339585781,-0.06821951270103455,0.0250854529440403,0.25026601552963257,0.024265313521027565,0.016301346942782402,0.051199741661548615,-0.2358836978673935,0.023814991116523743,-0.005540949758142233,0.06717687100172043,-0.16575336456298828,0.46317943930625916,-0.00024881932768039405,0.19541144371032715,0.1954929381608963,-0.10206430405378342,0.04826246201992035,0.025490256026387215,0.10207924246788025,-0.002094422932714224,-0.22018256783485413,-0.03416450694203377,-0.25942549109458923,-0.002676571486517787,-0.05720188096165657,0.08049172908067703,-0.1137581616640091,-0.0755942091345787,-0.06859499216079712,-0.25099846720695496,-0.07547087222337723,0.2141985446214676,0.17731010913848877,-0.5600826144218445,0.0590231753885746,0.2609640061855316,-0.14991110563278198,0.27873438596725464,0.2638571560382843,0.07557923346757889,-0.14146023988723755,-0.04926623776555061,-0.3051126301288605,0.3639446794986725,-0.06496786326169968,-0.1754167526960373,-0.40405622124671936,0.09423593431711197,-0.018017923459410667,-0.002580583794042468,-0.07417406886816025,-0.13824309408664703,0.11346300691366196,0.22396428883075714,-0.033877283334732056,-0.15293645858764648,0.03592487797141075,0.48279842734336853,-0.07773460447788239,-0.07234158366918564,0.3412606120109558,-0.20930171012878418,0.032337211072444916,-0.009208772331476212,-0.2348162829875946,-0.017891900613904,0.18259748816490173,0.28798431158065796,-0.24205662310123444,-0.008708657696843147,0.035228874534368515,0.39485597610473633,0.06724545359611511,0.07240859419107437,-0.22504854202270508,0.6834842562675476,-0.8051158785820007,0.044263336807489395,0.25214341282844543,0.032140426337718964,0.29932036995887756,0.07631668448448181,0.15165837109088898,-0.010818242095410824,-0.05825200304389,-0.08094082772731781,0.2781708538532257,-0.06341524422168732,0.5767766237258911,0.75069659948349,0.05522709712386131,0.15220598876476288,0.5715339779853821,0.11891736090183258,-0.057842131704092026,-0.06935290992259979,-0.07708262652158737,0.07475432008504868,-0.07727504521608353,-0.11581645905971527,0.124410480260849,-0.07819854468107224,-0.06716948747634888,0.0813698098063469,0.06675566732883453,-0.2343561351299286,0.214638814330101,0.0682607889175415,-0.056352026760578156,0.008809863589704037,-0.2865123748779297,-0.025922158733010292,-0.0031061412300914526,-0.2261497676372528,-0.34160250425338745,-0.1411660611629486,0.05349438264966011,0.2515391409397125,-0.02806076593697071,0.07610916346311569,-0.2823580205440521,-0.01589750498533249,-0.20190632343292236,-0.07595986127853394,-0.07251013815402985,0.06594149023294449,-0.004573856480419636,0.2407407909631729,0.10113605856895447,-0.23663607239723206,-0.019128870218992233,-0.06611976772546768,0.4317413866519928,-0.07784860581159592,0.08477678894996643,-0.2591521441936493,0.49854129552841187,0.0779876708984375,0.15262341499328613,-0.06040661036968231,0.042346660047769547,0.239925816655159,0.03979102522134781,0.06142247095704079,-0.4873075783252716,-0.11920057982206345,-0.07245229184627533,0.23427268862724304,-0.07779155671596527,-0.020529627799987793,-0.22957363724708557,0.04631487652659416,-0.06942199170589447,-0.17990805208683014,0.2960405945777893,-0.03363288938999176,-0.3752409815788269,-0.028266197070479393,0.16009433567523956,-0.07773460447788239,-0.2377839833498001,-0.04317283630371094,-0.15007807314395905,0.061173610389232635,0.24360908567905426,-0.0021135651040822268,-0.14995186030864716,0.033712033182382584,0.4665258228778839,0.2689477503299713,0.004585306625813246,0.24503827095031738,0.08889637887477875,-0.14895601570606232,0.23675736784934998,-0.2764226198196411,0.001699695480056107,0.07677267491817474,0.09694303572177887,0.6105184555053711,0.38845446705818176,-0.27524885535240173,-0.07140655070543289,0.05548957362771034,-0.01900145784020424,-0.25570642948150635,0.06862374395132065,0.045455679297447205,-0.07762716710567474,-0.27399858832359314,0.08003613352775574,0.04788877069950104,-0.6710996627807617,0.04345184192061424,-0.19119639694690704,-0.08809836208820343,-0.043224312365055084,-0.2358538955450058,0.09833325445652008,-0.008737379685044289,-0.247152179479599,0.29017379879951477,0.10730798542499542,0.15769313275814056,-0.1954759955406189,-0.3060398995876312,-0.15400385856628418,0.3108263909816742,-0.1721300333738327,0.3062655031681061,-0.5446190237998962,-0.362935870885849,0.5429960489273071,-0.2107418179512024,-0.05639128386974335,0.009097101166844368,-0.1008458212018013,-0.48010799288749695,0.11857149749994278,-0.04767565429210663,-0.2657912075519562,0.06318043172359467,0.7779445052146912,0.2620890438556671,0.0018545996863394976,0.050801198929548264,-0.03172317147254944,-0.19017371535301208,0.025782054290175438,-0.032119326293468475,0.20996664464473724,-0.15467670559883118,-0.010261178947985172,0.3968685269355774,0.5069941282272339,-0.19838008284568787,-0.025222476571798325,0.18925543129444122,-0.029442738741636276,0.040604010224342346,-0.1310117095708847,-0.010271415114402771,0.03681250289082527,-0.017061425372958183,0.5035414099693298,-0.4468074440956116,-0.065094493329525,0.08787775784730911,0.04647668078541756,-0.05057655647397041,0.08039412647485733,-0.039786625653505325,0.3022254407405853,-0.033370211720466614,-0.010409464128315449,0.04814687371253967,0.13657541573047638,-0.014746407978236675,-0.07190795242786407,-0.23238331079483032,0.2882308065891266,-0.06245030462741852,-0.2968028783798218,-0.40484336018562317,-0.007612777873873711,0.07156668603420258,0.42840996384620667,-0.22795164585113525,-0.18416379392147064,-0.04034040495753288,-0.35846146941185,0.07728710025548935,-0.016185825690627098,0.016894882544875145,-0.1372094750404358,0.43950846791267395,-0.07773460447788239,-0.062185633927583694,-0.030178995802998543,-0.07819078862667084,-0.06792661547660828,-0.019180551171302795,0.26437097787857056,0.07958044856786728,-0.06656491756439209,-0.076906219124794,-0.07441915571689606,0.05175849422812462,0.010748513974249363,0.3114336431026459,-0.06409385800361633,-0.003599924733862281,-0.008799199014902115,-0.04216902703046799,-0.056706834584474564,-0.14081919193267822,-0.043200165033340454,-0.447324275970459,-0.03324031084775925,0.07354617118835449,-0.08418172597885132,0.1366976797580719,-0.2969619035720825,0.021934792399406433,0.06668391823768616,-0.09270048141479492,0.21330901980400085,-0.11329104751348495,0.050232406705617905,0.08110087364912033,-0.5901759266853333,0.2838418483734131,0.06756408512592316,0.2891709804534912,-0.20921127498149872,0.2783636450767517,0.02605964057147503,-0.2248636931180954,-0.0388379767537117,0.2899501919746399,-0.024062033742666245,0.10211203992366791,0.014256262220442295,-0.32291775941848755,-0.27633416652679443,-0.0019183591939508915,0.022971296682953835,0.08449830859899521,0.06621818244457245,0.7920604348182678,-0.3701961040496826,0.004460605792701244,-0.20724837481975555,-0.0864989385008812,0.004197926726192236,0.13360178470611572,-0.21513770520687103,-0.03899620100855827,-0.28900596499443054,-0.07822160422801971,0.03037024661898613,0.20179805159568787,0.03690006211400032,0.014348394237458706,-0.303854376077652,-0.054692961275577545,0.22756904363632202,-0.06645847111940384,-0.19967906177043915,-0.06369840353727341,0.07693387567996979,0.05570007488131523,-0.050428371876478195,-0.10581615567207336,0.2708202004432678,-0.042996522039175034,0.24933676421642303,0.07413295656442642,0.34609976410865784,0.15612879395484924,-0.15360133349895477,0.22450296580791473,0.24194933474063873,0.0959838479757309,-0.04867051541805267,0.036979272961616516,0.8551462292671204,-0.5037978291511536,0.15106205642223358,0.3275720775127411,0.06127389147877693,0.008476410992443562,0.07387454807758331,-0.07369691133499146,-0.07306571304798126,0.0346599817276001,0.029565712437033653,-0.000998156494461,0.07816478610038757,0.006308803800493479,0.08120134472846985,-0.3059096932411194,0.2570282816886902,0.04740157350897789,-0.017355211079120636,0.0037515307776629925,-0.13335922360420227,-0.033625535666942596,0.06385814398527145,-0.0830785408616066,-0.35026606917381287,-0.29680588841438293,-0.34785690903663635,0.08051886409521103,-0.04520916938781738,0.12575319409370422,-0.017007259652018547,0.01081027276813984,0.0015651475405320525,-0.2219039499759674,0.24685406684875488,0.3323535919189453,-0.19385600090026855,0.007911586202681065,0.07205616682767868,0.3523015081882477,-0.23759117722511292,0.07690753787755966,-0.037304241210222244,-0.06583909690380096,0.05292360484600067,0.14423120021820068,0.01256976742297411,-0.0007482381770387292,-0.4390502870082855,-0.007918810471892357,-0.277815043926239,-0.2635718882083893,0.3524426221847534,0.22593313455581665,0.6404001116752625,-0.11663541197776794,0.1121431514620781,0.7295342087745667,-0.23799467086791992,-0.04594602435827255,0.07744243741035461,-0.01705586165189743,0.5333982110023499,0.08090616762638092,0.0781617984175682,0.3652317523956299,0.05901850387454033,-0.06666887551546097,-0.2634526193141937,-0.2672402560710907,-0.0369950495660305,0.08046091347932816,-0.7300102710723877,0.06711027771234512,-0.1279674917459488,0.06345543265342712,0.06441113352775574,0.0791771411895752,-0.07161655277013779,-0.03762774541974068,-0.016324171796441078,0.11660860478878021,0.017066027969121933,-0.0593871995806694,0.33555978536605835,-0.15876547992229462,-0.2262362241744995,0.15690898895263672,0.07084245979785919,-0.3524714410305023,-0.0780290886759758,0.24494683742523193,-0.4152073860168457,0.07467202842235565,-0.07106336206197739,0.012324083596467972,0.22211073338985443,0.2772316634654999,0.14745530486106873,-0.0033563377801328897,0.010956499725580215,-0.5199283361434937,0.03298332542181015,-0.03945308178663254,-0.03573501855134964,-0.29040732979774475,-0.23947952687740326,-0.22063975036144257,0.22161179780960083,-0.02281234599649906,0.07693447172641754,-0.49379652738571167,0.041055724024772644,0.21967077255249023,-0.18992723524570465,0.00902939960360527,-0.1818818747997284,-0.04735493287444115,0.21128252148628235,-0.19984006881713867,0.03726501390337944,-0.06031159684062004,-0.07815133780241013,-0.07645798474550247,0.06709010154008865,-0.24293917417526245,0.2939445376396179,-0.06993412971496582,-0.06763163954019547,-0.0498131662607193,0.13112404942512512,0.26753944158554077,0.002782409777864814,-0.045511603355407715,-0.2146129310131073,-0.174312561750412,-0.6623287796974182,-0.5971826910972595,-0.0937943309545517,-0.296129047870636,-0.1563156098127365,-0.21202091872692108,-0.011517527513206005,0.033669691532850266,-0.32239001989364624,-0.21931293606758118,-0.0722058117389679,-0.07805462926626205,0.07777737826108932,-0.005589470267295837,0.01499788649380207,0.07007012516260147,-0.05028386041522026,0.0782448872923851,0.31157079339027405,-0.47527480125427246,0.14450649917125702,0.22155912220478058,-0.21850989758968353,0.005644412245601416,-0.20054174959659576,0.056668899953365326,0.40910008549690247,0.27001020312309265,0.08938267827033997,0.031443528831005096,-0.07716760784387589,-0.2599601745605469,-0.29375964403152466,0.02585013397037983,-0.054860226809978485,0.21248212456703186,0.03773501142859459,-0.20565618574619293,-0.244153693318367,0.24759350717067719,0.5542386770248413,0.47446978092193604,0.025699960067868233,0.2523203492164612,0.2566068768501282,0.034333694726228714,0.04403971508145332,-0.04499827325344086,0.0052876234985888,-0.11555905640125275,-0.020319821313023567,-0.011810818687081337,0.4091617166996002,-0.0075113833881914616,-0.005089803133159876,-0.05782275274395943,-0.0752088874578476,0.16582199931144714,-0.0033342440146952868,-0.07682541757822037,-0.791022777557373,-0.026176489889621735,0.0288744755089283,0.1858762800693512,-0.07665377110242844,0.17431460320949554,0.06611800193786621,-0.05200902000069618,0.1335948258638382,0.009254977107048035,-0.19665075838565826,-0.3972114026546478,0.04712020605802536,-0.20874515175819397,0.0041509666480124,0.6536612510681152,0.20187853276729584,0.07257138937711716,0.6262772679328918,0.02651284635066986,0.006201724521815777,0.3088545501232147,0.1727810502052307,0.28010788559913635,0.07983338832855225,-0.04615940898656845,-0.07490496337413788,0.24428392946720123,0.035225097090005875,-0.0932256355881691,-0.032213643193244934,-0.30437713861465454,-0.7625684142112732,-0.4016013443470001,-0.041600629687309265,0.2462855875492096,0.07337532937526703,-0.006246159318834543,-0.349177747964859,0.2665684223175049,0.5002378225326538,0.06706049293279648,0.0618399977684021,0.6044618487358093,0.0650021880865097,-0.0021703944075852633,-0.4723757207393646,0.5887239575386047,-0.38223183155059814,0.5393564701080322,0.020970040932297707,-0.03660713881254196,0.07166259735822678,0.02812808007001877,0.03309553489089012,-0.4315565526485443,0.27102094888687134,0.008764672093093395,-0.29468196630477905,-0.10706445574760437,0.07397234439849854,0.07726085931062698,-0.04607333987951279,-0.15641994774341583,-0.2623891830444336,-0.0026001031510531902,0.069450244307518,0.6110809445381165,-0.10791023820638657,-0.006824680138379335,-0.15480491518974304,-0.24571405351161957,-0.074439138174057,0.058257002383470535,-0.07736379653215408,0.0057369121350348,0.23356306552886963,-0.15170007944107056,0.04420787841081619,0.0612713061273098,-0.07851200550794601,-0.07725387066602707,0.2980363070964813,0.08051886409521103,-0.4157560169696808,-0.22368893027305603,0.323855996131897,-0.07720288634300232,-0.43193718791007996,-0.07742054015398026,0.07661524415016174,-0.6876257658004761,-0.04392817243933678,-0.029355479404330254,0.07653433829545975,0.20246292650699615,-0.32472166419029236,-0.09880540519952774,0.012540846131742,-0.027143722400069237,-0.01329526025801897,0.25147753953933716,-0.07704168558120728,0.14583827555179596,0.25178661942481995,0.5860414505004883,0.005564595106989145,0.0731743723154068,-0.07773460447788239,0.07754211872816086,-0.07363052666187286,-0.21852679550647736,-0.17487609386444092,0.7760691046714783,0.04813773185014725,0.0033841372933238745,0.2663637101650238,0.3851190507411957,-0.07808812707662582,-0.048340849578380585,0.08051886409521103,0.4701574146747589,-0.05100252851843834,0.2872816324234009,0.38037431240081787,0.35990458726882935,0.08051805943250656,0.24835580587387085,-0.09197385609149933,0.010653757490217686,0.21689291298389435,0.2331148386001587,0.48677685856819153,-0.13616889715194702,0.19063492119312286,-0.25948113203048706,0.29620063304901123,-0.19118645787239075,0.044948406517505646,0.5266667604446411,0.4459080100059509,0.05298135057091713,-0.4943382143974304,0.3570372760295868,-0.06000141054391861,0.05067507550120354,-0.056696996092796326,-0.30102086067199707,-0.05027809739112854,0.14011459052562714,0.20415550470352173,-0.004950243979692459,0.027713140472769737,-0.03203882649540901,-0.4914112687110901,0.22432605922222137,-0.06691058725118637,-0.0035845099482685328,-0.012915503233671188,-0.0777740627527237,-0.12275764346122742,-0.15023113787174225,-0.07800702005624771,0.2316926121711731,0.13030213117599487,0.028908468782901764,0.14930589497089386,0.014074185863137245,-0.2873203754425049,-0.1337587684392929,0.08034065365791321,0.0010312512749806046,0.022802934050559998,-0.16403695940971375,0.12419778108596802,-0.27508190274238586,0.07898193597793579,-0.06948122382164001,-0.01221403107047081,-0.03611427918076515,-0.2587844431400299,-0.0669419914484024,0.22405174374580383,-0.06486689299345016,0.1253715455532074,-0.13112103939056396,-0.7600618600845337,-0.14114618301391602,0.04235391691327095,-0.07412279397249222,-0.033314455300569534,0.1386476457118988,0.010176780633628368,-0.12455056607723236,-0.21313504874706268,0.08074973523616791,-0.04683762043714523,-0.03378624469041824,0.2946372628211975,0.5046277642250061,0.045955393463373184,0.2075893133878708,0.36495545506477356,0.08020678162574768,-0.14742644131183624,-0.004515983629971743,-0.05214935541152954,-0.20818260312080383,0.3575441539287567,-0.019940264523029327,0.07950232923030853,0.08060512691736221,0.011194819584488869,0.2939475178718567,0.4754427969455719,-0.1988660842180252,0.4253329336643219,-0.2785097360610962,-0.06431956589221954,0.45653146505355835,0.05907515436410904,-0.2692280113697052,-0.18399284780025482,-0.0862627923488617,0.033984847366809845,-0.009841468185186386,-0.0501822866499424,-0.010601280257105827,0.23593145608901978,-0.06549640744924545,-0.05059712752699852,0.6660041809082031,0.4653570353984833,0.20004883408546448,0.05814429372549057,-0.25664958357810974,-0.07572729140520096,-0.012819693423807621,0.07644976675510406,0.06013054400682449,-0.007755586877465248,-0.050533123314380646,-0.07855325192213058,-0.06459228694438934,0.118435338139534,-0.07700221985578537,-0.3449011445045471,-0.00880545936524868,0.08039780706167221,0.07539745420217514,0.14388929307460785,0.0809817984700203,-0.16493938863277435,0.004755049478262663,-0.07804210484027863,0.09658285230398178,0.1317979097366333,0.004178864415735006,-0.20821043848991394,-0.07488776743412018,0.04337899014353752,0.07936428487300873,-0.46982941031455994,-0.1774343103170395,-0.2318187803030014,-0.2839084565639496,-0.01699940674006939,-0.00027430211775936186,0.02127038687467575,-0.5903707146644592,-0.06166951730847359,-0.05303548648953438,-0.5441578030586243,-0.01187442522495985,-0.057303253561258316,0.05947508662939072,0.5683018565177917,0.002779090078547597,0.06372268497943878,0.07487249374389648,0.21480777859687805,0.02036735974252224,-0.010951320640742779,0.6312406063079834,-0.4857213795185089,0.05574539676308632,-0.07017087191343307,0.0800684317946434,-0.5987569689750671,-0.6271905899047852,0.18434570729732513,-0.06682182848453522,-0.012997795827686787,-0.5373468399047852,-0.07393912225961685,-0.012163542211055756,0.787953794002533,-0.13216757774353027,0.037460606545209885,-0.2849470376968384,-0.14809729158878326,-0.06425794959068298,0.040257249027490616,0.3564230799674988,0.08314575254917145,0.1587744802236557,-0.24589495360851288,0.08129636198282242,-0.2598608136177063,0.20935143530368805,-0.0982041209936142,0.01127870287746191,-0.5687630772590637,-0.05144937336444855,-0.24660257995128632,0.07658214122056961,0.22460533678531647,-0.05871405452489853,0.4186631143093109,0.1303677260875702,-0.10775022953748703,-0.06690442562103271,-0.10619382560253143,-0.004013831727206707,-0.0034623537212610245,0.0626608356833458,-0.08593839406967163,-0.21016338467597961,-0.056594327092170715,0.2919011414051056,0.10471399128437042,-0.0774509608745575,-0.011165200732648373,0.17538201808929443,-0.130138099193573,0.00423732353374362,-0.4076370894908905,-0.2768082320690155,-0.013485387898981571,-0.009917002171278,-0.43849074840545654,-0.04176601022481918,-0.03967570886015892,-0.07190874963998795,-0.2121054083108902,-0.2836361229419708,0.7591256499290466,0.08761727064847946,0.08051886409521103,-0.007304688915610313,-0.06996454298496246,0.2005835473537445,0.05918656662106514,0.07899773865938187,0.04780001565814018,-0.06458692252635956,-0.14116209745407104,0.03561379760503769,0.03411862254142761,0.2742162346839905,-0.01191090140491724,-0.3280988335609436,-0.4200873076915741,-0.1912669688463211,0.0038873828016221523,-0.2954055070877075,-0.004585713148117065,-0.23540067672729492,0.16426460444927216,0.30957111716270447,0.20072267949581146,0.06960519403219223,0.1212300956249237,-0.045887384563684464,-0.5742571353912354,-0.19964130222797394,-0.30959993600845337,0.009311807341873646,0.4311927855014801,0.07053028792142868,0.04213138669729233,0.22670935094356537,-0.0752272754907608,0.05512681603431702,-0.3574676215648651,0.07538671791553497,0.03898678719997406,0.06217781454324722,-0.4727533459663391,-0.0940963625907898,0.0758437067270279,0.052200961858034134,-0.16588754951953888,0.2552184462547302,-0.11855258792638779,0.2273682802915573,-0.04465151205658913,0.17170469462871552,-0.07865313440561295,0.1533936709165573,0.21628069877624512,0.044100936502218246,0.06895330548286438,0.17045539617538452,-0.08674799650907516,0.09429367631673813,0.06698992103338242,0.15187405049800873,-0.2787482738494873,-0.024572286754846573,-0.1180427297949791,0.30098310112953186,0.03044131211936474,-0.5379779934883118,0.052975982427597046,-0.022016853094100952,0.36461156606674194,-0.06169417127966881,0.05229269713163376,-0.15275755524635315,-0.12717139720916748,0.008636850863695145,-0.04226185381412506,-0.5281963348388672,0.03519607335329056,-0.04378286749124527,0.5712437629699707,0.0075285485945641994,-0.08500216901302338,-0.07738079130649567,-0.013381925411522388,-0.03934365510940552,0.006971316412091255,0.11708665639162064,-0.24006988108158112,-0.010770238004624844,-0.035353872925043106,0.003365015145391226,0.08003345131874084,0.09782031923532486,0.01574159972369671,0.4432861804962158,0.07652867585420609,-0.07284030318260193,-0.07415230572223663,-0.009469562210142612,-0.03322848305106163,-0.06531890481710434,-0.24737879633903503,-0.07236195355653763,-0.7136044502258301,0.04268159344792366,-0.05437194183468819,-0.17429666221141815,0.030808046460151672,0.005178765393793583,-0.07679986953735352,0.7280513048171997,0.027040889486670494,-0.01689544878900051,-0.01129420567303896,-0.36337020993232727,-0.047814399003982544,0.015569857321679592,-0.3981824219226837,0.061141107231378555,0.06399519741535187,-0.07477725297212601,-0.07115281373262405,0.010217797011137009,-0.5507640838623047,-0.008624178357422352,-0.028358925133943558,-0.8276160955429077,0.27595552802085876,0.21036121249198914,0.01603628136217594,0.07437615841627121,0.2987479269504547,0.17315077781677246,-0.3864637315273285,-0.49723032116889954,0.22567671537399292,0.05257018655538559,0.07732944190502167,0.25816527009010315,-0.07527438551187515,0.3780585825443268,-0.6151270270347595,-0.01774570532143116,-0.008092219941318035,-0.45595401525497437,-0.005025390535593033,0.03039042465388775,0.08029405027627945,0.16703052818775177,0.2552124857902527,0.05955648422241211,0.32264745235443115,0.05879905819892883,-0.23892197012901306,0.15170110762119293,-0.4952923357486725,0.3676140308380127,0.23301047086715698,0.007972123101353645,0.2066938430070877,0.24184994399547577,0.04453704506158829,-0.11817789077758789,0.02868792787194252,0.27303454279899597,-0.07772983610630035,-0.07123728841543198,0.051549382507801056,0.0037178287748247385,0.1525478959083557,0.2382909059524536,-0.06658708304166794,0.07828821986913681,-0.028642376884818077,-0.04407894238829613,0.006437092088162899,0.01725068688392639,0.00419641612097621,-0.24787373840808868,-0.5558675527572632,-0.06342200934886932,-0.283349871635437,-0.13204731047153473,0.2289147526025772,-0.022649450227618217,-0.040476467460393906,0.07736541330814362,0.1742241531610489,-0.07313965260982513,0.00514007406309247,0.0648353174328804,-0.24073974788188934,-0.23867349326610565,-0.1343352049589157,0.29411745071411133,0.17367355525493622,0.012195376679301262,-0.01398609858006239,0.0033693285658955574,-0.43510663509368896,0.11997085809707642,0.06781960278749466,0.07971342653036118,-0.23463641107082367,0.1320493519306183,0.13289016485214233,-0.3350936770439148,0.18144461512565613,0.8241544365882874,-0.23785355687141418,-0.41024303436279297,-0.20252451300621033,-0.6505137085914612,0.0033146562054753304,0.4032819867134094,-0.38892555236816406,0.08156073093414307,0.20711126923561096,-0.11119397729635239,-0.3745899796485901,0.010458552278578281,0.02452888712286949,0.1297515332698822,-0.25273576378822327,0.06395823508501053,0.5541353225708008,0.06781632453203201,0.025271901860833168,0.10743221640586853,-0.16681483387947083,-0.028802985325455666,-0.0664602667093277,-0.0060062590055167675,-0.1968008279800415,0.2525976002216339,-0.08210574090480804,0.056760434061288834,0.12783733010292053,-0.26194295287132263,-0.016739513725042343,-0.024635598063468933,0.25007420778274536,0.4586712718009949,0.014986755326390266,-0.25534963607788086,0.24180123209953308,0.6702688336372375,0.3674410879611969,-0.2414841651916504,-0.038647253066301346,-0.027222735807299614,0.07723353058099747,0.3031328618526459,0.04825461283326149,-0.35920488834381104,-0.20622368156909943,0.08072052150964737,-0.02362443320453167,-0.40755459666252136,-0.023304905742406845,-0.08214619010686874,0.015399310737848282,0.02595190703868866,-0.06557115167379379,-0.3063112199306488,-0.24035413563251495,0.23931558430194855,0.26061713695526123,-0.0652674213051796,-0.3025076687335968,0.005793403834104538,-0.0766046792268753,0.017519330605864525,0.06340634077787399,0.033292219042778015,-0.10573665052652359,-0.12258868664503098,0.06765363365411758,-0.017153257504105568,-0.01269575860351324,0.05186960846185684,-0.06965018063783646,-0.07610347121953964,0.06676490604877472],\"y\":[0.027683790773153305,0.06059936061501503,-0.1445276290178299,-0.1465153694152832,-0.07460600137710571,-0.011062923818826675,-0.06601857393980026,0.06063305214047432,-0.11766038089990616,0.02169869653880596,-0.0002853149198926985,0.06457582861185074,0.06402641534805298,-0.01921890489757061,0.00881543755531311,0.08482301235198975,0.33583083748817444,0.07431713491678238,0.009390491060912609,0.060854386538267136,-0.10678943991661072,0.08813120424747467,0.08777789026498795,-0.01631074771285057,-0.07483657449483871,0.06073462963104248,-0.141846165060997,-0.025950178503990173,0.03724663332104683,-0.013706316240131855,0.08658584207296371,-0.07345768809318542,0.04292738437652588,-0.023933222517371178,-0.021724944934248924,0.03924361243844032,0.04433858022093773,-0.08252017199993134,-0.06823152303695679,-0.03071488067507744,0.04886803776025772,0.046160738915205,-0.02234223484992981,-0.0385730005800724,-0.08230947703123093,0.1728413850069046,-0.008639179170131683,0.04878146946430206,-0.06678315997123718,0.0037378633860498667,-0.0383196659386158,0.058202747255563736,0.0051390198059380054,-0.041859228163957596,0.07850658893585205,-0.008849081583321095,0.08887779712677002,-0.03646838292479515,-0.0005968926707282662,-0.019741879776120186,-0.014783273451030254,0.06911402940750122,-0.035828135907649994,-0.002059768885374069,-0.005363685544580221,-0.048128947615623474,-0.026056023314595222,0.043476399034261703,0.056730031967163086,0.181334987282753,0.011109783314168453,-0.07739081978797913,-0.05193755030632019,-0.04706878960132599,-0.0011904321145266294,0.012298150919377804,0.0015030509093776345,0.0036393709015101194,0.004155784845352173,-0.06675304472446442,0.02556222304701805,0.008645784109830856,-0.07532356679439545,0.022699283435940742,0.06334174424409866,0.04201143607497215,-0.0008451621397398412,0.03641089051961899,-0.018976598978042603,-0.06195564195513725,0.05048883706331253,0.0560234934091568,0.03840687870979309,0.00025137345073744655,0.09000832587480545,0.03885481134057045,-0.005307330284267664,0.07379286736249924,0.2518797516822815,0.006287434138357639,-0.020634273067116737,0.052925802767276764,-0.08252017199993134,-0.056497812271118164,0.05586228892207146,-0.03523698076605797,0.02193702571094036,0.03478679060935974,-0.0368807390332222,-0.012628762982785702,0.06885174661874771,-0.07531661540269852,-0.06905653327703476,0.049097321927547455,9.5931718533393e-05,0.06876517832279205,-0.08152332156896591,-0.11392442882061005,0.0809996947646141,-0.1424047201871872,-0.008026356808841228,0.0449235700070858,-0.027185656130313873,0.03503543511033058,-0.049024421721696854,0.024377480149269104,0.05477280542254448,-0.045684922486543655,0.013321338221430779,0.03617504611611366,0.02837773971259594,0.042770061641931534,-0.12098486721515656,0.09666057676076889,-0.003163757501170039,0.019772062078118324,-0.05852868780493736,0.07774945348501205,-0.040840908885002136,0.21384839713573456,0.0009459878783673048,0.014443615451455116,0.0861334279179573,0.05460086837410927,0.043916188180446625,-0.08252017199993134,0.12146475166082382,0.033176980912685394,0.008956368081271648,-0.01005225908011198,0.02932659722864628,-0.10597150027751923,0.08376702666282654,-0.008726238273084164,-0.07692667841911316,-0.03424331545829773,0.050312723964452744,-0.042985476553440094,-0.04267727583646774,-0.08252017199993134,0.0009671566658653319,0.040951576083898544,-0.022014262154698372,-0.001678620232269168,-0.033267728984355927,-0.07004135847091675,0.05417489632964134,-0.07607493549585342,0.08955273777246475,-0.08870501816272736,0.08991698175668716,0.014897912740707397,-0.045705102384090424,0.019267119467258453,0.003827708773314953,-0.034194014966487885,-0.07211396843194962,-0.001313073793426156,-0.06285618990659714,0.09011218696832657,-0.011618594639003277,-0.10097233206033707,0.0639379620552063,-0.07573702186346054,0.054612793028354645,-0.05014312267303467,-0.09008748084306717,0.0521574392914772,0.037532273679971695,0.08368860930204391,-0.06324320286512375,0.3104633092880249,0.04993853345513344,0.037461210042238235,0.019245868548750877,-0.010900527238845825,0.045114096254110336,-0.07397887110710144,-0.03913930803537369,-0.07299473881721497,0.013563147746026516,0.07456310838460922,-0.013987284153699875,0.0017509224126115441,-0.0030060294084250927,0.07882203906774521,0.07211919128894806,-0.042592305690050125,-0.08252017199993134,-0.04944105073809624,0.07141443341970444,0.0730818510055542,-0.0983365997672081,0.07595651596784592,-0.02010086551308632,-0.007334524299949408,-0.06781172007322311,-0.055600352585315704,0.11583101004362106,0.03406626358628273,-0.0664835050702095,-0.05024072155356407,0.05633198842406273,0.005112582817673683,0.02651141956448555,0.17587964236736298,0.0009923018515110016,-0.007557052653282881,-0.010635660961270332,-0.029722603037953377,0.027158532291650772,0.00048344105016440153,0.0606871172785759,0.014194551855325699,0.0602736696600914,-0.05625292658805847,-0.0988553911447525,-0.07742560654878616,-0.027681294828653336,0.022703826427459717,-0.065812848508358,0.023445438593626022,0.04923616349697113,0.022517256438732147,0.007563462946563959,-0.07454238831996918,-0.02109493315219879,-0.04981544241309166,-0.044446367770433426,0.07483851164579391,0.044890474528074265,0.04508964717388153,0.03069521300494671,-0.04413926228880882,0.03522379323840141,0.06015331298112869,-0.0061569903045892715,0.03201338276267052,-0.05824821814894676,-0.06421291828155518,-0.05123627930879593,0.03221914917230606,0.006331661716103554,0.08796870708465576,0.008899618871510029,-0.06047319248318672,0.07900580018758774,0.015069553628563881,-0.021397067233920097,-0.07901480048894882,0.011569645255804062,-0.14134228229522705,-0.09248171746730804,-0.043751854449510574,-0.03402784466743469,0.0640144944190979,-0.04049623757600784,0.016034848988056183,0.038449615240097046,0.07223875820636749,-0.0016413495177403092,0.019832856953144073,-0.06801903247833252,0.058188434690237045,0.04908599331974983,-0.012150314636528492,-0.02065981738269329,-0.028562363237142563,-0.12241007387638092,-0.01622716337442398,0.08993716537952423,-0.07561179250478745,-0.08816037327051163,-0.012377315200865269,-0.04068676009774208,0.0006319258827716112,-0.11631666868925095,0.03949237987399101,-0.05435115471482277,0.22580958902835846,-0.025078056380152702,0.003837350057438016,0.004442417528480291,-0.11088518053293228,-0.03688054531812668,0.01525510847568512,-0.01045199390500784,0.057853300124406815,0.05381670594215393,-0.04891419783234596,-0.04654213786125183,-0.0721215233206749,0.04013114050030708,0.053806569427251816,-0.04948706552386284,0.27342185378074646,0.07921262830495834,0.006329573690891266,-0.04363735765218735,-0.09872420877218246,-0.034776721149683,-0.07364293932914734,0.08304180204868317,-0.02766748145222664,0.07388778030872345,-0.015936855226755142,0.06290136277675629,0.06361029297113419,0.0560234934091568,0.04909781739115715,-0.023942362517118454,-0.013287202455103397,0.03252962604165077,0.014067833311855793,-0.08252017199993134,0.08665918558835983,-0.012132624164223671,-0.05662910267710686,-0.04271325841546059,0.018938327208161354,-0.020278267562389374,-0.1207016110420227,0.04285205155611038,-0.06828151643276215,0.05977514758706093,-0.016497891396284103,-0.07696742564439774,0.014792760834097862,0.031207898631691933,0.0495772622525692,0.07925605773925781,0.08825265616178513,0.04193878546357155,0.018781403079628944,-0.012537723407149315,0.03901532292366028,0.020884547382593155,-0.08252017199993134,-0.07459109276533127,-0.059339381754398346,-0.07516852766275406,0.06779467314481735,-0.02665950171649456,-0.06811007857322693,-0.00873806793242693,-0.028372235596179962,0.08235643804073334,0.0152651472017169,0.004948693793267012,0.08983777463436127,0.044997911900281906,0.05628030747175217,0.02411114238202572,0.008553852327167988,0.013819764368236065,0.07177083939313889,-0.060817867517471313,0.09007997810840607,-0.04395728185772896,0.037026990205049515,0.016948461532592773,-0.0021496142726391554,-0.02762494422495365,0.002392363967373967,0.015105829574167728,-0.08252017199993134,0.05548441410064697,0.009485404938459396,0.020574530586600304,0.008651946671307087,-0.03302731737494469,-0.0732528418302536,0.0057755932211875916,-0.02944571152329445,0.04112391546368599,0.008259865455329418,0.04767847806215286,0.0017667245119810104,-0.0740116685628891,0.06671523302793503,0.038872502744197845,0.017644168809056282,-0.10711642354726791,-0.07542494684457779,-0.03132700175046921,-0.0678730383515358,0.05122270807623863,-0.03691244497895241,-0.08252017199993134,-0.07990530878305435,0.037612274289131165,0.02272031269967556,0.024431616067886353,-0.03594829514622688,0.0025726528838276863,-0.01893853396177292,0.07612159848213196,0.022721128538250923,-0.047758933156728745,0.0771026462316513,-0.021979672834277153,0.06741828471422195,-0.07624489068984985,0.08998636156320572,-0.07853078842163086,-0.06643281877040863,-0.0832635909318924,-0.08252017199993134,-0.06897284835577011,-0.023517385125160217,0.205583393573761,-0.064875528216362,-0.010810479521751404,-0.05090034753084183,-0.07136906683444977,-0.02393878623843193,-0.012166912667453289,0.0334019735455513,0.07747793197631836,-0.1189921647310257,0.06058693677186966,-0.1250150203704834,-0.020057132467627525,-0.03589074686169624,-0.13397274911403656,-0.009636621922254562,0.12204517424106598,-0.05698977783322334,-0.12856709957122803,-0.021597132086753845,-0.009183220565319061,-0.03292315825819969,-0.14703814685344696,-0.012371649965643883,0.039554793387651443,0.010892821475863457,-0.006362124811857939,-0.047716885805130005,0.09023820608854294,0.08945692330598831,0.026079421862959862,0.08853431791067123,-0.043593328446149826,-0.006023217458277941,0.06347889453172684,-0.05104217305779457,-0.03630499169230461,-0.03546915203332901,-0.030983228236436844,0.08537689596414566,-0.01608811877667904,0.08639978617429733,-0.04423268139362335,-0.1094808429479599,-0.000589737668633461,-0.016351891681551933,0.047270096838474274,-0.026316316798329353,0.031070945784449577,0.043718110769987106,0.06031332537531853,0.13745270669460297,0.003775332123041153,-0.0010869690449908376,-0.0049623604863882065,-0.019170504063367844,-0.004968025255948305,-0.00012252012675162405,-0.047106850892305374,0.07777896523475647,-0.031074563041329384,0.040207866579294205,-0.1460253894329071,0.08960889279842377,0.057582274079322815,-0.06434480100870132,-0.06701692193746567,0.08223339170217514,-0.009968080557882786,-0.035739582031965256,-0.02233547903597355,-0.0044302428141236305,-0.011802662163972855,0.08419449627399445,-0.02337774634361267,-0.06175229698419571,0.025281619280576706,0.05425450578331947,0.1327527016401291,0.01699189469218254,0.0013028854737058282,-0.08363927155733109,-0.0015472295926883817,-0.08107209950685501,0.06512941420078278,-0.026387779042124748,0.04792037978768349,-0.022306358441710472,-0.11052639782428741,-0.01265380997210741,0.0009325701976194978,0.06932522356510162,-0.013082465156912804,0.09250343590974808,0.013291224837303162,-0.06122773513197899,-0.05339903384447098,0.049049220979213715,0.07113803923130035,-0.01947244256734848,-0.02737528458237648,0.004760852083563805,-0.06105559319257736,0.022544795647263527,-0.0019135702168568969,-0.03395508974790573,-0.06393712013959885,-0.0352916456758976,-0.0021682986989617348,-0.02783147059381008,0.012979547493159771,-0.07851886004209518,-0.0012537402799353004,-0.03809842839837074,0.03279828652739525,-0.021134885028004646,-0.03742458298802376,-0.026769818738102913,0.0011890889145433903,0.055798184126615524,-0.053940095007419586,0.08194457739591599,-0.08252017199993134,0.2676335871219635,0.01856653019785881,2.2982379960012622e-05,-0.02204228565096855,-0.02153531275689602,-0.05889413505792618,-0.06189154088497162,0.02303565852344036,0.05661027133464813,0.008042109198868275,0.029556527733802795,-0.05688691884279251,0.012311370112001896,-0.06981724500656128,0.050981201231479645,-0.029224971309304237,-0.03225597366690636,-0.04538596421480179,-0.05932746082544327,0.056309230625629425,-0.027897462248802185,-0.0767497718334198,-0.07944414764642715,0.023722579702734947,0.028965454548597336,0.025131406262516975,0.04224072024226189,0.042613424360752106,0.0500921867787838,0.05959217622876167,0.017714744433760643,-0.10547157377004623,0.06482966244220734,0.07176447659730911,0.04613419994711876,-0.1035524234175682,0.018483243882656097,0.012790612876415253,-0.06887426227331161,-0.0672195702791214,-0.04498375579714775,-0.03847639635205269,0.05231834948062897,-0.015387346036732197,-0.14196047186851501,-0.005578560754656792,0.0022678321693092585,-0.027669569477438927,0.0033635736908763647,0.1851087063550949,-0.0762597918510437,-0.04622697830200195,-0.04434598609805107,-0.14403268694877625,-0.03008357621729374,0.005454970058053732,0.08909446746110916,0.024416519328951836,0.06635802984237671,-0.04464533552527428,0.01804788038134575,-0.08252017199993134,0.08880694210529327,-0.07521125674247742,-0.1018906757235527,-0.011201268993318081,0.04708394408226013,0.026195453479886055,-0.08252017199993134,-0.1462569534778595,0.041970789432525635,7.446492236340418e-05,0.01615188643336296,0.007364489603787661,-0.010751644149422646,-0.009120011702179909,-0.06417842954397202,-0.03168290853500366,0.032143376767635345,0.08425045013427734,-0.07271317392587662,-0.01738481968641281,0.017109578475356102,0.051439668983221054,0.04613231122493744,0.07795350253582001,0.07967308908700943,-0.025371944531798363,-0.08252017199993134,-0.06115647032856941,0.03294571861624718,0.0889895036816597,0.08889370411634445,-0.06332340091466904,-0.05643192306160927,-0.013697966933250427,0.08423742651939392,-0.020020458847284317,0.04257466271519661,-0.049885209649801254,0.0032401341013610363,-0.07034458965063095,0.08212019503116608,0.015767250210046768,-0.05552541837096214,-0.043071448802948,-0.023788612335920334,0.029980313032865524,0.018824469298124313,-0.12838521599769592,0.08166290819644928,0.004492707550525665,0.021802853792905807,0.08402096480131149,-0.028873443603515625,-0.0028154070023447275,0.014833807945251465,0.040220487862825394,0.05825293809175491,0.08551951497793198,0.044007424265146255,-0.0225372314453125,-0.018898481503129005,-0.014979562722146511,0.010736186988651752,-0.00046023709001019597,-0.018701495602726936,0.004103607963770628,0.08804026246070862,0.05525423586368561,-0.06486102193593979,0.08153976500034332,-0.005924324970692396,-0.03786208853125572,-0.101920485496521,0.004060870967805386,-0.026664668694138527,-0.08820708096027374,0.30614200234413147,0.06448449194431305,0.003917256370186806,0.08994770050048828,-0.03300187364220619,-0.07387351244688034,0.0895022451877594,0.013197205029428005,-0.0663377046585083,-0.05233440175652504,-0.12278775125741959,0.013293013907968998,0.07525087147951126,0.052064020186662674,-0.014810404740273952,0.09754979610443115,-0.023197360336780548,0.026730375364422798,0.035274166613817215,-0.055337969213724136,-0.12331748008728027,0.0560234934091568,0.21015915274620056,0.03119645081460476,-1.2996160876355134e-05,0.06367379426956177,-0.08387979120016098,-0.061886969953775406,-0.07780326902866364,-0.05823608860373497,0.08956854045391083,0.046456217765808105,-0.026630977168679237,-0.026802320033311844,-0.03822047635912895,-0.018078243359923363,0.03049502894282341,0.017090287059545517,-0.01398300752043724,-0.05297952517867088,0.059243325144052505,0.025541571900248528,-0.02504734694957733,0.0343397781252861,-0.01696779392659664,0.0035453508608043194,0.057174988090991974,0.03019581362605095,-0.021660739555954933,-0.08252017199993134,-0.06668516248464584,0.022771965712308884,0.0702490285038948,-0.12218645960092545,-0.018406517803668976,0.0879974290728569,0.26545798778533936,0.006455597467720509,0.004765026271343231,0.1006593108177185,0.03817639499902725,-0.11544007807970047,0.04040445014834404,0.032757069915533066,0.026905423030257225,-0.0023021718952804804,0.04187805950641632,-0.052053432911634445,0.06347104907035828,-0.05237286165356636,0.05969454348087311,-0.09728806465864182,0.0008793993620201945,0.0033919974230229855,-0.02675938606262207,0.017111286520957947,0.033986110240221024,-0.04685391113162041,-0.07451356947422028,-0.07054922729730606,0.022285813465714455,0.08895452320575714,-0.06361768394708633,-0.04047546163201332,0.04781721904873848,-0.017333436757326126,-0.051322344690561295,-0.008291122503578663,0.0484759546816349,0.0805085301399231,-0.030390780419111252,0.018866151571273804,-0.049392156302928925,-0.10540100932121277,0.05858469009399414,-0.0004064682871103287,0.08949717879295349,0.12830117344856262,0.020995384082198143,0.038194090127944946,0.23197059333324432,-0.08252017199993134,0.007789467461407185,0.0025459176395088434,-0.00745269563049078,0.04280126467347145,0.012796476483345032,0.08032049238681793,0.02356903813779354,0.03139583766460419,0.05240938812494278,-0.08950507640838623,0.060663267970085144,-0.04157865792512894,0.0560234934091568,0.05133720487356186,-0.00908532366156578,0.08385389298200607,0.06405802071094513,0.06448996067047119,0.014290758408606052,0.03585263714194298,0.006990695837885141,-0.0015789336757734418,-0.04102597013115883,-0.08117447793483734,-0.060706451535224915,0.0560234934091568,-0.01715046539902687,-0.03677022084593773,-0.030022254213690758,-0.02948307991027832,-0.041783299297094345,0.24987711012363434,0.006270936224609613,-0.023595701903104782,0.08823307603597641,-0.00846147257834673,-0.07734211534261703,0.01890963315963745,-0.02515239641070366,0.08854704350233078,-0.008920443244278431,0.06119468808174133,-0.07856854796409607,0.012505472637712955,-0.09198179841041565,-0.11560505628585815,0.07220415771007538,-0.04557381197810173,-0.04060178995132446,0.05682912468910217,0.07787775993347168,0.05215287208557129,-0.04471232742071152,0.008928242139518261,0.08875446021556854,-0.05092718452215195,-0.03843117505311966,0.0522289015352726,0.014483270235359669,0.20139721035957336,0.04321083799004555,-0.07351870834827423,-0.06874704360961914,0.087811179459095,-0.04073973372578621,-0.07294405251741409,-0.05359929800033569,-0.05823499336838722,0.056108567863702774,0.06125074252486229,0.15218284726142883,0.04680069535970688,0.05510525405406952,0.023900074884295464,0.33548593521118164,0.05479307845234871,-0.003463209606707096,-0.03677022084593773,-0.08252017199993134,-0.07246182858943939,-0.03677022084593773,0.03121919184923172,-0.006702227983623743,-0.06292645633220673,-0.018643751740455627,0.15390223264694214,-0.05025701969861984,-0.013686041347682476,0.0485917404294014,-0.012395501136779785,0.04738806560635567,-0.0320347361266613,-0.06288282573223114,-0.03530178219079971,-0.004317538347095251,0.03445960953831673,0.06481286883354187,-0.11263437569141388,-0.03403490036725998,-0.05637110024690628,-0.015269570983946323,0.03455240651965141,-0.005611056927591562,0.058059532195329666,-0.06487880647182465,0.014949294738471508,0.053258150815963745,-0.03774958476424217,0.0176383163779974,-0.023680876940488815,-0.025118308141827583,-0.07712545245885849,0.033602405339479446,-0.07417763769626617,0.04607357829809189,-0.10226038098335266,0.08206850290298462,0.03966342657804489,0.04031152278184891,0.0166042260825634,-0.0107680419459939,-0.025066429749131203,0.005898234900087118,-0.11471156775951385,-0.06650259345769882,-0.08252017199993134,-0.011811107397079468,0.07317566871643066,-0.03578490391373634,-0.10161039978265762,-0.11747153848409653,0.0891835168004036,0.08277872204780579,0.016419196501374245,0.05407640337944031,0.026421457529067993,-0.041194431483745575,0.03691041097044945,0.0578065924346447,0.0782964825630188,-0.014085772447288036,0.08431167155504227,-0.03971157968044281,0.035647548735141754,-0.006568551063537598,0.06740159541368484,-0.04884284734725952,-0.015215504914522171,-0.12248560041189194,-0.06686615198850632,0.026610298082232475,0.05030745640397072,0.003184378845617175,0.03912574052810669,0.034161608666181564,-0.14622515439987183,0.0633271262049675,0.04616183415055275,-0.0057274396531283855,0.04062538594007492,0.0234775822609663,-0.1401178389787674,-0.13429278135299683,0.0124103594571352,0.046050023287534714,0.007776249665766954,0.05486901476979256,-0.01436962466686964,-0.030204031616449356,-0.03911516070365906,0.05825293809175491,0.1560579240322113,0.007270867470651865,-0.07119574397802353,0.04254136607050896,-0.023200243711471558,-0.0037830364890396595,-0.03677022084593773,-0.05643261969089508,-0.09129702299833298,-0.050843797624111176,-0.02287067472934723,-0.01680549420416355,-0.03649154305458069,8.947280002757907e-05,-0.045039307326078415,-0.02469005063176155,-0.07767705619335175,-0.041483741253614426,-0.0322941392660141,0.04730507731437683,-0.12794990837574005,-0.07387053966522217,-0.03358219191431999,0.02204444445669651,0.01660381816327572,0.030154090374708176,-0.07934078574180603,0.009749078191816807,0.030321747064590454,-0.11541523039340973,-0.04594144597649574,-0.08252017199993134,-0.015942320227622986,0.06529270857572556,-0.05997317656874657,0.014100234024226665,0.03592002019286156,0.03649705648422241,-0.06153692677617073,0.017289666458964348,0.08809591829776764,-0.042460713535547256,0.07658811658620834,-0.03157954663038254,-0.016778262332081795,-0.003381315153092146,-0.06815996766090393,0.0008781072101555765,0.08485183864831924,-0.03911516070365906,-0.011037084273993969,-0.1051863431930542,0.028080932796001434,-0.04249033331871033,-0.02480335347354412,-0.013633763417601585,-0.05496029555797577,-0.04370742291212082,-0.06922499090433121,0.00783896166831255,-0.004690935835242271,0.08981899172067642,-0.008114811964333057,-0.05963704362511635,-0.015912899747490883,-0.0240598376840353,-0.03896050900220871,0.09008445590734482,-0.008412177674472332,-0.05833498388528824,0.02776871807873249,-0.004169751424342394,0.06620736420154572,-0.06961309909820557,0.06808707118034363,-0.043027617037296295,-0.006971066351979971,0.05184566602110863,-0.06274745613336563,-0.0018070266814902425,-0.04885755106806755,0.023755308240652084,0.02580936998128891,0.03836493566632271,0.07079853117465973,-0.01941400207579136,0.0464240126311779,0.07687186449766159,-0.02199716307222843,-0.07287666946649551,-0.07604313641786575,-0.04193495959043503,-0.01827174797654152,0.0429559089243412,-0.040563423186540604,-0.03295446187257767,-0.010584178380668163,-0.13723263144493103,-0.015037105418741703,-0.005007582250982523,-0.08889186382293701,0.029490763321518898,-0.00555252144113183,0.029718657955527306,-0.06717951595783234,0.049863990396261215,-0.08252017199993134,0.04519032686948776,0.024718834087252617,-0.03677022084593773,0.07274752110242844,-0.12554970383644104,-0.04527614265680313,0.05335187166929245,-0.0845029428601265,0.013121869415044785,-0.048717908561229706,0.08313661813735962,-0.031217381358146667,0.017147833481431007,-0.02156970091164112,-0.044445574283599854,-0.12191116064786911,-0.08252017199993134,0.014528391882777214,0.028922786936163902,-0.0904303714632988,0.08636171370744705,-0.032076481729745865,0.08275905251502991,-0.04908355697989464,0.044046979397535324,0.07185780256986618,0.02055404894053936,0.08841505646705627,-0.0015279491199180484,0.004776854068040848,-0.017959872260689735,-0.051586419343948364,0.07643815129995346,0.07005909830331802,-0.0019288761541247368,-0.06615801900625229,-0.04262341558933258,0.01647046208381653,0.0560234934091568,0.062246501445770264,-0.12225502729415894,0.08717132359743118,0.04082704707980156,-0.014449531212449074,-0.08556836098432541,0.05733202025294304,-0.05409761890769005,0.0021147767547518015,0.10308753699064255,-0.02147071249783039,0.0076551963575184345,-0.02062642015516758,0.051016584038734436,0.07869819551706314,-0.023430321365594864,0.03255441412329674,0.031373441219329834,0.07934749126434326,-0.02084049955010414,0.016208896413445473,-0.05177127569913864,0.02465500682592392,-0.08252017199993134,-0.049733150750398636,-0.034915369004011154,0.08822005987167358,-0.01755506917834282,-0.007785941939800978,-0.037319835275411606,-0.006995813455432653,0.03282247856259346,0.06827013194561005,0.08925189077854156,-0.008763310499489307,0.05467192828655243,-0.05758232623338699,0.08885762840509415,0.07784973829984665,0.026562446728348732,-0.015442605130374432,0.0768941268324852,0.004870177712291479,-0.06831450760364532,-0.02858949452638626,-0.01248773280531168,-0.08384499698877335,-0.008698214776813984,-0.0732024610042572,0.02540709264576435,-0.014084084890782833,-0.02235654927790165,0.04942739009857178,0.042191032320261,0.0031550591811537743,0.0344841368496418,-0.11952288448810577,-0.04005306959152222,-0.042590122669935226,-0.02556058019399643,-0.043649882078170776,0.08732795715332031,-0.026502368971705437,0.009552789852023125,-0.013232936151325703,-0.08252017199993134,-0.03954162076115608,0.03601125627756119,-0.01038808561861515,-0.027922609820961952,-0.07941135764122009,-0.07345350831747055,0.04474010318517685,0.05573884770274162,0.05508756637573242,-0.005597839131951332,0.2777591049671173,-0.10702300816774368,0.03137800097465515,0.08985456824302673,-0.05390143394470215,-0.04152737930417061,-0.06563355028629303,-0.09066690504550934,0.012135951779782772,0.08284412324428558,-0.08256489038467407,-0.030883442610502243,-0.07392320781946182,-0.08338980376720428,-0.02715235948562622,-0.042122405022382736,0.05084623396396637,-0.02247273176908493,0.05531257763504982,-0.060887034982442856,0.06789196282625198,-0.05665494501590729,-0.00899259652942419,-0.02941788360476494,0.07708296924829483,-0.014623853377997875,0.042606864124536514,-0.00970539916306734,-0.12028220295906067,-0.008053588680922985,0.0599411241710186,-0.12729394435882568,0.038639042526483536,0.039656862616539,0.0696353167295456,0.06406071037054062,0.02083706296980381,-0.01955423690378666,0.009352028369903564,-0.0485222227871418,-0.08052746206521988,0.014136211015284061,-0.038762930780649185,-0.02345179207623005,0.08262209594249725,-0.02456601895391941,-0.07144202291965485,-0.017970111221075058,0.08966036885976791,0.009792707860469818,-0.014474177733063698,-0.021050406619906425,-0.06121838837862015,0.08838772773742676,0.1626095175743103,-0.13037791848182678,-0.06733714789152145,0.059557586908340454,-0.060413558036088943,-0.009511197917163372,-0.042938366532325745,0.014236493036150932,-0.0015426588943228126,-0.0607539564371109,0.03487163409590721,0.08842002600431442,0.09853044897317886,-0.08436180651187897,-0.0829167291522026,0.055170055478811264,0.012915940023958683,-0.06065516546368599,0.16246241331100464,-0.05072323605418205,-0.008690757676959038,0.0007205791189335287,-0.0658532977104187,0.0803682953119278,-0.06706919521093369,-0.07546569406986237,-0.1398186832666397,0.06964575499296188,0.0560234934091568,0.004874154459685087,0.08170435577630997,-0.024390099570155144,-0.09617691487073898,-0.0004808097437489778,-0.06099815294146538,0.03647032380104065,-0.11863237619400024,-0.04459703341126442,0.04266500845551491,-0.034743525087833405,0.0011253808625042439,0.03205928951501846,-0.08070238679647446,0.02628631703555584,0.0017550969496369362,-0.02132550999522209,-0.006096562836319208,-0.04400746896862984,-0.020428244024515152,0.006601894274353981,-0.08564688265323639,0.08052154630422592,0.01866777613759041,0.04328448697924614,-0.03644801303744316,-0.048129644244909286,0.06013164669275284,0.05866280943155289,-0.010691316798329353,0.04175402596592903,0.08020719885826111,-0.07470936328172684,-0.051005106419324875,0.07956445962190628,0.03794234246015549,-0.007432620972394943,0.051505859941244125,-0.024000506848096848,-0.08708500862121582,0.027475597336888313,0.006383640691637993,0.0010875158477574587,-0.021283168345689774,0.01772289350628853,-0.02602243237197399,-0.0047024632804095745,-0.08252017199993134,-0.1203567385673523,-0.06607333570718765,-0.04419213533401489,-0.019308552145957947,-0.11823483556509018,0.015532098710536957,0.08389285206794739,-0.07937060296535492,-0.06733246892690659,-0.10447870194911957,0.060551851987838745,-0.07651621103286743,-0.02812664769589901,0.08755754679441452,-0.021029535681009293,0.013171662576496601,0.07988806068897247,-0.0956849530339241,0.04608102887868881,-0.05031982809305191,0.044638730585575104,-0.05589443817734718,-0.02734367921948433,0.0008075422374531627,-0.06782633066177368,0.003353734267875552,0.012980541214346886,-0.012971150688827038,-0.040691230446100235,-0.08688126504421234,-0.04965841397643089,0.045221634209156036,-0.035573408007621765,-0.004005960654467344,-0.0458206869661808,0.006945375818759203,0.3082609176635742,-0.034323617815971375,-0.0392380952835083,-0.03852340579032898,0.04202426224946976,0.03798965364694595,-0.058102015405893326,-0.10142155736684799,-0.03721865266561508,0.05931796878576279,0.05697561800479889,-0.08252017199993134,-0.012755283154547215,-0.10847106575965881,0.03987541422247887,0.014139987528324127,-0.06393592804670334,0.03442344069480896,0.05791104584932327,0.04950610175728798,0.0321698859333992,0.02950194478034973,0.009269535541534424,0.010847202502191067,-0.03174035623669624,-0.025359323248267174,-0.023976951837539673,-0.077076755464077,-0.004039752762764692,0.0312541127204895,-0.0013562091626226902,0.06587202847003937,-0.01497588213533163,-0.007045607548207045,0.022314198315143585,-0.09867251664400101,-0.10630641877651215,0.08743181824684143,0.06598155945539474,0.0001705712202237919,-0.0782773494720459,0.057438164949417114,-0.01691710390150547,0.0629103034734726,0.018949538469314575,0.010455221869051456,0.08750636875629425,-0.024948954582214355,-0.04239611327648163,0.08322279155254364,-0.06904739141464233,0.07522890716791153,-0.07713937014341354,-0.09547127038240433,0.05686698853969574,-0.07550246268510818,-0.0006646752008236945,0.06924313306808472,0.18801476061344147,0.0633455216884613,-0.018670586869120598,-0.015098625794053078,0.09526301175355911,0.02515271119773388,0.05143638700246811,0.08588863909244537,0.07766775786876678,-0.03566901758313179,0.025698861107230186,-0.0017564401496201754,0.055901940912008286,0.0687323808670044,0.0460221953690052,0.13445420563220978,0.048601679503917694,-0.0025383159518241882,-0.0030549278017133474,-0.038574691861867905,0.0560234934091568,0.042319733649492264,0.04708424210548401,0.044522546231746674,0.029032470658421516,0.08710314333438873,0.24513040482997894,-0.08666857331991196,-0.0056120529770851135,0.004800508730113506,-0.005968950688838959,-0.06000736355781555,0.031273506581783295,-0.019191870465874672,0.082780621945858,-0.05881432443857193,-0.04790075868368149,-0.07646254450082779,0.05018829181790352,-0.0012384343426674604,-0.06343690305948257,-0.016598772257566452,-0.07041028141975403,-0.12948940694332123,-0.00600463105365634,-0.023671336472034454,0.011928532272577286,0.05437555909156799,0.037268996238708496,0.029925718903541565,-0.043502990156412125,0.008095081895589828,0.024838637560606003,0.026972051709890366,0.016192475333809853,0.019066039472818375,0.08289600163698196,0.07971164584159851,-0.03279177099466324,-0.08026210218667984,-0.07370158284902573,0.021054372191429138,-0.1171952486038208,0.03899196907877922,-0.009416681714355946,-0.04380263760685921,0.04311830922961235,-0.03207101300358772,0.04050135612487793,-0.041697222739458084,-0.11975246667861938,0.07306873053312302,-0.018646832555532455,0.028742391616106033,-0.02906038984656334,-0.07638005912303925,-0.0868564248085022,-0.011013925075531006,-0.02030540443956852,0.0655226856470108,0.02241118997335434,0.17465221881866455,-0.11727674305438995,-0.019581368193030357,-0.013908865861594677,-0.048525892198085785,0.008656815625727177,-0.004493154585361481,-0.10638095438480377,-0.019195150583982468,0.011139399372041225,-0.042829640209674835,-0.011910195462405682,0.011827554553747177,0.0024040916468948126,0.021730568259954453,-0.061274245381355286,0.0462067537009716,0.07621939480304718,0.0253278985619545,0.034953292459249496,0.0008418306242674589,-0.00972815789282322,-0.008463360369205475,0.08908700942993164,0.04458456486463547,-0.055865418165922165,-0.0356292650103569,0.02446344867348671,-0.13622982800006866,-0.10557592660188675,0.026677841320633888,-0.08252017199993134,0.044482000172138214,-0.01207259576767683,0.031741656363010406,-0.0221913680434227,-0.015591484494507313,-0.00518131023272872,0.04882877692580223,0.07489893585443497,0.0903419703245163,0.0031586375553160906,-0.003087029792368412,0.013738663867115974,-0.05829412862658501,-0.0017438166541978717,0.024791833013296127,0.06966453045606613,-0.026845157146453857,0.016148189082741737,-0.004650584422051907,0.0027945833280682564,-0.07193100452423096,-0.03677022084593773,0.08926063776016235,-0.059677496552467346,-0.007979746907949448,0.0268496572971344,-0.12608739733695984,-0.008093345910310745,-0.02376873604953289,-0.016148250550031662,-0.013438370078802109,-0.06311538815498352,0.030969202518463135,0.005995435174554586,0.07041122764348984,0.02038620412349701,-0.0023121112026274204,0.06129487231373787,0.072548046708107,-0.050937023013830185,-0.07169803977012634,-0.056385207921266556,-0.03582445904612541,0.05118315666913986,0.11490373313426971,-0.018832985311746597,0.07118286192417145,0.0280416551977396,-0.020759202539920807,0.050114747136831284,0.07596675306558609,0.02768702059984207,0.017501143738627434,-0.1264461725950241,-0.030698878690600395,0.014708083122968674,-0.02634921297430992,-0.10791847854852676,0.0221120472997427,-0.016918396577239037,0.08894597738981247,-0.06939335912466049,-0.09071759134531021,0.0013563561951741576,-0.07706582546234131,-0.07351979613304138,-0.0030328647699207067,-0.009885985404253006,-0.01910749077796936,-0.012093963101506233,0.036173753440380096,-0.08252017199993134,-0.054497454315423965,-0.023380231112241745,0.05006147176027298,-0.008084400556981564,-0.04622548818588257,-0.007078603841364384,-0.030764872208237648,0.051105134189128876,-0.009824962355196476,-0.08252017199993134,-0.008633510209619999,-0.06828539073467255,-0.09172836691141129,-0.06701065599918365,-0.02767891064286232,-0.039326947182416916,0.0006294415215961635,-0.05947495251893997,0.08211352676153183,-0.0038172248750925064,0.014073796570301056,-0.06235398352146149,-0.004522772505879402,-0.012147333472967148,0.02170337736606598,-0.036497410386800766,0.15197908878326416,-0.08252017199993134,-0.10863903909921646,-0.008611447177827358,0.08815018832683563,-0.008346381597220898,0.01693217270076275,0.07602588832378387,0.00932658463716507,0.008933806791901588,-0.08088724315166473,0.020611265674233437,-0.009535745717585087,-0.004857108928263187,0.006267855875194073,0.06476466357707977,0.058516014367341995,-0.0026144455187022686,-0.01294541172683239,0.083395816385746,0.08907925337553024,0.07042483985424042,0.08900938928127289,0.003040764480829239,0.02433682046830654,0.016749311238527298,0.034070707857608795,0.025346241891384125,-0.032969970256090164,0.06376542150974274,-0.11583563685417175,0.044223591685295105,0.061535388231277466,-0.02211145870387554,-0.07538717985153198,0.0892711728811264,0.06349628418684006,0.004859046544879675,-0.040305815637111664,-0.015836074948310852,-0.006303188856691122,-0.00020043815311510116,-0.07603120803833008,-0.001902736839838326,0.03857722133398056,-0.12655849754810333,0.0022997362539172173,-0.03220200538635254,0.28106173872947693,0.0011802436783909798,-0.048853080719709396,-0.019982097670435905,0.08985636383295059,-0.035057391971349716,-0.012273954227566719,0.032917849719524384,0.02593425288796425,0.008242473006248474,-0.033026620745658875,-0.017624542117118835,0.0082804374396801,-0.07459109276533127,-0.08252017199993134,0.032734211534261703,0.03626886382699013,-0.07808155566453934,-0.04309798777103424,0.03137511759996414,-0.0754915326833725,0.0638265535235405,-0.05094417929649353,0.02327076718211174,-0.08252017199993134,0.05977723374962807,0.040250103920698166,-0.07636116445064545,-0.013157302513718605,-0.02357850782573223,0.03452400118112564,0.0153621481731534,-0.05466482788324356,-0.02990875393152237,0.023367520421743393,0.030987966805696487,0.04004596173763275,-0.027610434219241142,0.05025746300816536,0.08878885209560394,0.020089851692318916,0.03435150906443596,-0.07544084638357162,0.05719009414315224,-0.1318736970424652,-0.0481053926050663,-0.004939501639455557,-0.05673554539680481,-0.06386963278055191,0.08028391748666763,-0.0038627446629107,0.04017317667603493,-0.042422354221343994,-0.011567807756364346,0.008654330857098103,-0.01790192909538746,-0.07531264424324036,-0.047162510454654694,0.08920318633317947,0.03501863032579422,0.06925048679113388,-0.01352821383625269,0.03480122238397598,-0.031321339309215546,0.02423563413321972,0.012551289051771164,-0.020094403997063637,-0.04213134944438934,0.05012219771742821,-0.04654869809746742,0.08961544930934906,0.08966623246669769,0.05935732647776604,-0.059178777039051056,-0.03972041979432106,-0.05107526481151581,-0.037780292332172394,-0.030532605946063995,-0.0030759982764720917,0.07491832226514816,-0.0334620326757431,0.050448887050151825,0.061604857444763184,0.011157489381730556,0.005083560943603516,0.01851942017674446,-0.011474383994936943,0.02308264747262001,-0.06345827132463455,0.05396290123462677,-0.02603226900100708,-0.0312382522970438,-0.1094907745718956,0.054629988968372345,0.046333275735378265,-0.04311726987361908,0.10119988024234772,-0.030369313433766365,-0.01218221802264452,0.06466169655323029,-0.01197658758610487,-0.058287374675273895,0.05387474596500397,-0.1297319084405899,-0.08252017199993134,-0.0690646842122078,0.0648038238286972,0.08888893574476242,-0.007817546837031841,0.0018209894187748432,-0.023790404200553894,0.13509823381900787,-0.04455012455582619,0.20523352921009064,0.057470861822366714,0.054491546005010605,-0.06988850235939026,-0.05940498411655426,0.05025826394557953,-0.1322791874408722,0.07257616519927979,0.022504910826683044,-0.10221367329359055,0.01087662111967802,0.11132212728261948,0.0029358111787587404,-0.012154391035437584,0.02812356688082218,-0.04712613299489021,0.015501786023378372,0.0684230849146843,0.005103239323943853,-0.016094880178570747,-0.08252017199993134,0.06142536550760269,0.025142962113022804,0.046674568206071854,-0.05597543343901634,0.07113426178693771,0.05262823775410652,-0.0029411311261355877,-0.02184549905359745,-0.03267836570739746,-0.0611918568611145,-0.01813519187271595,0.005577513948082924,-0.06796188652515411,-0.011591263115406036,-0.06340480595827103,-0.03818240761756897,-0.03612729161977768,-0.03677022084593773,0.033551134169101715,0.05449024960398674,-0.040550798177719116,-0.018022384494543076,-0.07170509546995163,0.033842507749795914,-0.01685747317969799,0.08069965243339539,0.016972990706562996,0.07041599601507187,0.016676679253578186,-0.0070149959065020084,-0.044208232313394547,0.0424831286072731,-0.12369812279939651,-0.1382354497909546,-0.08245954662561417,-0.06299751251935959,0.01586971804499626,-0.06864050030708313,0.07635405659675598,0.034390028566122055,0.1949489861726761,-0.05911993980407715,-0.004183267243206501,-0.06237604841589928,0.07935623824596405,0.1659339964389801,-0.05308208987116814,-0.006755598820745945,0.08899378776550293,-0.0811973363161087,-0.07747728377580643,0.023787301033735275,-0.014075935818254948,-0.08252017199993134,0.02305525727570057,0.03497154265642166,-0.02395438775420189,-0.06578938663005829,0.024028779938817024,0.08238982409238815,-0.03932784125208855,-0.12392770498991013,-0.06437094509601593,0.04169657826423645,0.039971623569726944,-0.055581070482730865,0.04628089815378189,0.08497269451618195,0.23768235743045807,-0.007761094719171524,0.04750296100974083,0.08684126287698746,-0.07460898160934448,-0.07840654999017715,-0.007662402465939522,0.045906707644462585,0.0016571005107834935,-0.0009119487949647009,0.016322335228323936,0.05933704972267151,-0.019633445888757706,0.04323439300060272,0.08280505985021591,0.02118869312107563,0.0891912654042244,-0.07023635506629944,0.058865856379270554,-0.10228025913238525,0.058854423463344574,-0.06024609133601189,0.031342267990112305,-0.04140830785036087,-0.0013768818462267518,0.00953609123826027,0.008067948743700981,-0.042113758623600006,-0.057158537209033966,-0.020149167627096176,-0.01578916423022747,0.03009699285030365,0.013097718358039856,0.039575766772031784,0.0854571983218193,0.05576091259717941,0.020705167204141617,0.17879267036914825,-0.08252017199993134,-0.0026492320466786623,-0.006697159260511398,-0.021522095426917076,-0.050834059715270996,-0.009749824181199074,0.06502058357000351,-0.005146127659827471,-0.11550269275903702,0.01125657744705677,0.008567368611693382,-0.04025909677147865,0.07910916954278946,-0.10570314526557922,0.0587671659886837,-0.06330511718988419,-0.05202808976173401,0.08602380007505417,-0.12544038891792297,0.01803119294345379,0.029141081497073174,-0.030064890161156654,0.08989879488945007,-0.06047338992357254,-0.020435599610209465,0.04439403861761093,-0.03541896119713783,-0.060833267867565155,-0.04398680478334427,0.018969900906085968,0.08865368366241455,-0.07733118534088135,-0.03688621148467064,0.019954824820160866,0.05575961992144585,-0.11408542841672897,0.04473603144288063,-0.11401884257793427,0.08763834834098816,0.07879410684108734,0.03230419382452965,0.05060800164937973,0.028155919164419174,0.03255409374833107,-0.043727003037929535,-0.014559749513864517,0.06253133714199066,-0.04687865823507309,-0.07568931579589844,0.055605966597795486,-0.07592486590147018,0.08869800716638565,0.08279343694448471,0.010255653411149979,-0.04056839272379875,-0.03970879316329956,0.024822533130645752,-0.1251879334449768,-0.02905372902750969,0.05045991763472557,0.0011999221751466393,-0.001575455185957253,0.05753934010863304,-0.08877061307430267,0.01941734179854393,-0.10601620376110077,0.043337851762771606,0.14955207705497742,-0.0013415992725640535,0.01846339739859104,-0.04050607234239578,-0.01436783280223608,-0.03677022084593773,-0.0018163698259741068,0.08927862346172333,-0.0725477933883667,0.03803735598921776,-0.021550122648477554,0.059396084398031235,0.019781652837991714,0.05092107132077217,0.0877186506986618,-0.03593438118696213,-0.013901513069868088,0.08395219594240189,0.05084215849637985,0.15671785175800323,-0.09828690439462662,-0.037869442254304886,0.028032708913087845,0.028349105268716812,-0.04876571521162987,-0.03779052570462227,-0.07589206844568253,-0.06879524886608124,-0.10086598247289658,0.02169141173362732,0.08886199444532394,0.06182042509317398,-0.025671394541859627,0.04037543013691902,0.014459020458161831,-0.017685962840914726,0.0728485956788063,0.08536934107542038,-0.06513462960720062,-0.014618984423577785,0.07479070872068405,-0.0014499310636892915,-0.055942438542842865,0.00041923875687643886,0.004133026115596294,0.019803887233138084,0.06850340217351913,-0.05591341853141785,0.08882402628660202,0.011517169885337353,-0.03853672370314598,-0.014737055636942387,-0.04628561809659004,-0.015032037161290646,-0.12754838168621063,-0.023443343117833138,-0.06044655665755272,0.25908032059669495,-0.03557867184281349,0.08862893283367157,-0.0670221820473671,-0.06937108933925629,0.03980981931090355,-0.12422586977481842,0.020775463432073593,-0.03131318837404251,-0.0753474235534668,-0.045176658779382706,-0.011765689589083195,-0.012773173861205578,0.05485520139336586],\"z\":[0.1330575942993164,0.27347129583358765,-0.03440089523792267,-0.03248044103384018,0.2936328947544098,-0.21955499053001404,-0.6458629369735718,0.7591886520385742,-0.3371962308883667,0.04526590183377266,-0.9998927712440491,0.931614875793457,0.9294483065605164,-0.2613570988178253,-0.060483481734991074,0.08095402270555496,0.8929980993270874,0.4791623055934906,-0.01950482651591301,0.2603492736816406,-0.3227573037147522,-0.48608267307281494,-0.7483934164047241,0.616086483001709,-0.503102719783783,-0.042186859995126724,-0.8611606955528259,0.08508752286434174,0.09692052006721497,-0.06143083795905113,0.30442532896995544,-0.13528190553188324,0.9102586507797241,-0.8147172331809998,0.4915737211704254,-0.3066655993461609,-0.42067721486091614,-0.07004896551370621,-0.17615176737308502,0.35158440470695496,0.7695894837379456,0.8682906031608582,0.0578550361096859,-0.8758231997489929,-0.24628904461860657,0.8396363854408264,-0.03306026756763458,0.15041549503803253,0.10940352082252502,0.06197253614664078,-0.28906315565109253,-0.09636521339416504,-0.6242741346359253,-0.1743091344833374,0.6273887753486633,0.7808639407157898,-0.3081454336643219,0.05018923431634903,-0.5524293780326843,-0.2900828719139099,0.206339493393898,0.2037186473608017,-0.5486357808113098,-0.9108928442001343,-0.1432696282863617,0.4708028733730316,-0.688804030418396,0.7382985353469849,-0.18131192028522491,0.6997563242912292,-0.4972109794616699,-0.7911317348480225,-0.39635226130485535,-0.16508404910564423,-0.3533942997455597,-0.04279709607362747,-0.12718386948108673,-0.126620352268219,0.009657089598476887,-0.197174072265625,0.030274393036961555,-0.07325231283903122,-0.15957404673099518,0.14089523255825043,0.10673199594020844,0.20023414492607117,0.6854386329650879,-0.6879692077636719,0.21641431748867035,-0.21541950106620789,0.7828049659729004,0.4045039117336273,-0.021870780736207962,0.05454953387379646,-0.6152040958404541,0.40935397148132324,-0.14109107851982117,-0.8456295132637024,0.770625114440918,0.5724964141845703,0.08229376375675201,0.8913284540176392,-0.025638483464717865,-0.6472514271736145,0.8189032673835754,-0.07042723894119263,0.4273260831832886,0.06134102866053581,0.03791724145412445,-0.16514864563941956,0.08743107318878174,0.1458934098482132,0.40257778763771057,0.16407422721385956,-0.01357685960829258,-0.20970973372459412,-0.05726265162229538,-0.24005749821662903,0.5076117515563965,-0.06585902720689774,-0.20554542541503906,-0.409851998090744,-0.0792754516005516,0.18070563673973083,0.5872295498847961,0.3474330008029938,0.12143130600452423,-0.2986530065536499,0.013529996387660503,0.7028721570968628,0.04769561439752579,0.8563492298126221,-0.23787298798561096,0.7806850075721741,0.30603837966918945,-0.7942981719970703,-0.27378642559051514,0.23134124279022217,-0.7711291909217834,0.8563402891159058,-0.07534847408533096,0.02479112334549427,0.039070725440979004,-0.9219327569007874,0.613505482673645,-0.1542608141899109,0.6488832235336304,-0.8148593306541443,-0.10145511478185654,-0.2055126279592514,0.08601877838373184,-0.2675479054450989,0.5861273407936096,-0.04961294308304787,-0.33940955996513367,-0.970905601978302,0.8139110207557678,-0.2997492551803589,-0.20025604963302612,0.03687984123826027,-0.020170390605926514,0.19052504003047943,-0.07764142751693726,0.7072520852088928,0.03661040589213371,0.00238614808768034,-0.2739732563495636,-0.8780186772346497,-0.3935624957084656,-0.3092019259929657,-0.18268942832946777,-0.4946458339691162,0.18192310631275177,-0.019463086500763893,0.830050528049469,-0.014510211534798145,-0.08552161604166031,-0.0074048470705747604,-0.33646872639656067,-0.04473424330353737,-0.08106192946434021,-0.23397701978683472,0.7145033478736877,-0.2992592751979828,0.8965392708778381,-0.23229239881038666,-0.06676890701055527,0.20077480375766754,0.834466278553009,0.4458667039871216,0.2870863080024719,0.8257281184196472,0.7758727669715881,0.2775600850582123,-0.0035166339948773384,-0.07385727763175964,-0.6214048266410828,-0.7258932590484619,-0.4223926365375519,0.3654528260231018,0.017302226275205612,-0.527794361114502,-0.21189722418785095,0.10870979726314545,0.10910535603761673,-0.10769183188676834,-0.6736157536506653,-0.582374632358551,0.014637662097811699,-0.2530781924724579,0.36169400811195374,-0.3504743278026581,-0.24520274996757507,-0.46422553062438965,0.3642820417881012,-0.17544016242027283,0.20576004683971405,-0.7977727651596069,0.7099226117134094,-0.15628035366535187,0.5093271732330322,-0.48603296279907227,-0.5744346380233765,-0.12202370911836624,-0.2506064176559448,0.7520834803581238,-0.05649777129292488,-0.1414528340101242,-0.20730158686637878,-0.0016179480589926243,0.15449334681034088,-0.11899540573358536,0.8233150243759155,0.8246458172798157,-0.7492730021476746,-0.08960402756929398,-0.189699187874794,-0.5908066034317017,-0.2895074188709259,0.0847356915473938,0.4099940061569214,0.09987529367208481,0.6343578100204468,0.4958016276359558,0.7687457203865051,-0.42221271991729736,-0.334398478269577,0.05699514225125313,-0.025120051577687263,0.4448172152042389,-0.8603000044822693,-0.8981813192367554,0.7650296092033386,-0.011349530890583992,0.5569374561309814,0.854515552520752,-0.026907147839665413,0.10542605072259903,0.5387675166130066,-0.5733423829078674,-0.46129459142684937,0.15085379779338837,0.39782509207725525,0.1442515254020691,-0.08845025300979614,-0.2379942387342453,-0.23710572719573975,0.27737125754356384,-0.24805516004562378,0.08752845972776413,0.13832707703113556,-0.08944252133369446,-0.04563926160335541,-0.01877208799123764,-0.3325548470020294,0.8642594218254089,-0.06422977149486542,-0.04970110207796097,-0.7172565460205078,0.5391690731048584,-0.166546031832695,0.019991036504507065,-0.13973146677017212,0.5498133897781372,0.008711325004696846,0.7268561124801636,-0.11605345457792282,-0.027984946966171265,0.017459653317928314,-0.11940786242485046,-0.5654599666595459,0.22928392887115479,-0.30392250418663025,-0.01363416574895382,-0.2582681477069855,-0.12776826322078705,0.003017354290932417,0.7733801603317261,-0.24361655116081238,0.7946369647979736,0.6402236223220825,0.08642526715993881,-0.36509212851524353,-0.2969356179237366,-0.7062702775001526,-0.0994054526090622,0.044751279056072235,0.6616772413253784,0.23255275189876556,0.28020474314689636,0.12679621577262878,0.03832532465457916,0.4797317683696747,0.8313385248184204,-0.13921067118644714,0.8882732391357422,-0.6593109965324402,-0.11586670577526093,-0.9522587060928345,-0.19132018089294434,0.6751123666763306,-0.21015597879886627,0.3030359148979187,-0.23194058239459991,-0.8063637614250183,-0.05788928642868996,0.17185422778129578,0.25947266817092896,0.4765504002571106,0.8203026652336121,-0.6395131349563599,0.023571548983454704,0.04107188060879707,0.032991331070661545,-0.22787465155124664,-0.2592550814151764,0.11301423609256744,0.18300743401050568,-0.10267955809831619,-0.942387580871582,0.43437761068344116,-0.26566553115844727,0.8211295008659363,-0.8130087852478027,0.9071329236030579,0.5892600417137146,-0.3414887487888336,-0.07479120790958405,0.7871074676513672,0.8728514313697815,0.3649072051048279,-0.11224077641963959,0.19617916643619537,0.07137641310691833,0.04539113491773605,0.10556121915578842,0.028915081173181534,-0.10796763747930527,0.35444870591163635,0.24198557436466217,0.16295413672924042,-0.4891735911369324,-0.3172443211078644,-0.7171571254730225,-0.23992830514907837,-0.1645970493555069,0.022929806262254715,0.10665646195411682,0.6771686673164368,0.22872237861156464,0.33559900522232056,0.8903564214706421,0.1697104573249817,0.012637502513825893,-0.9683354496955872,-0.5466629862785339,-0.9122544527053833,0.0822758749127388,-0.01217043586075306,0.1301952451467514,-0.03590869531035423,-0.17121919989585876,-0.2086164802312851,-0.07416010648012161,-0.8574873805046082,-0.03904375061392784,-0.5740221738815308,0.09635104238986969,-0.1467084139585495,-0.5807059407234192,-0.009781991131603718,0.45734789967536926,-0.4429806172847748,-0.1684691607952118,0.7386155724525452,-0.7458451390266418,0.6831567287445068,-0.010302161797881126,-0.20958152413368225,-0.05991876497864723,0.21757416427135468,0.0817580595612526,-0.04967297613620758,-0.5586957335472107,-0.13801902532577515,-0.5199577212333679,0.16471527516841888,-0.11025810241699219,-0.11249390989542007,-0.052882276475429535,0.11360061168670654,0.04845234751701355,0.222981795668602,-0.19129234552383423,0.048260923475027084,-0.0818781852722168,-0.4275994896888733,-0.217830628156662,-0.20963717997074127,-0.07798580080270767,-0.013530862517654896,0.7258921265602112,-0.6717402935028076,0.49746039509773254,-0.2500498592853546,-0.31256717443466187,-0.30392250418663025,-0.17102041840553284,-0.35027652978897095,-0.28200870752334595,0.7240673899650574,-0.8546906113624573,-0.7370543479919434,-0.2473604530096054,-0.31966039538383484,0.04354472458362579,-0.913895308971405,0.8080005049705505,0.5584381818771362,-0.08762533217668533,0.22276315093040466,-0.2788422405719757,-0.22769080102443695,-0.06204484775662422,-0.0508471317589283,-0.17939475178718567,0.8335737586021423,-0.221268430352211,-0.27639931440353394,-0.11733832210302353,-0.014799167402088642,-0.2763376832008362,0.003890169318765402,0.08978156745433807,0.11609920114278793,0.05378206819295883,0.054603397846221924,-0.7366051077842712,0.6831398606300354,0.43216028809547424,0.8649730086326599,-0.7105618119239807,-0.2859593331813812,-0.02308339811861515,-0.7479044198989868,0.3260757327079773,0.5331909656524658,0.01534082368016243,0.5260987281799316,0.13740576803684235,-0.11619706451892853,-0.3518160283565521,0.6226460337638855,-0.327349990606308,-0.10058934986591339,-0.2909495532512665,0.8193683624267578,0.038456711918115616,-0.3120920956134796,-0.5263611674308777,0.6242461800575256,0.7803053855895996,-0.8500263690948486,-0.08787807822227478,-0.026497753337025642,-0.443689227104187,-0.08672945946455002,0.043312158435583115,0.007900625467300415,-0.7858701944351196,0.42757555842399597,0.8424609303474426,-0.07172214984893799,0.34053653478622437,0.8460130095481873,-0.29002824425697327,-0.1533752828836441,-0.018212568014860153,0.015786873176693916,-0.23206579685211182,0.02639830857515335,-0.11424778401851654,-0.0608806312084198,-0.16217400133609772,0.04080412909388542,-0.29104694724082947,0.08438287675380707,0.18881459534168243,0.6851285696029663,0.05341950058937073,0.39869773387908936,-0.27008625864982605,0.12959593534469604,0.07056840509176254,-0.3435877859592438,-0.6167605519294739,0.8554766178131104,-0.04334769770503044,-0.20711970329284668,0.0146393533796072,-0.03517213836312294,-0.14209389686584473,-0.04630684107542038,0.7414093613624573,-0.20937977731227875,-0.17068450152873993,-0.3806183338165283,0.5824928283691406,-0.8577855229377747,-0.7711410522460938,-0.21250449120998383,-0.0028696274384856224,-0.05109858140349388,-0.0069398158229887486,-0.08368594199419022,0.3062272071838379,-0.7015116214752197,-0.24895262718200684,-0.16137194633483887,-0.3293774724006653,-0.038778986781835556,-0.3355235457420349,-0.05030388385057449,-0.14004354178905487,0.8004997968673706,0.0073549929074943066,0.5742993354797363,-0.5042893886566162,0.468057781457901,-0.49377819895744324,-0.1883654147386551,-0.4112264811992645,-0.14185138046741486,0.837570071220398,-0.023337502032518387,-0.4037844240665436,0.7243973612785339,0.011830580420792103,-0.12670780718326569,0.1374097317457199,0.08390282839536667,0.051223453134298325,0.022171981632709503,0.05944294109940529,-0.10207607597112656,-0.033041879534721375,-0.7720385193824768,0.8842093348503113,-0.2586199939250946,-0.33963915705680847,-0.31774523854255676,-0.3167513608932495,-0.6190106272697449,0.2614186406135559,-0.38772547245025635,-0.2958642244338989,-0.9623345136642456,0.7833625078201294,0.08112198114395142,-0.9010506272315979,0.7632942795753479,0.230319544672966,0.4062381982803345,-0.057767339050769806,-0.027626173570752144,0.009799313731491566,-0.2897489368915558,0.20409533381462097,-0.8550732731819153,-0.005637748632580042,-0.2728462517261505,0.24807797372341156,-0.07247380912303925,-0.10059572011232376,-0.837213397026062,0.8685241341590881,0.007574738468974829,0.016404762864112854,-0.05477996915578842,0.7702752947807312,-0.07839687168598175,-0.4088432192802429,0.7966375946998596,-0.6321266889572144,-0.9295249581336975,-0.3510279059410095,-0.02728208340704441,-0.11697357147932053,0.09184681624174118,0.18574155867099762,0.7178040146827698,0.2712976932525635,-0.05746609717607498,0.11924777925014496,-0.20865225791931152,-0.5007899403572083,0.11620455980300903,-0.32860127091407776,0.2766566574573517,-0.8233519196510315,-0.11693699657917023,-0.08588060736656189,-0.8587505221366882,-0.6532692909240723,-0.15129312872886658,0.07749059051275253,-0.5348836183547974,-0.6011706590652466,0.5486058592796326,-0.34186044335365295,-0.45856544375419617,0.13558101654052734,0.18260888755321503,-0.4920816719532013,-0.31105250120162964,0.5324624180793762,0.8265242576599121,0.790955662727356,0.6569374799728394,-0.5949470400810242,-0.23993626236915588,-0.007325436919927597,-0.5461093783378601,-0.3807853162288666,0.2699122428894043,-0.35161328315734863,-0.16958528757095337,-0.438850075006485,-0.3173268139362335,-0.711034893989563,-0.06785491108894348,0.13918974995613098,-0.30392250418663025,-0.28453612327575684,-0.7672132849693298,0.591641366481781,0.029441235587000847,0.54677414894104,-0.8479660749435425,0.025650817900896072,0.7675610184669495,-0.6434438824653625,-0.3114798963069916,0.5460933446884155,0.6272099018096924,-0.004193558823317289,-0.6308128237724304,-0.005171624477952719,-0.12132303416728973,0.5078771114349365,0.7272248864173889,0.8956329226493835,-0.1531258225440979,0.4618033766746521,-0.26879024505615234,0.5023840069770813,0.005575274117290974,-0.09208531677722931,0.3156997561454773,-0.05559980869293213,-0.1005667969584465,-0.07354450970888138,0.8584274649620056,0.4914316236972809,-0.5816749334335327,-0.18058641254901886,-0.33261847496032715,-0.2905261516571045,0.04932645335793495,-0.19264701008796692,-0.2086741179227829,0.8685519695281982,0.890695333480835,-0.05155913904309273,-0.004978515673428774,-0.21837128698825836,-0.46354272961616516,-0.13936671614646912,-0.055560752749443054,0.2079644650220871,-0.21163585782051086,-0.22803467512130737,-0.8832294940948486,0.41081494092941284,0.8367481827735901,-0.11872367560863495,0.8100041747093201,-0.26711755990982056,-0.9330034852027893,0.7950235605239868,0.32791242003440857,-0.25003495812416077,0.44316139817237854,0.7637654542922974,0.10899404436349869,-0.7092230319976807,0.7881569266319275,-0.3140251636505127,-0.0799049660563469,0.3877254128456116,-0.2786305248737335,-0.5353288650512695,-0.09719549119472504,-0.5244728922843933,-0.26090291142463684,-0.14171721041202545,-0.9947415590286255,0.07843893766403198,-0.4566482603549957,0.07004334032535553,-0.6885764002799988,0.5747615098953247,0.6518359780311584,-0.0031237578950822353,0.7597412467002869,-0.019105657935142517,0.06064671650528908,0.21719849109649658,0.15178802609443665,0.15474875271320343,0.012885074131190777,0.09521503746509552,0.6089118123054504,-0.1380826234817505,-0.24388587474822998,-0.25046131014823914,-0.22119984030723572,0.802229106426239,0.021815380081534386,0.4587502181529999,0.6188216209411621,0.17541825771331787,-0.30506545305252075,0.7436753511428833,-0.7769939303398132,0.18171142041683197,-0.1518288254737854,0.7603862285614014,-0.025240261107683182,0.32566431164741516,0.4898274838924408,0.5284501910209656,-0.2763356864452362,0.02451532520353794,-0.1347750425338745,0.33588525652885437,-0.008683260530233383,0.37134942412376404,0.41196388006210327,0.3291358947753906,-0.6100936532020569,0.04188526049256325,-0.093943752348423,-0.6107982993125916,-0.04302568361163139,0.16403844952583313,-0.09572575241327286,-0.12336742132902145,-0.2050524652004242,0.8549349308013916,-0.315610408782959,-0.19681626558303833,-0.032062821090221405,-0.2853371798992157,-0.044191788882017136,0.6450279951095581,0.06447330117225647,-0.6681365370750427,0.7461749315261841,-0.5824601054191589,0.672730028629303,0.8273332715034485,-0.18486103415489197,0.09774443507194519,0.2385905236005783,-0.16862022876739502,0.15260598063468933,-0.0808173343539238,0.4819679856300354,0.1138739287853241,0.07988759875297546,0.4985019862651825,-0.2366117537021637,0.06073317676782608,0.0023371498100459576,0.5110952854156494,0.7922666072845459,-0.6567856073379517,-0.028170205652713776,-0.38776227831840515,0.30887386202812195,-0.06684622913599014,0.8118607401847839,-0.11930648237466812,0.07961658388376236,-0.3485998809337616,0.048360418528318405,0.45525580644607544,0.6051718592643738,-0.24671244621276855,-0.05414538457989693,0.017259487882256508,-0.10787829011678696,0.03932565450668335,0.8617926239967346,0.13761349022388458,-0.9393662214279175,-0.20989161729812622,-0.15659838914871216,-0.30330929160118103,-0.1821497678756714,-0.26725175976753235,0.46930113434791565,-0.10712791979312897,0.8653188943862915,-0.886087954044342,0.4261781871318817,-0.2974584102630615,-0.01649944856762886,-0.009642541408538818,-0.0909101739525795,-0.051786236464977264,-0.8535923957824707,-0.393216609954834,0.8220348954200745,0.24626119434833527,0.040213871747255325,-0.4216313064098358,-0.30392250418663025,-0.04511052370071411,-0.68599933385849,0.0568733885884285,0.8171013593673706,0.12424097955226898,0.1793728470802307,-0.24223308265209198,0.051395490765571594,-0.10291650146245956,-0.41766875982284546,0.5759611129760742,0.3764936923980713,0.8359779119491577,-0.8877466917037964,0.7099912166595459,0.5388380885124207,0.864005982875824,-0.007372446823865175,0.859712541103363,0.8957769870758057,-0.05100475996732712,-0.05219263210892677,-0.2215089350938797,-0.5455965399742126,-0.036275628954172134,0.8072183728218079,-0.006463056895881891,-0.851838231086731,-0.31608447432518005,0.8125842809677124,-0.6110109686851501,0.010103038512170315,0.7880684733390808,-0.7563135623931885,-0.34451010823249817,-0.1562376320362091,-0.009022765792906284,-0.04937212914228439,-0.18473580479621887,0.06863870471715927,0.20339563488960266,-0.30881133675575256,0.0175482090562582,-0.19637201726436615,-0.1810425966978073,-0.764081597328186,-0.10987018793821335,-0.8271326422691345,-0.2837429940700531,-0.016234004870057106,-0.2444802075624466,-0.16047845780849457,-0.05113237351179123,-0.26961514353752136,0.6962698698043823,-0.6987367868423462,-0.5530824065208435,-0.047840483486652374,0.751581609249115,-0.3268967568874359,0.23172087967395782,0.8058825731277466,0.7122412919998169,0.11357676982879639,-0.025462817400693893,-0.3757285177707672,0.021064117550849915,-0.2979811429977417,0.4588257670402527,-0.11275270581245422,-0.2306445837020874,0.6829052567481995,-0.19559481739997864,-0.20974351465702057,-0.20749042928218842,0.11418500542640686,-0.45610561966896057,0.023343054577708244,-0.21391578018665314,0.7519184947013855,0.020791102200746536,0.15838433802127838,0.2502068281173706,-0.517917275428772,-0.09135521948337555,0.2608720064163208,-0.3048100471496582,0.3912774920463562,-0.08219453692436218,0.7497518658638,0.3805566430091858,-0.09247441589832306,-0.2688151001930237,-0.1751549243927002,0.15247181057929993,0.20873768627643585,0.6518239974975586,0.7934125065803528,0.05689277499914169,0.007923386991024017,-0.1669793576002121,-0.19998770952224731,0.24572151899337769,0.2628309428691864,0.1109817698597908,-0.024463433772325516,-0.06171568110585213,-0.0038732350803911686,0.5058764815330505,-0.7105896472930908,0.13688597083091736,-0.10079726576805115,-0.13719907402992249,0.14355681836605072,-0.7960513830184937,0.7479589581489563,-0.046876922249794006,-0.6744963526725769,-0.9477604031562805,-0.3232661783695221,0.06272418797016144,-0.07441453635692596,-0.49618834257125854,-0.17068450152873993,-0.9223362803459167,-0.3798500597476959,-0.02056356705725193,0.6527165174484253,-0.0893205776810646,0.06015753373503685,-0.6685171723365784,-0.08893416076898575,-0.979936957359314,-0.16903169453144073,0.7880605459213257,-0.2899218797683716,-0.37144890427589417,0.4592302739620209,0.008528553880751133,-0.1875951588153839,0.7799943089485168,-0.3105933368206024,0.13321462273597717,-0.5585606098175049,0.004150960594415665,-0.6549826860427856,-0.13756880164146423,0.04244719445705414,-0.8430315256118774,-0.3125154972076416,-0.024285074323415756,0.8031942248344421,0.4495241343975067,-0.31404703855514526,0.34123918414115906,-0.5282972455024719,-0.3081364929676056,-0.19533640146255493,0.30185121297836304,0.011957596056163311,-0.13925042748451233,0.3236368000507355,0.0776798278093338,0.06962700933218002,-0.21908588707447052,-0.15228402614593506,-0.30392250418663025,0.7848742008209229,-0.1942431628704071,0.5543603301048279,-0.1189110204577446,-0.8758142590522766,-0.13839271664619446,-0.4631461799144745,0.057669684290885925,0.019758671522140503,-0.2671990692615509,-0.21091827750205994,-0.21653661131858826,-0.014613950625061989,-0.04044868424534798,-0.2078959196805954,0.02678661048412323,-0.8052088618278503,-0.15443474054336548,0.1324235051870346,-0.04453626647591591,0.9008775353431702,-0.03947210684418678,0.07615384459495544,0.616672933101654,0.022962702438235283,-0.36460015177726746,0.16493989527225494,0.1811608225107193,-0.3126993477344513,0.11125906556844711,0.6982118487358093,0.19169682264328003,0.5770414471626282,-0.22845210134983063,0.8465754985809326,-0.4940723776817322,-0.014886618591845036,-0.053668227046728134,-0.7313694357872009,-0.18158523738384247,-0.09230764210224152,0.8517048954963684,-0.08411478996276855,-0.09079021215438843,0.028229309245944023,-0.0027513564564287663,-0.053751710802316666,-0.19082027673721313,-0.32187971472740173,0.1052759662270546,0.03776627033948898,0.02898952178657055,-0.3124757409095764,0.5870099067687988,0.013087724335491657,0.7467514276504517,0.0713721439242363,-0.08412592858076096,-0.6867794990539551,-0.30763164162635803,-0.7695170640945435,0.17965112626552582,-0.31544938683509827,0.8888477683067322,0.5068216323852539,-0.43893158435821533,-0.034191686660051346,0.7980588674545288,0.6715473532676697,-0.24980835616588593,-0.07592850178480148,-0.053480882197618484,-0.06673044711351395,0.052506040781736374,-0.33260059356689453,-0.608205258846283,-0.03640731796622276,-0.7577794790267944,-0.9017940163612366,0.8520497679710388,0.5223369002342224,0.728351891040802,0.4191853404045105,0.0766327753663063,0.030781567096710205,-0.8573740720748901,-0.013830265961587429,0.41629812121391296,0.3362380862236023,-0.25161221623420715,0.14733152091503143,-0.27364131808280945,0.7497220635414124,0.6409918665885925,0.6096799969673157,-0.040596771985292435,0.5450955033302307,0.3057829439640045,0.014087359420955181,-0.30392250418663025,0.3921928405761719,-0.3380211591720581,0.0546114444732666,0.6680678129196167,-0.055155254900455475,0.09888142347335815,-0.29877427220344543,0.8703588247299194,-0.7203633189201355,0.05459802597761154,0.32060250639915466,0.8307799696922302,0.646080493927002,-0.001467972993850708,0.07539959996938705,-0.22234676778316498,0.7364559173583984,-0.183877095580101,0.01794704794883728,0.17873379588127136,-0.46684736013412476,-0.2647591233253479,0.04128098860383034,-0.7437013387680054,-0.4676325023174286,0.2492666244506836,-0.7741803526878357,-0.6906546354293823,0.04506395012140274,0.22348369657993317,-0.9323902130126953,0.6969357132911682,-0.10279673337936401,0.692827045917511,-0.23619036376476288,0.1571996510028839,-0.022212183102965355,-0.4010830819606781,0.22911497950553894,-0.2145717293024063,-0.05662766844034195,0.05210978165268898,-0.8107785582542419,0.7227415442466736,-0.23513388633728027,-0.004319183994084597,0.8405755162239075,0.7985319495201111,0.1691419631242752,0.13117122650146484,-0.3119370639324188,-0.5948109030723572,-0.34247663617134094,-0.00704566203057766,-0.31788039207458496,0.3591387867927551,-0.2432776391506195,0.7200272679328918,0.018566127866506577,-0.13651828467845917,0.03597959503531456,0.8344284892082214,-0.1185230165719986,-0.24286121129989624,-0.8592514395713806,0.18868638575077057,0.7610889673233032,-0.4331601858139038,0.24048185348510742,-0.0013739530695602298,0.8619744777679443,-0.24494534730911255,0.7193057537078857,0.1477678418159485,-0.07591965794563293,0.03977935388684273,0.3740209639072418,-0.208125501871109,0.05730929970741272,-0.7694882154464722,-0.24993358552455902,0.6308891773223877,0.44117268919944763,-0.26496779918670654,0.563497006893158,0.025979094207286835,-0.4682665765285492,0.037672847509384155,0.3587223291397095,-0.23970766365528107,-0.6482670903205872,0.22577357292175293,-0.12933261692523956,-0.21501201391220093,-0.5535634160041809,-0.06893901526927948,0.1615518033504486,-0.08509176224470139,-0.0699586272239685,-0.05204682797193527,0.9129698872566223,-0.3134397864341736,0.8225328922271729,0.7104364633560181,0.6326702237129211,0.28313568234443665,0.11789611726999283,-0.018134331330657005,-0.0019785240292549133,0.27382808923721313,0.07506018877029419,-0.8266744613647461,-0.31196391582489014,0.40335798263549805,0.4995395541191101,0.677201509475708,0.4862913191318512,0.40644392371177673,-0.3695923686027527,0.21409562230110168,-0.03274550661444664,-0.14413131773471832,-0.3713594675064087,0.46766820549964905,0.6825604438781738,-0.013833376578986645,0.4319435954093933,-0.391236811876297,-0.059999171644449234,-0.050344131886959076,-0.27424460649490356,-0.03201074153184891,-0.041348930448293686,-0.46316707134246826,0.7718942761421204,0.32838353514671326,0.7134955525398254,0.279511034488678,-0.30392250418663025,0.8780961036682129,-0.06260231137275696,-0.2803320586681366,0.7775264978408813,0.0991746187210083,-0.017572149634361267,-0.0345936082303524,-0.044658113270998,0.2565695643424988,0.06680292636156082,-0.27474749088287354,-0.006275216117501259,0.48705562949180603,0.6824550628662109,0.05489927530288696,0.7192957997322083,-0.29146337509155273,-0.30392250418663025,0.06976565718650818,-0.20367097854614258,0.10139989107847214,-0.0686112493276596,0.0017779003828763962,0.176943838596344,-0.14027410745620728,-0.9406443238258362,-0.22637490928173065,-0.2740875780582428,0.012625973671674728,-0.1629820168018341,-0.2867981493473053,0.02997225895524025,-0.3256961703300476,0.5182103514671326,-0.0798029899597168,-0.16644862294197083,0.10345222055912018,-0.4283220171928406,0.18247172236442566,-0.8128408193588257,-0.20386280119419098,-0.7174652218818665,-0.4678332805633545,-0.5516492128372192,0.018309710547327995,-0.372078001499176,0.22973515093326569,-0.09961813688278198,-0.8173608779907227,-0.8504468202590942,0.034363169223070145,0.7856285572052002,-0.1869034320116043,-0.06332336366176605,0.5543832182884216,-0.10084179788827896,-0.12786765396595,-0.015602045692503452,0.047349054366350174,-0.7182871699333191,-0.8298538327217102,-0.202208012342453,-0.28145113587379456,-0.17394836246967316,-0.12384548038244247,0.7429597973823547,-0.8631275296211243,0.014675530605018139,-0.13640199601650238,0.08460251986980438,-0.5679556131362915,-0.3360900282859802,0.9164127111434937,-0.19231604039669037,-0.3113904297351837,-0.043156180530786514,-0.4807644784450531,0.06217319518327713,0.38174429535865784,-0.21163585782051086,0.8123695850372314,0.5988796353340149,0.8299351930618286,-0.8261248469352722,-0.017713189125061035,-0.14173908531665802,-0.6785513162612915,0.6022946238517761,-0.050644684582948685,-0.2665649652481079,0.38152071833610535,-0.16976217925548553,-0.21388496458530426,0.07794061303138733,-0.5029118657112122,0.6487191915512085,-0.23668132722377777,-0.09309747815132141,0.8924932479858398,-0.9179920554161072,-0.22524887323379517,-0.1365063637495041,0.16758060455322266,0.090595543384552,-0.14659114181995392,-0.314475417137146,-0.2313561886548996,0.8411927819252014,0.4224253296852112,-0.00830320455133915,-0.09350913017988205,-0.2110464870929718,0.1382267028093338,0.27845853567123413,-0.10671158879995346,0.8793533444404602,0.46483469009399414,-0.49468758702278137,0.8062762022018433,-0.5918402671813965,-0.03313440829515457,0.0856669470667839,-0.0012839095434173942,-0.19156566262245178,-0.048046909272670746,-0.47872310876846313,-0.18362963199615479,0.654147744178772,-0.029014764353632927,0.9079310297966003,-0.08481397479772568,0.7286660075187683,-0.727418839931488,-0.18710915744304657,-0.2674703896045685,0.4126725196838379,0.4301934242248535,-0.07664010673761368,0.09361888468265533,0.8816580772399902,-0.2678888142108917,0.9163888096809387,0.07240625470876694,0.08259986340999603,-0.3837122619152069,-0.22879797220230103,-0.17741994559764862,-0.5729089975357056,-0.32849788665771484,0.38732191920280457,-0.36444413661956787,-0.039566729217767715,-0.9033961296081543,-0.7575628757476807,-0.054985202848911285,-0.8672510981559753,0.7710127234458923,0.03301478549838066,-0.694254457950592,-0.008642015047371387,0.5938189029693604,-0.6117374897003174,0.21288807690143585,-0.1762799769639969,0.6065086126327515,-0.17267024517059326,-0.34386706352233887,-0.114449143409729,0.38351142406463623,-0.014807148836553097,0.8423058390617371,0.7110735177993774,0.8564674854278564,-0.038008637726306915,-0.9459913372993469,-0.24824896454811096,0.5341430902481079,0.15275506675243378,0.8355634808540344,0.7926472425460815,0.11855007708072662,0.1034015417098999,0.8087250590324402,-0.30194172263145447,-0.059219975024461746,-0.025861866772174835,0.2645324468612671,0.26357635855674744,-0.28920429944992065,-0.25590476393699646,-0.05850200355052948,-0.1727249175310135,0.5681989789009094,-0.3034166097640991,0.18787340819835663,0.014546922408044338,-0.7539948225021362,-0.28954818844795227,-0.13748334348201752,-0.84409499168396,0.017103051766753197,-0.3399820625782013,0.0064353677444159985,-0.3253980278968811,0.8311675786972046,0.15720361471176147,-0.4407413899898529,0.863038957118988,-0.0025059692561626434,0.0437110960483551,-0.057018257677555084,0.111078180372715,-0.7951350212097168,0.5301496982574463,0.16529470682144165,-0.2817055881023407,0.13245730102062225,-0.025711633265018463,-0.2137567698955536,0.7943925261497498,-0.1382545679807663,-0.2626560926437378,0.42253366112709045,0.08336813747882843,0.7320938110351562,-0.17223094403743744,-0.22175541520118713,0.46033746004104614,-0.8489629030227661,0.08091128617525101,0.008048116229474545,-0.61640465259552,-0.039641961455345154,-0.13704006373882294,-0.719451904296875,0.29368460178375244,0.39023393392562866,0.8181767463684082,-0.22202177345752716,0.004402806982398033,0.6611365675926208,0.418769896030426,-0.16283293068408966,-0.5304380059242249,-0.2575823664665222,-0.21706734597682953,-0.07015343010425568,-0.33182039856910706,-0.11483536660671234,-0.7678294777870178,0.014935227110981941,-0.4584590792655945,0.038075368851423264,0.13219888508319855,0.1841116100549698,0.7720990180969238,0.13746042549610138,-0.10526739805936813,0.015569415874779224,-0.1587183177471161,0.31910476088523865,-0.926908016204834,-0.854136049747467,-0.3202607035636902,-0.6697207689285278,-0.05215863883495331,-0.20525521039962769,0.06341025233268738,0.049839094281196594,-0.07522762566804886,0.0015243642264977098,0.0890202671289444,-0.5504456758499146,0.028009070083498955,-0.057000868022441864,0.204246386885643,0.13070212304592133,0.5649858117103577,-0.1426742970943451,0.026021035388112068,0.14534777402877808,0.3450686037540436,-0.06791125982999802,0.04423009976744652,-0.24860277771949768,-0.2706696391105652,-0.0017672270769253373,-0.1077302023768425,-0.7541598081588745,-0.1383122056722641,-0.03385576233267784,0.12443675845861435,-0.3298783600330353,-0.19226238131523132,0.01513240858912468,-0.0336851105093956,-0.20168821513652802,-0.34056544303894043,-0.03752870112657547,-0.005586564540863037,-0.723330020904541,0.04323463514447212,0.06460707634687424,-0.2680160105228424,0.10576198250055313,-0.03241395205259323,-0.5533229112625122,-0.3247241675853729,-0.56114262342453,-0.24204126000404358,-0.7784082293510437,0.022470640018582344,0.8730005025863647,0.7781566381454468,0.7028005719184875,-0.8271823525428772,0.026982402428984642,0.02816709317266941,-0.5143383741378784,0.7708954811096191,0.7890872359275818,-0.024810612201690674,0.009884188883006573,0.039888978004455566,0.19494378566741943,-0.14972779154777527,-0.03526854142546654,0.7482759952545166,-0.24080389738082886,-0.6402674317359924,-0.3194427788257599,-0.06075122952461243,0.4333837032318115,-0.8136866092681885,0.24870508909225464,-0.10763528943061829,-0.08602660149335861,-0.1347869634628296,-0.5262708067893982,0.5247191786766052,-0.09157397598028183,0.5286380648612976,-0.23154103755950928,-0.37041032314300537,0.0013657439267262816,0.03420335426926613,-0.18452312052249908,-0.24736841022968292,0.22313088178634644,-0.2156590223312378,-0.08226390928030014,0.4756658673286438,-0.44187045097351074,-0.039573781192302704,0.5101680159568787,0.018721170723438263,-0.061984021216630936,-0.230549156665802,-0.5949599742889404,0.340880423784256,0.03720135986804962,0.10430198907852173,-0.538378119468689,-0.18481729924678802,0.06846944242715836,0.24745282530784607,-0.004691089503467083,0.7909546494483948,-0.1836654096841812,-0.33141788840293884,-0.059318866580724716,0.2476138323545456,0.3829091191291809,0.3039224147796631,0.7090102434158325,-0.08146513998508453,-0.015524880960583687,-0.23316602408885956,-0.026405543088912964,-0.17030981183052063,0.5690030455589294,-0.02709682658314705,-0.5240077376365662,0.8800241351127625,-0.07878796011209488,-0.11261506378650665,-0.33126580715179443,-0.4138592481613159,-0.6434995532035828,-0.24388986825942993,-0.07967518270015717,0.57479327917099,0.6703377962112427,0.1362081617116928,0.023910654708743095,-0.10035082697868347,0.5235623121261597,-0.3315888047218323,0.7607063055038452,0.5868638157844543,0.2812840938568115,0.06716082245111465,-0.16041484475135803,0.5627505779266357,-0.09754960983991623,0.15523675084114075,-0.04233206436038017,0.04770297184586525,0.03772999718785286,-0.5381991863250732,-0.4651051163673401,-0.025738993659615517,-0.08553045988082886,-0.3052821159362793,0.008988316170871258,0.8138792514801025,0.3281668722629547,-0.27108708024024963,-0.013049651868641376,0.2904147803783417,-0.268613338470459,-0.7769731283187866,-0.9194749593734741,0.37331831455230713,-0.015035568736493587,-0.221363827586174,-0.12995676696300507,-0.06803558766841888,0.3787795901298523,-0.22364376485347748,0.8158481121063232,0.11259084939956665,0.01792866177856922,0.5138512253761292,0.036966707557439804,0.4034990966320038,-0.11557121574878693,-0.6981344819068909,0.12817072868347168,-0.06930327415466309,-0.11043044179677963,-0.14862160384655,-0.3198830187320709,0.744778573513031,0.7154207229614258,0.17053039371967316,0.12138161808252335,0.21571066975593567,-0.6045607328414917,-0.5222753882408142,0.15777906775474548,0.13538721203804016,0.023498795926570892,-0.6408548951148987,-0.02095753513276577,0.12418232858181,-0.17847146093845367,-0.40256693959236145,0.21795083582401276,-0.07094961404800415,0.5595086216926575,0.03621653467416763,-0.06608273833990097,-0.2701299786567688,0.06251408159732819,0.05312551185488701,0.7202300429344177,-0.14299234747886658,-0.08777153491973877,-0.38932958245277405,-0.2637394070625305,-0.21280960738658905,-0.08114442229270935,0.2131912112236023,0.08685065060853958,-0.18517808616161346,0.0404391847550869,-0.11296321451663971,-0.2374575436115265,0.6238794922828674,0.07377124577760696,-0.24961553514003754,0.024023061618208885,-0.4017569124698639,-0.011389782652258873,0.4478743374347687,-0.29984864592552185,0.480008065700531,-0.127139151096344,0.007399518508464098,-0.4089038372039795,-0.23651237785816193,0.010906282812356949,-0.6196804642677307,0.6042187809944153,-0.021993840113282204,0.7992982268333435,0.3854564130306244,0.07295040041208267,-0.13201904296875,0.8428753614425659,0.7676475048065186,0.011211003176867962,-0.6991720199584961,-0.873108983039856,-0.4395497739315033,-0.3059728443622589,-0.23328527808189392,0.19116012752056122,0.838448703289032,-0.20914918184280396,0.6482252478599548,0.38073256611824036,-0.00956988986581564,-0.08585018664598465,-0.3540452718734741,0.44933831691741943,-0.6919426918029785,0.017480425536632538,-0.02807474322617054,0.3918609023094177,0.8695945143699646,-0.5937196016311646,0.035383570939302444,0.03660563379526138,-0.2091432362794876,0.8188674449920654,-0.32074272632598877,0.7829272150993347,0.8972985744476318,0.8335220217704773,-0.3123723566532135,-0.3118903636932373,-0.5445699095726013,-0.012101809494197369,-0.7618284821510315,0.059987280517816544,-0.27181559801101685,-0.08229898661375046,0.662195086479187,0.0397956557571888,-0.20143777132034302,0.7871769666671753,-0.3119698464870453,0.488247275352478,0.14791393280029297,0.05524742230772972,-0.09913760423660278,-0.20418083667755127,0.44576334953308105,0.049787405878305435,0.781746506690979,-0.2998436689376831,-0.22178423404693604,0.8898704051971436,-0.1690167784690857,-0.26072004437446594,0.003747151233255863,-0.36562684178352356,-0.23600450158119202,-0.20375049114227295,-0.06113028898835182,-0.2053983211517334,-0.7796933054924011,0.32518723607063293,-0.0436914786696434,-0.06665650010108948,0.8001092076301575,-0.6666715741157532,-0.05674881860613823,-0.03968290984630585,-0.7418785691261292,0.7792906761169434,-0.0761525109410286,0.5664527416229248,0.06138933077454567,-0.5782163143157959,0.8022897243499756,-0.07735241204500198,0.3450894355773926,-0.8792968392372131,-0.024021083489060402,-0.08893933147192001,-0.24369406700134277,-0.7338282465934753,0.0397513248026371,-0.40225186944007874,0.06173788011074066,0.09708550572395325,0.7580735683441162,-0.2426912486553192,-0.24926768243312836,-0.8913573622703552,0.2939658761024475,0.7991530895233154,-0.15386226773262024,-0.1818307340145111,-0.3323372006416321,-0.26552337408065796,-0.7718377709388733,-0.650474488735199,-0.23648951947689056,-0.015308654867112637,-0.006824626121670008,-0.17231543362140656,0.19375114142894745,-0.09756938368082047,-0.9663556814193726,-0.678618848323822,-0.3880077600479126,-0.23579877614974976,-0.19191351532936096,0.1407918781042099,0.6912170052528381,0.14085449278354645,0.8509953022003174,0.15651586651802063,0.8436018824577332,-0.2849326729774475,0.19821162521839142,-0.11386425793170929,0.20812943577766418,-0.3138025403022766,-0.03667407110333443,0.6646767258644104,0.8109572529792786,0.0334160141646862,0.6265817880630493,0.2549903094768524,-0.3502228558063507,-0.26007401943206787,0.7304718494415283,0.12051694840192795,-0.5454892516136169,-0.5434110164642334,0.24416910111904144,-0.30392250418663025,0.8412046432495117,-0.893451452255249,0.5122471451759338,-0.32357922196388245,-0.1332484632730484,-0.07411398738622665,0.044717688113451004,-0.030883198603987694,-0.5192689895629883,-0.6417393684387207,0.030399125069379807,0.3254386782646179,0.032355159521102905,0.09583025425672531,0.5635198354721069,0.8400021195411682,-0.027463465929031372,0.7392088770866394,-0.12318355590105057,0.33427417278289795,-0.2001705914735794,-0.03891007602214813,0.1620805412530899,-0.13365495204925537,-0.604125440120697,0.0006260076770558953,-0.03585810214281082,0.01993587799370289,-0.09715095907449722,-0.3332187831401825,0.5102693438529968,-0.286075621843338,0.8992247581481934,-0.756990373134613,-0.1620110124349594,-0.6873132586479187,-0.2863727807998657,-0.7050130367279053,0.706047534942627,-0.9120904803276062,-0.2064249962568283,-0.044237010180950165,-0.13349294662475586,0.826995313167572,-0.30105915665626526,0.5087169408798218,0.5461022853851318,-0.9742569923400879,-0.4685339629650116,-0.7158978581428528,-0.1292918622493744,0.0857057198882103,-0.21602179110050201,-0.25438711047172546,0.7537164092063904,-0.3402096629142761,-0.5693837404251099,-0.12111631780862808,0.2829189896583557,0.8781775236129761,0.7698230743408203,0.8941748738288879,0.23487643897533417,-0.07069160789251328,0.8653894662857056,-0.12528160214424133,-0.3258711099624634,0.8526371717453003,-0.6070007085800171,0.16789168119430542,0.61787348985672,-0.04011921584606171,0.020622240379452705,-0.40657222270965576,-0.47325384616851807,-0.33221396803855896,0.00518756452947855,0.799612283706665,-0.11001421511173248,-0.1574302613735199,0.23930808901786804,-0.31201955676078796,-0.03400135785341263,-0.31421899795532227,0.12123949080705643,0.8293120265007019,0.015281591564416885,-0.027581695467233658,-0.023792622610926628,0.019408730790019035,-0.07357929646968842,-0.0824114978313446,-0.15894989669322968,0.4260648787021637,0.7497369647026062,-0.18544939160346985,-0.1480153501033783,0.0358165018260479,-0.7619994282722473,-0.5971177220344543,-0.2641926109790802,-0.011607121676206589,-0.7334356904029846,0.24112586677074432,0.7374011278152466,-0.2938804626464844,-0.12073566019535065,0.7471350431442261,-0.8910771012306213,-0.11373206228017807,-0.3205280601978302,0.11446826159954071,0.45489004254341125,-0.18699686229228973,0.06632518023252487,-0.5517118573188782,0.9077869057655334,-0.10880456864833832,0.17135530710220337,-0.06818457692861557,-0.31405600905418396,0.5756589770317078,-0.4904686212539673,-0.08252768218517303,-0.01943136379122734,0.16748817265033722,0.06977955996990204,-0.21561630070209503,-0.08822771906852722,-0.9833468794822693,0.0009552756673656404,0.6972129940986633,-0.2777499556541443,-0.29020512104034424,-0.9743940830230713,0.426746666431427,-0.11332319676876068,-0.16599343717098236,-0.2706358730792999,-0.32745233178138733,-0.049963682889938354,-0.3112165033817291,0.8199477791786194,0.04253406077623367,0.49400272965431213,-0.21482616662979126,-0.7386336326599121,0.7304161787033081,-0.03781910613179207,-0.8545842170715332,0.6720542311668396,-0.5976961255073547,0.5242987871170044,-0.16819187998771667,-0.5141306519508362,-0.643145740032196],\"type\":\"scatter3d\"}],                        {\"template\":{\"data\":{\"histogram2dcontour\":[{\"type\":\"histogram2dcontour\",\"colorbar\":{\"outlinewidth\":0,\"ticks\":\"\"},\"colorscale\":[[0.0,\"#0d0887\"],[0.1111111111111111,\"#46039f\"],[0.2222222222222222,\"#7201a8\"],[0.3333333333333333,\"#9c179e\"],[0.4444444444444444,\"#bd3786\"],[0.5555555555555556,\"#d8576b\"],[0.6666666666666666,\"#ed7953\"],[0.7777777777777778,\"#fb9f3a\"],[0.8888888888888888,\"#fdca26\"],[1.0,\"#f0f921\"]]}],\"choropleth\":[{\"type\":\"choropleth\",\"colorbar\":{\"outlinewidth\":0,\"ticks\":\"\"}}],\"histogram2d\":[{\"type\":\"histogram2d\",\"colorbar\":{\"outlinewidth\":0,\"ticks\":\"\"},\"colorscale\":[[0.0,\"#0d0887\"],[0.1111111111111111,\"#46039f\"],[0.2222222222222222,\"#7201a8\"],[0.3333333333333333,\"#9c179e\"],[0.4444444444444444,\"#bd3786\"],[0.5555555555555556,\"#d8576b\"],[0.6666666666666666,\"#ed7953\"],[0.7777777777777778,\"#fb9f3a\"],[0.8888888888888888,\"#fdca26\"],[1.0,\"#f0f921\"]]}],\"heatmap\":[{\"type\":\"heatmap\",\"colorbar\":{\"outlinewidth\":0,\"ticks\":\"\"},\"colorscale\":[[0.0,\"#0d0887\"],[0.1111111111111111,\"#46039f\"],[0.2222222222222222,\"#7201a8\"],[0.3333333333333333,\"#9c179e\"],[0.4444444444444444,\"#bd3786\"],[0.5555555555555556,\"#d8576b\"],[0.6666666666666666,\"#ed7953\"],[0.7777777777777778,\"#fb9f3a\"],[0.8888888888888888,\"#fdca26\"],[1.0,\"#f0f921\"]]}],\"heatmapgl\":[{\"type\":\"heatmapgl\",\"colorbar\":{\"outlinewidth\":0,\"ticks\":\"\"},\"colorscale\":[[0.0,\"#0d0887\"],[0.1111111111111111,\"#46039f\"],[0.2222222222222222,\"#7201a8\"],[0.3333333333333333,\"#9c179e\"],[0.4444444444444444,\"#bd3786\"],[0.5555555555555556,\"#d8576b\"],[0.6666666666666666,\"#ed7953\"],[0.7777777777777778,\"#fb9f3a\"],[0.8888888888888888,\"#fdca26\"],[1.0,\"#f0f921\"]]}],\"contourcarpet\":[{\"type\":\"contourcarpet\",\"colorbar\":{\"outlinewidth\":0,\"ticks\":\"\"}}],\"contour\":[{\"type\":\"contour\",\"colorbar\":{\"outlinewidth\":0,\"ticks\":\"\"},\"colorscale\":[[0.0,\"#0d0887\"],[0.1111111111111111,\"#46039f\"],[0.2222222222222222,\"#7201a8\"],[0.3333333333333333,\"#9c179e\"],[0.4444444444444444,\"#bd3786\"],[0.5555555555555556,\"#d8576b\"],[0.6666666666666666,\"#ed7953\"],[0.7777777777777778,\"#fb9f3a\"],[0.8888888888888888,\"#fdca26\"],[1.0,\"#f0f921\"]]}],\"surface\":[{\"type\":\"surface\",\"colorbar\":{\"outlinewidth\":0,\"ticks\":\"\"},\"colorscale\":[[0.0,\"#0d0887\"],[0.1111111111111111,\"#46039f\"],[0.2222222222222222,\"#7201a8\"],[0.3333333333333333,\"#9c179e\"],[0.4444444444444444,\"#bd3786\"],[0.5555555555555556,\"#d8576b\"],[0.6666666666666666,\"#ed7953\"],[0.7777777777777778,\"#fb9f3a\"],[0.8888888888888888,\"#fdca26\"],[1.0,\"#f0f921\"]]}],\"mesh3d\":[{\"type\":\"mesh3d\",\"colorbar\":{\"outlinewidth\":0,\"ticks\":\"\"}}],\"scatter\":[{\"fillpattern\":{\"fillmode\":\"overlay\",\"size\":10,\"solidity\":0.2},\"type\":\"scatter\"}],\"parcoords\":[{\"type\":\"parcoords\",\"line\":{\"colorbar\":{\"outlinewidth\":0,\"ticks\":\"\"}}}],\"scatterpolargl\":[{\"type\":\"scatterpolargl\",\"marker\":{\"colorbar\":{\"outlinewidth\":0,\"ticks\":\"\"}}}],\"bar\":[{\"error_x\":{\"color\":\"#2a3f5f\"},\"error_y\":{\"color\":\"#2a3f5f\"},\"marker\":{\"line\":{\"color\":\"#E5ECF6\",\"width\":0.5},\"pattern\":{\"fillmode\":\"overlay\",\"size\":10,\"solidity\":0.2}},\"type\":\"bar\"}],\"scattergeo\":[{\"type\":\"scattergeo\",\"marker\":{\"colorbar\":{\"outlinewidth\":0,\"ticks\":\"\"}}}],\"scatterpolar\":[{\"type\":\"scatterpolar\",\"marker\":{\"colorbar\":{\"outlinewidth\":0,\"ticks\":\"\"}}}],\"histogram\":[{\"marker\":{\"pattern\":{\"fillmode\":\"overlay\",\"size\":10,\"solidity\":0.2}},\"type\":\"histogram\"}],\"scattergl\":[{\"type\":\"scattergl\",\"marker\":{\"colorbar\":{\"outlinewidth\":0,\"ticks\":\"\"}}}],\"scatter3d\":[{\"type\":\"scatter3d\",\"line\":{\"colorbar\":{\"outlinewidth\":0,\"ticks\":\"\"}},\"marker\":{\"colorbar\":{\"outlinewidth\":0,\"ticks\":\"\"}}}],\"scattermapbox\":[{\"type\":\"scattermapbox\",\"marker\":{\"colorbar\":{\"outlinewidth\":0,\"ticks\":\"\"}}}],\"scatterternary\":[{\"type\":\"scatterternary\",\"marker\":{\"colorbar\":{\"outlinewidth\":0,\"ticks\":\"\"}}}],\"scattercarpet\":[{\"type\":\"scattercarpet\",\"marker\":{\"colorbar\":{\"outlinewidth\":0,\"ticks\":\"\"}}}],\"carpet\":[{\"aaxis\":{\"endlinecolor\":\"#2a3f5f\",\"gridcolor\":\"white\",\"linecolor\":\"white\",\"minorgridcolor\":\"white\",\"startlinecolor\":\"#2a3f5f\"},\"baxis\":{\"endlinecolor\":\"#2a3f5f\",\"gridcolor\":\"white\",\"linecolor\":\"white\",\"minorgridcolor\":\"white\",\"startlinecolor\":\"#2a3f5f\"},\"type\":\"carpet\"}],\"table\":[{\"cells\":{\"fill\":{\"color\":\"#EBF0F8\"},\"line\":{\"color\":\"white\"}},\"header\":{\"fill\":{\"color\":\"#C8D4E3\"},\"line\":{\"color\":\"white\"}},\"type\":\"table\"}],\"barpolar\":[{\"marker\":{\"line\":{\"color\":\"#E5ECF6\",\"width\":0.5},\"pattern\":{\"fillmode\":\"overlay\",\"size\":10,\"solidity\":0.2}},\"type\":\"barpolar\"}],\"pie\":[{\"automargin\":true,\"type\":\"pie\"}]},\"layout\":{\"autotypenumbers\":\"strict\",\"colorway\":[\"#636efa\",\"#EF553B\",\"#00cc96\",\"#ab63fa\",\"#FFA15A\",\"#19d3f3\",\"#FF6692\",\"#B6E880\",\"#FF97FF\",\"#FECB52\"],\"font\":{\"color\":\"#2a3f5f\"},\"hovermode\":\"closest\",\"hoverlabel\":{\"align\":\"left\"},\"paper_bgcolor\":\"white\",\"plot_bgcolor\":\"#E5ECF6\",\"polar\":{\"bgcolor\":\"#E5ECF6\",\"angularaxis\":{\"gridcolor\":\"white\",\"linecolor\":\"white\",\"ticks\":\"\"},\"radialaxis\":{\"gridcolor\":\"white\",\"linecolor\":\"white\",\"ticks\":\"\"}},\"ternary\":{\"bgcolor\":\"#E5ECF6\",\"aaxis\":{\"gridcolor\":\"white\",\"linecolor\":\"white\",\"ticks\":\"\"},\"baxis\":{\"gridcolor\":\"white\",\"linecolor\":\"white\",\"ticks\":\"\"},\"caxis\":{\"gridcolor\":\"white\",\"linecolor\":\"white\",\"ticks\":\"\"}},\"coloraxis\":{\"colorbar\":{\"outlinewidth\":0,\"ticks\":\"\"}},\"colorscale\":{\"sequential\":[[0.0,\"#0d0887\"],[0.1111111111111111,\"#46039f\"],[0.2222222222222222,\"#7201a8\"],[0.3333333333333333,\"#9c179e\"],[0.4444444444444444,\"#bd3786\"],[0.5555555555555556,\"#d8576b\"],[0.6666666666666666,\"#ed7953\"],[0.7777777777777778,\"#fb9f3a\"],[0.8888888888888888,\"#fdca26\"],[1.0,\"#f0f921\"]],\"sequentialminus\":[[0.0,\"#0d0887\"],[0.1111111111111111,\"#46039f\"],[0.2222222222222222,\"#7201a8\"],[0.3333333333333333,\"#9c179e\"],[0.4444444444444444,\"#bd3786\"],[0.5555555555555556,\"#d8576b\"],[0.6666666666666666,\"#ed7953\"],[0.7777777777777778,\"#fb9f3a\"],[0.8888888888888888,\"#fdca26\"],[1.0,\"#f0f921\"]],\"diverging\":[[0,\"#8e0152\"],[0.1,\"#c51b7d\"],[0.2,\"#de77ae\"],[0.3,\"#f1b6da\"],[0.4,\"#fde0ef\"],[0.5,\"#f7f7f7\"],[0.6,\"#e6f5d0\"],[0.7,\"#b8e186\"],[0.8,\"#7fbc41\"],[0.9,\"#4d9221\"],[1,\"#276419\"]]},\"xaxis\":{\"gridcolor\":\"white\",\"linecolor\":\"white\",\"ticks\":\"\",\"title\":{\"standoff\":15},\"zerolinecolor\":\"white\",\"automargin\":true,\"zerolinewidth\":2},\"yaxis\":{\"gridcolor\":\"white\",\"linecolor\":\"white\",\"ticks\":\"\",\"title\":{\"standoff\":15},\"zerolinecolor\":\"white\",\"automargin\":true,\"zerolinewidth\":2},\"scene\":{\"xaxis\":{\"backgroundcolor\":\"#E5ECF6\",\"gridcolor\":\"white\",\"linecolor\":\"white\",\"showbackground\":true,\"ticks\":\"\",\"zerolinecolor\":\"white\",\"gridwidth\":2},\"yaxis\":{\"backgroundcolor\":\"#E5ECF6\",\"gridcolor\":\"white\",\"linecolor\":\"white\",\"showbackground\":true,\"ticks\":\"\",\"zerolinecolor\":\"white\",\"gridwidth\":2},\"zaxis\":{\"backgroundcolor\":\"#E5ECF6\",\"gridcolor\":\"white\",\"linecolor\":\"white\",\"showbackground\":true,\"ticks\":\"\",\"zerolinecolor\":\"white\",\"gridwidth\":2}},\"shapedefaults\":{\"line\":{\"color\":\"#2a3f5f\"}},\"annotationdefaults\":{\"arrowcolor\":\"#2a3f5f\",\"arrowhead\":0,\"arrowwidth\":1},\"geo\":{\"bgcolor\":\"white\",\"landcolor\":\"#E5ECF6\",\"subunitcolor\":\"white\",\"showland\":true,\"showlakes\":true,\"lakecolor\":\"white\"},\"title\":{\"x\":0.05},\"mapbox\":{\"style\":\"light\"}}},\"scene\":{\"xaxis\":{\"title\":{\"text\":\"X\"}},\"yaxis\":{\"title\":{\"text\":\"Y\"}},\"zaxis\":{\"title\":{\"text\":\"Z\"}}}},                        {\"responsive\": true}                    ).then(function(){\n",
              "                            \n",
              "var gd = document.getElementById('5e87b754-b094-45ba-9452-5f41c07814c0');\n",
              "var x = new MutationObserver(function (mutations, observer) {{\n",
              "        var display = window.getComputedStyle(gd).display;\n",
              "        if (!display || display === 'none') {{\n",
              "            console.log([gd, 'removed!']);\n",
              "            Plotly.purge(gd);\n",
              "            observer.disconnect();\n",
              "        }}\n",
              "}});\n",
              "\n",
              "// Listen for the removal of the full notebook cells\n",
              "var notebookContainer = gd.closest('#notebook-container');\n",
              "if (notebookContainer) {{\n",
              "    x.observe(notebookContainer, {childList: true});\n",
              "}}\n",
              "\n",
              "// Listen for the clearing of the current output cell\n",
              "var outputEl = gd.closest('.output');\n",
              "if (outputEl) {{\n",
              "    x.observe(outputEl, {childList: true});\n",
              "}}\n",
              "\n",
              "                        })                };                            </script>        </div>\n",
              "</body>\n",
              "</html>"
            ]
          },
          "metadata": {},
          "output_type": "display_data"
        }
      ],
      "source": [
        "interactive_3d_visualization(train_data[106],\"test\")"
      ]
    },
    {
      "cell_type": "code",
      "execution_count": null,
      "metadata": {
        "colab": {
          "base_uri": "https://localhost:8080/",
          "height": 615
        },
        "id": "VAS30nfSDKe0",
        "outputId": "a004ca56-b807-45ee-bcc0-debc46984267"
      },
      "outputs": [
        {
          "name": "stdout",
          "output_type": "stream",
          "text": [
            "tensor(-0.9551)\n",
            "tensor(0.6685)\n",
            "tensor(-0.8961) tensor(0.6999)\n",
            "tensor(-0.5538) tensor(0.5305)\n"
          ]
        },
        {
          "data": {
            "text/html": [
              "<html>\n",
              "<head><meta charset=\"utf-8\" /></head>\n",
              "<body>\n",
              "    <div>            <script src=\"https://cdnjs.cloudflare.com/ajax/libs/mathjax/2.7.5/MathJax.js?config=TeX-AMS-MML_SVG\"></script><script type=\"text/javascript\">if (window.MathJax && window.MathJax.Hub && window.MathJax.Hub.Config) {window.MathJax.Hub.Config({SVG: {font: \"STIX-Web\"}});}</script>                <script type=\"text/javascript\">window.PlotlyConfig = {MathJaxConfig: 'local'};</script>\n",
              "        <script charset=\"utf-8\" src=\"https://cdn.plot.ly/plotly-2.24.1.min.js\"></script>                <div id=\"00ba53f1-5756-40af-b084-738836ae6d3c\" class=\"plotly-graph-div\" style=\"height:525px; width:100%;\"></div>            <script type=\"text/javascript\">                                    window.PLOTLYENV=window.PLOTLYENV || {};                                    if (document.getElementById(\"00ba53f1-5756-40af-b084-738836ae6d3c\")) {                    Plotly.newPlot(                        \"00ba53f1-5756-40af-b084-738836ae6d3c\",                        [{\"mode\":\"markers\",\"x\":[-0.25052404403686523,0.18114502727985382,0.14687493443489075,-0.17287319898605347,0.38681378960609436,0.446505069732666,-0.29192662239074707,-0.20662394165992737,0.21185517311096191,0.08803749829530716,-0.1516340970993042,0.2596772313117981,0.27305006980895996,-0.08385401219129562,-0.8923094272613525,-0.04540689289569855,0.45777997374534607,0.4315635561943054,-0.2928812801837921,0.09218443930149078,-0.5020676255226135,0.23336532711982727,-0.28523755073547363,0.3428875803947449,-0.020886875689029694,0.3665367364883423,0.47365802526474,-0.9159583449363708,-0.21294885873794556,0.09638158977031708,-0.24543239176273346,-0.1422908753156662,0.21091051399707794,-0.005411498248577118,-0.03732435405254364,0.10688386112451553,-0.18329359591007233,-0.5334195494651794,0.41046205163002014,0.30868151783943176,-0.21498456597328186,0.4075208008289337,-0.40172436833381653,0.2938098907470703,-0.35389944911003113,0.668541669845581,0.42188096046447754,0.5224855542182922,0.25771501660346985,-0.17456746101379395,0.17628240585327148,-0.6030612587928772,-0.2666614353656769,0.5482524037361145,-0.06580276787281036,-0.01224004290997982,0.4002012312412262,0.37236472964286804,0.17165017127990723,0.2702557146549225,0.37781232595443726,0.11568950116634369,-0.5677719116210938,-0.26826411485671997,0.4346979856491089,-0.68705815076828,0.644967794418335,-0.18601953983306885,0.2768852114677429,-0.19229218363761902,0.011640725657343864,0.2088409811258316,-0.3320096731185913,-0.33150559663772583,0.02244429662823677,0.2890569269657135,-0.2032262682914734,0.3884899914264679,-0.4239174425601959,-0.06866662949323654,0.3096555471420288,0.3249770700931549,-0.29031625390052795,0.35192668437957764,0.054418232291936874,-0.06561404466629028,-0.029060794040560722,0.2513957917690277,0.42539140582084656,-0.3357173800468445,0.4152209758758545,-0.44374603033065796,-0.06518229842185974,-0.09287311881780624,0.31046542525291443,-0.5294724106788635,-0.2824040353298187,0.022380990907549858,-0.2341221570968628,-0.05384994298219681,0.2312215119600296,0.3006458878517151,-0.3043026328086853,0.12862958014011383,0.18629996478557587,-0.5023713111877441,0.21510863304138184,-0.12787538766860962,0.13608318567276,-0.34286418557167053,-0.07621349394321442,0.14171847701072693,-0.19378627836704254,0.38630974292755127,0.2747538387775421,-0.07901928573846817,-0.2208246886730194,0.11613085865974426,-0.15344007313251495,0.32904186844825745,0.04734925180673599,-0.20472611486911774,-0.26842615008354187,-0.21608422696590424,0.36697185039520264,0.08554687350988388,0.2903021275997162,0.08947430551052094,-0.02587616629898548,-0.18917515873908997,-0.18608634173870087,-0.1596505343914032,0.39129719138145447,0.25491392612457275,0.4192492961883545,-0.2413196563720703,0.1487937569618225,0.27741870284080505,0.04698362946510315,0.2468617856502533,0.2760140299797058,-0.16311950981616974,-0.09274972975254059,-0.20569267868995667,-0.3544984757900238,-0.15599994361400604,-0.1331167370080948,0.05302521213889122,0.23853810131549835,-0.42428234219551086,-0.5950747132301331,0.282031387090683,-0.19417692720890045,-0.083553746342659,0.09123736619949341,0.37227171659469604,-0.28627893328666687,-0.09173507988452911,-0.3067513406276703,-0.052021026611328125,0.206798255443573,-0.09915322065353394,0.6415266394615173,-0.2782217860221863,0.500272274017334,0.43670254945755005,-0.31843850016593933,-0.0952247753739357,0.3749699294567108,-0.23780497908592224,0.010799490846693516,0.09849504381418228,-0.2038675993680954,-0.08103901892900467,0.44461384415626526,-0.2912815511226654,0.06583287566900253,0.2331656515598297,0.4075356125831604,-0.2672317326068878,0.03428209573030472,0.31970617175102234,-0.3266575336456299,-0.11503855884075165,-0.004844492767006159,0.2882205545902252,-0.30033010244369507,-0.32260453701019287,-0.3041422367095947,0.022294366732239723,-0.007299492601305246,-0.8246630430221558,-0.14348603785037994,0.0008304992807097733,0.1544339656829834,-0.13010188937187195,0.3800801932811737,-0.04940714314579964,0.051360346376895905,-0.2322709560394287,0.6380426287651062,0.5656924843788147,0.25140780210494995,0.22086644172668457,0.11198943853378296,-0.7518457770347595,0.3595294654369354,0.21972046792507172,-0.14506903290748596,-0.34144914150238037,0.14733931422233582,0.03746771067380905,0.2076055109500885,0.3914698362350464,-0.4047236442565918,0.1963995397090912,-0.056726451963186264,-0.14681023359298706,-0.24469085037708282,0.2956594228744507,-0.19354362785816193,0.24065813422203064,-0.1123822033405304,0.4988890290260315,-0.1503790020942688,0.37021762132644653,0.5452446341514587,0.3737952411174774,0.29151424765586853,0.32172703742980957,0.46585750579833984,0.25704386830329895,0.2705773413181305,-0.029625343158841133,0.29024097323417664,0.08759721368551254,-0.21697747707366943,0.28421398997306824,0.0018477265257388353,0.1272018849849701,-0.26541489362716675,0.1580265313386917,-0.19792670011520386,0.35952842235565186,0.03748204931616783,-0.23181243240833282,0.4884202182292938,0.050535496324300766,-0.23894329369068146,-0.3348948657512665,0.42353764176368713,-0.055823832750320435,0.4095616638660431,-0.09822658449411392,0.3228704333305359,-0.3663163185119629,-0.7247235178947449,0.11296308785676956,-0.062124378979206085,-0.2894921600818634,-0.06646069139242172,0.3203069269657135,-0.07735986262559891,-0.3452335596084595,0.304775208234787,-0.3059368133544922,-0.36234068870544434,-0.013231182470917702,0.17309600114822388,0.3172588348388672,0.1704079657793045,0.27002382278442383,0.2253541797399521,-0.24616405367851257,0.00398560194298625,0.34072887897491455,-0.3185284435749054,-0.2702140808105469,0.07391881197690964,-0.09305591881275177,-0.027168940752744675,0.6362148523330688,0.361924409866333,-0.3163786232471466,-0.3817450702190399,0.3782033324241638,-0.08624336123466492,-0.04928245395421982,0.10103379935026169,-0.35607627034187317,-0.5664995312690735,-0.31232404708862305,-0.09195248037576675,0.35660427808761597,-0.23073390126228333,0.3178032636642456,0.029958365485072136,0.17929573357105255,-0.2591402232646942,-0.373100608587265,0.0341552309691906,0.1962147206068039,-0.3774876296520233,-0.32230982184410095,-0.22500886023044586,0.1231929138302803,-0.29085469245910645,-0.35219910740852356,0.0021026607137173414,-0.08045677840709686,0.1684546321630478,-0.07041987776756287,0.2840867042541504,-0.6817656755447388,0.03448350727558136,-0.1680624932050705,0.1802990585565567,-0.09436338394880295,-0.05696586146950722,-0.21481774747371674,0.04946308210492134,0.003806209424510598,-0.1642618477344513,-0.21772024035453796,0.1758832037448883,0.5135892033576965,0.07632455229759216,0.19655944406986237,-0.1120343804359436,-0.49734261631965637,-0.29717034101486206,0.2752041816711426,-0.3770239055156708,0.4114833474159241,-0.29662203788757324,-0.28141358494758606,-0.10319103300571442,-0.22975791990756989,-0.21825383603572845,0.3192657232284546,0.15707248449325562,-0.05415927991271019,-0.28337350487709045,-0.07737953960895538,0.5496987104415894,-0.3132191300392151,-0.10710214823484421,-0.17933212220668793,-0.36051061749458313,-0.15048956871032715,-0.03975401073694229,-0.009372953325510025,-0.18470488488674164,0.14543800055980682,0.09186148643493652,-0.28055888414382935,0.14423878490924835,0.09674586355686188,0.24606738984584808,-0.3782418668270111,0.47718170285224915,0.16420188546180725,-0.5054303407669067,0.5272356867790222,0.03945783153176308,-0.20561322569847107,0.5066283941268921,0.13459065556526184,0.14159278571605682,0.274048388004303,-0.21129561960697174,0.09402541816234589,-0.4693145751953125,-0.5534375309944153,0.43880942463874817,0.26510587334632874,0.1867334246635437,0.2109384536743164,0.24959251284599304,-0.10915297269821167,0.19566147029399872,0.3711308538913727,-0.37740907073020935,0.41436901688575745,-0.2107875943183899,-0.5196143984794617,0.09955274313688278,-0.3712020814418793,-0.32823678851127625,-0.16044314205646515,-0.1967412680387497,-0.02288471907377243,0.22190050780773163,-0.14921920001506805,-0.25834769010543823,-0.08256210386753082,-0.3620574176311493,0.36519479751586914,-0.24541358649730682,-0.07112572342157364,-0.15998506546020508,0.39582425355911255,-0.04100951552391052,0.48052355647087097,-0.2392188310623169,0.15856309235095978,0.0447523333132267,0.21153414249420166,-0.5499083995819092,0.19322499632835388,0.082279272377491,0.05355675518512726,0.1368444263935089,-0.21371878683567047,-0.24242113530635834,0.3403021991252899,-0.1427932232618332,-0.3911256492137909,0.32987454533576965,-0.5798784494400024,0.21013687551021576,0.1209830790758133,0.3252311646938324,0.23214007914066315,0.3975399434566498,0.38754212856292725,-0.09945566207170486,-0.25563305616378784,0.36394941806793213,-0.4127114713191986,0.30346280336380005,-0.6536512970924377,-0.2737567722797394,-0.31746986508369446,0.15096569061279297,-0.08722538501024246,0.4951760768890381,-0.4014468491077423,-0.5676743388175964,0.4147830605506897,0.582180380821228,-0.20576074719429016,-0.27645015716552734,0.27987977862358093,-0.300792396068573,0.09004493057727814,0.31148040294647217,0.19396694004535675,-0.19397111237049103,-0.19623097777366638,0.2451310008764267,-0.20071779191493988,0.5440433621406555,-0.2262173891067505,-0.12814810872077942,0.3813929855823517,-0.47701358795166016,-0.42584607005119324,0.2290787696838379,-0.32205894589424133,0.0696466863155365,-0.2428799569606781,0.01543132122606039,0.5698809623718262,-0.9550580382347107,0.01619519293308258,-0.142677441239357,0.0071318550035357475,0.09192333370447159,-0.026524746790528297,0.24128681421279907,0.2454298883676529,-0.16215579211711884,-0.45421022176742554,-0.13239461183547974,0.1624772995710373,0.3314254581928253,-0.28949102759361267,-0.21845999360084534,0.5631922483444214,0.2589271366596222,-0.05848703905940056,-0.33269739151000977,0.05903809145092964,-0.0019141201628372073,0.32055729627609253,0.2865816354751587,0.403872549533844,0.1658327430486679,-0.06640081852674484,-0.6144762635231018,0.028823643922805786,-0.25554147362709045,-0.4739530682563782,0.1757005900144577,-0.10736723244190216,-0.4026632308959961,-0.08713964372873306,0.048016950488090515,-0.23594477772712708,-0.19467417895793915,-0.2825336456298828,0.29439711570739746,0.3841300308704376,0.14170768857002258,-0.355746328830719,0.09655959159135818,-0.13250881433486938,0.28435879945755005,-0.4805951416492462,0.09032480418682098,0.3084864020347595,-0.24210917949676514,-0.27648743987083435,-0.05064236372709274,-0.3439023792743683,0.3162926435470581,0.077947698533535,-0.32473453879356384,0.16616769134998322,-0.7065426707267761,0.26164212822914124,-0.6425521969795227,0.5244704484939575,0.5352755784988403,-0.743739128112793,0.3950340151786804,0.4990747570991516,-0.7932518124580383,-0.21667693555355072,-0.17565231025218964,0.4274631440639496,-0.15636377036571503,0.5033165812492371,-0.1814822107553482,0.2039441615343094,-0.5590939521789551,-0.04182078316807747,-0.2746719419956207,-0.14825429022312164,0.14613637328147888,-0.12701718509197235,0.10783365368843079,0.3779497742652893,0.40118852257728577,-0.3380996286869049,0.24323798716068268,0.1778176724910736,0.14528557658195496,-0.14155983924865723,-0.1935984194278717,0.5950167775154114,-0.3206503391265869,-0.009868103079497814,-0.5603793859481812,0.14440622925758362,-0.43583834171295166,0.03180362656712532,0.012291624210774899,-0.1842147707939148,0.1912943422794342,0.01392040029168129,0.048921313136816025,-0.20914320647716522,-0.2310936450958252,-0.038843538612127304,0.34279072284698486,0.3077724575996399,-0.2334718108177185,0.46263694763183594,0.12541820108890533,-0.4889736473560333,0.1361394077539444,-0.006783944088965654,0.23412416875362396,0.41581135988235474,-0.22060473263263702,0.14147955179214478,-0.06358423084020615,0.006492580287158489,0.536964476108551,-0.17251798510551453,0.05812777578830719,-0.021338235586881638,-0.1417425125837326,0.12103147059679031,0.4944784641265869,-0.025507334619760513,-0.15894688665866852,0.2559467852115631,-0.3160944879055023,0.3555587828159332,-0.5210692882537842,0.5727710127830505,-0.322079598903656,-0.5298065543174744,-0.5746702551841736,0.0009526009089313447,0.3738318383693695,0.14915470778942108,0.1934540718793869,-0.24108169972896576,-0.49734193086624146,0.07774898409843445,-0.3423529267311096,0.3696335256099701,0.06519773602485657,-0.6046004295349121,0.1100139319896698,-0.2489173710346222,0.49969860911369324,-0.03671674057841301,-0.1406642198562622,0.07307833433151245,-0.2502649128437042,-0.017931433394551277,-0.29081490635871887,0.3631748557090759,-0.2824840247631073,-0.5375745296478271,0.2925688922405243,-0.3512413501739502,0.32446402311325073,-0.1394956111907959,-0.0498921275138855,-0.10885197669267654,-0.2735847532749176,-0.45636478066444397,0.16672632098197937,0.3458672761917114,0.36104804277420044,-0.12986376881599426,-0.08537247776985168,-0.22223247587680817,0.23671062290668488,-0.6760554313659668,0.02819322980940342,0.5652666091918945,-0.340719997882843,-0.29009678959846497,-0.01768689602613449,-0.0035609565675258636,-0.3137192726135254,0.17041033506393433,0.16971208155155182,-0.3926107883453369,-0.09711924940347672,-0.10978022962808609,0.01783585362136364,-0.5505349636077881,-0.3074621856212616,0.10583601891994476,0.1203703060746193,-0.40376996994018555,0.31356099247932434,0.038769256323575974,0.048453863710165024,0.21472269296646118,0.10523728281259537,-0.16642753779888153,0.3101809620857239,-0.34882310032844543,-0.23054929077625275,0.33579492568969727,0.5779012441635132,0.5442039370536804,-0.01307576522231102,0.39658471941947937,-0.1311861127614975,0.4165569841861725,0.022118225693702698,0.2236737310886383,-0.5595627427101135,0.2656998932361603,0.018833264708518982,-0.08554523438215256,0.1762566715478897,-0.26114001870155334,-0.023775866255164146,-0.2102247178554535,0.10327921062707901,0.5110754370689392,0.48999640345573425,0.22749842703342438,-0.09859145432710648,0.0546322837471962,-0.11700869351625443,0.011294107884168625,-0.8042699694633484,0.6003977060317993,-0.210094153881073,-0.14868225157260895,0.11748410016298294,-0.07385645806789398,-0.2760578393936157,-0.18816055357456207,-0.10131756961345673,0.19396351277828217,-0.1679694652557373,0.2952073812484741,-0.025752635672688484,-0.24859274923801422,-0.26063230633735657,-0.20842599868774414,-0.3206695020198822,0.009031185880303383,0.5303293466567993,-0.31323784589767456,-0.04121837764978409,0.15597686171531677,0.3037472665309906,0.41091808676719666,-0.34991854429244995,0.292417973279953,-0.05620379000902176,0.15431895852088928,0.4234219789505005,0.35577818751335144,-0.3271084427833557,0.1845899224281311,0.31374961137771606,0.35755062103271484,-0.17158809304237366,0.2083664834499359,0.3466798663139343,-0.26988276839256287,-0.0571187399327755,-0.10942870378494263,-0.21649383008480072,-0.3380022943019867,-0.6661363840103149,0.35308876633644104,0.12809927761554718,-0.3054056167602539,0.5374177694320679,0.07352132350206375,0.5684340000152588,0.0993371456861496,0.2111620455980301,0.24361847341060638,-0.3565157651901245,0.10392364114522934,0.22989866137504578,0.3848188519477844,-0.9367271065711975,-0.2972421646118164,0.306892991065979,0.40733763575553894,0.08452446758747101,0.12922728061676025,0.4179433584213257,0.09892987459897995,0.08414578437805176,-0.3172076642513275,0.05810093507170677,0.11960484832525253,-0.21435707807540894,-0.003942898474633694,0.48675718903541565,0.034555669873952866,-0.29287436604499817,0.20911787450313568,-0.10344793647527695,-0.7607519030570984,0.4235313832759857,-0.5471461415290833,-0.09132520109415054,0.4220408797264099,0.15871192514896393,0.25128066539764404,0.2315719574689865,-0.23182258009910583,-0.1334097683429718,-0.1695609837770462,0.20598819851875305,0.30404388904571533,-0.15029945969581604,-0.8448780179023743,-0.23379607498645782,-0.32475191354751587,-0.048228755593299866,-0.702535092830658,0.3787384033203125,-0.5516881942749023,-0.31851765513420105,-0.11275450140237808,0.26241278648376465,0.16131484508514404,0.38387438654899597,0.21555902063846588,0.2542644441127777,0.262337327003479,0.07687365263700485,-0.476742148399353,0.21762168407440186,0.2258891761302948,0.5277597308158875,-0.5025221705436707,-0.18228141963481903,0.11299449950456619,0.014401007443666458,-0.10443747043609619,0.28585174679756165,-0.32604357600212097,-0.45413708686828613,-0.20063407719135284,0.40361538529396057,-0.22743576765060425,0.05116169899702072,-0.19479389488697052,-0.12435021251440048,-0.271756649017334,0.1491103321313858,-0.08386287838220596,-0.246771439909935,0.18597330152988434,0.4307190179824829,-0.14957119524478912,-0.24172155559062958,-0.13428695499897003,-0.04139736667275429,0.09281729906797409,-0.1054234579205513,-0.2707313299179077,-0.042041681706905365,0.3980458378791809,0.01021996047347784,-0.06623362004756927,-0.11715897917747498,0.5865103602409363,0.3710784912109375,0.19549565017223358,0.42656779289245605,-0.14136168360710144,0.27474603056907654,0.04527879133820534,0.6541499495506287,0.17511741816997528,-0.3253302276134491,-0.14883574843406677,-0.3729633390903473,0.3493610620498657,-0.3644711375236511,0.08411172777414322,-0.07886040955781937,0.04394235461950302,-0.4968622326850891,0.44154390692710876,-0.0663117989897728,-0.2948452830314636,-0.18748104572296143,-0.2515445053577423,-0.411006361246109,0.3449666202068329,-0.11357241868972778,-0.04880218952894211,0.008430693298578262,-0.20381149649620056,0.40575534105300903,6.0194357502041385e-05,0.4086712896823883,-0.395529180765152,-0.05981636047363281,-0.01882435567677021,0.6536465287208557,-0.5015314221382141,-0.2511287331581116,0.015192230232059956,-0.21434126794338226,-0.2880654036998749,0.17593207955360413,0.23742862045764923,0.18409746885299683,0.5737461447715759,-0.228032648563385,-0.07643674314022064,-0.3421396315097809,-0.06388015300035477,0.14951689541339874,0.23981918394565582,0.2974047064781189,-0.7094187140464783,-0.18457791209220886,-0.3069670796394348,-0.44635143876075745,-0.306690514087677,0.38307759165763855,0.27547913789749146,0.24093876779079437,-0.5308685302734375,0.2150709480047226,-0.526405930519104,0.03155175596475601,0.29848384857177734,0.376344233751297,-0.3169929087162018,0.6195131540298462,0.40502211451530457,0.28995123505592346,0.14732691645622253,0.44295236468315125,0.3438326418399811,0.38995957374572754,0.05690469592809677,0.29762887954711914,0.3081250786781311,-0.06101943925023079,0.6194811463356018,0.5522977709770203,-0.3296038508415222,-0.05134951323270798,0.08842779695987701,-0.04508932679891586,0.3806339204311371,-0.227218359708786,-0.1873512864112854,0.5324137210845947,-0.10012450814247131,-0.2625212073326111,-0.5273337364196777,0.2451389580965042,-0.3736778497695923,-0.2989499866962433,0.09433381259441376,0.14258481562137604,0.3130112588405609,-0.15975472331047058,0.20986488461494446,-0.20081603527069092,-0.5683234930038452,-0.7450830936431885,-0.002964303595945239,0.05055956169962883,0.519726574420929,-0.35204029083251953,0.5537179112434387,-0.14029666781425476,0.2723718285560608,-0.6667753458023071,0.4081646800041199,0.13319188356399536,0.5506147146224976,0.3874891698360443,-0.9275683164596558,0.45862480998039246,0.17310483753681183,0.045240115374326706,0.3012888431549072,0.252630352973938,-0.013497772626578808,-0.45944008231163025,0.042700547724962234,0.191372349858284,-0.010813471861183643,-0.24518060684204102,0.23635056614875793,0.3945012092590332,-0.01017447654157877,-0.14207811653614044,0.1862768828868866,0.33878469467163086,0.18123966455459595,0.5660889148712158,-0.32801249623298645,0.35713014006614685,-0.17303556203842163,-0.8932910561561584,-0.006631789263337851,-0.11610501259565353,0.5902652144432068,-0.15899819135665894,-0.11638959497213364,-0.22817480564117432,-0.15755917131900787,0.17025741934776306,-0.09023846685886383,-0.4808051586151123,-0.15837472677230835,0.5809164643287659,-0.11510733515024185,0.17022570967674255,0.071482352912426,-0.2803250253200531,-0.2298688143491745,0.1989557445049286,-0.03901060298085213,0.2954200208187103,0.3932935297489166,0.128821462392807,0.1571190506219864,0.4067701995372772,-0.578220009803772,-0.14537103474140167,-0.7324947714805603,-0.3377639651298523,-0.04396449029445648,0.2547307014465332,-0.38254809379577637,-0.16371099650859833,-0.17939557135105133,0.05236702039837837,0.007719454355537891,0.229746013879776,0.2798337936401367,-0.47884654998779297,-0.2120867222547531,0.6174327731132507,0.22300046682357788,0.5577433705329895,0.5701780319213867,-0.05676650255918503,0.08939345926046371,0.18270938098430634,-0.0006512629915960133,-0.5326600074768066,-0.17553046345710754,-0.15493008494377136,0.39396947622299194,0.49781203269958496,-0.1442870944738388,-0.09408987313508987,0.26206353306770325,-0.19635896384716034,-0.01214694231748581],\"y\":[-0.3781588673591614,0.1363944113254547,0.4060443043708801,0.22809022665023804,0.5278320908546448,0.20227748155593872,-0.37563836574554443,0.21064957976341248,0.3932030200958252,0.011940905824303627,0.1791667491197586,0.2488720864057541,0.49183547496795654,0.038959309458732605,-0.0018596929730847478,0.12720391154289246,0.1652420461177826,-0.13276930153369904,-0.38278430700302124,0.14021240174770355,-0.5741205811500549,-0.009334647096693516,0.16232527792453766,0.4886661469936371,-0.16718454658985138,-0.046946246176958084,-0.20894835889339447,0.015624068677425385,0.3666272461414337,0.3213447332382202,-0.5275605320930481,-0.407693475484848,0.16814981400966644,0.3177511990070343,-0.24050943553447723,0.17675332725048065,0.07915080338716507,0.2741803228855133,0.5908992886543274,0.02623719908297062,-0.4837932288646698,0.21684454381465912,0.14240328967571259,0.6162759065628052,-0.6498417258262634,-0.445981502532959,0.6366599798202515,-0.1731574386358261,0.40592628717422485,-0.2931775450706482,0.19851616024971008,0.14053811132907867,0.19222001731395721,-0.10800966620445251,-0.0905415341258049,0.1146501898765564,0.026860125362873077,0.448553204536438,0.2718729078769684,0.33760762214660645,0.004094369243830442,0.01791497878730297,-0.6091453433036804,0.1176997497677803,0.6713903546333313,0.05874684825539589,-0.40621325373649597,-0.24196401238441467,0.5802525281906128,0.19005465507507324,0.17794878780841827,0.3714265823364258,0.17850618064403534,-0.49027305841445923,-0.040681470185518265,0.06238073855638504,0.3329675793647766,-0.2511134445667267,0.07563428580760956,0.11486086249351501,0.4337846040725708,0.5410095453262329,-0.5949917435646057,0.01366038154810667,0.12786220014095306,-0.16400370001792908,0.22185033559799194,0.012434341013431549,0.6189894080162048,-0.7186374664306641,0.6998569965362549,0.09944254159927368,0.06675057113170624,-0.22357523441314697,0.5744499564170837,0.21249064803123474,-0.6596278548240662,-0.1356135755777359,-0.5701320767402649,-0.26940345764160156,0.5426020622253418,0.34015092253685,-0.48399248719215393,0.40076154470443726,0.4191156029701233,0.109877809882164,0.14386609196662903,0.16131971776485443,0.11780406534671783,-0.754082977771759,-0.3077266812324524,0.2667684853076935,-0.7155384421348572,0.6806713938713074,0.5944460034370422,0.280758261680603,-0.5549303889274597,0.08929595351219177,0.22612857818603516,0.36714407801628113,-0.08709877729415894,-0.20605996251106262,-0.5838397145271301,-0.4457465708255768,0.475070983171463,0.28346025943756104,0.29776015877723694,0.02962290495634079,0.18560650944709778,-0.2212710976600647,0.33844077587127686,-0.6624748706817627,-0.1873391568660736,0.24598686397075653,0.5986967086791992,0.27748236060142517,0.38262811303138733,0.3569876253604889,-0.036721643060445786,0.18355625867843628,-0.11986669152975082,-0.7569484710693359,0.236657977104187,-0.44901368021965027,-0.7750532627105713,-0.4118025600910187,0.10054130852222443,-0.0952717661857605,0.4669637680053711,0.14760515093803406,0.09775516390800476,0.21742254495620728,0.16381821036338806,-0.035828765481710434,0.2367599755525589,-0.07473374903202057,-0.6468958258628845,-0.1482468992471695,0.18523505330085754,0.07595346122980118,0.47854894399642944,-0.3345487117767334,-0.43300703167915344,-0.5042887330055237,-0.1402800977230072,-0.25881561636924744,0.20131772756576538,0.23474952578544617,0.49995338916778564,0.32876408100128174,-0.03198666870594025,0.3661731481552124,0.14308197796344757,0.028478175401687622,0.16499949991703033,-0.6864742040634155,0.15451763570308685,0.27472272515296936,-0.07212384045124054,-0.3133366107940674,0.08911015093326569,0.4547976553440094,-0.5163692831993103,-0.14342324435710907,0.1449974626302719,0.422208309173584,-0.47517359256744385,-0.6211423277854919,-0.6815605759620667,0.06523720920085907,-0.03977787122130394,0.05813123658299446,0.16384847462177277,0.19231949746608734,0.43110430240631104,-0.05698750913143158,0.07152600586414337,-0.0068485671654343605,0.27909937500953674,-0.34102663397789,-0.5320631861686707,-0.042988479137420654,0.14667809009552002,0.029301095753908157,0.27958744764328003,0.03495383635163307,0.41790705919265747,0.19076210260391235,0.34266397356987,-0.6265596747398376,0.2089247852563858,0.33712008595466614,0.1798545867204666,0.6174540519714355,0.19108489155769348,0.306592732667923,0.1256004124879837,-0.692408561706543,-0.5411806702613831,0.5370160937309265,-0.47266748547554016,0.5512902736663818,-0.1013866737484932,-0.2657087743282318,0.36795738339424133,-0.1068510189652443,-0.367916077375412,0.532924473285675,0.3410949409008026,-0.030074892565608025,-0.16111113131046295,0.21004661917686462,-0.00582070741802454,0.008373294025659561,0.355646014213562,0.19032558798789978,-0.42594248056411743,0.15091118216514587,0.07952111959457397,0.054985396564006805,-0.5576622486114502,0.10530038177967072,0.3804030418395996,0.5736697912216187,0.18483766913414001,0.15781602263450623,-0.1334100067615509,-0.009596366435289383,-0.5221819281578064,-0.6549107432365417,-0.19203868508338928,0.07907436043024063,0.16736212372779846,-0.09640849381685257,0.6261543035507202,-0.8352018594741821,0.06994785368442535,0.35566213726997375,0.1906241625547409,-0.6831962466239929,-0.28664636611938477,0.10230305045843124,-0.1305270493030548,-0.8228994607925415,0.1883118897676468,-0.4870774447917938,-0.8226933479309082,-0.08033281564712524,0.0934530720114708,0.1079554483294487,0.32588866353034973,0.5817649960517883,0.190203458070755,-0.6328763365745544,0.16493141651153564,0.6450387835502625,-0.508545994758606,0.1193053126335144,-0.052796293050050735,-0.2817389965057373,0.1259578913450241,-0.4716171622276306,0.518509566783905,-0.6558173298835754,0.07798419892787933,0.46414440870285034,-0.24534043669700623,0.16228042542934418,0.35773664712905884,-0.6943182945251465,0.14369100332260132,0.15883232653141022,0.05378143489360809,0.08155162632465363,0.15188594162464142,0.49223268032073975,-0.06935302168130875,0.13158327341079712,-0.5105738639831543,0.1738979071378708,0.2509414553642273,0.0011926194420084357,-0.6869258284568787,0.12340682744979858,0.11214795708656311,0.034290775656700134,-0.5549415946006775,-0.8704699277877808,-0.17537279427051544,-0.22148945927619934,0.09602456539869308,-0.20503726601600647,0.5853607654571533,0.09500923752784729,0.02341284789144993,0.34701430797576904,0.4350585341453552,-0.32452279329299927,0.027173107489943504,0.3296104669570923,0.2885761857032776,-0.06241010129451752,-0.3815207779407501,-0.46909764409065247,0.0040793707594275475,-0.09966427832841873,0.016242150217294693,0.052537959069013596,-0.03593932092189789,0.1512593924999237,-0.608715295791626,0.40688356757164,-0.8961383700370789,0.6343225836753845,-0.597868025302887,-0.5536133646965027,-0.03782828897237778,-0.521551787853241,-0.7005372643470764,0.641340970993042,0.39234301447868347,0.018363680690526962,-0.6082848310470581,0.21538713574409485,-0.13178682327270508,-0.6930446028709412,-0.7295265793800354,-0.577096164226532,0.15673477947711945,0.2078959345817566,0.13396938145160675,0.22295625507831573,0.0910433679819107,0.4195023477077484,0.2691844701766968,-0.5789476633071899,0.363660991191864,0.30438992381095886,0.5020847916603088,0.12780803442001343,-0.18314604461193085,0.2391965389251709,0.2529103457927704,-0.06921955943107605,0.048025522381067276,0.35660967230796814,-0.09492666274309158,0.32930225133895874,0.09590837359428406,0.4423423409461975,-0.5879308581352234,0.13392923772335052,0.1709592640399933,-0.5457878708839417,0.17875413596630096,0.2723599076271057,0.07829086482524872,0.511065661907196,0.546390950679779,-0.35656630992889404,0.17826683819293976,0.6313275098800659,-0.6216058135032654,-0.20444390177726746,0.09536027163267136,0.19288161396980286,0.07807047665119171,-0.8743871450424194,-0.4794772267341614,0.41477450728416443,-0.3349825143814087,-0.13637448847293854,0.08175840228796005,-0.07498875260353088,-0.49598076939582825,0.15951238572597504,-0.8522880673408508,-0.06893829256296158,0.17221567034721375,0.049411315470933914,0.09124767780303955,0.5753955245018005,0.024729108437895775,-0.243939608335495,0.24071502685546875,0.08002771437168121,0.3066622316837311,0.4448266923427582,0.2628515958786011,-0.07600336521863937,0.07740771025419235,0.33094894886016846,-0.016839444637298584,-0.3326624035835266,0.07561603933572769,0.6595436930656433,-0.7529582977294922,0.20209001004695892,0.5928791165351868,0.129535511136055,0.17619793117046356,0.2770761251449585,0.43157461285591125,-0.08066661655902863,-0.2317502796649933,-0.020478559657931328,0.19539538025856018,-0.5402076840400696,0.5484954118728638,-0.5533991456031799,0.3186804950237274,0.10889308899641037,0.16006909310817719,-0.46618905663490295,0.34577491879463196,0.24653607606887817,-0.1790025532245636,0.16573908925056458,0.1473819464445114,0.5685540437698364,-0.0996273010969162,-0.6431278586387634,-0.6239446401596069,0.30657222867012024,-0.5961452722549438,0.2301022857427597,0.46770551800727844,0.0521405003964901,-0.47026124596595764,-0.19894306361675262,0.306579053401947,-0.4863959848880768,-0.08028853684663773,0.21385979652404785,-0.165429025888443,-0.2710685133934021,-0.5410695672035217,0.16559633612632751,0.41522952914237976,-0.6306564807891846,0.31134602427482605,-0.5347850322723389,0.1496812254190445,-0.1271742880344391,-0.022925153374671936,0.28423357009887695,-0.09228059649467468,-0.1678180694580078,-0.027051959186792374,-0.12422540038824081,0.2628002464771271,0.23962993919849396,0.1955595761537552,-0.5222105979919434,0.37836483120918274,0.2993188500404358,0.37253162264823914,0.10786690562963486,-0.6105445027351379,-0.3378925621509552,0.23892152309417725,0.010157263837754726,-0.6397994160652161,0.07518824934959412,0.11549132317304611,-0.0536571703851223,0.3738614022731781,0.14442305266857147,0.03486289456486702,-0.28876975178718567,-0.6189112067222595,-0.02484723925590515,0.2167787253856659,0.24446025490760803,0.3037855923175812,0.15197555720806122,-0.5940216183662415,0.13748842477798462,0.03120124153792858,0.2592718303203583,-0.38758188486099243,-0.5273907780647278,0.4666312634944916,0.5052130222320557,0.2892196476459503,-0.6820492148399353,0.35005488991737366,0.12616384029388428,-0.07883907109498978,0.16111278533935547,0.1661694198846817,0.17063497006893158,-0.5219515562057495,-0.46825456619262695,0.14234524965286255,0.11890304088592529,0.6200816631317139,0.27309727668762207,-0.7837733030319214,0.43115586042404175,0.057704877108335495,0.5609198808670044,-0.6098726987838745,-0.16298949718475342,-0.30325984954833984,0.09943000972270966,-0.009150742553174496,-0.30791136622428894,0.06468377262353897,0.3686494827270508,-0.12878556549549103,0.6686842441558838,-0.3679421842098236,-0.24617578089237213,0.1778825968503952,0.4253673851490021,0.06953202933073044,0.08961300551891327,-0.32585594058036804,-0.417053759098053,0.22953985631465912,-0.3546024262905121,0.15695302188396454,-0.14012302458286285,0.5686166286468506,-0.6749933958053589,0.22966161370277405,0.09581445902585983,0.12548330426216125,-0.17995654046535492,0.31203436851501465,-0.40048035979270935,-0.7290534377098083,0.2682478427886963,0.2253999412059784,0.07700212299823761,0.12457109987735748,0.19170691072940826,0.11632932722568512,0.2081308513879776,0.4866929054260254,-0.05248608812689781,0.04793645814061165,0.355729341506958,-0.24942825734615326,0.2259909063577652,0.07210182398557663,0.4058269262313843,0.1845945566892624,0.18229591846466064,0.051321305334568024,0.2530861794948578,0.11034997552633286,-0.11647746711969376,0.2992453873157501,0.2047835886478424,0.2716957628726959,0.09733614325523376,0.16198161244392395,-0.013994226232171059,-0.12649625539779663,-0.4263720214366913,0.09488007426261902,0.07279640436172485,0.13421355187892914,0.38934555649757385,-0.1837482452392578,0.09175294637680054,-0.09248378127813339,0.07834795117378235,-0.5997676253318787,-0.14600230753421783,0.28608083724975586,-0.4252616763114929,-0.5943701863288879,0.191475048661232,0.08328843861818314,-0.16820518672466278,0.0454304963350296,0.28641483187675476,0.29619792103767395,-0.263955295085907,-0.5513820052146912,-0.05159454420208931,-0.6646373867988586,0.6063919067382812,0.19822944700717926,0.07932566106319427,0.3572588264942169,0.24360056221485138,-0.20299533009529114,-0.08097334206104279,-0.31271597743034363,-0.048452455550432205,-0.4941340386867523,0.1149742603302002,-0.4166659116744995,0.6705930233001709,-0.3648763597011566,0.20567940175533295,0.0006879532593302429,-0.6665163040161133,0.6088429689407349,-0.21928073465824127,0.15746836364269257,0.12942029535770416,-0.5075287818908691,0.15783487260341644,0.11057496815919876,0.3934139311313629,0.04451674968004227,-0.3423999845981598,-0.3053622543811798,-0.6589970588684082,-0.06337574124336243,0.11714336276054382,-0.04116080328822136,-0.30623072385787964,-0.7208939790725708,0.14029131829738617,0.17642523348331451,-0.04134810343384743,-0.7055993676185608,0.26080670952796936,0.09460494667291641,0.17341595888137817,-0.06948445737361908,0.11838354915380478,0.24001112580299377,0.16891492903232574,-0.5455082058906555,0.028372472152113914,0.32372796535491943,-0.5166766047477722,-0.18646767735481262,-0.10589595139026642,0.20791228115558624,0.255463182926178,0.37649255990982056,0.07583260536193848,0.3685988485813141,-0.6074708104133606,-0.469929039478302,0.5789474844932556,-0.07593400031328201,-0.2777244746685028,0.20183438062667847,0.5250770449638367,0.21188178658485413,-0.24749942123889923,0.3122175931930542,0.14375831186771393,0.05042186751961708,-0.022819358855485916,-0.15178562700748444,-0.08539555221796036,0.44316697120666504,-0.5593962669372559,-0.2039489895105362,0.08297336101531982,0.3309136629104614,-0.12827999889850616,-0.16124695539474487,0.2406143844127655,0.011279267258942127,0.2595447599887848,-0.14742134511470795,0.14178553223609924,0.08163163810968399,-0.45671552419662476,0.29488667845726013,0.1422054022550583,0.09309221804141998,0.0506446398794651,0.14511030912399292,0.2575717270374298,0.02859509550035,0.20467877388000488,-0.2733317017555237,0.4115341007709503,0.06743329018354416,-0.6001428365707397,-0.561072587966919,0.2880483567714691,-0.6746568083763123,0.034017570316791534,-0.2708703279495239,-0.6280776262283325,0.3036482334136963,0.02687000297009945,-0.1429155170917511,0.6813709735870361,-0.6850642561912537,0.14821650087833405,0.1234220638871193,0.2453460544347763,-0.1331980973482132,-0.09965381026268005,-0.8000563979148865,0.14467890560626984,0.37534016370773315,0.6734480857849121,0.23875755071640015,0.4209800660610199,0.3961900472640991,-0.6889855861663818,0.09763302654027939,-0.7685908079147339,0.16949518024921417,-0.7916837334632874,0.03390880674123764,-0.010504677891731262,0.35044604539871216,-0.434330552816391,-0.3447508215904236,0.2903705835342407,-0.09078441560268402,0.29544878005981445,0.34439775347709656,-0.09514345228672028,-0.5964440107345581,0.22174333035945892,0.11704010516405106,0.48294690251350403,0.007603310514241457,-0.4475717842578888,0.0758628323674202,0.14683640003204346,0.05515454709529877,0.38933616876602173,0.14740785956382751,-0.007879815064370632,0.35580649971961975,-0.7555617094039917,-0.0663277804851532,0.12014439702033997,-0.222770556807518,-0.1608080267906189,-0.181099072098732,0.0729597806930542,-0.6071386933326721,0.21145664155483246,-0.34701332449913025,0.018687572330236435,0.16151100397109985,0.1269901543855667,0.027299487963318825,-0.057432159781455994,0.37640002369880676,0.05443580076098442,-0.01508974377065897,0.09629501402378082,-0.11416638642549515,0.38651150465011597,0.17142066359519958,0.05933356285095215,0.08656110614538193,0.05151055008172989,0.2160281091928482,-0.7113369703292847,-0.2622073292732239,0.08264336735010147,0.07119935005903244,0.0939965546131134,-0.46660304069519043,-0.20064617693424225,0.21142297983169556,0.11839186400175095,0.5132700800895691,0.03215179964900017,0.547798216342926,0.061582647264003754,0.34228697419166565,-0.6294641494750977,0.5273573398590088,0.35983309149742126,-0.3908672332763672,0.2724951505661011,-0.6496604681015015,0.0019319927087053657,0.006375117227435112,-0.006795613095164299,0.46353620290756226,-0.5547508001327515,-0.6150428652763367,0.3075336515903473,0.605552613735199,0.0939735695719719,0.09085508435964584,0.37811732292175293,0.18079422414302826,-0.3560786843299866,0.08581402897834778,0.08294280618429184,-0.5265699028968811,0.37547093629837036,-0.2005256712436676,-0.24795573949813843,-0.33668968081474304,-0.3733947277069092,0.24592681229114532,0.05165649205446243,0.18386591970920563,-0.5166932344436646,-0.1546662598848343,0.5354922413825989,-0.12782974541187286,0.19356854259967804,-0.018533606082201004,-0.37948939204216003,0.4555811285972595,0.14726603031158447,0.6108826398849487,0.36198732256889343,0.10642465949058533,0.1032797172665596,-0.5646802186965942,0.10350222885608673,-0.6424652338027954,-0.16329310834407806,-0.6422973275184631,0.11673995107412338,-0.4765801727771759,-0.015548478811979294,0.07000467926263809,0.15098094940185547,0.20985504984855652,0.13655979931354523,0.23023824393749237,-0.646111786365509,-0.31185775995254517,0.11071042716503143,0.08761804550886154,0.45886701345443726,-0.29397106170654297,-0.11463296413421631,0.16656538844108582,-0.4620347321033478,-0.10818600654602051,0.22082850337028503,0.5882817506790161,-0.573648989200592,0.25133100152015686,0.16380198299884796,-0.5167005658149719,0.17011255025863647,0.13505534827709198,-0.1554517298936844,0.27288272976875305,0.22414985299110413,0.11311890184879303,0.2242315113544464,-0.03352360054850578,-0.45018675923347473,0.2576735019683838,0.2294185608625412,-0.8478480577468872,0.05338355153799057,0.36368444561958313,0.15411049127578735,0.12823279201984406,0.027248816564679146,-0.6998212337493896,-0.6301059722900391,-0.5351025462150574,0.2033892720937729,0.08702489733695984,0.3218177258968353,0.23849210143089294,0.04592609778046608,0.08865868300199509,0.28577157855033875,0.21655967831611633,-0.0618174709379673,0.1259448081254959,0.15511012077331543,-0.42576614022254944,0.20727761089801788,0.30629366636276245,0.1752842515707016,-0.14635106921195984,0.0915694609284401,0.49377351999282837,-0.08359985053539276,0.32019203901290894,0.33753129839897156,-0.2638240158557892,-0.3596656322479248,-0.14783114194869995,-0.6502969861030579,0.27342689037323,-0.026245713233947754,0.12875071167945862,0.1673893928527832,-0.487769216299057,-0.2570943832397461,-0.23613248765468597,0.012412060983479023,-0.3176362216472626,-0.6034820079803467,0.22149421274662018,-0.6125904321670532,-0.6579726338386536,0.34703513979911804,0.1543479561805725,0.4844009578227997,-0.40516769886016846,0.18985359370708466,-0.3126385807991028,-0.5975086092948914,0.06327220052480698,-0.013505629263818264,0.05302618816494942,-0.12609657645225525,-0.5873445272445679,-0.4182325303554535,-0.39676597714424133,0.19479437172412872,0.08541878312826157,0.6926384568214417,0.16769351065158844,-0.15952487289905548,0.577530562877655,-0.006716459058225155,-0.1893247663974762,0.29461991786956787,0.06141413748264313,-0.08646882325410843,0.23629383742809296,-0.18871361017227173,0.11394608020782471,-0.06452953070402145,0.11659946292638779,0.23589715361595154,-0.2764189839363098,0.5240729451179504,0.1874978095293045,-0.0011032965267077088,-0.11698272824287415,0.46811527013778687,0.4364587068557739,0.13272397220134735,-0.3728971779346466,-0.768144428730011,-0.17500680685043335,-0.3766046464443207,0.020556606352329254,0.13382501900196075,0.2550552487373352,-0.055601175874471664,-0.1645883321762085,-0.014263332821428776,-0.37920433282852173,0.2727552056312561,0.41630905866622925,-0.3296479880809784,0.08266319334506989,-0.3306029736995697,-0.0906781256198883,-0.7847937345504761,0.14784370362758636,0.2948633134365082,-0.4043208658695221,0.26095137000083923,0.2845393717288971,0.10250961780548096,0.5069280862808228,0.06855163723230362,0.05918365344405174,0.1583845168352127,-0.032542262226343155,0.18190696835517883,-0.7384182214736938,0.08828286081552505,-0.5098769664764404,-0.04609176144003868,0.09379509836435318,0.1165076196193695,-0.09480996429920197,-0.12313773483037949,-0.09482443332672119,0.18886704742908478,0.44460591673851013,0.2957111597061157,0.10097960382699966,-0.19854770600795746,-0.3964502811431885,0.008693091571331024,-0.39394059777259827,-0.2800840139389038,-0.2400101125240326,0.3098112642765045,0.11854187399148941,-0.08846236765384674,0.17960435152053833,-0.3354561924934387,-0.1277824342250824,-0.13521148264408112,-0.34789299964904785,0.12256942689418793,-0.051624130457639694,0.5761547684669495,-0.1621071845293045,0.16676154732704163],\"z\":[0.3357611894607544,-0.004768017213791609,-0.32304567098617554,-0.18397395312786102,-0.5134723782539368,0.03117724508047104,0.26764291524887085,-0.13774605095386505,-0.17802110314369202,0.06554794311523438,-0.09209790080785751,-0.15334516763687134,-0.48440611362457275,-0.004212877247482538,-0.08834731578826904,0.052776534110307693,0.01831602305173874,0.16005003452301025,0.294729083776474,-0.24739904701709747,0.3350963890552521,0.09528973698616028,-0.10975950211286545,-0.29967623949050903,0.1771804392337799,0.08975105732679367,0.23724962770938873,-0.11119627207517624,-0.21014852821826935,-0.12603725492954254,0.2529889643192291,0.2384340614080429,-0.2020140290260315,-0.21311426162719727,0.11592991650104523,-0.003495244076475501,-0.014030936174094677,-0.17525990307331085,-0.42472538352012634,0.06320275366306305,0.2628149092197418,0.013540908694267273,-0.13893525302410126,-0.4299483001232147,0.44978228211402893,0.4134501814842224,-0.5379352569580078,0.283180832862854,-0.2032158225774765,0.30201852321624756,-0.047140806913375854,-0.1594782918691635,-0.16513140499591827,0.1820739209651947,0.190824955701828,0.038984429091215134,0.04388735815882683,-0.40559929609298706,-0.07810493558645248,-0.1737937331199646,0.07391157001256943,-0.10141915827989578,0.3594713807106018,-0.06361696124076843,-0.5356621146202087,-0.10102465003728867,0.3822059631347656,0.094083771109581,-0.35496148467063904,-0.11320654302835464,-0.014133866876363754,-0.15780435502529144,-0.16234439611434937,0.29648301005363464,-0.09855280816555023,0.037149783223867416,-0.1365373581647873,0.27097398042678833,-0.06635994464159012,0.08847787976264954,-0.5007323026657104,-0.5189911723136902,0.3553773760795593,0.038992639631032944,-0.2117350548505783,-0.001273543806746602,-0.09506603330373764,0.07826679199934006,-0.5140701532363892,0.3095164895057678,-0.5459415912628174,-0.0996260792016983,-0.03566817194223404,0.25134962797164917,-0.33547669649124146,-0.10009125620126724,0.19665218889713287,0.018254265189170837,0.38420161604881287,0.18368202447891235,-0.3864738941192627,-0.24389810860157013,0.3821117877960205,-0.22397659718990326,-0.3919822871685028,-0.10856131464242935,-0.015430813655257225,-0.1078224703669548,0.113372303545475,0.2505691647529602,0.1872231811285019,-0.3281087875366211,0.48636525869369507,-0.4712815284729004,-0.4088316559791565,-0.1779334396123886,0.3723885416984558,0.03856828063726425,-0.139274001121521,-0.29966360330581665,0.07741976529359818,0.23826928436756134,0.26296910643577576,0.20379196107387543,-0.3341776728630066,-0.25759854912757874,-0.26354143023490906,-0.1467796117067337,-0.06096159294247627,0.09350109845399857,-0.20050401985645294,0.43709301948547363,0.21313124895095825,-0.28574398159980774,-0.45004597306251526,-0.11951883137226105,-0.3414088785648346,-0.19174377620220184,0.09319592267274857,-0.10653433203697205,0.17426204681396484,0.5141867399215698,-0.0039284005761146545,0.22725923359394073,0.26855209469795227,0.29223698377609253,-0.032259274274110794,0.022342046722769737,-0.2400287538766861,-0.1270461529493332,-0.10024401545524597,-0.12329424172639847,-0.12340018898248672,0.14964571595191956,-0.05393155664205551,0.13669979572296143,0.24891214072704315,-0.005088901147246361,-0.13725140690803528,-0.06834880262613297,-0.40711069107055664,0.17319875955581665,0.40089672803878784,0.396089643239975,0.27435845136642456,0.2701821029186249,-0.1547921597957611,-0.02721240743994713,-0.34986045956611633,-0.16721537709236145,0.127151221036911,-0.17916449904441833,-0.10000739246606827,0.0668468028306961,-0.008178679272532463,0.21746966242790222,0.012835544534027576,-0.37528178095817566,0.1103900671005249,0.2175125926733017,-0.18262533843517303,-0.5135751366615295,0.31205156445503235,0.006135039031505585,-0.13557757437229156,-0.48815643787384033,0.3072076141834259,0.302577942609787,0.265634685754776,0.07622619718313217,0.14074277877807617,-0.134193554520607,-0.07567661255598068,-0.03597836568951607,-0.3071390390396118,0.1385110765695572,0.08736799657344818,-0.08489125967025757,-0.10606109350919724,0.3191906213760376,0.47609713673591614,0.2198706567287445,-0.07427211850881577,0.0673675537109375,-0.2967108488082886,-0.09736641496419907,-0.3900357484817505,-0.1155833899974823,-0.19583448767662048,0.3524015545845032,-0.31530526280403137,-0.21374571323394775,-0.27012714743614197,-0.40551212430000305,-0.16484516859054565,-0.3885127902030945,-0.04735454544425011,0.46994051337242126,0.33215275406837463,-0.4955419600009918,0.2706090807914734,-0.35712701082229614,-0.005044965539127588,0.2687564790248871,-0.1717250645160675,0.16181154549121857,0.35724058747291565,-0.35229527950286865,-0.4188595712184906,0.0784851536154747,0.1837989240884781,-0.12710891664028168,0.06354804337024689,0.11992060393095016,-0.43610188364982605,-0.2573276162147522,0.2039513736963272,-0.03274543583393097,-0.15159004926681519,0.055152472108602524,0.21221713721752167,-0.20562905073165894,-0.17063041031360626,-0.5413464307785034,-0.015271349810063839,-0.1234687939286232,0.17466463148593903,0.1075856015086174,0.2285599708557129,0.31072866916656494,0.21288612484931946,0.06088530272245407,-0.014427447691559792,0.20000755786895752,-0.3935399055480957,0.253539115190506,-0.11843990534543991,-0.2725239396095276,-0.07749122381210327,0.19509685039520264,0.14778128266334534,-0.03474242240190506,-0.020350396633148193,0.20459483563899994,-0.09494931995868683,0.2737443149089813,0.2779994606971741,-0.06705185770988464,0.0663897767663002,-0.00342765636742115,-0.3665556311607361,-0.44529956579208374,-0.2122163474559784,0.4171578586101532,-0.14331066608428955,-0.3127583861351013,0.39226073026657104,-0.08438541740179062,-0.041601113975048065,0.2519495189189911,-0.09132631123065948,0.43651172518730164,-0.3323881924152374,0.3205430507659912,-0.0586937740445137,-0.4207528233528137,0.24708734452724457,-0.047208528965711594,-0.21891695261001587,0.3725677728652954,-0.15368174016475677,-0.1130874752998352,0.02018505521118641,0.01279172208160162,-0.08610551059246063,-0.28125202655792236,0.11518722027540207,-0.21786411106586456,0.22721004486083984,-0.16426219046115875,-0.08392761647701263,0.06980684399604797,0.45690247416496277,-0.08267450332641602,-0.06578952074050903,-0.02471577748656273,0.2671082019805908,0.20633815228939056,0.11587025225162506,0.04459177330136299,-0.01956310123205185,0.2312764674425125,-0.47204530239105225,-0.1324641853570938,0.027522584423422813,-0.236974835395813,-0.37923097610473633,0.23677586019039154,0.09344194829463959,-0.2081177532672882,-0.13218671083450317,-0.0813208520412445,0.17416395246982574,0.2400166392326355,0.0706382617354393,0.25829192996025085,-0.13819649815559387,0.046078767627477646,0.0005184507463127375,-0.16172552108764648,0.40177837014198303,-0.2160693109035492,0.23407091200351715,-0.443889856338501,0.3314301371574402,0.2447240948677063,0.1394886076450348,0.30984896421432495,0.4704897105693817,-0.4631957411766052,-0.18033736944198608,-0.08237510919570923,0.28234997391700745,-0.1603030413389206,0.2705686092376709,0.22087375819683075,0.48730573058128357,0.37443286180496216,-0.14642174541950226,-0.11887016147375107,-0.06131520867347717,-0.0879128947854042,-0.030687641352415085,-0.25934234261512756,-0.2711927890777588,0.33968254923820496,-0.3378344476222992,-0.27114760875701904,-0.4535905122756958,-0.09921916574239731,0.20171262323856354,-0.3394237756729126,-0.12290315330028534,0.2057916224002838,0.06799756735563278,-0.15234453976154327,0.23926995694637299,-0.1278228759765625,0.09377513825893402,-0.23232901096343994,0.39619845151901245,0.028466686606407166,-0.17249736189842224,0.3015502989292145,0.045856304466724396,-0.20422618091106415,0.045552246272563934,-0.3866807818412781,-0.43846967816352844,0.2028777003288269,-0.03319672867655754,-0.37467482686042786,0.3995642066001892,0.2386215180158615,-0.04199960455298424,-0.14241214096546173,0.05479782447218895,0.23348800837993622,0.3294566571712494,-0.19038955867290497,0.13836263120174408,-0.02090526930987835,-0.014233436435461044,0.07016097009181976,0.33058077096939087,-0.05983715131878853,0.22551341354846954,0.10917934030294418,-0.14203298091888428,0.08036567270755768,-0.01496933028101921,-0.3939156234264374,-0.09842400997877121,0.2640558183193207,-0.14246290922164917,-0.09579292684793472,-0.2216574251651764,-0.421904057264328,-0.1518765687942505,0.16340221464633942,-0.19722484052181244,-0.2246684432029724,0.1292920708656311,0.31807297468185425,-0.021420521661639214,-0.46739810705184937,0.5101377964019775,-0.18103528022766113,-0.3754784166812897,-0.10541971772909164,-0.13897605240345,-0.08503096550703049,-0.2685151994228363,0.14336396753787994,0.25573617219924927,0.09366031736135483,0.012991643510758877,0.305209755897522,-0.5431721210479736,0.33502480387687683,-0.3117206394672394,-0.13956484198570251,-0.13416597247123718,0.3606649935245514,-0.34737786650657654,-0.14251697063446045,0.21300151944160461,-0.16114912927150726,-0.11148113012313843,-0.445295125246048,0.18941643834114075,0.43604645133018494,0.24340008199214935,-0.3840690553188324,0.26141512393951416,-0.2666964530944824,-0.2658365070819855,0.019678348675370216,0.31055372953414917,0.10251925885677338,-0.16415365040302277,0.29388585686683655,0.2540287673473358,-0.14562641084194183,0.023234736174345016,0.29143431782722473,0.3108639121055603,-0.16441528499126434,-0.2014380246400833,0.3504089117050171,-0.15002277493476868,0.20952598750591278,0.012234587222337723,0.23054014146327972,-0.10263795405626297,-0.1392332762479782,0.03794257342815399,0.061371419578790665,0.00010005684453062713,0.1829260289669037,-0.357885479927063,-0.3160843849182129,-0.09848783910274506,0.2995702922344208,-0.2148066908121109,-0.3547808527946472,-0.37830880284309387,-0.0596042238175869,0.413168728351593,0.334328293800354,-0.09274981915950775,0.11203916370868683,0.3744170665740967,-0.18867772817611694,-0.14983829855918884,0.11681043356657028,-0.2187044322490692,0.06712385267019272,0.04251902177929878,0.19822317361831665,0.3550039529800415,0.11121408641338348,-0.142772376537323,-0.16214542090892792,-0.36994653940200806,-0.042891744524240494,0.38292598724365234,-0.03594338893890381,0.0427960567176342,-0.14952562749385834,0.17388199269771576,0.26421016454696655,-0.5066141486167908,-0.47799038887023926,-0.33061322569847107,0.4186306297779083,-0.23973850905895233,-0.048084747046232224,0.13119187951087952,-0.1517803817987442,-0.2558530569076538,-0.053271789103746414,0.29215237498283386,0.3790718913078308,-0.02886633202433586,-0.0837341696023941,-0.3184230625629425,-0.19629858434200287,0.18957743048667908,-0.2344687283039093,-0.11130591481924057,-0.44994184374809265,0.33839794993400574,0.20764856040477753,0.29801782965660095,-0.15404336154460907,0.06055121868848801,0.312114953994751,-0.12747031450271606,-0.18473362922668457,0.09126698970794678,-0.49345308542251587,0.3085741102695465,0.25238722562789917,-0.13681843876838684,-0.20903140306472778,-0.08469313383102417,0.07311413437128067,0.2508247494697571,0.26515114307403564,-0.32365554571151733,0.1643790453672409,0.010836890898644924,0.1871134340763092,-0.5163668990135193,0.30404040217399597,-0.14478302001953125,0.021750979125499725,-0.04782869666814804,0.24641866981983185,-0.2177000492811203,0.38164931535720825,0.2627173364162445,-0.19909626245498657,-0.12213653326034546,-0.17088042199611664,-0.12695848941802979,-0.18926537036895752,-0.16784478724002838,-0.12894779443740845,-0.3533037006855011,0.13120466470718384,0.09521372616291046,-0.17353565990924835,0.15280361473560333,-0.1658419668674469,-0.008022096008062363,-0.47934943437576294,-0.1184074655175209,-0.020264646038413048,-0.14889541268348694,-0.20698054134845734,-0.030844613909721375,0.162729874253273,-0.39602795243263245,-0.03450290486216545,-0.1588698774576187,0.04884260520339012,-0.02711418643593788,0.12144390493631363,0.20734147727489471,0.21988385915756226,-0.20167647302150726,-0.12483970820903778,-0.07685121893882751,-0.2528992295265198,0.27042055130004883,-0.11677924543619156,0.14201214909553528,-0.014055597595870495,0.42856279015541077,0.19185863435268402,-0.14524422585964203,0.39726102352142334,0.3379512131214142,-0.17840828001499176,-0.11012383550405502,0.03774777799844742,0.0341474711894989,-0.09072758257389069,-0.09766075015068054,0.2433505654335022,0.315629243850708,0.015861596912145615,0.42647773027420044,-0.37977978587150574,-0.2356511950492859,-0.09738369286060333,-0.25293493270874023,-0.19217336177825928,0.2321252077817917,-0.06252151727676392,0.11511679738759995,0.040006253868341446,0.37804052233695984,-0.12288299202919006,0.23992851376533508,-0.455249547958374,0.22489774227142334,-0.14356210827827454,0.0843106284737587,0.3536222577095032,-0.510289192199707,0.05239684134721756,-0.08828987181186676,-0.06388013809919357,0.26972320675849915,-0.14337807893753052,0.08698330819606781,-0.33865469694137573,0.07666284590959549,0.28494471311569214,0.14045417308807373,0.44732019305229187,0.1250649392604828,-0.1582929790019989,0.115359827876091,0.300271213054657,0.27305492758750916,-0.11436949670314789,-0.049788206815719604,-0.09556747227907181,0.26733145117759705,-0.35283616185188293,0.11743313819169998,-0.14443957805633545,0.17820067703723907,-0.039089128375053406,-0.09669212251901627,-0.16736924648284912,0.4140516221523285,0.0740589052438736,-0.3070487380027771,0.319954514503479,0.22983378171920776,-0.011080930009484291,-0.21350033581256866,-0.36172184348106384,-0.2341441661119461,-0.0014583884039893746,-0.4389263391494751,0.35792216658592224,0.20959925651550293,-0.5218138098716736,0.23792921006679535,0.28794392943382263,-0.06470787525177002,-0.39704790711402893,-0.16440963745117188,0.26726552844047546,-0.17213144898414612,-0.07290590554475784,-0.06884276866912842,0.10374093800783157,0.07085759192705154,-0.03426932916045189,-0.25034236907958984,0.33895039558410645,0.16884732246398926,-0.025248663499951363,-0.2702501714229584,0.22316747903823853,0.26907268166542053,-0.15510183572769165,0.008183085359632969,-0.18756794929504395,0.22966931760311127,-0.1662668138742447,-0.1492408663034439,0.42429855465888977,-0.18688324093818665,-0.05715750902891159,-0.2152819037437439,-0.027801020070910454,-0.09083069115877151,-0.18265388906002045,0.053079839795827866,-0.12828128039836884,0.2924017906188965,-0.23281152546405792,0.047042183578014374,0.39172956347465515,0.2637442648410797,-0.16713981330394745,0.2528959810733795,-0.1438789665699005,0.2720172703266144,0.2690819501876831,-0.19269466400146484,0.07231327891349792,0.19037187099456787,-0.5538309216499329,0.3363514542579651,-0.07374025881290436,-0.0029739367309957743,-0.05727861076593399,0.18013101816177368,0.13831306993961334,0.20623116195201874,-0.2411896288394928,-0.2553882896900177,-0.483548641204834,-0.15866471827030182,-0.41785749793052673,-0.3853299915790558,0.4664289355278015,0.03830960765480995,0.5169342160224915,-0.09924326837062836,0.24738655984401703,-0.07640058547258377,0.08812317252159119,-0.3138863146305084,0.268795907497406,0.3326689600944519,-0.22356879711151123,0.17185978591442108,-0.10274621099233627,-0.41164225339889526,0.15708886086940765,0.43335866928100586,-0.04041874781250954,0.0002680902252905071,-0.38830655813217163,-0.1058388203382492,0.36275556683540344,0.024280082434415817,0.01435150858014822,-0.17528963088989258,-0.1870415061712265,-0.017357971519231796,-0.08553516119718552,-0.19648928940296173,0.22519400715827942,0.06597773730754852,-0.2436612844467163,0.127054825425148,0.15032830834388733,0.2971174716949463,0.10417814552783966,0.2337356060743332,-0.31606507301330566,0.23566029965877533,-0.08178319036960602,0.060226067900657654,-0.14852802455425262,0.01851041428744793,0.10001515597105026,-0.3577343225479126,0.046505626291036606,0.12161856889724731,-0.04766390472650528,0.20299996435642242,-0.2516787648200989,-0.24566301703453064,0.00034384505124762654,0.011289943009614944,-0.12550707161426544,-0.18161243200302124,0.2360224425792694,0.15221986174583435,-0.13541288673877716,0.06013529747724533,-0.11668038368225098,0.29662826657295227,0.2579018771648407,-0.07726914435625076,0.008972558192908764,-0.36725160479545593,0.03570635989308357,-0.32620176672935486,0.0007872686837799847,-0.18260368704795837,0.3962049186229706,-0.3618226945400238,-0.42807528376579285,0.372910737991333,-0.1555659919977188,0.4276649057865143,0.08921666443347931,0.12148246169090271,0.09118704497814178,-0.24926400184631348,0.35544997453689575,0.38632601499557495,-0.1919851005077362,-0.5441999435424805,-0.007915258407592773,0.06372043490409851,-0.23462852835655212,-0.1306135356426239,0.3079683184623718,-0.005859458819031715,0.015074474737048149,0.36118316650390625,-0.3893788456916809,0.22968876361846924,0.28039059042930603,0.16728854179382324,0.2811221480369568,-0.12534619867801666,0.03722882270812988,-0.07376089692115784,0.3463838994503021,-0.008301260881125927,-0.4775997996330261,-0.013769583776593208,-0.13496831059455872,0.08151455968618393,0.35851457715034485,-0.3541528880596161,0.08830595761537552,-0.47711509466171265,-0.23381158709526062,-0.039825670421123505,0.08811447024345398,0.4610225260257721,0.047778815031051636,0.29358720779418945,0.23398952186107635,0.4567945897579193,-0.031719133257865906,0.2893312871456146,-0.09692603349685669,-0.008602453395724297,0.014473957009613514,-0.15250815451145172,0.014431987889111042,-0.012731486931443214,0.43679043650627136,0.12199605256319046,-0.05332840979099274,-0.049171190708875656,-0.5140698552131653,0.27162280678749084,0.195608451962471,-0.09275563061237335,0.3344915509223938,0.14047148823738098,-0.15635304152965546,-0.5197035670280457,0.3580208122730255,-0.1399473398923874,-0.01575097069144249,0.4580828845500946,-0.1669730693101883,-0.0996798425912857,0.0948977842926979,-0.20003381371498108,-0.17120401561260223,-0.16717606782913208,-0.2993691861629486,0.11421976238489151,0.4184471666812897,-0.17999868094921112,-0.1218632310628891,0.18628235161304474,-0.05524498596787453,-0.16910351812839508,-0.027927851304411888,-0.016563164070248604,-0.07902863621711731,0.4748225808143616,0.324485719203949,0.32625189423561096,-0.17935128509998322,0.03445251286029816,-0.20126739144325256,-0.1676928699016571,-0.0580577552318573,0.02322905883193016,-0.20051386952400208,-0.044354431331157684,0.13108345866203308,0.018528174608945847,-0.136821910738945,0.40104782581329346,-0.004203490447252989,-0.3440333306789398,-0.2915317714214325,0.1896304339170456,-0.02175910398364067,-0.43434563279151917,-0.010930819436907768,-0.2525245249271393,-0.2660621106624603,0.2139916568994522,0.34959763288497925,0.22178871929645538,0.39942529797554016,-0.20637348294258118,-0.06864486634731293,0.0756288394331932,0.00677834777161479,0.2385994791984558,0.28129106760025024,0.25609636306762695,0.07991546392440796,0.19327330589294434,0.36420881748199463,-0.22528739273548126,0.43159520626068115,0.2748970687389374,-0.1577526032924652,-0.2743995785713196,-0.5199559330940247,0.20247501134872437,-0.04290444403886795,0.3091093897819519,0.34256792068481445,-0.12486638128757477,-0.1134587824344635,0.04793408513069153,0.2832188308238983,0.3915979564189911,0.394672155380249,0.2755674421787262,-0.06632562726736069,-0.12055359780788422,-0.4978020489215851,-0.004131102003157139,0.24572347104549408,-0.5421451330184937,-0.09114114940166473,0.2224302738904953,-0.09579084068536758,0.14738048613071442,0.14897748827934265,-0.25284844636917114,0.15447838604450226,-0.10328736901283264,-0.06794522702693939,0.08097214996814728,-0.17243169248104095,0.17395706474781036,-0.30770277976989746,0.010182452388107777,0.12150111794471741,0.031515300273895264,-0.3690871298313141,-0.49648457765579224,-0.0966186374425888,0.36097002029418945,0.2441537231206894,0.2142014354467392,0.32116425037384033,-0.10720457881689072,0.02280769869685173,-0.1600871980190277,0.2128421515226364,0.05361071228981018,0.058733224868774414,0.17478047311306,-0.19586680829524994,-0.369649201631546,0.19526709616184235,-0.08855177462100983,0.3077501654624939,0.21999995410442352,0.5304877758026123,0.08267707377672195,-0.1084347739815712,0.22484548389911652,-0.12588275969028473,-0.3784414529800415,0.05353046581149101,-0.502149224281311,0.025968298316001892,-0.01837119646370411,-0.018344542011618614,0.07949952781200409,-0.10122016072273254,0.494582861661911,-0.1365622580051422,0.36916685104370117,-0.07877808809280396,-0.028125517070293427,-0.06798460334539413,0.1012800857424736,0.12020925432443619,0.04308456555008888,-0.12015029788017273,-0.2223960906267166,-0.3597646951675415,-0.10891442745923996,0.20873118937015533,0.37190568447113037,0.0572219043970108,0.3723931908607483,0.2827613949775696,0.21614673733711243,-0.2216823250055313,-0.1444036066532135,0.15265266597270966,-0.11765552312135696,0.13420553505420685,0.04961550980806351,0.1653040051460266,0.3395509123802185,-0.029685694724321365,0.16152332723140717,-0.37626591324806213,0.12119872868061066,-0.09490770101547241],\"type\":\"scatter3d\"}],                        {\"template\":{\"data\":{\"histogram2dcontour\":[{\"type\":\"histogram2dcontour\",\"colorbar\":{\"outlinewidth\":0,\"ticks\":\"\"},\"colorscale\":[[0.0,\"#0d0887\"],[0.1111111111111111,\"#46039f\"],[0.2222222222222222,\"#7201a8\"],[0.3333333333333333,\"#9c179e\"],[0.4444444444444444,\"#bd3786\"],[0.5555555555555556,\"#d8576b\"],[0.6666666666666666,\"#ed7953\"],[0.7777777777777778,\"#fb9f3a\"],[0.8888888888888888,\"#fdca26\"],[1.0,\"#f0f921\"]]}],\"choropleth\":[{\"type\":\"choropleth\",\"colorbar\":{\"outlinewidth\":0,\"ticks\":\"\"}}],\"histogram2d\":[{\"type\":\"histogram2d\",\"colorbar\":{\"outlinewidth\":0,\"ticks\":\"\"},\"colorscale\":[[0.0,\"#0d0887\"],[0.1111111111111111,\"#46039f\"],[0.2222222222222222,\"#7201a8\"],[0.3333333333333333,\"#9c179e\"],[0.4444444444444444,\"#bd3786\"],[0.5555555555555556,\"#d8576b\"],[0.6666666666666666,\"#ed7953\"],[0.7777777777777778,\"#fb9f3a\"],[0.8888888888888888,\"#fdca26\"],[1.0,\"#f0f921\"]]}],\"heatmap\":[{\"type\":\"heatmap\",\"colorbar\":{\"outlinewidth\":0,\"ticks\":\"\"},\"colorscale\":[[0.0,\"#0d0887\"],[0.1111111111111111,\"#46039f\"],[0.2222222222222222,\"#7201a8\"],[0.3333333333333333,\"#9c179e\"],[0.4444444444444444,\"#bd3786\"],[0.5555555555555556,\"#d8576b\"],[0.6666666666666666,\"#ed7953\"],[0.7777777777777778,\"#fb9f3a\"],[0.8888888888888888,\"#fdca26\"],[1.0,\"#f0f921\"]]}],\"heatmapgl\":[{\"type\":\"heatmapgl\",\"colorbar\":{\"outlinewidth\":0,\"ticks\":\"\"},\"colorscale\":[[0.0,\"#0d0887\"],[0.1111111111111111,\"#46039f\"],[0.2222222222222222,\"#7201a8\"],[0.3333333333333333,\"#9c179e\"],[0.4444444444444444,\"#bd3786\"],[0.5555555555555556,\"#d8576b\"],[0.6666666666666666,\"#ed7953\"],[0.7777777777777778,\"#fb9f3a\"],[0.8888888888888888,\"#fdca26\"],[1.0,\"#f0f921\"]]}],\"contourcarpet\":[{\"type\":\"contourcarpet\",\"colorbar\":{\"outlinewidth\":0,\"ticks\":\"\"}}],\"contour\":[{\"type\":\"contour\",\"colorbar\":{\"outlinewidth\":0,\"ticks\":\"\"},\"colorscale\":[[0.0,\"#0d0887\"],[0.1111111111111111,\"#46039f\"],[0.2222222222222222,\"#7201a8\"],[0.3333333333333333,\"#9c179e\"],[0.4444444444444444,\"#bd3786\"],[0.5555555555555556,\"#d8576b\"],[0.6666666666666666,\"#ed7953\"],[0.7777777777777778,\"#fb9f3a\"],[0.8888888888888888,\"#fdca26\"],[1.0,\"#f0f921\"]]}],\"surface\":[{\"type\":\"surface\",\"colorbar\":{\"outlinewidth\":0,\"ticks\":\"\"},\"colorscale\":[[0.0,\"#0d0887\"],[0.1111111111111111,\"#46039f\"],[0.2222222222222222,\"#7201a8\"],[0.3333333333333333,\"#9c179e\"],[0.4444444444444444,\"#bd3786\"],[0.5555555555555556,\"#d8576b\"],[0.6666666666666666,\"#ed7953\"],[0.7777777777777778,\"#fb9f3a\"],[0.8888888888888888,\"#fdca26\"],[1.0,\"#f0f921\"]]}],\"mesh3d\":[{\"type\":\"mesh3d\",\"colorbar\":{\"outlinewidth\":0,\"ticks\":\"\"}}],\"scatter\":[{\"fillpattern\":{\"fillmode\":\"overlay\",\"size\":10,\"solidity\":0.2},\"type\":\"scatter\"}],\"parcoords\":[{\"type\":\"parcoords\",\"line\":{\"colorbar\":{\"outlinewidth\":0,\"ticks\":\"\"}}}],\"scatterpolargl\":[{\"type\":\"scatterpolargl\",\"marker\":{\"colorbar\":{\"outlinewidth\":0,\"ticks\":\"\"}}}],\"bar\":[{\"error_x\":{\"color\":\"#2a3f5f\"},\"error_y\":{\"color\":\"#2a3f5f\"},\"marker\":{\"line\":{\"color\":\"#E5ECF6\",\"width\":0.5},\"pattern\":{\"fillmode\":\"overlay\",\"size\":10,\"solidity\":0.2}},\"type\":\"bar\"}],\"scattergeo\":[{\"type\":\"scattergeo\",\"marker\":{\"colorbar\":{\"outlinewidth\":0,\"ticks\":\"\"}}}],\"scatterpolar\":[{\"type\":\"scatterpolar\",\"marker\":{\"colorbar\":{\"outlinewidth\":0,\"ticks\":\"\"}}}],\"histogram\":[{\"marker\":{\"pattern\":{\"fillmode\":\"overlay\",\"size\":10,\"solidity\":0.2}},\"type\":\"histogram\"}],\"scattergl\":[{\"type\":\"scattergl\",\"marker\":{\"colorbar\":{\"outlinewidth\":0,\"ticks\":\"\"}}}],\"scatter3d\":[{\"type\":\"scatter3d\",\"line\":{\"colorbar\":{\"outlinewidth\":0,\"ticks\":\"\"}},\"marker\":{\"colorbar\":{\"outlinewidth\":0,\"ticks\":\"\"}}}],\"scattermapbox\":[{\"type\":\"scattermapbox\",\"marker\":{\"colorbar\":{\"outlinewidth\":0,\"ticks\":\"\"}}}],\"scatterternary\":[{\"type\":\"scatterternary\",\"marker\":{\"colorbar\":{\"outlinewidth\":0,\"ticks\":\"\"}}}],\"scattercarpet\":[{\"type\":\"scattercarpet\",\"marker\":{\"colorbar\":{\"outlinewidth\":0,\"ticks\":\"\"}}}],\"carpet\":[{\"aaxis\":{\"endlinecolor\":\"#2a3f5f\",\"gridcolor\":\"white\",\"linecolor\":\"white\",\"minorgridcolor\":\"white\",\"startlinecolor\":\"#2a3f5f\"},\"baxis\":{\"endlinecolor\":\"#2a3f5f\",\"gridcolor\":\"white\",\"linecolor\":\"white\",\"minorgridcolor\":\"white\",\"startlinecolor\":\"#2a3f5f\"},\"type\":\"carpet\"}],\"table\":[{\"cells\":{\"fill\":{\"color\":\"#EBF0F8\"},\"line\":{\"color\":\"white\"}},\"header\":{\"fill\":{\"color\":\"#C8D4E3\"},\"line\":{\"color\":\"white\"}},\"type\":\"table\"}],\"barpolar\":[{\"marker\":{\"line\":{\"color\":\"#E5ECF6\",\"width\":0.5},\"pattern\":{\"fillmode\":\"overlay\",\"size\":10,\"solidity\":0.2}},\"type\":\"barpolar\"}],\"pie\":[{\"automargin\":true,\"type\":\"pie\"}]},\"layout\":{\"autotypenumbers\":\"strict\",\"colorway\":[\"#636efa\",\"#EF553B\",\"#00cc96\",\"#ab63fa\",\"#FFA15A\",\"#19d3f3\",\"#FF6692\",\"#B6E880\",\"#FF97FF\",\"#FECB52\"],\"font\":{\"color\":\"#2a3f5f\"},\"hovermode\":\"closest\",\"hoverlabel\":{\"align\":\"left\"},\"paper_bgcolor\":\"white\",\"plot_bgcolor\":\"#E5ECF6\",\"polar\":{\"bgcolor\":\"#E5ECF6\",\"angularaxis\":{\"gridcolor\":\"white\",\"linecolor\":\"white\",\"ticks\":\"\"},\"radialaxis\":{\"gridcolor\":\"white\",\"linecolor\":\"white\",\"ticks\":\"\"}},\"ternary\":{\"bgcolor\":\"#E5ECF6\",\"aaxis\":{\"gridcolor\":\"white\",\"linecolor\":\"white\",\"ticks\":\"\"},\"baxis\":{\"gridcolor\":\"white\",\"linecolor\":\"white\",\"ticks\":\"\"},\"caxis\":{\"gridcolor\":\"white\",\"linecolor\":\"white\",\"ticks\":\"\"}},\"coloraxis\":{\"colorbar\":{\"outlinewidth\":0,\"ticks\":\"\"}},\"colorscale\":{\"sequential\":[[0.0,\"#0d0887\"],[0.1111111111111111,\"#46039f\"],[0.2222222222222222,\"#7201a8\"],[0.3333333333333333,\"#9c179e\"],[0.4444444444444444,\"#bd3786\"],[0.5555555555555556,\"#d8576b\"],[0.6666666666666666,\"#ed7953\"],[0.7777777777777778,\"#fb9f3a\"],[0.8888888888888888,\"#fdca26\"],[1.0,\"#f0f921\"]],\"sequentialminus\":[[0.0,\"#0d0887\"],[0.1111111111111111,\"#46039f\"],[0.2222222222222222,\"#7201a8\"],[0.3333333333333333,\"#9c179e\"],[0.4444444444444444,\"#bd3786\"],[0.5555555555555556,\"#d8576b\"],[0.6666666666666666,\"#ed7953\"],[0.7777777777777778,\"#fb9f3a\"],[0.8888888888888888,\"#fdca26\"],[1.0,\"#f0f921\"]],\"diverging\":[[0,\"#8e0152\"],[0.1,\"#c51b7d\"],[0.2,\"#de77ae\"],[0.3,\"#f1b6da\"],[0.4,\"#fde0ef\"],[0.5,\"#f7f7f7\"],[0.6,\"#e6f5d0\"],[0.7,\"#b8e186\"],[0.8,\"#7fbc41\"],[0.9,\"#4d9221\"],[1,\"#276419\"]]},\"xaxis\":{\"gridcolor\":\"white\",\"linecolor\":\"white\",\"ticks\":\"\",\"title\":{\"standoff\":15},\"zerolinecolor\":\"white\",\"automargin\":true,\"zerolinewidth\":2},\"yaxis\":{\"gridcolor\":\"white\",\"linecolor\":\"white\",\"ticks\":\"\",\"title\":{\"standoff\":15},\"zerolinecolor\":\"white\",\"automargin\":true,\"zerolinewidth\":2},\"scene\":{\"xaxis\":{\"backgroundcolor\":\"#E5ECF6\",\"gridcolor\":\"white\",\"linecolor\":\"white\",\"showbackground\":true,\"ticks\":\"\",\"zerolinecolor\":\"white\",\"gridwidth\":2},\"yaxis\":{\"backgroundcolor\":\"#E5ECF6\",\"gridcolor\":\"white\",\"linecolor\":\"white\",\"showbackground\":true,\"ticks\":\"\",\"zerolinecolor\":\"white\",\"gridwidth\":2},\"zaxis\":{\"backgroundcolor\":\"#E5ECF6\",\"gridcolor\":\"white\",\"linecolor\":\"white\",\"showbackground\":true,\"ticks\":\"\",\"zerolinecolor\":\"white\",\"gridwidth\":2}},\"shapedefaults\":{\"line\":{\"color\":\"#2a3f5f\"}},\"annotationdefaults\":{\"arrowcolor\":\"#2a3f5f\",\"arrowhead\":0,\"arrowwidth\":1},\"geo\":{\"bgcolor\":\"white\",\"landcolor\":\"#E5ECF6\",\"subunitcolor\":\"white\",\"showland\":true,\"showlakes\":true,\"lakecolor\":\"white\"},\"title\":{\"x\":0.05},\"mapbox\":{\"style\":\"light\"}}},\"scene\":{\"xaxis\":{\"title\":{\"text\":\"X\"}},\"yaxis\":{\"title\":{\"text\":\"Y\"}},\"zaxis\":{\"title\":{\"text\":\"Z\"}}}},                        {\"responsive\": true}                    ).then(function(){\n",
              "                            \n",
              "var gd = document.getElementById('00ba53f1-5756-40af-b084-738836ae6d3c');\n",
              "var x = new MutationObserver(function (mutations, observer) {{\n",
              "        var display = window.getComputedStyle(gd).display;\n",
              "        if (!display || display === 'none') {{\n",
              "            console.log([gd, 'removed!']);\n",
              "            Plotly.purge(gd);\n",
              "            observer.disconnect();\n",
              "        }}\n",
              "}});\n",
              "\n",
              "// Listen for the removal of the full notebook cells\n",
              "var notebookContainer = gd.closest('#notebook-container');\n",
              "if (notebookContainer) {{\n",
              "    x.observe(notebookContainer, {childList: true});\n",
              "}}\n",
              "\n",
              "// Listen for the clearing of the current output cell\n",
              "var outputEl = gd.closest('.output');\n",
              "if (outputEl) {{\n",
              "    x.observe(outputEl, {childList: true});\n",
              "}}\n",
              "\n",
              "                        })                };                            </script>        </div>\n",
              "</body>\n",
              "</html>"
            ]
          },
          "metadata": {},
          "output_type": "display_data"
        }
      ],
      "source": [
        "interactive_3d_visualization(batch_data[0][3],\"test\")"
      ]
    }
  ]
}