{
  "cells": [
    {
      "cell_type": "markdown",
      "metadata": {
        "id": "view-in-github",
        "colab_type": "text"
      },
      "source": [
        "<a href=\"https://colab.research.google.com/github/sbc806/cpsc_533y_project/blob/master/run_nlgat.ipynb\" target=\"_parent\"><img src=\"https://colab.research.google.com/assets/colab-badge.svg\" alt=\"Open In Colab\"/></a>"
      ]
    },
    {
      "cell_type": "code",
      "source": [
        "!git clone https://github.com/sbc806/cpsc_533y_project.git"
      ],
      "metadata": {
        "colab": {
          "base_uri": "https://localhost:8080/"
        },
        "id": "9ybMTMHRCOCz",
        "outputId": "cf534a13-62c6-4712-f1d6-e8ceb880359e"
      },
      "execution_count": 3,
      "outputs": [
        {
          "output_type": "stream",
          "name": "stdout",
          "text": [
            "Cloning into 'cpsc_533y_project'...\n",
            "remote: Enumerating objects: 46, done.\u001b[K\n",
            "remote: Counting objects: 100% (36/36), done.\u001b[K\n",
            "remote: Compressing objects: 100% (32/32), done.\u001b[K\n",
            "remote: Total 46 (delta 14), reused 16 (delta 4), pack-reused 10\u001b[K\n",
            "Receiving objects: 100% (46/46), 275.82 KiB | 8.11 MiB/s, done.\n",
            "Resolving deltas: 100% (14/14), done.\n"
          ]
        }
      ]
    },
    {
      "cell_type": "code",
      "execution_count": 4,
      "metadata": {
        "id": "97zqHHP90idz"
      },
      "outputs": [],
      "source": [
        "import sys as sys\n",
        "\n",
        "sys.path.append(\"/content/cpsc_533y_project\")"
      ]
    },
    {
      "cell_type": "markdown",
      "metadata": {
        "id": "QwW_m4FZQE7C"
      },
      "source": [
        "Read in data"
      ]
    },
    {
      "cell_type": "code",
      "execution_count": 5,
      "metadata": {
        "colab": {
          "base_uri": "https://localhost:8080/"
        },
        "id": "-Anb4xHnQDHL",
        "outputId": "57b070bd-a135-4c27-e1ad-eb1030b3ef20"
      },
      "outputs": [
        {
          "output_type": "stream",
          "name": "stdout",
          "text": [
            "Collecting open3d\n",
            "  Downloading open3d-0.17.0-cp310-cp310-manylinux_2_27_x86_64.whl (420.5 MB)\n",
            "\u001b[2K     \u001b[90m━━━━━━━━━━━━━━━━━━━━━━━━━━━━━━━━━━━━━━━━\u001b[0m \u001b[32m420.5/420.5 MB\u001b[0m \u001b[31m2.5 MB/s\u001b[0m eta \u001b[36m0:00:00\u001b[0m\n",
            "\u001b[?25hRequirement already satisfied: numpy>=1.18.0 in /usr/local/lib/python3.10/dist-packages (from open3d) (1.23.5)\n",
            "Collecting dash>=2.6.0 (from open3d)\n",
            "  Downloading dash-2.14.2-py3-none-any.whl (10.2 MB)\n",
            "\u001b[2K     \u001b[90m━━━━━━━━━━━━━━━━━━━━━━━━━━━━━━━━━━━━━━━━\u001b[0m \u001b[32m10.2/10.2 MB\u001b[0m \u001b[31m87.7 MB/s\u001b[0m eta \u001b[36m0:00:00\u001b[0m\n",
            "\u001b[?25hRequirement already satisfied: werkzeug>=2.2.3 in /usr/local/lib/python3.10/dist-packages (from open3d) (3.0.1)\n",
            "Collecting nbformat==5.7.0 (from open3d)\n",
            "  Downloading nbformat-5.7.0-py3-none-any.whl (77 kB)\n",
            "\u001b[2K     \u001b[90m━━━━━━━━━━━━━━━━━━━━━━━━━━━━━━━━━━━━━━━━\u001b[0m \u001b[32m77.1/77.1 kB\u001b[0m \u001b[31m10.3 MB/s\u001b[0m eta \u001b[36m0:00:00\u001b[0m\n",
            "\u001b[?25hCollecting configargparse (from open3d)\n",
            "  Downloading ConfigArgParse-1.7-py3-none-any.whl (25 kB)\n",
            "Collecting ipywidgets>=8.0.4 (from open3d)\n",
            "  Downloading ipywidgets-8.1.1-py3-none-any.whl (139 kB)\n",
            "\u001b[2K     \u001b[90m━━━━━━━━━━━━━━━━━━━━━━━━━━━━━━━━━━━━━━━━\u001b[0m \u001b[32m139.4/139.4 kB\u001b[0m \u001b[31m18.5 MB/s\u001b[0m eta \u001b[36m0:00:00\u001b[0m\n",
            "\u001b[?25hCollecting addict (from open3d)\n",
            "  Downloading addict-2.4.0-py3-none-any.whl (3.8 kB)\n",
            "Requirement already satisfied: pillow>=9.3.0 in /usr/local/lib/python3.10/dist-packages (from open3d) (9.4.0)\n",
            "Requirement already satisfied: matplotlib>=3 in /usr/local/lib/python3.10/dist-packages (from open3d) (3.7.1)\n",
            "Requirement already satisfied: pandas>=1.0 in /usr/local/lib/python3.10/dist-packages (from open3d) (1.5.3)\n",
            "Requirement already satisfied: pyyaml>=5.4.1 in /usr/local/lib/python3.10/dist-packages (from open3d) (6.0.1)\n",
            "Requirement already satisfied: scikit-learn>=0.21 in /usr/local/lib/python3.10/dist-packages (from open3d) (1.2.2)\n",
            "Requirement already satisfied: tqdm in /usr/local/lib/python3.10/dist-packages (from open3d) (4.66.1)\n",
            "Collecting pyquaternion (from open3d)\n",
            "  Downloading pyquaternion-0.9.9-py3-none-any.whl (14 kB)\n",
            "Requirement already satisfied: fastjsonschema in /usr/local/lib/python3.10/dist-packages (from nbformat==5.7.0->open3d) (2.19.0)\n",
            "Requirement already satisfied: jsonschema>=2.6 in /usr/local/lib/python3.10/dist-packages (from nbformat==5.7.0->open3d) (4.19.2)\n",
            "Requirement already satisfied: jupyter-core in /usr/local/lib/python3.10/dist-packages (from nbformat==5.7.0->open3d) (5.5.1)\n",
            "Requirement already satisfied: traitlets>=5.1 in /usr/local/lib/python3.10/dist-packages (from nbformat==5.7.0->open3d) (5.7.1)\n",
            "Requirement already satisfied: Flask<3.1,>=1.0.4 in /usr/local/lib/python3.10/dist-packages (from dash>=2.6.0->open3d) (2.2.5)\n",
            "Requirement already satisfied: plotly>=5.0.0 in /usr/local/lib/python3.10/dist-packages (from dash>=2.6.0->open3d) (5.15.0)\n",
            "Collecting dash-html-components==2.0.0 (from dash>=2.6.0->open3d)\n",
            "  Downloading dash_html_components-2.0.0-py3-none-any.whl (4.1 kB)\n",
            "Collecting dash-core-components==2.0.0 (from dash>=2.6.0->open3d)\n",
            "  Downloading dash_core_components-2.0.0-py3-none-any.whl (3.8 kB)\n",
            "Collecting dash-table==5.0.0 (from dash>=2.6.0->open3d)\n",
            "  Downloading dash_table-5.0.0-py3-none-any.whl (3.9 kB)\n",
            "Requirement already satisfied: typing-extensions>=4.1.1 in /usr/local/lib/python3.10/dist-packages (from dash>=2.6.0->open3d) (4.5.0)\n",
            "Requirement already satisfied: requests in /usr/local/lib/python3.10/dist-packages (from dash>=2.6.0->open3d) (2.31.0)\n",
            "Collecting retrying (from dash>=2.6.0->open3d)\n",
            "  Downloading retrying-1.3.4-py3-none-any.whl (11 kB)\n",
            "Collecting ansi2html (from dash>=2.6.0->open3d)\n",
            "  Downloading ansi2html-1.9.1-py3-none-any.whl (17 kB)\n",
            "Requirement already satisfied: nest-asyncio in /usr/local/lib/python3.10/dist-packages (from dash>=2.6.0->open3d) (1.5.8)\n",
            "Requirement already satisfied: setuptools in /usr/local/lib/python3.10/dist-packages (from dash>=2.6.0->open3d) (67.7.2)\n",
            "Requirement already satisfied: importlib-metadata in /usr/local/lib/python3.10/dist-packages (from dash>=2.6.0->open3d) (7.0.0)\n",
            "Collecting comm>=0.1.3 (from ipywidgets>=8.0.4->open3d)\n",
            "  Downloading comm-0.2.0-py3-none-any.whl (7.0 kB)\n",
            "Requirement already satisfied: ipython>=6.1.0 in /usr/local/lib/python3.10/dist-packages (from ipywidgets>=8.0.4->open3d) (7.34.0)\n",
            "Collecting widgetsnbextension~=4.0.9 (from ipywidgets>=8.0.4->open3d)\n",
            "  Downloading widgetsnbextension-4.0.9-py3-none-any.whl (2.3 MB)\n",
            "\u001b[2K     \u001b[90m━━━━━━━━━━━━━━━━━━━━━━━━━━━━━━━━━━━━━━━━\u001b[0m \u001b[32m2.3/2.3 MB\u001b[0m \u001b[31m91.1 MB/s\u001b[0m eta \u001b[36m0:00:00\u001b[0m\n",
            "\u001b[?25hRequirement already satisfied: jupyterlab-widgets~=3.0.9 in /usr/local/lib/python3.10/dist-packages (from ipywidgets>=8.0.4->open3d) (3.0.9)\n",
            "Requirement already satisfied: contourpy>=1.0.1 in /usr/local/lib/python3.10/dist-packages (from matplotlib>=3->open3d) (1.2.0)\n",
            "Requirement already satisfied: cycler>=0.10 in /usr/local/lib/python3.10/dist-packages (from matplotlib>=3->open3d) (0.12.1)\n",
            "Requirement already satisfied: fonttools>=4.22.0 in /usr/local/lib/python3.10/dist-packages (from matplotlib>=3->open3d) (4.46.0)\n",
            "Requirement already satisfied: kiwisolver>=1.0.1 in /usr/local/lib/python3.10/dist-packages (from matplotlib>=3->open3d) (1.4.5)\n",
            "Requirement already satisfied: packaging>=20.0 in /usr/local/lib/python3.10/dist-packages (from matplotlib>=3->open3d) (23.2)\n",
            "Requirement already satisfied: pyparsing>=2.3.1 in /usr/local/lib/python3.10/dist-packages (from matplotlib>=3->open3d) (3.1.1)\n",
            "Requirement already satisfied: python-dateutil>=2.7 in /usr/local/lib/python3.10/dist-packages (from matplotlib>=3->open3d) (2.8.2)\n",
            "Requirement already satisfied: pytz>=2020.1 in /usr/local/lib/python3.10/dist-packages (from pandas>=1.0->open3d) (2023.3.post1)\n",
            "Requirement already satisfied: scipy>=1.3.2 in /usr/local/lib/python3.10/dist-packages (from scikit-learn>=0.21->open3d) (1.11.4)\n",
            "Requirement already satisfied: joblib>=1.1.1 in /usr/local/lib/python3.10/dist-packages (from scikit-learn>=0.21->open3d) (1.3.2)\n",
            "Requirement already satisfied: threadpoolctl>=2.0.0 in /usr/local/lib/python3.10/dist-packages (from scikit-learn>=0.21->open3d) (3.2.0)\n",
            "Requirement already satisfied: MarkupSafe>=2.1.1 in /usr/local/lib/python3.10/dist-packages (from werkzeug>=2.2.3->open3d) (2.1.3)\n",
            "Requirement already satisfied: Jinja2>=3.0 in /usr/local/lib/python3.10/dist-packages (from Flask<3.1,>=1.0.4->dash>=2.6.0->open3d) (3.1.2)\n",
            "Requirement already satisfied: itsdangerous>=2.0 in /usr/local/lib/python3.10/dist-packages (from Flask<3.1,>=1.0.4->dash>=2.6.0->open3d) (2.1.2)\n",
            "Requirement already satisfied: click>=8.0 in /usr/local/lib/python3.10/dist-packages (from Flask<3.1,>=1.0.4->dash>=2.6.0->open3d) (8.1.7)\n",
            "Collecting jedi>=0.16 (from ipython>=6.1.0->ipywidgets>=8.0.4->open3d)\n",
            "  Downloading jedi-0.19.1-py2.py3-none-any.whl (1.6 MB)\n",
            "\u001b[2K     \u001b[90m━━━━━━━━━━━━━━━━━━━━━━━━━━━━━━━━━━━━━━━━\u001b[0m \u001b[32m1.6/1.6 MB\u001b[0m \u001b[31m82.0 MB/s\u001b[0m eta \u001b[36m0:00:00\u001b[0m\n",
            "\u001b[?25hRequirement already satisfied: decorator in /usr/local/lib/python3.10/dist-packages (from ipython>=6.1.0->ipywidgets>=8.0.4->open3d) (4.4.2)\n",
            "Requirement already satisfied: pickleshare in /usr/local/lib/python3.10/dist-packages (from ipython>=6.1.0->ipywidgets>=8.0.4->open3d) (0.7.5)\n",
            "Requirement already satisfied: prompt-toolkit!=3.0.0,!=3.0.1,<3.1.0,>=2.0.0 in /usr/local/lib/python3.10/dist-packages (from ipython>=6.1.0->ipywidgets>=8.0.4->open3d) (3.0.43)\n",
            "Requirement already satisfied: pygments in /usr/local/lib/python3.10/dist-packages (from ipython>=6.1.0->ipywidgets>=8.0.4->open3d) (2.16.1)\n",
            "Requirement already satisfied: backcall in /usr/local/lib/python3.10/dist-packages (from ipython>=6.1.0->ipywidgets>=8.0.4->open3d) (0.2.0)\n",
            "Requirement already satisfied: matplotlib-inline in /usr/local/lib/python3.10/dist-packages (from ipython>=6.1.0->ipywidgets>=8.0.4->open3d) (0.1.6)\n",
            "Requirement already satisfied: pexpect>4.3 in /usr/local/lib/python3.10/dist-packages (from ipython>=6.1.0->ipywidgets>=8.0.4->open3d) (4.9.0)\n",
            "Requirement already satisfied: attrs>=22.2.0 in /usr/local/lib/python3.10/dist-packages (from jsonschema>=2.6->nbformat==5.7.0->open3d) (23.1.0)\n",
            "Requirement already satisfied: jsonschema-specifications>=2023.03.6 in /usr/local/lib/python3.10/dist-packages (from jsonschema>=2.6->nbformat==5.7.0->open3d) (2023.11.2)\n",
            "Requirement already satisfied: referencing>=0.28.4 in /usr/local/lib/python3.10/dist-packages (from jsonschema>=2.6->nbformat==5.7.0->open3d) (0.32.0)\n",
            "Requirement already satisfied: rpds-py>=0.7.1 in /usr/local/lib/python3.10/dist-packages (from jsonschema>=2.6->nbformat==5.7.0->open3d) (0.15.2)\n",
            "Requirement already satisfied: tenacity>=6.2.0 in /usr/local/lib/python3.10/dist-packages (from plotly>=5.0.0->dash>=2.6.0->open3d) (8.2.3)\n",
            "Requirement already satisfied: six>=1.5 in /usr/local/lib/python3.10/dist-packages (from python-dateutil>=2.7->matplotlib>=3->open3d) (1.16.0)\n",
            "Requirement already satisfied: zipp>=0.5 in /usr/local/lib/python3.10/dist-packages (from importlib-metadata->dash>=2.6.0->open3d) (3.17.0)\n",
            "Requirement already satisfied: platformdirs>=2.5 in /usr/local/lib/python3.10/dist-packages (from jupyter-core->nbformat==5.7.0->open3d) (4.1.0)\n",
            "Requirement already satisfied: charset-normalizer<4,>=2 in /usr/local/lib/python3.10/dist-packages (from requests->dash>=2.6.0->open3d) (3.3.2)\n",
            "Requirement already satisfied: idna<4,>=2.5 in /usr/local/lib/python3.10/dist-packages (from requests->dash>=2.6.0->open3d) (3.6)\n",
            "Requirement already satisfied: urllib3<3,>=1.21.1 in /usr/local/lib/python3.10/dist-packages (from requests->dash>=2.6.0->open3d) (2.0.7)\n",
            "Requirement already satisfied: certifi>=2017.4.17 in /usr/local/lib/python3.10/dist-packages (from requests->dash>=2.6.0->open3d) (2023.11.17)\n",
            "Requirement already satisfied: parso<0.9.0,>=0.8.3 in /usr/local/lib/python3.10/dist-packages (from jedi>=0.16->ipython>=6.1.0->ipywidgets>=8.0.4->open3d) (0.8.3)\n",
            "Requirement already satisfied: ptyprocess>=0.5 in /usr/local/lib/python3.10/dist-packages (from pexpect>4.3->ipython>=6.1.0->ipywidgets>=8.0.4->open3d) (0.7.0)\n",
            "Requirement already satisfied: wcwidth in /usr/local/lib/python3.10/dist-packages (from prompt-toolkit!=3.0.0,!=3.0.1,<3.1.0,>=2.0.0->ipython>=6.1.0->ipywidgets>=8.0.4->open3d) (0.2.12)\n",
            "Installing collected packages: dash-table, dash-html-components, dash-core-components, addict, widgetsnbextension, retrying, pyquaternion, jedi, configargparse, comm, ansi2html, ipywidgets, dash, nbformat, open3d\n",
            "  Attempting uninstall: widgetsnbextension\n",
            "    Found existing installation: widgetsnbextension 3.6.6\n",
            "    Uninstalling widgetsnbextension-3.6.6:\n",
            "      Successfully uninstalled widgetsnbextension-3.6.6\n",
            "  Attempting uninstall: ipywidgets\n",
            "    Found existing installation: ipywidgets 7.7.1\n",
            "    Uninstalling ipywidgets-7.7.1:\n",
            "      Successfully uninstalled ipywidgets-7.7.1\n",
            "  Attempting uninstall: nbformat\n",
            "    Found existing installation: nbformat 5.9.2\n",
            "    Uninstalling nbformat-5.9.2:\n",
            "      Successfully uninstalled nbformat-5.9.2\n",
            "Successfully installed addict-2.4.0 ansi2html-1.9.1 comm-0.2.0 configargparse-1.7 dash-2.14.2 dash-core-components-2.0.0 dash-html-components-2.0.0 dash-table-5.0.0 ipywidgets-8.1.1 jedi-0.19.1 nbformat-5.7.0 open3d-0.17.0 pyquaternion-0.9.9 retrying-1.3.4 widgetsnbextension-4.0.9\n"
          ]
        }
      ],
      "source": [
        "!pip install open3d"
      ]
    },
    {
      "cell_type": "markdown",
      "metadata": {
        "id": "CouOosfHbfAd"
      },
      "source": [
        "# Get configuration"
      ]
    },
    {
      "cell_type": "code",
      "execution_count": 6,
      "metadata": {
        "colab": {
          "base_uri": "https://localhost:8080/"
        },
        "id": "FyyhnPE6S4UD",
        "outputId": "b74c0a39-5913-497c-819f-643c6c2f80ec"
      },
      "outputs": [
        {
          "output_type": "stream",
          "name": "stdout",
          "text": [
            "Collecting ml_collections==0.1.1\n",
            "  Downloading ml_collections-0.1.1.tar.gz (77 kB)\n",
            "\u001b[2K     \u001b[90m━━━━━━━━━━━━━━━━━━━━━━━━━━━━━━━━━━━━━━━━\u001b[0m \u001b[32m77.9/77.9 kB\u001b[0m \u001b[31m2.1 MB/s\u001b[0m eta \u001b[36m0:00:00\u001b[0m\n",
            "\u001b[?25h  Preparing metadata (setup.py) ... \u001b[?25l\u001b[?25hdone\n",
            "Requirement already satisfied: absl-py in /usr/local/lib/python3.10/dist-packages (from ml_collections==0.1.1) (1.4.0)\n",
            "Requirement already satisfied: PyYAML in /usr/local/lib/python3.10/dist-packages (from ml_collections==0.1.1) (6.0.1)\n",
            "Requirement already satisfied: six in /usr/local/lib/python3.10/dist-packages (from ml_collections==0.1.1) (1.16.0)\n",
            "Requirement already satisfied: contextlib2 in /usr/local/lib/python3.10/dist-packages (from ml_collections==0.1.1) (21.6.0)\n",
            "Building wheels for collected packages: ml_collections\n",
            "  Building wheel for ml_collections (setup.py) ... \u001b[?25l\u001b[?25hdone\n",
            "  Created wheel for ml_collections: filename=ml_collections-0.1.1-py3-none-any.whl size=94505 sha256=f57266e1b83f60146f35ccf6f5efc5e9b2c8595692cbc5634f00d3b39a06e29f\n",
            "  Stored in directory: /root/.cache/pip/wheels/7b/89/c9/a9b87790789e94aadcfc393c283e3ecd5ab916aed0a31be8fe\n",
            "Successfully built ml_collections\n",
            "Installing collected packages: ml_collections\n",
            "Successfully installed ml_collections-0.1.1\n"
          ]
        }
      ],
      "source": [
        "!pip install ml_collections==0.1.1"
      ]
    },
    {
      "cell_type": "code",
      "execution_count": 7,
      "metadata": {
        "id": "feoN_Qrj8sCc"
      },
      "outputs": [],
      "source": [
        "import ml_collections"
      ]
    },
    {
      "cell_type": "code",
      "execution_count": 8,
      "metadata": {
        "id": "desOhKb6e7LZ"
      },
      "outputs": [],
      "source": [
        "def get_config():\n",
        "    config = ml_collections.ConfigDict()\n",
        "\n",
        "    config.mode = \"train\"\n",
        "\n",
        "    # Hyperparameters for dataset.\n",
        "    config.num_pts = 64\n",
        "    config.num_classes = 40\n",
        "    config.use_voxel = False\n",
        "    config.rot_type = \"SO3\"\n",
        "    config.rot = False\n",
        "    config.normalize = True\n",
        "    config.center = False\n",
        "    config.preprocess = False\n",
        "\n",
        "    # Hyperparameters for models.\n",
        "\n",
        "    # Hyperparameters for GSN\n",
        "    config.gsn_init = None\n",
        "\n",
        "    # Hyperparameters for GRN\n",
        "    # Localize each local Gram matrix\n",
        "    config.localize = True\n",
        "    # For sorting the rows of the Gram matrix\n",
        "    # Can sort rows in ascending or descending order\n",
        "    config.descending = False\n",
        "    # For converting MxMxN tensor to MxN tensor\n",
        "    # Can be average, absolute_average or maximum\n",
        "    config.reduce_option = \"average\"\n",
        "\n",
        "    # Hyperparameters for training.\n",
        "    config.log_dir = \"logs\"\n",
        "    config.use_cuda = True\n",
        "    config.batch_size = 32\n",
        "    config.num_epochs = 200\n",
        "    config.lr = 0.02\n",
        "    config.weight_decay = 0.0\n",
        "    config.label_smoothing = 0.20\n",
        "\n",
        "    # Hyperparameters for ablation study\n",
        "    config.mode = \"both\"\n",
        "    return config"
      ]
    },
    {
      "cell_type": "code",
      "execution_count": 9,
      "metadata": {
        "id": "DjKJyT-qUR_k"
      },
      "outputs": [],
      "source": [
        "config = get_config()"
      ]
    },
    {
      "cell_type": "code",
      "source": [
        "config"
      ],
      "metadata": {
        "colab": {
          "base_uri": "https://localhost:8080/"
        },
        "id": "vhiX3y746ohD",
        "outputId": "72bcc09a-15b0-4db5-a96f-d9254f21e35f"
      },
      "execution_count": 10,
      "outputs": [
        {
          "output_type": "execute_result",
          "data": {
            "text/plain": [
              "batch_size: 32\n",
              "center: false\n",
              "descending: false\n",
              "gsn_init: null\n",
              "label_smoothing: 0.2\n",
              "localize: true\n",
              "log_dir: logs\n",
              "lr: 0.02\n",
              "mode: both\n",
              "normalize: true\n",
              "num_classes: 40\n",
              "num_epochs: 200\n",
              "num_pts: 64\n",
              "preprocess: false\n",
              "reduce_option: average\n",
              "rot: false\n",
              "rot_type: SO3\n",
              "use_cuda: true\n",
              "use_voxel: false\n",
              "weight_decay: 0.0"
            ]
          },
          "metadata": {},
          "execution_count": 10
        }
      ]
    },
    {
      "cell_type": "markdown",
      "metadata": {
        "id": "L54QsUg9bhnE"
      },
      "source": [
        "# Get dataloaders"
      ]
    },
    {
      "cell_type": "code",
      "execution_count": 11,
      "metadata": {
        "id": "P-CoUi-mHgtP"
      },
      "outputs": [],
      "source": [
        "# From ScanObjectNN GitHub\n",
        "def normalize_data(pcs):\n",
        "    for pc in pcs:\n",
        "        d = max(np.sum(np.abs(pc)**2, axis=-1)**(1./2))\n",
        "        # print(d)\n",
        "        pc /= d\n",
        "    return pcs"
      ]
    },
    {
      "cell_type": "code",
      "execution_count": 12,
      "metadata": {
        "id": "Il-Hej1tIetm"
      },
      "outputs": [],
      "source": [
        "# From ScanObjectNN GitHub\n",
        "def center_data(pcs):\n",
        "    for pc in pcs:\n",
        "        centroid = np.mean(pc, axis=0)\n",
        "        pc[:0]-=centroid[0]\n",
        "        pc[:,1]-=centroid[1]\n",
        "        pc[:,2]-=centroid[2]\n",
        "        # print(centroid)\n",
        "    return pcs"
      ]
    },
    {
      "cell_type": "code",
      "execution_count": 13,
      "metadata": {
        "id": "4GF9UzomVqHp"
      },
      "outputs": [],
      "source": [
        "from torch.utils.data import Subset\n",
        "import torch\n",
        "import torch.nn as nn\n",
        "import torch.utils.data\n",
        "import torch.optim as optim\n",
        "import torch.nn.functional as F\n",
        "\n",
        "import time\n",
        "import numpy as np"
      ]
    },
    {
      "cell_type": "code",
      "source": [
        "# Make any adjustments to the data configuration\n",
        "config.num_pts=256"
      ],
      "metadata": {
        "id": "mQcvEN8pPRg4"
      },
      "execution_count": 14,
      "outputs": []
    },
    {
      "cell_type": "code",
      "source": [
        "config.rot=True"
      ],
      "metadata": {
        "id": "1roUER-Q4OvF"
      },
      "execution_count": 15,
      "outputs": []
    },
    {
      "cell_type": "markdown",
      "source": [
        "## ModelNet40"
      ],
      "metadata": {
        "id": "G5_Ow1Sne9rC"
      }
    },
    {
      "cell_type": "markdown",
      "source": [
        "## Copy data from original directory to /cpsc_533y_project/data"
      ],
      "metadata": {
        "id": "epy8yKDlQzrA"
      }
    },
    {
      "cell_type": "code",
      "execution_count": 16,
      "metadata": {
        "id": "GSg93u8FOua7"
      },
      "outputs": [],
      "source": [
        "!cp -r /content/drive/MyDrive/cpsc_533y/project_datasets/modelnet40_ply_hdf5_2048 /content/cpsc_533y_project/data"
      ]
    },
    {
      "cell_type": "code",
      "execution_count": 17,
      "metadata": {
        "colab": {
          "base_uri": "https://localhost:8080/",
          "height": 436
        },
        "outputId": "581530d7-9a4d-4737-d1cc-ec4c212037e7",
        "id": "uQIvTFvefAdV"
      },
      "outputs": [
        {
          "output_type": "stream",
          "name": "stdout",
          "text": [
            "batch_size: 32\n",
            "center: false\n",
            "descending: false\n",
            "gsn_init: null\n",
            "label_smoothing: 0.2\n",
            "localize: true\n",
            "log_dir: logs\n",
            "lr: 0.02\n",
            "mode: both\n",
            "normalize: true\n",
            "num_classes: 40\n",
            "num_epochs: 200\n",
            "num_pts: 256\n",
            "preprocess: false\n",
            "reduce_option: average\n",
            "rot: true\n",
            "rot_type: SO3\n",
            "use_cuda: true\n",
            "use_voxel: false\n",
            "weight_decay: 0.0\n",
            "\n",
            "Normalizing training data\n",
            "Normalizing test data\n"
          ]
        }
      ],
      "source": [
        "from dataloader import load_data, ModelNetDataLoader\n",
        "\n",
        "print(config)\n",
        "\n",
        "# Adjust path to the folder modelnet40_ply_hdf5_2048 as needed\n",
        "datapath = \"/content/cpsc_533y_project/data/modelnet40_ply_hdf5_2048/\"\n",
        "n_points = config.num_pts\n",
        "use_voxel = config.use_voxel\n",
        "rot_type = config.rot_type\n",
        "rot = config.rot\n",
        "\n",
        "train_data, train_label, test_data, test_label = load_data(datapath, classification=True)\n",
        "if config.normalize:\n",
        "    print(\"Normalizing training data\")\n",
        "    train_data = normalize_data(train_data)\n",
        "if config.center:\n",
        "    print(\"Centering training data\")\n",
        "    train_data = center_data(train_data)\n",
        "if config.normalize:\n",
        "    print(\"Normalizing test data\")\n",
        "    test_data = normalize_data(test_data)\n",
        "if config.center:\n",
        "    print(\"Centering test data\")\n",
        "    test_data = center_data(test_data)\n",
        "trainDataset = ModelNetDataLoader(train_data, train_label, use_voxel=use_voxel, point_num = n_points, rot_type=rot_type,rot=rot)\n",
        "testDataset = ModelNetDataLoader(test_data, test_label, use_voxel=use_voxel, point_num = n_points, rot_type=rot_type,rot=rot)\n",
        "trainDataLoader = torch.utils.data.DataLoader(trainDataset, batch_size=config.batch_size, shuffle=True) #, num_workers = 6\n",
        "testDataLoader = torch.utils.data.DataLoader(testDataset, batch_size=config.batch_size, shuffle=False) #, num_workers = 6\n",
        "\n",
        "# Create a single batch to overfit on\n",
        "num_all=4\n",
        "weights = torch.ones(len(trainDataset))\n",
        "random_indices=torch.multinomial(weights,num_all,replacement=False)\n",
        "batch_subset = Subset(trainDataset, random_indices)\n",
        "batchTrainDataLoader=torch.utils.data.DataLoader(batch_subset,batch_size=4,shuffle=True)\n",
        "batchTestDataLoader=torch.utils.data.DataLoader(batch_subset,batch_size=4,shuffle=False)"
      ]
    },
    {
      "cell_type": "code",
      "execution_count": 18,
      "metadata": {
        "colab": {
          "base_uri": "https://localhost:8080/"
        },
        "id": "EM1VDNhv-Ufr",
        "outputId": "7906e8bd-9959-4948-90d5-734400ecbcc5"
      },
      "outputs": [
        {
          "output_type": "stream",
          "name": "stdout",
          "text": [
            "3\n"
          ]
        }
      ],
      "source": [
        "print(len(trainDataset[0]))"
      ]
    },
    {
      "cell_type": "code",
      "execution_count": 19,
      "metadata": {
        "colab": {
          "base_uri": "https://localhost:8080/"
        },
        "id": "6iPZtuTCQgja",
        "outputId": "46492c46-d57c-44e8-f349-fb515350e2bd"
      },
      "outputs": [
        {
          "output_type": "stream",
          "name": "stdout",
          "text": [
            "3\n"
          ]
        }
      ],
      "source": [
        "data = next(iter(trainDataLoader))\n",
        "# First element is the point cloud, second element is the estimated normals, third element is the labels\n",
        "# If use_voxel=True, third element will be the voxels, and fourth element will be the labels\n",
        "print(len(data))"
      ]
    },
    {
      "cell_type": "code",
      "execution_count": 20,
      "metadata": {
        "colab": {
          "base_uri": "https://localhost:8080/"
        },
        "id": "g7hOpbBRTrhj",
        "outputId": "be01d7b0-e5f8-4670-e231-7c055e86c0c4"
      },
      "outputs": [
        {
          "output_type": "stream",
          "name": "stdout",
          "text": [
            "Point cloud batch shape: torch.Size([32, 256, 3])\n"
          ]
        }
      ],
      "source": [
        "pc = data[0]\n",
        "print(f\"Point cloud batch shape: {pc.shape}\")"
      ]
    },
    {
      "cell_type": "code",
      "source": [
        "for i in range(0, 2):\n",
        "    data_2 = next(iter(trainDataLoader))\n",
        "pc_2 = data_2[0]"
      ],
      "metadata": {
        "id": "iuLBmu5hmnmP"
      },
      "execution_count": 21,
      "outputs": []
    },
    {
      "cell_type": "code",
      "source": [
        "for i in range(0, 3):\n",
        "    data_3 = next(iter(trainDataLoader))\n",
        "pc_3 = data_3[0]"
      ],
      "metadata": {
        "id": "YmnYGMowmxVg"
      },
      "execution_count": 22,
      "outputs": []
    },
    {
      "cell_type": "markdown",
      "source": [
        "## ScanObjectNN"
      ],
      "metadata": {
        "id": "X3IWfavzfCqa"
      }
    },
    {
      "cell_type": "code",
      "execution_count": null,
      "metadata": {
        "colab": {
          "base_uri": "https://localhost:8080/",
          "height": 36
        },
        "id": "gvDfNAlyTxYy",
        "outputId": "1a8cb3b7-2c12-4d11-f6c0-29c3dfdc1bc7"
      },
      "outputs": [
        {
          "data": {
            "application/vnd.google.colaboratory.intrinsic+json": {
              "type": "string"
            },
            "text/plain": [
              "'/content/cpsc_533y_project/data/ScanObjectNN_nobg/training_objectdataset_augmentedrot_scale75.h5'"
            ]
          },
          "execution_count": 27,
          "metadata": {},
          "output_type": "execute_result"
        }
      ],
      "source": [
        "import shutil as shutil\n",
        "\n",
        "shutil.copy(\"/content/drive/MyDrive/cpsc_533y/project_datasets/h5_files/main_split_nobg/test_objectdataset_augmentedrot_scale75.h5\",\n",
        "            \"/content/cpsc_533y_project/data/ScanObjectNN_nobg\")\n",
        "\n",
        "shutil.copy(\"/content/drive/MyDrive/cpsc_533y/project_datasets/h5_files/main_split_nobg/training_objectdataset_augmentedrot_scale75.h5\",\n",
        "            \"/content/cpsc_533y_project/data/ScanObjectNN_nobg\")"
      ]
    },
    {
      "cell_type": "code",
      "execution_count": null,
      "metadata": {
        "id": "uEAYDH_zVhD6"
      },
      "outputs": [],
      "source": [
        "from dataloader import load_h5_scanobjectNN, ScanObjectNNDataLoader\n",
        "\n",
        "batch_size = 32\n",
        "rot = False\n",
        "rot_type = \"SO3\"\n",
        "h5_train = \"/content/cpsc_533y_project/data/ScanObjectNN_nobg/training_objectdataset_augmentedrot_scale75.h5\"\n",
        "h5_test = \"/content/cpsc_533y_project/data/ScanObjectNN_nobg/test_objectdataset_augmentedrot_scale75.h5\"\n",
        "n_points = 16\n",
        "\n",
        "train_data, train_label, test_data, test_label = load_h5_scanobjectNN(h5_train, h5_test)\n",
        "trainDataset = ScanObjectNNDataLoader(train_data, train_label,n_points=n_points, rot=rot, rot_type=rot_type)\n",
        "testDataset = ScanObjectNNDataLoader(test_data, test_label,n_points=n_points, rot=rot, rot_type=rot_type)\n",
        "trainDataLoader = torch.utils.data.DataLoader(trainDataset, batch_size=batch_size, shuffle=True) #, num_workers = 6\n",
        "testDataLoader = torch.utils.data.DataLoader(testDataset, batch_size=batch_size, shuffle=False) #, num_workers = 6"
      ]
    },
    {
      "cell_type": "code",
      "execution_count": null,
      "metadata": {
        "colab": {
          "base_uri": "https://localhost:8080/"
        },
        "id": "LJN6gK8tW-u9",
        "outputId": "697f65a6-6425-4c3e-8f60-8b4272d0824b"
      },
      "outputs": [
        {
          "name": "stdout",
          "output_type": "stream",
          "text": [
            "3\n"
          ]
        }
      ],
      "source": [
        "data = next(iter(testDataLoader))\n",
        "# First element is the point cloud, second element is the estimated normals, third element is the labels\n",
        "# If use_voxel=True, third elment will be the voxels, and fourth element will be the labels\n",
        "print(len(data))"
      ]
    },
    {
      "cell_type": "code",
      "execution_count": null,
      "metadata": {
        "colab": {
          "base_uri": "https://localhost:8080/"
        },
        "id": "OsEMD3GU-d72",
        "outputId": "e256c1d2-34ac-4462-9c3b-b8bff4b92489"
      },
      "outputs": [
        {
          "data": {
            "text/plain": [
              "torch.Size([64, 3])"
            ]
          },
          "execution_count": 104,
          "metadata": {},
          "output_type": "execute_result"
        }
      ],
      "source": [
        "data[0][0].shape"
      ]
    },
    {
      "cell_type": "code",
      "execution_count": null,
      "metadata": {
        "colab": {
          "base_uri": "https://localhost:8080/"
        },
        "id": "GUuE53dMasH9",
        "outputId": "0dc8b41e-e66c-4cb1-be17-b94109763091"
      },
      "outputs": [
        {
          "data": {
            "text/plain": [
              "torch.Size([16, 1])"
            ]
          },
          "execution_count": 50,
          "metadata": {},
          "output_type": "execute_result"
        }
      ],
      "source": [
        "data[2].shape"
      ]
    },
    {
      "cell_type": "markdown",
      "metadata": {
        "id": "in8zNlyPdafL"
      },
      "source": [
        "# Helper functions needed by all networks"
      ]
    },
    {
      "cell_type": "code",
      "execution_count": 23,
      "metadata": {
        "id": "B96_6YccAYu9"
      },
      "outputs": [],
      "source": [
        "def compute_gram_matrix(X):\n",
        "    \"\"\"\n",
        "    Expects the last two dimensions of X to be C x N where C is the dimension of the point cloud\n",
        "    and N is the number of points in the point cloud.\n",
        "    \"\"\"\n",
        "    # return X @ X.transpose(2, 1)\n",
        "    return X.transpose(-2, -1) @ X"
      ]
    },
    {
      "cell_type": "code",
      "execution_count": 24,
      "metadata": {
        "id": "FYYa6rmykfLy"
      },
      "outputs": [],
      "source": [
        "def sort_gram_matrix_rows(G, descending=False):\n",
        "    return torch.sort(G, dim=-1, descending=descending)[0]"
      ]
    },
    {
      "cell_type": "markdown",
      "metadata": {
        "id": "VIU-V88nwhx2"
      },
      "source": [
        "# Global Structure Network"
      ]
    },
    {
      "cell_type": "code",
      "execution_count": 25,
      "metadata": {
        "id": "HBLnbjIPA78U"
      },
      "outputs": [],
      "source": [
        "def eigendecomposition(X):\n",
        "    # Use torch.linalg.eigh() since X is a Gram matrix, it is symmetric\n",
        "    # Eigenvalues returned in ascending order and columns are eigenvectors\n",
        "    # torch.linalg.eigh() is faster than torch.linalg.eig() and for Hermitian\n",
        "    # and symmetric matrices\n",
        "    eigenvalues, eigenvectors = torch.linalg.eigh(X)\n",
        "\n",
        "    real_eigenvectors = eigenvectors.type(torch.float32)\n",
        "    return real_eigenvectors"
      ]
    },
    {
      "cell_type": "code",
      "execution_count": 26,
      "metadata": {
        "id": "yhrALOdoIv3x"
      },
      "outputs": [],
      "source": [
        "class Mlps(nn.Module):\n",
        "    \"\"\"Mlps implemented as (dxd) convolution.\"\"\"\n",
        "\n",
        "    def __init__(self, inc, outc_list=[128], kernel_size=1, stride=1, padding=0, last_bn_norm=True):\n",
        "        \"\"\"Initialize network with hyperparameters.\n",
        "\n",
        "        Args:\n",
        "            inc (int): number of channels in the input.\n",
        "            outc_list (List[]): list of dimensions of hidden layers.\n",
        "            last_bn_norm (boolean): determine if bn and norm layer is added into the output layer.\n",
        "        \"\"\"\n",
        "        assert len(outc_list) > 0\n",
        "        super(Mlps, self).__init__()\n",
        "\n",
        "        self.layers = nn.Sequential()\n",
        "\n",
        "        # We compose MLPs according to the list of out_channel (`outc_list`).\n",
        "        # Additionally, we use the flag `last_bn_norm` to\n",
        "        # determine if we want to add norm and activation layers\n",
        "        # at last layer.\n",
        "        for i, outc in enumerate(outc_list):\n",
        "            self.layers.add_module(f\"Linear-{i}\", nn.Conv2d(inc, outc, kernel_size, stride=stride, padding=padding))\n",
        "            if i + 1 < len(outc_list) or last_bn_norm:\n",
        "                self.layers.add_module(f\"BN-{i}\", nn.BatchNorm2d(outc))\n",
        "                self.layers.add_module(f\"ReLU-{i}\", nn.ReLU(inplace=True))\n",
        "            inc = outc\n",
        "        if config.gsn_init == \"he_1\":\n",
        "            self.apply(self._init_weights_he_1)\n",
        "\n",
        "    def _init_weights_he_1(self, module):\n",
        "        if isinstance(module, torch.nn.Conv2d):\n",
        "            print('initializing He weights in {}'.format(module.__class__.__name__))\n",
        "            nn.init.kaiming_normal_(module.weight, nonlinearity=\"relu\")\n",
        "            module.bias.data.fill_(0.01)\n",
        "\n",
        "    def forward(self, x, format=\"BCNM\"):\n",
        "        \"\"\"Forward pass.\n",
        "\n",
        "        Args:\n",
        "            x (torch.tensor): input tensor.\n",
        "            format (str): format of point tensor.\n",
        "                Options include 'BCNM', 'BNC', 'BCN'\n",
        "        \"\"\"\n",
        "        assert format in [\"BNC\", \"BCNM\", \"BCN\"]\n",
        "\n",
        "        # Re-formate tensor into \"BCNM\".\n",
        "        if format == \"BNC\":\n",
        "            x = x.transpose(2, 1).unsqueeze(-1)\n",
        "        elif format == \"BCN\":\n",
        "            x = x.unsqueeze(-1)\n",
        "        # print(\"x\",x.shape)\n",
        "        # We use the tensor of the \"BCNM\" format.\n",
        "        x = self.layers(x)\n",
        "\n",
        "        # Re-formate tensor back input format.\n",
        "        if format == \"BNC\":\n",
        "            x = x.squeeze(-1).transpose(2, 1)\n",
        "        elif format == \"BCN\":\n",
        "            x = x.squeeze(-1)\n",
        "\n",
        "        return x"
      ]
    },
    {
      "cell_type": "code",
      "execution_count": 27,
      "metadata": {
        "id": "qKHV9sveHLAx"
      },
      "outputs": [],
      "source": [
        "class GlobalStructureNetwork(nn.Module):\n",
        "\n",
        "    def __init__(self, config):\n",
        "        super().__init__()\n",
        "        self.q_mlps = Mlps(1, [1024])\n",
        "        self.softmax_layer = nn.Softmax(dim=1)\n",
        "        self.a_mlps = Mlps(1024, [1024])\n",
        "\n",
        "    def forward(self, x, format=\"BNC\"):\n",
        "        # print(x.shape)\n",
        "        # Compute Gram matrix of whole input point cloud\n",
        "        # Shape of resulting point cloud should be BNN\n",
        "        if format == \"BCN\":\n",
        "            x_gram_matrix = compute_gram_matrix(x)\n",
        "        else:\n",
        "            x_gram_matrix = compute_gram_matrix(x.transpose(-2, -1))\n",
        "        # print(x_gram_matrix.shape)\n",
        "\n",
        "        # Obtain eigenvectors matrix\n",
        "        x_eigenvectors = eigendecomposition(x_gram_matrix)\n",
        "        # print(x_eigenvectors[:,:,0:1].shape)\n",
        "\n",
        "        # Get three eigenvectors with most significant eigenvalues\n",
        "        Q_1 = self.q_mlps(x_eigenvectors[:,:,-1].unsqueeze(-1), format=\"BNC\")\n",
        "        Q_2 = self.q_mlps(x_eigenvectors[:,:,-2].unsqueeze(-1), format=\"BNC\")\n",
        "        Q_3 = self.q_mlps(x_eigenvectors[:,:,-3].unsqueeze(-1), format=\"BNC\")\n",
        "        # print(Q_1.shape)\n",
        "        Q_1 = self.softmax_layer(Q_1)\n",
        "        Q_2 = self.softmax_layer(Q_2)\n",
        "        Q_3 = self.softmax_layer(Q_3)\n",
        "\n",
        "        first_difference = torch.abs(Q_1 - Q_2)\n",
        "        second_difference = torch.abs(Q_2 - Q_3)\n",
        "        third_difference = torch.abs(Q_3 - Q_1)\n",
        "\n",
        "        A_dp = self.a_mlps(first_difference - second_difference - third_difference, format=\"BNC\")\n",
        "        return A_dp"
      ]
    },
    {
      "cell_type": "code",
      "execution_count": 28,
      "metadata": {
        "id": "xbRiMbXOXkJq"
      },
      "outputs": [],
      "source": [
        "gsn=GlobalStructureNetwork(config)\n"
      ]
    },
    {
      "cell_type": "code",
      "execution_count": 29,
      "metadata": {
        "colab": {
          "base_uri": "https://localhost:8080/"
        },
        "id": "AQdOfynwktJ1",
        "outputId": "4ae4f27e-76c6-4598-d08a-f37ced029176"
      },
      "outputs": [
        {
          "output_type": "execute_result",
          "data": {
            "text/plain": [
              "torch.Size([32, 256, 1024])"
            ]
          },
          "metadata": {},
          "execution_count": 29
        }
      ],
      "source": [
        "gsn(pc,format=\"BNC\").shape"
      ]
    },
    {
      "cell_type": "code",
      "execution_count": 30,
      "metadata": {
        "colab": {
          "base_uri": "https://localhost:8080/"
        },
        "id": "qWpv1jrMWULx",
        "outputId": "9ec4c0ba-2287-46d6-bce4-7edb202b62a5"
      },
      "outputs": [
        {
          "output_type": "execute_result",
          "data": {
            "text/plain": [
              "torch.Size([32, 256, 3])"
            ]
          },
          "metadata": {},
          "execution_count": 30
        }
      ],
      "source": [
        "pc.shape"
      ]
    },
    {
      "cell_type": "markdown",
      "metadata": {
        "id": "8d4yFsFMccX1"
      },
      "source": [
        "# MLP-ST"
      ]
    },
    {
      "cell_type": "code",
      "execution_count": 31,
      "metadata": {
        "id": "h9KyUBa1Ylmi"
      },
      "outputs": [],
      "source": [
        "def get_knn_idx(p1, p2, k):\n",
        "    \"\"\"Get index of k points of p2 nearest to p1.\n",
        "\n",
        "    Args:\n",
        "        p1 (tensor): a batch of point sets with shape of `(b, c, m)`\n",
        "        p2 (tensor): a batch of point sets with shape of `(b, c, n)`\n",
        "        k: the number of neighboring points.\n",
        "    Returns:\n",
        "        idx (tensor): the index of neighboring points w.r.t p1 in p2\n",
        "            with shape of `(b, m, k)`.\n",
        "    \"\"\"\n",
        "    # TODO: (10 points) Return the index of the top k elements. Use\n",
        "    # `torch.topk` and the `pairwise_sqrdist_b` function below.\n",
        "    #\n",
        "    # HINT: your intermediate distance array should be of shape (b, m, n) and\n",
        "    # your index array of shape (b, m, k)\n",
        "    #\n",
        "\n",
        "    distances = pairwise_sqrdist_b(p1, p2)\n",
        "\n",
        "    _, idx = torch.topk(distances, k, dim=2, largest=False)\n",
        "\n",
        "    return idx\n",
        "\n",
        "\n",
        "# BELOW are functions provided for your convenience.\n",
        "def pairwise_sqrdist_b(p, q):\n",
        "    \"\"\"Pairwise square distance between two point sets (Batched).\n",
        "\n",
        "    We implement the memory efficient way to pair-wise distance vis refactorization:\n",
        "        `(p - q)**2 = p**2 + q**2  - 2*p^T*p`\n",
        "\n",
        "    Args:\n",
        "        p (tensor): a batch of point sets with shape of `(b, c, m)`\n",
        "        q (tensor): a batch of point sets with shape of `(b, c, n)`\n",
        "\n",
        "    Returns:\n",
        "        dist (tensor):  pairwise distance matrix.\n",
        "    \"\"\"\n",
        "    dist = -2 * torch.matmul(p.transpose(2, 1), q)  # bmn\n",
        "    p_sqr = (p ** 2).sum(dim=1, keepdim=True).transpose(2, 1)  # bm1\n",
        "    q_sqr = (q ** 2).sum(dim=1, keepdim=True)  # b1n\n",
        "    dist += p_sqr + q_sqr\n",
        "    return dist\n",
        "\n",
        "\n",
        "# Modified from: https://github.com/yanx27/Pointnet_Pointnet2_pytorch/blob/e365b9f7b9c3d7d6444278d92e298e3f078794e1/models/pointnet2_utils.py#L63\n",
        "def sampling_fps(xyz, npoint):\n",
        "    \"\"\"\n",
        "    Input:\n",
        "        xyz (tensor): pointcloud coordinates data with shape of (b, d, n).\n",
        "        npoint (tensor): number of samples\n",
        "    Return:\n",
        "        sampled_pts (tensor): sampled pointcloud index, (b, d, m)\n",
        "    \"\"\"\n",
        "    xyz = xyz.transpose(2, 1)\n",
        "\n",
        "    device = xyz.device\n",
        "    B, N, C = xyz.shape\n",
        "    centroids = torch.zeros(B, npoint, dtype=torch.long).to(device)\n",
        "    distance = torch.ones(B, N).to(device) * 1e10\n",
        "    farthest = torch.randint(0, N, (B,), dtype=torch.long).to(device)\n",
        "    batch_indices = torch.arange(B, dtype=torch.long).to(device)\n",
        "    for i in range(npoint):\n",
        "        centroids[:, i] = farthest\n",
        "        centroid = xyz[batch_indices, farthest, :].view(B, 1, C)\n",
        "        dist = torch.sum((xyz - centroid) ** 2, -1)\n",
        "        mask = dist < distance\n",
        "        distance[mask] = dist[mask]\n",
        "        farthest = torch.max(distance, -1)[1]\n",
        "    sampled_pts = index_points(xyz.transpose(2, 1), centroids)\n",
        "    return sampled_pts\n",
        "\n",
        "\n",
        "\n",
        "def index_points(points, idx):\n",
        "    \"\"\"\n",
        "    Input:\n",
        "        points (tensor): input points data of shape (b, c, n),\n",
        "        idx (tensor): sample index data, [b, s1, s2 ...].\n",
        "    Return:\n",
        "        new_points (tensor): indexed points data, [b, c, s1, s2 ..]\n",
        "    \"\"\"\n",
        "    points = points.transpose(2, 1)\n",
        "    device = points.device\n",
        "    B = points.shape[0]\n",
        "    view_shape = list(idx.shape)\n",
        "    view_shape[1:] = [1] * (len(view_shape) - 1)\n",
        "    repeat_shape = list(idx.shape)\n",
        "    repeat_shape[0] = 1\n",
        "    batch_indices = (\n",
        "        torch.arange(B, dtype=torch.long)\n",
        "        .to(device)\n",
        "        .view(view_shape)\n",
        "        .repeat(repeat_shape)\n",
        "    )\n",
        "    new_points = points[batch_indices, idx, :].moveaxis(-1, 1)\n",
        "    return new_points"
      ]
    },
    {
      "cell_type": "code",
      "execution_count": 32,
      "metadata": {
        "id": "5jAmVJkAhCI2"
      },
      "outputs": [],
      "source": [
        "# Implementation of algorithm 1 from the Supplementary\n",
        "def construct_matrices(p, min_k=4, max_k=64, step_size=4):\n",
        "    b, c, n = p.shape\n",
        "\n",
        "    all_entropies = torch.zeros((b, n, len([i for i in range(min_k, max_k, step_size)])), dtype=torch.float64)\n",
        "    k_idx = torch.zeros(len([i for i in range(min_k, max_k, step_size)]), dtype=torch.int64)\n",
        "    count = 0\n",
        "    for j in range(min_k, max_k, step_size):\n",
        "        print(\"p.shape:\", p.shape)\n",
        "        # Get the k-nearest neighbors of each point in the point cloud, (b, n, k)\n",
        "        knn_idx = get_knn_idx(p, p, j)\n",
        "        # Get the features of the k-nearest neighbors, (b, c, n, k)\n",
        "        knn_features = index_points(p, knn_idx)\n",
        "        # Calculate the neighborhood centroids of each point, (b, c, n, 1)\n",
        "        centroids = torch.mean(knn_features, dim=-1, keepdim=True)\n",
        "        print(\"knn_features.shape:\", knn_features.shape)\n",
        "        print(\"centroids.shape:\", centroids.shape)\n",
        "        difference = knn_features - centroids\n",
        "\n",
        "        # (b , c, k, k) to (b, n, c, k)\n",
        "        difference_1 = difference.transpose(2, 1)\n",
        "        # (b, n, c, k) to (b, n, k, c)\n",
        "        difference_1 = difference_1.transpose(3, 2)\n",
        "        # (b, n, c, k, ) to (b, n, c,k, c, )\n",
        "        difference_1 = difference_1.unsqueeze(-1)\n",
        "        # (b, n, c, k) to (b, n, c, k)\n",
        "        difference_2 = difference.transpose(2, 1)\n",
        "        # (b, n, c, k) to # (b, n, k, c)\n",
        "        difference_2 = difference_2.transpose(3, 2)\n",
        "        # (b, n, k, c) to (b, n, k, 1, c)\n",
        "        difference_2 = difference_2.unsqueeze(-2)\n",
        "\n",
        "        # Line 4 in aAlgorithm 1\n",
        "        M = torch.matmul(difference_1, difference_2)\n",
        "        M = torch.sum(M, dim=2) / j\n",
        "        print(\"M.shape:\", M.shape)\n",
        "\n",
        "        eigenvalues = torch.linalg.eigvals(M).type(torch.float64)\n",
        "        print(\"eigenvalues.shape:\", eigenvalues.shape)\n",
        "        top_eigenvalues, _ = torch.topk(eigenvalues, 3, largest=True, dim=2)\n",
        "\n",
        "        print(\"top_eigenvalues.shape:\", top_eigenvalues.shape)\n",
        "        a1D = (torch.sqrt(top_eigenvalues[:,:,0]) - torch.sqrt(top_eigenvalues[:,:,1])) / torch.sqrt(top_eigenvalues[:,:,0])\n",
        "        a2D = (torch.sqrt(top_eigenvalues[:,:,1]) - torch.sqrt(top_eigenvalues[:,:,2])) / torch.sqrt(top_eigenvalues[:,:,0])\n",
        "        a3D = torch.sqrt(top_eigenvalues[:,:,2]) / torch.sqrt(top_eigenvalues[:,:,0])\n",
        "\n",
        "        H_k = - a1D * torch.log(a1D) - a2D * torch.log(a2D) - a3D * torch.log(a3D)\n",
        "        print(\"H_k.shape:\", H_k.shape)\n",
        "\n",
        "        all_entropies[:, :, count:count+1] = H_k.unsqueeze(-1)\n",
        "        k_idx[count] = j\n",
        "        count = count + 1\n",
        "    # _, top_k_idx = torch.topk(all_entropies, 1, largest=True, dim=1)\n",
        "    # print(top_k_idx.shape)\n",
        "    # print(top_k_idx)\n",
        "    # top_k_entropies, top_k_idx = torch.topk(all_entropies, 1, largest=True, dim=2)\n",
        "    # _, minimum_k_idx = torch.topk(top_k_idx, 3, largest=False, dim=1)\n",
        "\n",
        "    # Get maximum entropies over N points for each k\n",
        "    top_k_entropies, _ = torch.topk(all_entropies, 1, largest=True, dim=1)\n",
        "    # print(\"top_k_entropies:\", top_k_entropies.shape)\n",
        "    # Pick the three k with the smallest maximum entropies\n",
        "    _, minimum_k_idx = torch.topk(top_k_entropies, 3, largest=False, dim=2)\n",
        "    # print(\"minimum_k_idx.shape:\", minimum_k_idx.shape)\n",
        "    # print(minimum_k_idx)\n",
        "    # print(k_idx)\n",
        "\n",
        "    # indices=index_points(top_k_idx.transpose(2,1),minimum_k_idx.squeeze(-1)).transpose(2,1).squeeze(-1)\n",
        "\n",
        "    pc_top_k = k_idx[minimum_k_idx.squeeze()]\n",
        "\n",
        "    _, optimal_k = torch.topk(torch.bincount(pc_top_k.flatten()), 3, largest=True)\n",
        "\n",
        "    return optimal_k"
      ]
    },
    {
      "cell_type": "code",
      "execution_count": 33,
      "metadata": {
        "colab": {
          "base_uri": "https://localhost:8080/"
        },
        "id": "cLsUdCm0xLdf",
        "outputId": "c284dcce-7257-44eb-f548-6922301810b5"
      },
      "outputs": [
        {
          "output_type": "stream",
          "name": "stdout",
          "text": [
            "p.shape: torch.Size([32, 3, 256])\n",
            "knn_features.shape: torch.Size([32, 3, 256, 4])\n",
            "centroids.shape: torch.Size([32, 3, 256, 1])\n",
            "M.shape: torch.Size([32, 256, 3, 3])\n",
            "eigenvalues.shape: torch.Size([32, 256, 3])\n",
            "top_eigenvalues.shape: torch.Size([32, 256, 3])\n",
            "H_k.shape: torch.Size([32, 256])\n",
            "p.shape: torch.Size([32, 3, 256])\n",
            "knn_features.shape: torch.Size([32, 3, 256, 8])\n",
            "centroids.shape: torch.Size([32, 3, 256, 1])\n",
            "M.shape: torch.Size([32, 256, 3, 3])\n",
            "eigenvalues.shape: torch.Size([32, 256, 3])\n",
            "top_eigenvalues.shape: torch.Size([32, 256, 3])\n",
            "H_k.shape: torch.Size([32, 256])\n",
            "p.shape: torch.Size([32, 3, 256])\n",
            "knn_features.shape: torch.Size([32, 3, 256, 12])\n",
            "centroids.shape: torch.Size([32, 3, 256, 1])\n",
            "M.shape: torch.Size([32, 256, 3, 3])\n",
            "eigenvalues.shape: torch.Size([32, 256, 3])\n",
            "top_eigenvalues.shape: torch.Size([32, 256, 3])\n",
            "H_k.shape: torch.Size([32, 256])\n",
            "p.shape: torch.Size([32, 3, 256])\n",
            "knn_features.shape: torch.Size([32, 3, 256, 16])\n",
            "centroids.shape: torch.Size([32, 3, 256, 1])\n",
            "M.shape: torch.Size([32, 256, 3, 3])\n",
            "eigenvalues.shape: torch.Size([32, 256, 3])\n",
            "top_eigenvalues.shape: torch.Size([32, 256, 3])\n",
            "H_k.shape: torch.Size([32, 256])\n",
            "p.shape: torch.Size([32, 3, 256])\n",
            "knn_features.shape: torch.Size([32, 3, 256, 20])\n",
            "centroids.shape: torch.Size([32, 3, 256, 1])\n",
            "M.shape: torch.Size([32, 256, 3, 3])\n"
          ]
        },
        {
          "output_type": "stream",
          "name": "stderr",
          "text": [
            "<ipython-input-32-d2bdd7d7b820>:38: UserWarning: Casting complex values to real discards the imaginary part (Triggered internally at ../aten/src/ATen/native/Copy.cpp:299.)\n",
            "  eigenvalues = torch.linalg.eigvals(M).type(torch.float64)\n"
          ]
        },
        {
          "output_type": "stream",
          "name": "stdout",
          "text": [
            "eigenvalues.shape: torch.Size([32, 256, 3])\n",
            "top_eigenvalues.shape: torch.Size([32, 256, 3])\n",
            "H_k.shape: torch.Size([32, 256])\n",
            "p.shape: torch.Size([32, 3, 256])\n",
            "knn_features.shape: torch.Size([32, 3, 256, 24])\n",
            "centroids.shape: torch.Size([32, 3, 256, 1])\n",
            "M.shape: torch.Size([32, 256, 3, 3])\n",
            "eigenvalues.shape: torch.Size([32, 256, 3])\n",
            "top_eigenvalues.shape: torch.Size([32, 256, 3])\n",
            "H_k.shape: torch.Size([32, 256])\n",
            "p.shape: torch.Size([32, 3, 256])\n",
            "knn_features.shape: torch.Size([32, 3, 256, 28])\n",
            "centroids.shape: torch.Size([32, 3, 256, 1])\n",
            "M.shape: torch.Size([32, 256, 3, 3])\n",
            "eigenvalues.shape: torch.Size([32, 256, 3])\n",
            "top_eigenvalues.shape: torch.Size([32, 256, 3])\n",
            "H_k.shape: torch.Size([32, 256])\n",
            "p.shape: torch.Size([32, 3, 256])\n",
            "knn_features.shape: torch.Size([32, 3, 256, 32])\n",
            "centroids.shape: torch.Size([32, 3, 256, 1])\n",
            "M.shape: torch.Size([32, 256, 3, 3])\n",
            "eigenvalues.shape: torch.Size([32, 256, 3])\n",
            "top_eigenvalues.shape: torch.Size([32, 256, 3])\n",
            "H_k.shape: torch.Size([32, 256])\n",
            "p.shape: torch.Size([32, 3, 256])\n",
            "knn_features.shape: torch.Size([32, 3, 256, 36])\n",
            "centroids.shape: torch.Size([32, 3, 256, 1])\n",
            "M.shape: torch.Size([32, 256, 3, 3])\n",
            "eigenvalues.shape: torch.Size([32, 256, 3])\n",
            "top_eigenvalues.shape: torch.Size([32, 256, 3])\n",
            "H_k.shape: torch.Size([32, 256])\n",
            "p.shape: torch.Size([32, 3, 256])\n",
            "knn_features.shape: torch.Size([32, 3, 256, 40])\n",
            "centroids.shape: torch.Size([32, 3, 256, 1])\n",
            "M.shape: torch.Size([32, 256, 3, 3])\n",
            "eigenvalues.shape: torch.Size([32, 256, 3])\n",
            "top_eigenvalues.shape: torch.Size([32, 256, 3])\n",
            "H_k.shape: torch.Size([32, 256])\n",
            "p.shape: torch.Size([32, 3, 256])\n",
            "knn_features.shape: torch.Size([32, 3, 256, 44])\n",
            "centroids.shape: torch.Size([32, 3, 256, 1])\n",
            "M.shape: torch.Size([32, 256, 3, 3])\n",
            "eigenvalues.shape: torch.Size([32, 256, 3])\n",
            "top_eigenvalues.shape: torch.Size([32, 256, 3])\n",
            "H_k.shape: torch.Size([32, 256])\n",
            "p.shape: torch.Size([32, 3, 256])\n",
            "knn_features.shape: torch.Size([32, 3, 256, 48])\n",
            "centroids.shape: torch.Size([32, 3, 256, 1])\n",
            "M.shape: torch.Size([32, 256, 3, 3])\n",
            "eigenvalues.shape: torch.Size([32, 256, 3])\n",
            "top_eigenvalues.shape: torch.Size([32, 256, 3])\n",
            "H_k.shape: torch.Size([32, 256])\n",
            "p.shape: torch.Size([32, 3, 256])\n",
            "knn_features.shape: torch.Size([32, 3, 256, 52])\n",
            "centroids.shape: torch.Size([32, 3, 256, 1])\n",
            "M.shape: torch.Size([32, 256, 3, 3])\n",
            "eigenvalues.shape: torch.Size([32, 256, 3])\n",
            "top_eigenvalues.shape: torch.Size([32, 256, 3])\n",
            "H_k.shape: torch.Size([32, 256])\n",
            "p.shape: torch.Size([32, 3, 256])\n",
            "knn_features.shape: torch.Size([32, 3, 256, 56])\n",
            "centroids.shape: torch.Size([32, 3, 256, 1])\n",
            "M.shape: torch.Size([32, 256, 3, 3])\n",
            "eigenvalues.shape: torch.Size([32, 256, 3])\n",
            "top_eigenvalues.shape: torch.Size([32, 256, 3])\n",
            "H_k.shape: torch.Size([32, 256])\n",
            "p.shape: torch.Size([32, 3, 256])\n",
            "knn_features.shape: torch.Size([32, 3, 256, 60])\n",
            "centroids.shape: torch.Size([32, 3, 256, 1])\n",
            "M.shape: torch.Size([32, 256, 3, 3])\n",
            "eigenvalues.shape: torch.Size([32, 256, 3])\n",
            "top_eigenvalues.shape: torch.Size([32, 256, 3])\n",
            "H_k.shape: torch.Size([32, 256])\n"
          ]
        },
        {
          "output_type": "execute_result",
          "data": {
            "text/plain": [
              "tensor([52, 60, 56])"
            ]
          },
          "metadata": {},
          "execution_count": 33
        }
      ],
      "source": [
        "construct_matrices(pc.transpose(2, 1), min_k=4, max_k=64, step_size=4)"
      ]
    },
    {
      "cell_type": "code",
      "execution_count": 34,
      "metadata": {
        "id": "uYT65ba9XEYO"
      },
      "outputs": [],
      "source": [
        "def get_local_gram(p, k, localize=True):\n",
        "    \"\"\"\n",
        "    Expects p to be b, c, n.\n",
        "    Obtains local gram matrices for each point in the point cloud.\n",
        "    The local gram matrix is formed from the point itself and its k-nearest neighbors.\n",
        "    Returns local gram matrices, matrix of k-nearest neighbors, and indices of k-nearest neighbors.\n",
        "    local_gram is b, n, k, k, p_neighborhood is b, n, c, k, and knn_idx is b, n, k.\n",
        "    \"\"\"\n",
        "    b, c, n = p.shape\n",
        "\n",
        "    # Obtain features of k-nearest neighbors including point itself\n",
        "    knn_idx = get_knn_idx(p, p, k)\n",
        "    p_neighborhood = index_points(p, knn_idx)\n",
        "    # print(p_neighborhood[0,:,1,:])\n",
        "    # print(p_neighborhood.shape)\n",
        "    # print(p_neighborhood[0,:,0,:])\n",
        "    # print(p_neighborhood.mean(dim=-1,keepdim=True)[0,:,0,:])\n",
        "    if localize:\n",
        "        p_neighborhood = p_neighborhood - p_neighborhood.mean(dim=-1, keepdim=True)\n",
        "        # print(\"Localizing\")\n",
        "    # Reshape b, c, n, k tensor to be b, n, k, c\n",
        "    p_neighborhood = p_neighborhood.transpose(2, 1)\n",
        "    p_neighborhood = p_neighborhood.transpose(-1, -2)\n",
        "\n",
        "    # print(p_neighborhood.shape)\n",
        "    # print(p_neighborhood[0,1,:,:])\n",
        "    # print(p_neighborhood[0,1,:,:].transpose(-2,-1))\n",
        "    local_gram = p_neighborhood @ p_neighborhood.transpose(-2, -1)\n",
        "\n",
        "    return local_gram, p_neighborhood.transpose(-1, -2), knn_idx"
      ]
    },
    {
      "cell_type": "code",
      "execution_count": 35,
      "metadata": {
        "id": "yyDJbEiUhSaf"
      },
      "outputs": [],
      "source": [
        "def get_similar(p, k_neighbors, localize=True, compute_average_similar=False):\n",
        "    \"\"\"\n",
        "    Expects p to be b, c, n.\n",
        "    k_neighbors: The number of smilar points to find.\n",
        "    Gets all the indices of similar points as a b, n, k_neighbors tensor.\n",
        "    Avoids double counting the point itself and points in the first-order neighborhood.\n",
        "    These similar points should satisfy equation 3.\n",
        "    \"\"\"\n",
        "    local_gram_matrix, p_neighborhood, knn_idx = get_local_gram(p, k_neighbors, localize)\n",
        "\n",
        "    b, n, k, k = local_gram_matrix.shape\n",
        "\n",
        "    # For each point in the point cloud, compute the difference between the local Gram matrix\n",
        "    # of the point and the local Gram matrices of all the other points\n",
        "    repeated_local_gram_matrix = local_gram_matrix.clone().unsqueeze(2).expand(-1, -1, n, -1, -1)\n",
        "    difference = repeated_local_gram_matrix - local_gram_matrix.unsqueeze(1)\n",
        "\n",
        "    difference_norm = torch.linalg.matrix_norm(difference, ord=\"fro\")\n",
        "    # print(\"difference_norm:\", difference_norm.shape)\n",
        "    # Singular values are returned in descending order\n",
        "    # print(\"singular_values.shape:\", torch.linalg.svdvals(p_neighborhood).shape)\n",
        "\n",
        "    # Compute the singular values of each neighborhood matrix which is composed of the\n",
        "    # features for the point and its neighbors\n",
        "    singular_values = torch.linalg.svdvals(p_neighborhood)[:,:,-1]\n",
        "    # print(\"singular_values.shape:\", singular_values.shape)\n",
        "    # assert torch.sum(singular_values >= 0) == b * n\n",
        "\n",
        "    # Obtain the minimum singular value\n",
        "    singular_values = singular_values.unsqueeze(-1)\n",
        "    # print(\"singular_values.shape:\", singular_values.shape)\n",
        "\n",
        "    # Calculate the difference between the Frobenius norms and the minimum singular value\n",
        "    # Points with a negative or 0 difference satisfy the inequality and should be considered as similar points\n",
        "    frobenius_singular_differences = difference_norm - singular_values/2\n",
        "    # print(\"total:\",torch.sum(frobenius_singular_differences<=0))\n",
        "\n",
        "    # Set the original point and k-nearest neighborhood points to have a difference of infinity so they do not\n",
        "    # also get considered as similar points\n",
        "    frobenius_singular_differences = frobenius_singular_differences.scatter_(2, index=knn_idx, value=torch.inf)\n",
        "    # Below is only if you want to filter out point itself from being considered as a similar point\n",
        "    # frobenius_singular_differences=frobenius_singular_differences.clone().diagonal_scatter(torch.ones(frobenius_singular_differences.shape[:-1])*torch.inf,dim1=-2,dim2=-1)\n",
        "\n",
        "    smallest_differences, k_smallest_indices=torch.topk(frobenius_singular_differences, k_neighbors, dim=2, largest=False)\n",
        "\n",
        "    if compute_average_similar:\n",
        "        average_similar = ((frobenius_singular_differences<=0).sum(dim=-1).sum(dim=-1)/n).sum()/b\n",
        "    else:\n",
        "        average_similar = None\n",
        "    return k_smallest_indices, average_similar"
      ]
    },
    {
      "cell_type": "code",
      "execution_count": 36,
      "metadata": {
        "id": "LeokzkFbChzA"
      },
      "outputs": [],
      "source": [
        "def get_similar_individual(xis, lg_1, lg_2):\n",
        "    difference = lg_1 - lg_2\n",
        "    difference_norm = torch.linalg.matrix_norm(difference, ord=\"fro\")\n",
        "    print(difference)\n",
        "    print(difference_norm)\n",
        "    singular_values = torch.linalg.svdvals(xis)\n",
        "    print(singular_values)\n",
        "    print(difference_norm)\n",
        "    print(singular_values[-1]/2)\n",
        "    print(difference_norm <= singular_values[-1].unsqueeze(-1)/2)"
      ]
    },
    {
      "cell_type": "code",
      "source": [
        "!mkdir /content/drive/MyDrive/cpsc_533y/modelnet40_experiments/localize_figures/rot_256"
      ],
      "metadata": {
        "id": "TgyjvajyrBWs"
      },
      "execution_count": null,
      "outputs": []
    },
    {
      "cell_type": "code",
      "execution_count": null,
      "metadata": {
        "colab": {
          "base_uri": "https://localhost:8080/"
        },
        "id": "mFLSZUEbGy64",
        "outputId": "2cdf42bf-5c4e-4547-e01c-f3b6cbdf980e"
      },
      "outputs": [
        {
          "output_type": "stream",
          "name": "stdout",
          "text": [
            "(b, n, c): torch.Size([32, 256, 3])\n",
            "torch.Size([32, 256, 3])\n",
            "torch.Size([32, 256, 3])\n"
          ]
        }
      ],
      "source": [
        "print(\"(b, n, c):\", pc.shape)\n",
        "print(pc_2.shape)\n",
        "print(pc_3.shape)\n",
        "b,n,c=pc.shape\n",
        "min_k=4\n",
        "max_k=64\n",
        "step_size = 4\n",
        "all_k=[]\n",
        "# b1_average=[]\n",
        "# b2_average=[]\n",
        "# b3_average=[]\n",
        "b4_average = []\n",
        "b5_average = []\n",
        "b6_average = []\n",
        "localize=False\n",
        "for k in range(min_k, max_k+1, step_size):\n",
        "    similar_indices,avg_1=get_similar(pc.transpose(2,1),k,localize=localize,compute_average_similar=True)\n",
        "\n",
        "    similar_indices,avg_2=get_similar(pc_2.transpose(2,1),k,localize=localize,compute_average_similar=True)\n",
        "\n",
        "    similar_indices,avg_3=get_similar(pc_3.transpose(2,1),k,localize=localize,compute_average_similar=True)\n",
        "\n",
        "    all_k.append(k)\n",
        "    if localize == True:\n",
        "        b1_average.append(avg_1)\n",
        "        b2_average.append(avg_2)\n",
        "        b3_average.append(avg_3)\n",
        "    else:\n",
        "        b4_average.append(avg_1)\n",
        "        b5_average.append(avg_2)\n",
        "        b6_average.append(avg_3)"
      ]
    },
    {
      "cell_type": "code",
      "source": [
        "import matplotlib.pyplot as plt\n",
        "\n",
        "fig,ax=plt.subplots()\n",
        "ax.set_ylim((-5,256))\n",
        "ax.scatter(all_k,b1_average,label=\"Batch 1\", color=\"blue\")\n",
        "ax.scatter(all_k,b2_average,label=\"Batch 2\",color=\"green\")\n",
        "ax.scatter(all_k,b3_average,label=\"Batch 3\",color=\"orange\")\n",
        "ax.scatter(all_k,b4_average,marker='d',color=\"blue\")\n",
        "ax.scatter(all_k,b5_average,marker='d',color='green')\n",
        "ax.scatter(all_k,b6_average,marker='d',color=\"orange\")\n",
        "ax.set_xlabel(\"Number of Nearest Neighbors (k)\")\n",
        "ax.set_ylabel(\"Average Number of Similar Points\")\n",
        "ax.legend()"
      ],
      "metadata": {
        "colab": {
          "base_uri": "https://localhost:8080/",
          "height": 467
        },
        "id": "ZToHB_P_r24i",
        "outputId": "be4cdb3c-bcd8-4850-d210-5be4d24285c2"
      },
      "execution_count": null,
      "outputs": [
        {
          "output_type": "execute_result",
          "data": {
            "text/plain": [
              "<matplotlib.legend.Legend at 0x7b5d88a1f2b0>"
            ]
          },
          "metadata": {},
          "execution_count": 91
        },
        {
          "output_type": "display_data",
          "data": {
            "text/plain": [
              "<Figure size 640x480 with 1 Axes>"
            ],
            "image/png": "[encoded data removed]"
          },
          "metadata": {}
        }
      ]
    },
    {
      "cell_type": "code",
      "source": [
        "fig.savefig(\"/content/drive/MyDrive/cpsc_533y/modelnet40_experiments/localize_figures/rot_256/average_similar_k_both.png\")"
      ],
      "metadata": {
        "id": "ryT4mVH_tobD"
      },
      "execution_count": null,
      "outputs": []
    },
    {
      "cell_type": "code",
      "execution_count": null,
      "metadata": {
        "colab": {
          "base_uri": "https://localhost:8080/"
        },
        "id": "s9eiuNBsA10p",
        "outputId": "aa1c57e7-b090-40a7-d722-efa107a22a68"
      },
      "outputs": [
        {
          "output_type": "execute_result",
          "data": {
            "text/plain": [
              "tensor([[[ 266,  910,   87,  ...,  515,  643,  719],\n",
              "         [ 620,   17,  440,  ...,  554,  790,  254],\n",
              "         [ 427,    1,  145,  ...,  799,  575,  208],\n",
              "         ...,\n",
              "         [ 462,  161,  535,  ...,  725,  898,   72],\n",
              "         [1013,  913,  333,  ...,  452,   43,  200],\n",
              "         [ 521,  421,  935,  ...,  781,  529,  701]],\n",
              "\n",
              "        [[ 783,  435,  566,  ...,  743,  289,  770],\n",
              "         [ 283,  250,  866,  ...,   73,  928,  956],\n",
              "         [ 590,  978,   13,  ...,  319,  650,  368],\n",
              "         ...,\n",
              "         [ 303,  593,  803,  ...,  595,  983,  217],\n",
              "         [ 542,  392,  269,  ...,  567,  860,  497],\n",
              "         [ 220,  370,  194,  ...,  398,  444,  744]],\n",
              "\n",
              "        [[  17,  636,  424,  ...,  427,  576,  950],\n",
              "         [  32,  953,  546,  ...,  660,   27,  964],\n",
              "         [ 913,  633,  176,  ...,  384,  359,  703],\n",
              "         ...,\n",
              "         [  70,  582,  765,  ...,  142,   95,  946],\n",
              "         [ 396,  214,  926,  ...,  302,  144,  159],\n",
              "         [ 974,  537,  278,  ...,  204,  410,  315]],\n",
              "\n",
              "        ...,\n",
              "\n",
              "        [[ 944,  317,  160,  ...,  261,  984,  419],\n",
              "         [ 184,  974,    3,  ...,  677,  160,  419],\n",
              "         [ 525,  876,  186,  ...,  217,   12,  623],\n",
              "         ...,\n",
              "         [ 973,  784,  405,  ...,   54,  474,  248],\n",
              "         [ 836,  288,  742,  ...,  594,  211, 1002],\n",
              "         [ 430,  250,  141,  ...,  636,  216,  189]],\n",
              "\n",
              "        [[ 539,  643,  678,  ...,  288,   76,  417],\n",
              "         [ 568,   53,  868,  ...,  168,  307,  997],\n",
              "         [ 719,  347,  402,  ...,  784,  438,  903],\n",
              "         ...,\n",
              "         [ 459,  701,   99,  ...,  738,  929,  331],\n",
              "         [ 303,  444,  920,  ...,  262,  985,  639],\n",
              "         [ 356,  906,  823,  ...,  673,   98,  540]],\n",
              "\n",
              "        [[ 416,  360,   53,  ...,  671,  742,  956],\n",
              "         [ 540,  420,  946,  ...,  991,  538,   69],\n",
              "         [ 934,  864,  284,  ...,  375,  153,  791],\n",
              "         ...,\n",
              "         [ 869,  428,  323,  ...,  952,  933,  112],\n",
              "         [ 599,  982,  411,  ...,  918,  435,  158],\n",
              "         [ 871,   20,  108,  ...,  661,  154,  245]]])"
            ]
          },
          "metadata": {},
          "execution_count": 45
        }
      ],
      "source": [
        "similar_indices"
      ]
    },
    {
      "cell_type": "code",
      "execution_count": 37,
      "metadata": {
        "id": "DKFyphKuP0La"
      },
      "outputs": [],
      "source": [
        "class MLP_ST(nn.Module):\n",
        "    def __init__(self, n, use_cuda):\n",
        "        super(MLP_ST, self).__init__()\n",
        "        if use_cuda:\n",
        "            self.device = \"cuda\"\n",
        "        else:\n",
        "            self.device = \"cpu\"\n",
        "        self.mlp = nn.Conv2d(n, n, kernel_size=3, stride=1, padding=\"same\")\n",
        "\n",
        "        self.conv_1 = nn.Conv2d(n, n, kernel_size=3, stride=1, padding=\"same\")\n",
        "        self.batch_1 = nn.BatchNorm2d(n)\n",
        "        self.conv_2 = nn.Conv2d(n, n, kernel_size=3, stride=1, padding=\"same\")\n",
        "        self.batch_2 = nn.BatchNorm2d(n)\n",
        "\n",
        "        self.fc_1 = nn.Linear(n, 128)\n",
        "        self.relu_1 = nn.ReLU()\n",
        "        self.fc_2 = nn.Linear(128, n)\n",
        "\n",
        "    def forward(self, x):\n",
        "\n",
        "        # Assume b, n, k, k\n",
        "\n",
        "        # From Section 3.3.2\n",
        "\n",
        "        # Create local feature and feature map\n",
        "        # MLP without ReLU function\n",
        "        local_feature = self.mlp(x)\n",
        "\n",
        "        feature_map = self.conv_1(local_feature.clone())\n",
        "        feature_map = self.batch_1(feature_map)\n",
        "        feature_map = self.conv_2(feature_map)\n",
        "        feature_map = self.batch_2(feature_map)\n",
        "        # print(\"feature_map.shape:\", feature_map.shape)\n",
        "\n",
        "        # Create soft threshold and shoft thresholding module\n",
        "        b, n, m, m = feature_map.shape\n",
        "        # Compress feature map into one-dimensional vector using absolute value and global average pooling\n",
        "        self.global_pooling_layer = nn.AvgPool2d(m)\n",
        "        X_gap = self.global_pooling_layer(torch.abs(feature_map))\n",
        "        # print(\"X_gap.shape:\", X_gap.shape)\n",
        "\n",
        "        alphas = self.fc_1(X_gap.squeeze(-1).squeeze(-1))\n",
        "        alphas = self.relu_1(alphas)\n",
        "        alphas = self.fc_2(alphas)\n",
        "        thresholds = alphas.unsqueeze(-1).unsqueeze(-1) * X_gap\n",
        "\n",
        "        # Local feature activation\n",
        "        # print(\"alphas.shape:\", alphas.shape)\n",
        "        # print(\"thresholds.shape:\", thresholds.shape)\n",
        "        local_feature_activation = torch.sign(feature_map) * torch.where(torch.abs(feature_map) - thresholds > 0,\n",
        "                                                                           torch.abs(feature_map) - thresholds,\n",
        "                                                                           0) + local_feature\n",
        "        # print(\"local_feature_activation.shape:\", local_feature_activation.shape)\n",
        "\n",
        "        # Local feature enhancement\n",
        "        X_diag = torch.diagonal(local_feature, dim1=-2, dim2=-1).to(self.device)\n",
        "        # print(X_diag)\n",
        "        zeros = torch.zeros((b, n, m, m)).to(self.device)\n",
        "        X_diag = torch.diagonal_scatter(zeros, X_diag, dim1=-2, dim2=-1).to(self.device)\n",
        "\n",
        "        # print(X_diag)\n",
        "        # print(\"X_diag.shape:\",X_diag.shape)\n",
        "        thresholds = thresholds\n",
        "        X_diag = torch.sign(X_diag) * torch.where(torch.abs(X_diag) - thresholds > 0,\n",
        "                                                  torch.abs(X_diag) - thresholds,\n",
        "                                                  0) + X_diag\n",
        "\n",
        "        X_diag = X_diag.to(self.device)\n",
        "        local_feature_enhanced = X_diag * local_feature_activation + torch.diagonal_scatter(local_feature_activation, torch.zeros(b, n, m), dim1=-2, dim2=-1)\n",
        "        # print(\"local_feature_enhanced.shape:\", local_feature_enhanced.shape)\n",
        "        return local_feature_enhanced"
      ]
    },
    {
      "cell_type": "code",
      "execution_count": 38,
      "metadata": {
        "id": "CqDZIQMgzAkC"
      },
      "outputs": [],
      "source": [
        "class GlobalRepresentationNetwork(nn.Module):\n",
        "    def __init__(self, config):\n",
        "        super(GlobalRepresentationNetwork, self).__init__()\n",
        "\n",
        "        self.config = config\n",
        "\n",
        "        self.localize = config.localize\n",
        "        self.descending = config.descending\n",
        "        self.reduce_option = config.reduce_option\n",
        "\n",
        "        # Need 3 MLP-ST modules\n",
        "        self.mlp_1_8_points = Mlps(1, [1024], kernel_size=(3, 1), stride=1, padding=\"same\")\n",
        "\n",
        "        self.mlp_1 = Mlps(3, [1024], kernel_size=(3, 1), stride=1, padding=\"same\")\n",
        "        self.mlp_2 = Mlps(1024, [1024], kernel_size=1)\n",
        "        self.mlp_3 = Mlps(1024, [1024])\n",
        "        self.mlp_4 = Mlps(1024, [1024])\n",
        "\n",
        "        # Need to set self.network() and self.mlp\n",
        "        self.mlp_st_1 = MLP_ST(config.num_pts, config.use_cuda)\n",
        "        self.mlp_st_2 = MLP_ST(config.num_pts, config.use_cuda)\n",
        "        self.mlp_st_3 = MLP_ST(config.num_pts, config.use_cuda)\n",
        "\n",
        "        self.network_channels_mlp = Mlps(1024, [1024])\n",
        "        self.network_channels_mlp_st = MLP_ST(1, config.use_cuda)\n",
        "\n",
        "    def forward(self, x, format=\"BNC\"):\n",
        "\n",
        "        # Obtain l, kop2, and kop3\n",
        "        # Construct three gram matrixces, Nxkkx, where k is kop1, kop2, or kp3\n",
        "        # optimal_k = construct_matrices(x)\n",
        "        if format == \"BNC\":\n",
        "            x = x.transpose(-2, -1)\n",
        "        # print(x.shape)\n",
        "\n",
        "        # Use 3 different k to construct 3 Gram matrices\n",
        "        # k_1 = 2\n",
        "        # k_2 = 4\n",
        "        # k_3 = 8\n",
        "\n",
        "        if self.config.num_pts == 8:\n",
        "            knn_idx_1 = get_knn_idx(x, x, 8)\n",
        "            knn_features_1 = index_points(x, knn_idx_1)\n",
        "            gram_matrix_1 = compute_gram_matrix(knn_features_1.transpose(2, 1))\n",
        "\n",
        "            sorted_gram_matrix_1 = sort_gram_matrix_rows(gram_matrix_1, descending=self.descending)\n",
        "            enhanced_knn_features_1 = self.mlp_st_1(sorted_gram_matrix_1)\n",
        "\n",
        "            if self.reduce_option == \"average:\":\n",
        "                X_hat_j_1 = torch.mean(enhanced_knn_features_1, dim=-2)\n",
        "            elif self.reduce_option == \"absolute_average\":\n",
        "                X_hat_j_1 = torch.mean(torch.abs(enhanced_knn_features_1), dim=-2)\n",
        "            else:\n",
        "                X_hat_j_1, _ = torch.max(enhanced_knn_features_1, dim=-2)\n",
        "            self.max_pool_1 = nn.MaxPool1d(8)\n",
        "            X_hat_1 = self.max_pool_1(X_hat_j_1)\n",
        "            X_concatenated = X_hat_1\n",
        "\n",
        "        else:\n",
        "            k_1 = self.config.k_1\n",
        "            k_2 = self.config.k_2\n",
        "            k_3 = self.config.k_3\n",
        "            knn_idx_1 = get_knn_idx(x, x, k_1+1)\n",
        "            knn_idx_2 = get_knn_idx(x, x, k_2+1)\n",
        "            knn_idx_3 = get_knn_idx(x, x, k_3+1)\n",
        "            # print(knn_idx_1.shape)\n",
        "            similar_knn_idx_1, _ = get_similar(x, k_1-1, self.localize)\n",
        "            similar_knn_idx_2, _ = get_similar(x, k_2-1, self.localize)\n",
        "            similar_knn_idx_3, _ = get_similar(x, k_3-1, self.localize)\n",
        "\n",
        "            knn_idx_1 = torch.concatenate((knn_idx_1, similar_knn_idx_1), dim=-1)\n",
        "            knn_idx_2 = torch.concatenate((knn_idx_2, similar_knn_idx_2), dim=-1)\n",
        "            knn_idx_3 = torch.concatenate((knn_idx_3, similar_knn_idx_3), dim=-1)\n",
        "            # print(knn_idx_1.shape,knn_idx_2.shape,knn_idx_3.shape)\n",
        "            knn_features_1 = index_points(x, knn_idx_1)\n",
        "            knn_features_2 = index_points(x, knn_idx_2)\n",
        "            knn_features_3 = index_points(x, knn_idx_3)\n",
        "\n",
        "            # print(\"knn_features.shape:\", knn_features_1.shape,knn_features_2.shape)\n",
        "            # Run through MLP-ST module\n",
        "            gram_matrix_1 = compute_gram_matrix(knn_features_1.transpose(2, 1))\n",
        "            gram_matrix_2 = compute_gram_matrix(knn_features_2.transpose(2, 1))\n",
        "            gram_matrix_3 = compute_gram_matrix(knn_features_3.transpose(2, 1))\n",
        "            # print(\"gram_matrix_1.shape:\", gram_matrix_1.shape)\n",
        "\n",
        "            # Sort rows of the Gram matrix\n",
        "            sorted_gram_matrix_1 = sort_gram_matrix_rows(gram_matrix_1, descending=self.descending)\n",
        "            sorted_gram_matrix_2 = sort_gram_matrix_rows(gram_matrix_2, descending=self.descending)\n",
        "            sorted_gram_matrix_3 = sort_gram_matrix_rows(gram_matrix_3, descending=self.descending)\n",
        "            # print(sorted_gram_matrix_1.shape)\n",
        "            enhanced_knn_features_1 = self.mlp_st_1(sorted_gram_matrix_1)\n",
        "            enhanced_knn_features_2 = self.mlp_st_2(sorted_gram_matrix_2)\n",
        "            enhanced_knn_features_3 = self.mlp_st_3(sorted_gram_matrix_3)\n",
        "            # print(\"Finished enhancing\")\n",
        "            # Assume no have 3xNx64\n",
        "            if self.reduce_option == \"average\":\n",
        "                X_hat_j_1 = torch.mean(enhanced_knn_features_1, dim=-2)\n",
        "                X_hat_j_2 = torch.mean(enhanced_knn_features_2, dim=-2)\n",
        "                X_hat_j_3 = torch.mean(enhanced_knn_features_3, dim=-2)\n",
        "            elif self.reduce_option == \"absolute_average\":\n",
        "                X_hat_j_1 = torch.mean(torch.abs(enhanced_knn_features_1), dim=-2)\n",
        "                X_hat_j_2 = torch.mean(torch.abs(enhanced_knn_features_2), dim=-2)\n",
        "                X_hat_j_3 = torch.mean(torch.abs(enhanced_knn_features_3), dim=-2)\n",
        "            elif self.reduce_option == \"maximum\":\n",
        "                X_hat_j_1, _ = torch.max(enhanced_knn_features_1, dim=-2)\n",
        "                X_hat_j_2, _ = torch.max(enhanced_knn_features_2, dim=-2)\n",
        "                X_hat_j_3, _ = torch.max(enhanced_knn_features_3, dim=-2)\n",
        "            # print(X_hat_j_1.shape)\n",
        "            # print(\"Finished reducing\")\n",
        "            # print(\"X_hat_j_1.shape:\", X_hat_j_1.shape)\n",
        "            # Max pooling so that Nx1\n",
        "            self.max_pool_1 = nn.MaxPool1d(2*k_1)\n",
        "            self.max_pool_2 = nn.MaxPool1d(2*k_2)\n",
        "            self.max_pool_3 = nn.MaxPool1d(2*k_3)\n",
        "            X_hat_1 = self.max_pool_1(X_hat_j_1)\n",
        "            X_hat_2 = self.max_pool_2(X_hat_j_2)\n",
        "            X_hat_3 = self.max_pool_3(X_hat_j_3)\n",
        "            # Concatenate together so that Nx3\n",
        "            X_concatenated = torch.concatenate((X_hat_1, X_hat_2, X_hat_3), dim=2)\n",
        "            # print(\"X_concatenated.shape:\", X_concatenated.shape)\n",
        "\n",
        "        # Turn to Nx1024\n",
        "        if self.config.num_pts == 8:\n",
        "            feature_representation = self.mlp_1_8_points(X_concatenated, format=\"BNC\")\n",
        "        else:\n",
        "            feature_representation = self.mlp_1(X_concatenated, format=\"BNC\")\n",
        "        feature_representation = self.mlp_4(self.mlp_3(self.mlp_2(feature_representation, format=\"BNC\"), format=\"BNC\"), format=\"BNC\")\n",
        "        # print(\"feature_representation.shape:\", feature_representation.shape)\n",
        "\n",
        "        channels_fusion_gram_matrix = compute_gram_matrix(feature_representation.transpose(-2, -1)).unsqueeze(1)\n",
        "        # print(channels_fusion_gram_matrix.shape)\n",
        "        A_cf = self.network_channels_mlp(feature_representation, format=\"BNC\")\n",
        "        # print(\"A_cf.shape:\", A_cf.shape)\n",
        "        X_hat_g = A_cf * feature_representation\n",
        "        # print(\"X_hat_g.shape:\", X_hat_g.shape)\n",
        "        return X_hat_g"
      ]
    },
    {
      "cell_type": "code",
      "execution_count": 39,
      "metadata": {
        "id": "alcqkLIt6Uch"
      },
      "outputs": [],
      "source": [
        "# The GRN for using only k-nearest neighbors\n",
        "class GlobalRepresentationNetwork_1(nn.Module):\n",
        "    def __init__(self, config):\n",
        "        super(GlobalRepresentationNetwork_1, self).__init__()\n",
        "\n",
        "        self.config = config\n",
        "\n",
        "        self.localize = config.localize\n",
        "        self.descending = config.descending\n",
        "        self.reduce_option = config.reduce_option\n",
        "\n",
        "        # Need 3 MLP-ST modules\n",
        "        self.mlp_1_8_points = Mlps(1, [1024], kernel_size=(3, 1), stride=1, padding=\"same\")\n",
        "\n",
        "        self.mlp_1 = Mlps(3, [1024], kernel_size=(3, 1), stride=1, padding=\"same\")\n",
        "        self.mlp_2 = Mlps(1024, [1024], kernel_size=1)\n",
        "        self.mlp_3 = Mlps(1024, [1024])\n",
        "        self.mlp_4 = Mlps(1024, [1024])\n",
        "\n",
        "        # Need to set self.network() and self.mlp\n",
        "        self.mlp_st_1 = MLP_ST(config.num_pts, config.use_cuda)\n",
        "        self.mlp_st_2 = MLP_ST(config.num_pts, config.use_cuda)\n",
        "        self.mlp_st_3 = MLP_ST(config.num_pts, config.use_cuda)\n",
        "\n",
        "        self.network_channels_mlp = Mlps(1024, [1024])\n",
        "        self.network_channels_mlp_st = MLP_ST(1, config.use_cuda)\n",
        "\n",
        "    def forward(self, x, format=\"BNC\"):\n",
        "\n",
        "        # Obtain l, kop2, and kop3\n",
        "        # Construct three gram matrixces, Nxkkx, where k is kop1, kop2, or kp3\n",
        "        # optimal_k = construct_matrices(x)\n",
        "        if format == \"BNC\":\n",
        "            x = x.transpose(-2, -1)\n",
        "        # print(x.shape)\n",
        "\n",
        "        # Use 3 different k to construct 3 Gram matrices\n",
        "        # k_1 = 2\n",
        "        # k_2 = 4\n",
        "        # k_3 = 8\n",
        "\n",
        "        if self.config.num_pts == 8:\n",
        "            knn_idx_1 = get_knn_idx(x, x, 8)\n",
        "            knn_features_1 = index_points(x, knn_idx_1)\n",
        "            gram_matrix_1 = compute_gram_matrix(knn_features_1.transpose(2, 1))\n",
        "\n",
        "            sorted_gram_matrix_1 = sort_gram_matrix_rows(gram_matrix_1, descending=self.descending)\n",
        "            enhanced_knn_features_1 = self.mlp_st_1(sorted_gram_matrix_1)\n",
        "\n",
        "            if self.reduce_option == \"average:\":\n",
        "                X_hat_j_1 = torch.mean(enhanced_knn_features_1, dim=-2)\n",
        "            elif self.reduce_option == \"absolute_average\":\n",
        "                X_hat_j_1 = torch.mean(torch.abs(enhanced_knn_features_1), dim=-2)\n",
        "            else:\n",
        "                X_hat_j_1, _ = torch.max(enhanced_knn_features_1, dim=-2)\n",
        "            self.max_pool_1 = nn.MaxPool1d(8)\n",
        "            X_hat_1 = self.max_pool_1(X_hat_j_1)\n",
        "            X_concatenated = X_hat_1\n",
        "\n",
        "        else:\n",
        "            k_1 = self.config.k_1\n",
        "            k_2 = self.config.k_2\n",
        "            k_3 = self.config.k_3\n",
        "            knn_idx_1 = get_knn_idx(x, x, k_1)\n",
        "            knn_idx_2 = get_knn_idx(x, x, k_2)\n",
        "            knn_idx_3 = get_knn_idx(x, x, k_3)\n",
        "            # print(knn_idx_1)\n",
        "            similar_knn_idx_1, _ = get_similar(x, k_1-1, self.localize)\n",
        "            similar_knn_idx_2, _ = get_similar(x, k_2-1, self.localize)\n",
        "            similar_knn_idx_3, _ = get_similar(x, k_3-1, self.localize)\n",
        "\n",
        "            # knn_idx_1 = torch.concatenate((knn_idx_1, similar_knn_idx_1), dim=-1)\n",
        "            # knn_idx_2 = torch.concatenate((knn_idx_2, similar_knn_idx_2), dim=-1)\n",
        "            # knn_idx_3 = torch.concatenate((knn_idx_3, similar_knn_idx_3), dim=-1)\n",
        "            # print(knn_idx_1.shape,knn_idx_2.shape,knn_idx_3.shape)\n",
        "            knn_features_1 = index_points(x, knn_idx_1)\n",
        "            knn_features_2 = index_points(x, knn_idx_2)\n",
        "            knn_features_3 = index_points(x, knn_idx_3)\n",
        "            # print(\"knn_features.shape:\", knn_features_1.shape,knn_features_2.shape)\n",
        "            # Run through MLP-ST module\n",
        "            gram_matrix_1 = compute_gram_matrix(knn_features_1.transpose(2, 1))\n",
        "            gram_matrix_2 = compute_gram_matrix(knn_features_2.transpose(2, 1))\n",
        "            gram_matrix_3 = compute_gram_matrix(knn_features_3.transpose(2, 1))\n",
        "            # print(\"gram_matrix_1.shape:\", gram_matrix_1.shape)\n",
        "\n",
        "            # Sort rows of the Gram matrix\n",
        "            sorted_gram_matrix_1 = sort_gram_matrix_rows(gram_matrix_1, descending=self.descending)\n",
        "            sorted_gram_matrix_2 = sort_gram_matrix_rows(gram_matrix_2, descending=self.descending)\n",
        "            sorted_gram_matrix_3 = sort_gram_matrix_rows(gram_matrix_3, descending=self.descending)\n",
        "            # print(sorted_gram_matrix_1.shape)\n",
        "            enhanced_knn_features_1 = self.mlp_st_1(sorted_gram_matrix_1)\n",
        "            enhanced_knn_features_2 = self.mlp_st_2(sorted_gram_matrix_2)\n",
        "            enhanced_knn_features_3 = self.mlp_st_3(sorted_gram_matrix_3)\n",
        "            # print(\"Finished enhancing\")\n",
        "            # Assume no have 3xNx64\n",
        "            if self.reduce_option == \"average\":\n",
        "                X_hat_j_1 = torch.mean(enhanced_knn_features_1, dim=-2)\n",
        "                X_hat_j_2 = torch.mean(enhanced_knn_features_2, dim=-2)\n",
        "                X_hat_j_3 = torch.mean(enhanced_knn_features_3, dim=-2)\n",
        "            elif self.reduce_option == \"absolute_average\":\n",
        "                X_hat_j_1 = torch.mean(torch.abs(enhanced_knn_features_1), dim=-2)\n",
        "                X_hat_j_2 = torch.mean(torch.abs(enhanced_knn_features_2), dim=-2)\n",
        "                X_hat_j_3 = torch.mean(torch.abs(enhanced_knn_features_3), dim=-2)\n",
        "            elif self.reduce_option == \"maximum\":\n",
        "                X_hat_j_1, _ = torch.max(enhanced_knn_features_1, dim=-2)\n",
        "                X_hat_j_2, _ = torch.max(enhanced_knn_features_2, dim=-2)\n",
        "                X_hat_j_3, _ = torch.max(enhanced_knn_features_3, dim=-2)\n",
        "            # print(X_hat_j_1.shape)\n",
        "            # print(\"Finished reducing\")\n",
        "            # print(\"X_hat_j_1.shape:\", X_hat_j_1.shape)\n",
        "            # Max pooling so that Nx1\n",
        "            self.max_pool_1 = nn.MaxPool1d(k_1)\n",
        "            self.max_pool_2 = nn.MaxPool1d(k_2)\n",
        "            self.max_pool_3 = nn.MaxPool1d(k_3)\n",
        "            X_hat_1 = self.max_pool_1(X_hat_j_1)\n",
        "            X_hat_2 = self.max_pool_2(X_hat_j_2)\n",
        "            X_hat_3 = self.max_pool_3(X_hat_j_3)\n",
        "            # Concatenate together so that Nx3\n",
        "            X_concatenated = torch.concatenate((X_hat_1, X_hat_2, X_hat_3), dim=2)\n",
        "            # print(\"X_concatenated.shape:\", X_concatenated.shape)\n",
        "\n",
        "        # Turn to Nx1024\n",
        "        if self.config.num_pts == 8:\n",
        "            feature_representation = self.mlp_1_8_points(X_concatenated, format=\"BNC\")\n",
        "        else:\n",
        "            feature_representation = self.mlp_1(X_concatenated, format=\"BNC\")\n",
        "        feature_representation = self.mlp_4(self.mlp_3(self.mlp_2(feature_representation, format=\"BNC\"), format=\"BNC\"), format=\"BNC\")\n",
        "        # print(\"feature_representation.shape:\", feature_representation.shape)\n",
        "\n",
        "        channels_fusion_gram_matrix = compute_gram_matrix(feature_representation.transpose(-2, -1)).unsqueeze(1)\n",
        "        # print(channels_fusion_gram_matrix.shape)\n",
        "        A_cf = self.network_channels_mlp(feature_representation, format=\"BNC\")\n",
        "        # print(\"A_cf.shape:\", A_cf.shape)\n",
        "        X_hat_g = A_cf * feature_representation\n",
        "        # print(\"X_hat_g.shape:\", X_hat_g.shape)\n",
        "        return X_hat_g"
      ]
    },
    {
      "cell_type": "code",
      "execution_count": 40,
      "metadata": {
        "id": "rT3jUM-27iF0"
      },
      "outputs": [],
      "source": [
        "grn=GlobalRepresentationNetwork(config)"
      ]
    },
    {
      "cell_type": "code",
      "source": [
        "config.use_cuda=True"
      ],
      "metadata": {
        "id": "boowPmmf7IIl"
      },
      "execution_count": 43,
      "outputs": []
    },
    {
      "cell_type": "code",
      "execution_count": 44,
      "metadata": {
        "colab": {
          "base_uri": "https://localhost:8080/",
          "height": 551
        },
        "id": "BC7Uazgj7naa",
        "outputId": "7b2a026a-df8c-4d1b-f49c-09387fc274b3"
      },
      "outputs": [
        {
          "output_type": "error",
          "ename": "AttributeError",
          "evalue": "ignored",
          "traceback": [
            "\u001b[0;31m---------------------------------------------------------------------------\u001b[0m",
            "\u001b[0;31mKeyError\u001b[0m                                  Traceback (most recent call last)",
            "\u001b[0;32m/usr/local/lib/python3.10/dist-packages/ml_collections/config_dict/config_dict.py\u001b[0m in \u001b[0;36m__getitem__\u001b[0;34m(self, key)\u001b[0m\n\u001b[1;32m    902\u001b[0m     \u001b[0;32mtry\u001b[0m\u001b[0;34m:\u001b[0m\u001b[0;34m\u001b[0m\u001b[0;34m\u001b[0m\u001b[0m\n\u001b[0;32m--> 903\u001b[0;31m       \u001b[0mfield\u001b[0m \u001b[0;34m=\u001b[0m \u001b[0mself\u001b[0m\u001b[0;34m.\u001b[0m\u001b[0m_fields\u001b[0m\u001b[0;34m[\u001b[0m\u001b[0mkey\u001b[0m\u001b[0;34m]\u001b[0m\u001b[0;34m\u001b[0m\u001b[0;34m\u001b[0m\u001b[0m\n\u001b[0m\u001b[1;32m    904\u001b[0m       \u001b[0;32mif\u001b[0m \u001b[0misinstance\u001b[0m\u001b[0;34m(\u001b[0m\u001b[0mfield\u001b[0m\u001b[0;34m,\u001b[0m \u001b[0mFieldReference\u001b[0m\u001b[0;34m)\u001b[0m\u001b[0;34m:\u001b[0m\u001b[0;34m\u001b[0m\u001b[0;34m\u001b[0m\u001b[0m\n",
            "\u001b[0;31mKeyError\u001b[0m: 'k_1'",
            "\nDuring handling of the above exception, another exception occurred:\n",
            "\u001b[0;31mKeyError\u001b[0m                                  Traceback (most recent call last)",
            "\u001b[0;32m/usr/local/lib/python3.10/dist-packages/ml_collections/config_dict/config_dict.py\u001b[0m in \u001b[0;36m__getattr__\u001b[0;34m(self, attribute)\u001b[0m\n\u001b[1;32m    826\u001b[0m     \u001b[0;32mtry\u001b[0m\u001b[0;34m:\u001b[0m\u001b[0;34m\u001b[0m\u001b[0;34m\u001b[0m\u001b[0m\n\u001b[0;32m--> 827\u001b[0;31m       \u001b[0;32mreturn\u001b[0m \u001b[0mself\u001b[0m\u001b[0;34m[\u001b[0m\u001b[0mattribute\u001b[0m\u001b[0;34m]\u001b[0m\u001b[0;34m\u001b[0m\u001b[0;34m\u001b[0m\u001b[0m\n\u001b[0m\u001b[1;32m    828\u001b[0m     \u001b[0;32mexcept\u001b[0m \u001b[0mKeyError\u001b[0m \u001b[0;32mas\u001b[0m \u001b[0me\u001b[0m\u001b[0;34m:\u001b[0m\u001b[0;34m\u001b[0m\u001b[0;34m\u001b[0m\u001b[0m\n",
            "\u001b[0;32m/usr/local/lib/python3.10/dist-packages/ml_collections/config_dict/config_dict.py\u001b[0m in \u001b[0;36m__getitem__\u001b[0;34m(self, key)\u001b[0m\n\u001b[1;32m    908\u001b[0m     \u001b[0;32mexcept\u001b[0m \u001b[0mKeyError\u001b[0m \u001b[0;32mas\u001b[0m \u001b[0me\u001b[0m\u001b[0;34m:\u001b[0m\u001b[0;34m\u001b[0m\u001b[0;34m\u001b[0m\u001b[0m\n\u001b[0;32m--> 909\u001b[0;31m       \u001b[0;32mraise\u001b[0m \u001b[0mKeyError\u001b[0m\u001b[0;34m(\u001b[0m\u001b[0mself\u001b[0m\u001b[0;34m.\u001b[0m\u001b[0m_generate_did_you_mean_message\u001b[0m\u001b[0;34m(\u001b[0m\u001b[0mkey\u001b[0m\u001b[0;34m,\u001b[0m \u001b[0mstr\u001b[0m\u001b[0;34m(\u001b[0m\u001b[0me\u001b[0m\u001b[0;34m)\u001b[0m\u001b[0;34m)\u001b[0m\u001b[0;34m)\u001b[0m\u001b[0;34m\u001b[0m\u001b[0;34m\u001b[0m\u001b[0m\n\u001b[0m\u001b[1;32m    910\u001b[0m \u001b[0;34m\u001b[0m\u001b[0m\n",
            "\u001b[0;31mKeyError\u001b[0m: \"'k_1'\"",
            "\nDuring handling of the above exception, another exception occurred:\n",
            "\u001b[0;31mAttributeError\u001b[0m                            Traceback (most recent call last)",
            "\u001b[0;32m<ipython-input-44-5057bb8f8e4a>\u001b[0m in \u001b[0;36m<cell line: 1>\u001b[0;34m()\u001b[0m\n\u001b[0;32m----> 1\u001b[0;31m \u001b[0mgrn\u001b[0m\u001b[0;34m(\u001b[0m\u001b[0mpc\u001b[0m\u001b[0;34m)\u001b[0m\u001b[0;34m.\u001b[0m\u001b[0mshape\u001b[0m\u001b[0;34m\u001b[0m\u001b[0;34m\u001b[0m\u001b[0m\n\u001b[0m",
            "\u001b[0;32m/usr/local/lib/python3.10/dist-packages/torch/nn/modules/module.py\u001b[0m in \u001b[0;36m_wrapped_call_impl\u001b[0;34m(self, *args, **kwargs)\u001b[0m\n\u001b[1;32m   1516\u001b[0m             \u001b[0;32mreturn\u001b[0m \u001b[0mself\u001b[0m\u001b[0;34m.\u001b[0m\u001b[0m_compiled_call_impl\u001b[0m\u001b[0;34m(\u001b[0m\u001b[0;34m*\u001b[0m\u001b[0margs\u001b[0m\u001b[0;34m,\u001b[0m \u001b[0;34m**\u001b[0m\u001b[0mkwargs\u001b[0m\u001b[0;34m)\u001b[0m  \u001b[0;31m# type: ignore[misc]\u001b[0m\u001b[0;34m\u001b[0m\u001b[0;34m\u001b[0m\u001b[0m\n\u001b[1;32m   1517\u001b[0m         \u001b[0;32melse\u001b[0m\u001b[0;34m:\u001b[0m\u001b[0;34m\u001b[0m\u001b[0;34m\u001b[0m\u001b[0m\n\u001b[0;32m-> 1518\u001b[0;31m             \u001b[0;32mreturn\u001b[0m \u001b[0mself\u001b[0m\u001b[0;34m.\u001b[0m\u001b[0m_call_impl\u001b[0m\u001b[0;34m(\u001b[0m\u001b[0;34m*\u001b[0m\u001b[0margs\u001b[0m\u001b[0;34m,\u001b[0m \u001b[0;34m**\u001b[0m\u001b[0mkwargs\u001b[0m\u001b[0;34m)\u001b[0m\u001b[0;34m\u001b[0m\u001b[0;34m\u001b[0m\u001b[0m\n\u001b[0m\u001b[1;32m   1519\u001b[0m \u001b[0;34m\u001b[0m\u001b[0m\n\u001b[1;32m   1520\u001b[0m     \u001b[0;32mdef\u001b[0m \u001b[0m_call_impl\u001b[0m\u001b[0;34m(\u001b[0m\u001b[0mself\u001b[0m\u001b[0;34m,\u001b[0m \u001b[0;34m*\u001b[0m\u001b[0margs\u001b[0m\u001b[0;34m,\u001b[0m \u001b[0;34m**\u001b[0m\u001b[0mkwargs\u001b[0m\u001b[0;34m)\u001b[0m\u001b[0;34m:\u001b[0m\u001b[0;34m\u001b[0m\u001b[0;34m\u001b[0m\u001b[0m\n",
            "\u001b[0;32m/usr/local/lib/python3.10/dist-packages/torch/nn/modules/module.py\u001b[0m in \u001b[0;36m_call_impl\u001b[0;34m(self, *args, **kwargs)\u001b[0m\n\u001b[1;32m   1525\u001b[0m                 \u001b[0;32mor\u001b[0m \u001b[0m_global_backward_pre_hooks\u001b[0m \u001b[0;32mor\u001b[0m \u001b[0m_global_backward_hooks\u001b[0m\u001b[0;34m\u001b[0m\u001b[0;34m\u001b[0m\u001b[0m\n\u001b[1;32m   1526\u001b[0m                 or _global_forward_hooks or _global_forward_pre_hooks):\n\u001b[0;32m-> 1527\u001b[0;31m             \u001b[0;32mreturn\u001b[0m \u001b[0mforward_call\u001b[0m\u001b[0;34m(\u001b[0m\u001b[0;34m*\u001b[0m\u001b[0margs\u001b[0m\u001b[0;34m,\u001b[0m \u001b[0;34m**\u001b[0m\u001b[0mkwargs\u001b[0m\u001b[0;34m)\u001b[0m\u001b[0;34m\u001b[0m\u001b[0;34m\u001b[0m\u001b[0m\n\u001b[0m\u001b[1;32m   1528\u001b[0m \u001b[0;34m\u001b[0m\u001b[0m\n\u001b[1;32m   1529\u001b[0m         \u001b[0;32mtry\u001b[0m\u001b[0;34m:\u001b[0m\u001b[0;34m\u001b[0m\u001b[0;34m\u001b[0m\u001b[0m\n",
            "\u001b[0;32m<ipython-input-38-64e4bda6a607>\u001b[0m in \u001b[0;36mforward\u001b[0;34m(self, x, format)\u001b[0m\n\u001b[1;32m     58\u001b[0m \u001b[0;34m\u001b[0m\u001b[0m\n\u001b[1;32m     59\u001b[0m         \u001b[0;32melse\u001b[0m\u001b[0;34m:\u001b[0m\u001b[0;34m\u001b[0m\u001b[0;34m\u001b[0m\u001b[0m\n\u001b[0;32m---> 60\u001b[0;31m             \u001b[0mk_1\u001b[0m \u001b[0;34m=\u001b[0m \u001b[0mself\u001b[0m\u001b[0;34m.\u001b[0m\u001b[0mconfig\u001b[0m\u001b[0;34m.\u001b[0m\u001b[0mk_1\u001b[0m\u001b[0;34m\u001b[0m\u001b[0;34m\u001b[0m\u001b[0m\n\u001b[0m\u001b[1;32m     61\u001b[0m             \u001b[0mk_2\u001b[0m \u001b[0;34m=\u001b[0m \u001b[0mself\u001b[0m\u001b[0;34m.\u001b[0m\u001b[0mconfig\u001b[0m\u001b[0;34m.\u001b[0m\u001b[0mk_2\u001b[0m\u001b[0;34m\u001b[0m\u001b[0;34m\u001b[0m\u001b[0m\n\u001b[1;32m     62\u001b[0m             \u001b[0mk_3\u001b[0m \u001b[0;34m=\u001b[0m \u001b[0mself\u001b[0m\u001b[0;34m.\u001b[0m\u001b[0mconfig\u001b[0m\u001b[0;34m.\u001b[0m\u001b[0mk_3\u001b[0m\u001b[0;34m\u001b[0m\u001b[0;34m\u001b[0m\u001b[0m\n",
            "\u001b[0;32m/usr/local/lib/python3.10/dist-packages/ml_collections/config_dict/config_dict.py\u001b[0m in \u001b[0;36m__getattr__\u001b[0;34m(self, attribute)\u001b[0m\n\u001b[1;32m    827\u001b[0m       \u001b[0;32mreturn\u001b[0m \u001b[0mself\u001b[0m\u001b[0;34m[\u001b[0m\u001b[0mattribute\u001b[0m\u001b[0;34m]\u001b[0m\u001b[0;34m\u001b[0m\u001b[0;34m\u001b[0m\u001b[0m\n\u001b[1;32m    828\u001b[0m     \u001b[0;32mexcept\u001b[0m \u001b[0mKeyError\u001b[0m \u001b[0;32mas\u001b[0m \u001b[0me\u001b[0m\u001b[0;34m:\u001b[0m\u001b[0;34m\u001b[0m\u001b[0;34m\u001b[0m\u001b[0m\n\u001b[0;32m--> 829\u001b[0;31m       \u001b[0;32mraise\u001b[0m \u001b[0mAttributeError\u001b[0m\u001b[0;34m(\u001b[0m\u001b[0me\u001b[0m\u001b[0;34m)\u001b[0m\u001b[0;34m\u001b[0m\u001b[0;34m\u001b[0m\u001b[0m\n\u001b[0m\u001b[1;32m    830\u001b[0m \u001b[0;34m\u001b[0m\u001b[0m\n\u001b[1;32m    831\u001b[0m   \u001b[0;32mdef\u001b[0m \u001b[0m__setitem__\u001b[0m\u001b[0;34m(\u001b[0m\u001b[0mself\u001b[0m\u001b[0;34m,\u001b[0m \u001b[0mkey\u001b[0m\u001b[0;34m,\u001b[0m \u001b[0mvalue\u001b[0m\u001b[0;34m)\u001b[0m\u001b[0;34m:\u001b[0m\u001b[0;34m\u001b[0m\u001b[0;34m\u001b[0m\u001b[0m\n",
            "\u001b[0;31mAttributeError\u001b[0m: \"'k_1'\""
          ]
        }
      ],
      "source": [
        "grn(pc).shape"
      ]
    },
    {
      "cell_type": "code",
      "execution_count": 45,
      "metadata": {
        "colab": {
          "base_uri": "https://localhost:8080/"
        },
        "id": "1sOAs0Sz7oj0",
        "outputId": "bd3a6eb9-fa12-4c00-93dc-3e6b0faad2f3"
      },
      "outputs": [
        {
          "output_type": "execute_result",
          "data": {
            "text/plain": [
              "torch.Size([32, 256, 3])"
            ]
          },
          "metadata": {},
          "execution_count": 45
        }
      ],
      "source": [
        "pc.shape"
      ]
    },
    {
      "cell_type": "markdown",
      "metadata": {
        "id": "e9sZdQyPcmR0"
      },
      "source": [
        "# NLGAT"
      ]
    },
    {
      "cell_type": "code",
      "execution_count": 46,
      "metadata": {
        "id": "9mncEo10QjNF"
      },
      "outputs": [],
      "source": [
        "class NLGAT(nn.Module):\n",
        "    def __init__(self, config):\n",
        "        super(NLGAT, self).__init__()\n",
        "\n",
        "        self.config = config\n",
        "\n",
        "        self.GSN = GlobalStructureNetwork(config)\n",
        "\n",
        "        self.GRN = GlobalRepresentationNetwork(config)\n",
        "\n",
        "        n = config.num_pts\n",
        "        c = config.num_classes\n",
        "        self.max_pool=nn.MaxPool1d(n)\n",
        "        self.fc_1 = nn.Linear(1024, 512)\n",
        "        self.fc_2 = nn.Linear(512, 256)\n",
        "        self.fc_3 = nn.Linear(256, c)\n",
        "\n",
        "    def forward(self, x, format=\"BNC\"):\n",
        "\n",
        "        if config.mode == \"GSN\" or config.mode == \"both\":\n",
        "            A_dp = self.GSN(x, format)\n",
        "\n",
        "        if config.mode == \"GRN\" or config.mode == \"both\":\n",
        "            X_hat_g = self.GRN(x, format)\n",
        "\n",
        "        if config.mode == \"both\":\n",
        "            X_g = A_dp * X_hat_g\n",
        "        elif config.mode == \"GSN\":\n",
        "            X_g = A_dp\n",
        "        elif config.mode == \"GRN\":\n",
        "            X_g = X_hat_g\n",
        "\n",
        "        pooled_X_g = self.max_pool(X_g.transpose(2,1)).squeeze(-1)\n",
        "        # print(f\"pooled_X_g.shape: {pooled_X_g.shape}\")\n",
        "        logits = self.fc_3(self.fc_2(self.fc_1(pooled_X_g)))\n",
        "        # print(f\"logits.shape: {logits.shape}\")\n",
        "        return F.log_softmax(logits, dim=1)\n",
        "\n",
        "    def get_loss(self, pred, label):\n",
        "        # loss = F.nll_loss(pred, label)\n",
        "        loss = torch.nn.CrossEntropyLoss(label_smoothing=config.label_smoothing)\n",
        "        return loss(pred, label)\n",
        "\n",
        "    def get_acc(self, pred, label):\n",
        "        pred_choice = pred.max(dim=1)[1]\n",
        "        # print(pred_choice.shape)\n",
        "        # print(label.shape)\n",
        "        acc = (pred_choice == label).float().mean()\n",
        "        return acc"
      ]
    },
    {
      "cell_type": "markdown",
      "metadata": {
        "id": "oKbtqhfaeKZt"
      },
      "source": [
        "# Network"
      ]
    },
    {
      "cell_type": "code",
      "execution_count": 47,
      "metadata": {
        "colab": {
          "base_uri": "https://localhost:8080/"
        },
        "id": "Ioft2STqYC7q",
        "outputId": "406a2f6c-382a-48fb-f138-3aa8ccaaa3ae"
      },
      "outputs": [
        {
          "output_type": "execute_result",
          "data": {
            "text/plain": [
              "batch_size: 32\n",
              "center: false\n",
              "descending: false\n",
              "gsn_init: null\n",
              "label_smoothing: 0.2\n",
              "localize: true\n",
              "log_dir: logs\n",
              "lr: 0.02\n",
              "mode: both\n",
              "normalize: true\n",
              "num_classes: 40\n",
              "num_epochs: 200\n",
              "num_pts: 256\n",
              "preprocess: false\n",
              "reduce_option: average\n",
              "rot: true\n",
              "rot_type: SO3\n",
              "use_cuda: true\n",
              "use_voxel: false\n",
              "weight_decay: 0.0"
            ]
          },
          "metadata": {},
          "execution_count": 47
        }
      ],
      "source": [
        "config"
      ]
    },
    {
      "cell_type": "code",
      "source": [
        "config.mode=\"both\""
      ],
      "metadata": {
        "id": "WbSo6XdT-MyP"
      },
      "execution_count": 48,
      "outputs": []
    },
    {
      "cell_type": "code",
      "source": [
        "config.gsn_init=None"
      ],
      "metadata": {
        "id": "y6NOLQC0UfVL"
      },
      "execution_count": 49,
      "outputs": []
    },
    {
      "cell_type": "code",
      "source": [
        "import os as os"
      ],
      "metadata": {
        "id": "JzPw5cKajUdE"
      },
      "execution_count": 50,
      "outputs": []
    },
    {
      "cell_type": "code",
      "source": [
        "config.num_epochs=200\n",
        "config.reduce_option=\"average\"\n",
        "config.batch_size=32\n",
        "config.lr=0.0001\n",
        "config.betas=(0.9,0.999)\n",
        "weight_decay=0\n",
        "config.localize=True\n",
        "config.use_cuda=True\n",
        "config.k_1=8\n",
        "config.k_2=16\n",
        "config.k_3=24\n",
        "\n",
        "model_dir = \"/content/drive/MyDrive/cpsc_533y/random\"\n",
        "\n",
        "if not os.path.exists(model_dir):\n",
        "    os.makedirs(model_dir)\n",
        "\n",
        "config.log_dir = os.path.join(model_dir, \"logs\")\n",
        "\n",
        "if not os.path.exists(config.log_dir):\n",
        "    os.makedirs(config.log_dir)\n",
        "\n",
        "model = NLGAT(config)\n",
        "network = Network(model, config)"
      ],
      "metadata": {
        "colab": {
          "base_uri": "https://localhost:8080/"
        },
        "id": "t1CCY98YgeWd",
        "outputId": "88806fe5-2d15-4fda-be1e-9d901eb97d16"
      },
      "execution_count": 53,
      "outputs": [
        {
          "output_type": "stream",
          "name": "stdout",
          "text": [
            "Network mode: both\n"
          ]
        }
      ]
    },
    {
      "cell_type": "code",
      "source": [
        "config"
      ],
      "metadata": {
        "colab": {
          "base_uri": "https://localhost:8080/"
        },
        "id": "T175-23xeAlS",
        "outputId": "e632415d-13d5-4def-e594-303e8ff37ed1"
      },
      "execution_count": 54,
      "outputs": [
        {
          "output_type": "execute_result",
          "data": {
            "text/plain": [
              "batch_size: 32\n",
              "betas: !!python/tuple\n",
              "- 0.9\n",
              "- 0.999\n",
              "center: false\n",
              "descending: false\n",
              "gsn_init: null\n",
              "k_1: 8\n",
              "k_2: 16\n",
              "k_3: 24\n",
              "label_smoothing: 0.2\n",
              "localize: true\n",
              "log_dir: /content/drive/MyDrive/cpsc_533y/random/logs\n",
              "lr: 0.0001\n",
              "mode: both\n",
              "normalize: true\n",
              "num_classes: 40\n",
              "num_epochs: 200\n",
              "num_pts: 256\n",
              "preprocess: false\n",
              "reduce_option: average\n",
              "rot: true\n",
              "rot_type: SO3\n",
              "use_cuda: true\n",
              "use_voxel: false\n",
              "weight_decay: 0.0"
            ]
          },
          "metadata": {},
          "execution_count": 54
        }
      ]
    },
    {
      "cell_type": "code",
      "execution_count": null,
      "metadata": {
        "colab": {
          "base_uri": "https://localhost:8080/",
          "height": 527
        },
        "id": "TGK5v579OB-x",
        "outputId": "011f7926-f487-4b3e-b3c9-b642c92c3e1a"
      },
      "outputs": [
        {
          "output_type": "stream",
          "name": "stdout",
          "text": [
            "Epoch:   0, loss_avg: 4.75056, val OA: 0.05024, best val OA: 0.05024\n",
            "Epoch:   1, loss_avg: 4.76019, val OA: 0.04579, best val OA: 0.05024\n",
            "Epoch:   2, loss_avg: 4.73498, val OA: 0.05186, best val OA: 0.05186\n",
            "Epoch:   3, loss_avg: 4.75178, val OA: 0.04822, best val OA: 0.05186\n",
            "Epoch:   4, loss_avg: 4.73723, val OA: 0.05024, best val OA: 0.05186\n",
            "Epoch:   5, loss_avg: 4.76068, val OA: 0.04943, best val OA: 0.05186\n",
            "Epoch:   6, loss_avg: 4.73893, val OA: 0.05105, best val OA: 0.05186\n",
            "Epoch:   7, loss_avg: 4.72933, val OA: 0.04498, best val OA: 0.05186\n",
            "Epoch:   8, loss_avg: 4.76802, val OA: 0.04781, best val OA: 0.05186\n",
            "Epoch:   9, loss_avg: 4.75623, val OA: 0.04538, best val OA: 0.05186\n",
            "Epoch:  10, loss_avg: 4.75731, val OA: 0.05308, best val OA: 0.05308\n",
            "Epoch:  11, loss_avg: 4.74173, val OA: 0.04943, best val OA: 0.05308\n"
          ]
        },
        {
          "output_type": "error",
          "ename": "KeyboardInterrupt",
          "evalue": "ignored",
          "traceback": [
            "\u001b[0;31m---------------------------------------------------------------------------\u001b[0m",
            "\u001b[0;31mKeyboardInterrupt\u001b[0m                         Traceback (most recent call last)",
            "\u001b[0;32m<ipython-input-60-3d4e68f7948e>\u001b[0m in \u001b[0;36m<cell line: 1>\u001b[0;34m()\u001b[0m\n\u001b[0;32m----> 1\u001b[0;31m \u001b[0mnetwork\u001b[0m\u001b[0;34m.\u001b[0m\u001b[0mtrain\u001b[0m\u001b[0;34m(\u001b[0m\u001b[0mtrainDataLoader\u001b[0m\u001b[0;34m,\u001b[0m \u001b[0mtestDataLoader\u001b[0m\u001b[0;34m)\u001b[0m\u001b[0;34m\u001b[0m\u001b[0;34m\u001b[0m\u001b[0m\n\u001b[0m",
            "\u001b[0;32m<ipython-input-45-7043e933bb5a>\u001b[0m in \u001b[0;36mtrain\u001b[0;34m(self, loader_tr, loader_va)\u001b[0m\n\u001b[1;32m     86\u001b[0m                 \u001b[0;32mif\u001b[0m \u001b[0mself\u001b[0m\u001b[0;34m.\u001b[0m\u001b[0mconfig\u001b[0m\u001b[0;34m.\u001b[0m\u001b[0muse_cuda\u001b[0m\u001b[0;34m:\u001b[0m\u001b[0;34m\u001b[0m\u001b[0;34m\u001b[0m\u001b[0m\n\u001b[1;32m     87\u001b[0m                     \u001b[0;32mfor\u001b[0m \u001b[0mi\u001b[0m \u001b[0;32min\u001b[0m \u001b[0mrange\u001b[0m\u001b[0;34m(\u001b[0m\u001b[0;36m0\u001b[0m\u001b[0;34m,\u001b[0m \u001b[0mlen\u001b[0m\u001b[0;34m(\u001b[0m\u001b[0mdata\u001b[0m\u001b[0;34m)\u001b[0m\u001b[0;34m)\u001b[0m\u001b[0;34m:\u001b[0m\u001b[0;34m\u001b[0m\u001b[0;34m\u001b[0m\u001b[0m\n\u001b[0;32m---> 88\u001b[0;31m                         \u001b[0mdata\u001b[0m\u001b[0;34m[\u001b[0m\u001b[0mi\u001b[0m\u001b[0;34m]\u001b[0m \u001b[0;34m=\u001b[0m \u001b[0mdata\u001b[0m\u001b[0;34m[\u001b[0m\u001b[0mi\u001b[0m\u001b[0;34m]\u001b[0m\u001b[0;34m.\u001b[0m\u001b[0mcuda\u001b[0m\u001b[0;34m(\u001b[0m\u001b[0;34m)\u001b[0m\u001b[0;34m\u001b[0m\u001b[0;34m\u001b[0m\u001b[0m\n\u001b[0m\u001b[1;32m     89\u001b[0m \u001b[0;34m\u001b[0m\u001b[0m\n\u001b[1;32m     90\u001b[0m                 \u001b[0mlabels\u001b[0m \u001b[0;34m=\u001b[0m \u001b[0mdata\u001b[0m\u001b[0;34m[\u001b[0m\u001b[0;36m2\u001b[0m\u001b[0;34m]\u001b[0m\u001b[0;34m.\u001b[0m\u001b[0msqueeze\u001b[0m\u001b[0;34m(\u001b[0m\u001b[0;34m-\u001b[0m\u001b[0;36m1\u001b[0m\u001b[0;34m)\u001b[0m\u001b[0;34m\u001b[0m\u001b[0;34m\u001b[0m\u001b[0m\n",
            "\u001b[0;31mKeyboardInterrupt\u001b[0m: "
          ]
        }
      ],
      "source": [
        "network.train(trainDataLoader, testDataLoader)"
      ]
    },
    {
      "cell_type": "code",
      "source": [
        "network.plot_log()"
      ],
      "metadata": {
        "id": "Afctdc2iWS07"
      },
      "execution_count": null,
      "outputs": []
    },
    {
      "cell_type": "code",
      "execution_count": 55,
      "metadata": {
        "colab": {
          "base_uri": "https://localhost:8080/",
          "height": 405
        },
        "id": "p_RdxngOgfs1",
        "outputId": "ce1ba468-40a9-4bbc-f8f9-332562eff5f2"
      },
      "outputs": [
        {
          "output_type": "stream",
          "name": "stdout",
          "text": [
            "Epoch:   0, loss_avg: 3.76687, val OA: 0.00000, best val OA: 0.00000\n",
            "Epoch:   1, loss_avg: 3.20388, val OA: 0.00000, best val OA: 0.00000\n",
            "Epoch:   2, loss_avg: 2.49915, val OA: 0.00000, best val OA: 0.00000\n",
            "Epoch:   3, loss_avg: 2.69687, val OA: 0.00000, best val OA: 0.00000\n"
          ]
        },
        {
          "output_type": "error",
          "ename": "KeyboardInterrupt",
          "evalue": "ignored",
          "traceback": [
            "\u001b[0;31m---------------------------------------------------------------------------\u001b[0m",
            "\u001b[0;31mKeyboardInterrupt\u001b[0m                         Traceback (most recent call last)",
            "\u001b[0;32m<ipython-input-55-6d4a5028688c>\u001b[0m in \u001b[0;36m<cell line: 1>\u001b[0;34m()\u001b[0m\n\u001b[0;32m----> 1\u001b[0;31m \u001b[0mnetwork\u001b[0m\u001b[0;34m.\u001b[0m\u001b[0mtrain\u001b[0m\u001b[0;34m(\u001b[0m\u001b[0mbatchTrainDataLoader\u001b[0m\u001b[0;34m,\u001b[0m \u001b[0mbatchTestDataLoader\u001b[0m\u001b[0;34m)\u001b[0m\u001b[0;34m\u001b[0m\u001b[0;34m\u001b[0m\u001b[0m\n\u001b[0m",
            "\u001b[0;32m<ipython-input-52-7043e933bb5a>\u001b[0m in \u001b[0;36mtrain\u001b[0;34m(self, loader_tr, loader_va)\u001b[0m\n\u001b[1;32m    105\u001b[0m \u001b[0;34m\u001b[0m\u001b[0m\n\u001b[1;32m    106\u001b[0m             \u001b[0;31m# Save model every epoch.\u001b[0m\u001b[0;34m\u001b[0m\u001b[0;34m\u001b[0m\u001b[0m\n\u001b[0;32m--> 107\u001b[0;31m             \u001b[0mself\u001b[0m\u001b[0;34m.\u001b[0m\u001b[0m_save\u001b[0m\u001b[0;34m(\u001b[0m\u001b[0mself\u001b[0m\u001b[0;34m.\u001b[0m\u001b[0mcheckpts_file\u001b[0m\u001b[0;34m)\u001b[0m\u001b[0;34m\u001b[0m\u001b[0;34m\u001b[0m\u001b[0m\n\u001b[0m\u001b[1;32m    108\u001b[0m             \u001b[0macc\u001b[0m \u001b[0;34m=\u001b[0m \u001b[0mself\u001b[0m\u001b[0;34m.\u001b[0m\u001b[0mtest\u001b[0m\u001b[0;34m(\u001b[0m\u001b[0mloader_va\u001b[0m\u001b[0;34m,\u001b[0m \u001b[0mmode\u001b[0m\u001b[0;34m=\u001b[0m\u001b[0;34m\"valid\"\u001b[0m\u001b[0;34m)\u001b[0m\u001b[0;34m\u001b[0m\u001b[0;34m\u001b[0m\u001b[0m\n\u001b[1;32m    109\u001b[0m             \u001b[0;32mif\u001b[0m \u001b[0macc\u001b[0m \u001b[0;34m>\u001b[0m \u001b[0mbest_va_acc\u001b[0m\u001b[0;34m:\u001b[0m\u001b[0;34m\u001b[0m\u001b[0;34m\u001b[0m\u001b[0m\n",
            "\u001b[0;32m<ipython-input-52-7043e933bb5a>\u001b[0m in \u001b[0;36m_save\u001b[0;34m(self, pt_file)\u001b[0m\n\u001b[1;32m     53\u001b[0m \u001b[0;34m\u001b[0m\u001b[0m\n\u001b[1;32m     54\u001b[0m     \u001b[0;32mdef\u001b[0m \u001b[0m_save\u001b[0m\u001b[0;34m(\u001b[0m\u001b[0mself\u001b[0m\u001b[0;34m,\u001b[0m \u001b[0mpt_file\u001b[0m\u001b[0;34m)\u001b[0m\u001b[0;34m:\u001b[0m\u001b[0;34m\u001b[0m\u001b[0;34m\u001b[0m\u001b[0m\n\u001b[0;32m---> 55\u001b[0;31m         torch.save(\n\u001b[0m\u001b[1;32m     56\u001b[0m             {\n\u001b[1;32m     57\u001b[0m                 \u001b[0;34m\"model\"\u001b[0m\u001b[0;34m:\u001b[0m \u001b[0mself\u001b[0m\u001b[0;34m.\u001b[0m\u001b[0mmodel\u001b[0m\u001b[0;34m.\u001b[0m\u001b[0mstate_dict\u001b[0m\u001b[0;34m(\u001b[0m\u001b[0;34m)\u001b[0m\u001b[0;34m,\u001b[0m\u001b[0;34m\u001b[0m\u001b[0;34m\u001b[0m\u001b[0m\n",
            "\u001b[0;32m/usr/local/lib/python3.10/dist-packages/torch/serialization.py\u001b[0m in \u001b[0;36msave\u001b[0;34m(obj, f, pickle_module, pickle_protocol, _use_new_zipfile_serialization, _disable_byteorder_record)\u001b[0m\n\u001b[1;32m    616\u001b[0m \u001b[0;34m\u001b[0m\u001b[0m\n\u001b[1;32m    617\u001b[0m     \u001b[0;32mif\u001b[0m \u001b[0m_use_new_zipfile_serialization\u001b[0m\u001b[0;34m:\u001b[0m\u001b[0;34m\u001b[0m\u001b[0;34m\u001b[0m\u001b[0m\n\u001b[0;32m--> 618\u001b[0;31m         \u001b[0;32mwith\u001b[0m \u001b[0m_open_zipfile_writer\u001b[0m\u001b[0;34m(\u001b[0m\u001b[0mf\u001b[0m\u001b[0;34m)\u001b[0m \u001b[0;32mas\u001b[0m \u001b[0mopened_zipfile\u001b[0m\u001b[0;34m:\u001b[0m\u001b[0;34m\u001b[0m\u001b[0;34m\u001b[0m\u001b[0m\n\u001b[0m\u001b[1;32m    619\u001b[0m             \u001b[0m_save\u001b[0m\u001b[0;34m(\u001b[0m\u001b[0mobj\u001b[0m\u001b[0;34m,\u001b[0m \u001b[0mopened_zipfile\u001b[0m\u001b[0;34m,\u001b[0m \u001b[0mpickle_module\u001b[0m\u001b[0;34m,\u001b[0m \u001b[0mpickle_protocol\u001b[0m\u001b[0;34m,\u001b[0m \u001b[0m_disable_byteorder_record\u001b[0m\u001b[0;34m)\u001b[0m\u001b[0;34m\u001b[0m\u001b[0;34m\u001b[0m\u001b[0m\n\u001b[1;32m    620\u001b[0m             \u001b[0;32mreturn\u001b[0m\u001b[0;34m\u001b[0m\u001b[0;34m\u001b[0m\u001b[0m\n",
            "\u001b[0;32m/usr/local/lib/python3.10/dist-packages/torch/serialization.py\u001b[0m in \u001b[0;36m_open_zipfile_writer\u001b[0;34m(name_or_buffer)\u001b[0m\n\u001b[1;32m    490\u001b[0m     \u001b[0;32melse\u001b[0m\u001b[0;34m:\u001b[0m\u001b[0;34m\u001b[0m\u001b[0;34m\u001b[0m\u001b[0m\n\u001b[1;32m    491\u001b[0m         \u001b[0mcontainer\u001b[0m \u001b[0;34m=\u001b[0m \u001b[0m_open_zipfile_writer_buffer\u001b[0m\u001b[0;34m\u001b[0m\u001b[0;34m\u001b[0m\u001b[0m\n\u001b[0;32m--> 492\u001b[0;31m     \u001b[0;32mreturn\u001b[0m \u001b[0mcontainer\u001b[0m\u001b[0;34m(\u001b[0m\u001b[0mname_or_buffer\u001b[0m\u001b[0;34m)\u001b[0m\u001b[0;34m\u001b[0m\u001b[0;34m\u001b[0m\u001b[0m\n\u001b[0m\u001b[1;32m    493\u001b[0m \u001b[0;34m\u001b[0m\u001b[0m\n\u001b[1;32m    494\u001b[0m \u001b[0;34m\u001b[0m\u001b[0m\n",
            "\u001b[0;32m/usr/local/lib/python3.10/dist-packages/torch/serialization.py\u001b[0m in \u001b[0;36m__init__\u001b[0;34m(self, name)\u001b[0m\n\u001b[1;32m    461\u001b[0m             \u001b[0msuper\u001b[0m\u001b[0;34m(\u001b[0m\u001b[0;34m)\u001b[0m\u001b[0;34m.\u001b[0m\u001b[0m__init__\u001b[0m\u001b[0;34m(\u001b[0m\u001b[0mtorch\u001b[0m\u001b[0;34m.\u001b[0m\u001b[0m_C\u001b[0m\u001b[0;34m.\u001b[0m\u001b[0mPyTorchFileWriter\u001b[0m\u001b[0;34m(\u001b[0m\u001b[0mself\u001b[0m\u001b[0;34m.\u001b[0m\u001b[0mfile_stream\u001b[0m\u001b[0;34m)\u001b[0m\u001b[0;34m)\u001b[0m\u001b[0;34m\u001b[0m\u001b[0;34m\u001b[0m\u001b[0m\n\u001b[1;32m    462\u001b[0m         \u001b[0;32melse\u001b[0m\u001b[0;34m:\u001b[0m\u001b[0;34m\u001b[0m\u001b[0;34m\u001b[0m\u001b[0m\n\u001b[0;32m--> 463\u001b[0;31m             \u001b[0msuper\u001b[0m\u001b[0;34m(\u001b[0m\u001b[0;34m)\u001b[0m\u001b[0;34m.\u001b[0m\u001b[0m__init__\u001b[0m\u001b[0;34m(\u001b[0m\u001b[0mtorch\u001b[0m\u001b[0;34m.\u001b[0m\u001b[0m_C\u001b[0m\u001b[0;34m.\u001b[0m\u001b[0mPyTorchFileWriter\u001b[0m\u001b[0;34m(\u001b[0m\u001b[0mself\u001b[0m\u001b[0;34m.\u001b[0m\u001b[0mname\u001b[0m\u001b[0;34m)\u001b[0m\u001b[0;34m)\u001b[0m\u001b[0;34m\u001b[0m\u001b[0;34m\u001b[0m\u001b[0m\n\u001b[0m\u001b[1;32m    464\u001b[0m \u001b[0;34m\u001b[0m\u001b[0m\n\u001b[1;32m    465\u001b[0m     \u001b[0;32mdef\u001b[0m \u001b[0m__exit__\u001b[0m\u001b[0;34m(\u001b[0m\u001b[0mself\u001b[0m\u001b[0;34m,\u001b[0m \u001b[0;34m*\u001b[0m\u001b[0margs\u001b[0m\u001b[0;34m)\u001b[0m \u001b[0;34m->\u001b[0m \u001b[0;32mNone\u001b[0m\u001b[0;34m:\u001b[0m\u001b[0;34m\u001b[0m\u001b[0;34m\u001b[0m\u001b[0m\n",
            "\u001b[0;31mKeyboardInterrupt\u001b[0m: "
          ]
        }
      ],
      "source": [
        "network.train(batchTrainDataLoader, batchTestDataLoader)"
      ]
    },
    {
      "cell_type": "code",
      "execution_count": null,
      "metadata": {
        "id": "NvnsM0Bn8Y2q",
        "colab": {
          "base_uri": "https://localhost:8080/",
          "height": 492
        },
        "outputId": "69996f4f-7e5c-4ac5-9638-020d7f0a8097"
      },
      "outputs": [
        {
          "output_type": "display_data",
          "data": {
            "text/plain": [
              "<Figure size 640x480 with 2 Axes>"
            ],
            "image/png": "[encoded data removed]"
          },
          "metadata": {}
        }
      ],
      "source": [
        "fig = network.plot_log()\n",
        "fig.savefig(os.path.join(model_dir,\"training_logs.png\"))"
      ]
    },
    {
      "cell_type": "code",
      "execution_count": null,
      "metadata": {
        "id": "fzFCZN7BL3yG"
      },
      "outputs": [],
      "source": [
        "from datetime import date\n",
        "lines=[\"Used a single batch of size 4 for training and validation.\",\n",
        "       \"\\n\"+str(config),\n",
        "       str(date.today()),\n",
        "       \"Used label smoothing and log_softmax()\",\n",
        "       \"Only k-nearest points with no similar points.\",\n",
        "       ]\n",
        "with open(os.path.join(model_dir,'description.txt'), 'w') as f:\n",
        "    for line in lines:\n",
        "        f.write(line)\n",
        "        f.write('\\n')"
      ]
    },
    {
      "cell_type": "code",
      "source": [
        "network._restore(\"/content/drive/MyDrive/cpsc_533y/modelnet40_experiments/so3_rot_8/single_batch_1/logs/best_model.pth\",restore_training=True)"
      ],
      "metadata": {
        "colab": {
          "base_uri": "https://localhost:8080/"
        },
        "id": "lnQGsYoka6RK",
        "outputId": "241e8d3d-5484-4bf4-efb6-7d51b6f73ebb"
      },
      "execution_count": null,
      "outputs": [
        {
          "output_type": "stream",
          "name": "stdout",
          "text": [
            "restoring /content/drive/MyDrive/cpsc_533y/modelnet40_experiments/so3_rot_8/single_batch_1/logs/best_model.pth\n"
          ]
        }
      ]
    },
    {
      "cell_type": "code",
      "source": [
        "config.noise_std=0.08\n",
        "noisy_testDataset=ModelNetDataLoader(test_data,test_label,use_voxel=use_voxel,point_num=n_points,rot_type=rot_type,rot=rot,noise_std=config.noise_std)\n",
        "noisy_testDataLoader=torch.utils.data.DataLoader(noisy_testDataset,batch_size=config.batch_size,shuffle=False)"
      ],
      "metadata": {
        "id": "IKg1T_PvoL68"
      },
      "execution_count": null,
      "outputs": []
    },
    {
      "cell_type": "code",
      "source": [
        "print(config.noise_std)\n",
        "network.test(noisy_testDataLoader, mode=\"test\")"
      ],
      "metadata": {
        "colab": {
          "base_uri": "https://localhost:8080/"
        },
        "id": "-NKCV557q2Pk",
        "outputId": "fd9290ea-5b97-4809-8dd0-e0cb9b895785"
      },
      "execution_count": null,
      "outputs": [
        {
          "output_type": "stream",
          "name": "stdout",
          "text": [
            "0.08\n",
            "restoring /content/drive/MyDrive/cpsc_533y/modelnet40_experiments/no_rot_8/full_train_1/logs/best_model.pth\n"
          ]
        },
        {
          "output_type": "execute_result",
          "data": {
            "text/plain": [
              "tensor(0.0616, device='cuda:0')"
            ]
          },
          "metadata": {},
          "execution_count": 169
        }
      ]
    },
    {
      "cell_type": "code",
      "execution_count": null,
      "metadata": {
        "id": "UdZhK2UORdqp",
        "colab": {
          "base_uri": "https://localhost:8080/"
        },
        "outputId": "71c0dec2-2f59-4db2-991a-a552e1b22259"
      },
      "outputs": [
        {
          "output_type": "execute_result",
          "data": {
            "text/plain": [
              "1055744"
            ]
          },
          "metadata": {},
          "execution_count": 317
        }
      ],
      "source": [
        "sum([x.nelement() for x in network.model.GSN.parameters()])"
      ]
    },
    {
      "cell_type": "code",
      "execution_count": null,
      "metadata": {
        "id": "whZ6jvOOR2z3",
        "colab": {
          "base_uri": "https://localhost:8080/"
        },
        "outputId": "fb81aa76-dc73-4378-9a20-23de4df12164"
      },
      "outputs": [
        {
          "output_type": "execute_result",
          "data": {
            "text/plain": [
              "4259235"
            ]
          },
          "metadata": {},
          "execution_count": 318
        }
      ],
      "source": [
        "sum([x.nelement() for x in network.model.GRN.parameters()])"
      ]
    },
    {
      "cell_type": "code",
      "execution_count": 52,
      "metadata": {
        "id": "eG2okNL0UTbl"
      },
      "outputs": [],
      "source": [
        "import matplotlib.pyplot as plt\n",
        "import os as os\n",
        "\n",
        "class Network(object):\n",
        "    def __init__(self, model, config):\n",
        "        self.config = config\n",
        "        self.model = model\n",
        "        self.optimizer = torch.optim.Adam(\n",
        "            model.parameters(), lr=config.lr, weight_decay=config.weight_decay\n",
        "        )\n",
        "\n",
        "        self.scheduler = torch.optim.lr_scheduler.StepLR(self.optimizer, step_size=1, gamma=0.7)\n",
        "\n",
        "        if self.config.use_cuda:\n",
        "            self.model.cuda()\n",
        "\n",
        "        # init auxiliary stuff such as log_func\n",
        "        self._init_aux()\n",
        "        print(f\"Network mode: {config.mode}\")\n",
        "\n",
        "    def _init_aux(self):\n",
        "        self.log_func = print\n",
        "\n",
        "        self.log_dir = self.config.log_dir\n",
        "        if not os.path.exists(self.log_dir):\n",
        "            os.makedirs(self.log_dir)\n",
        "\n",
        "        self.checkpts_file = os.path.join(self.log_dir, \"checkpoint.pth\")\n",
        "\n",
        "        self.bestmodel_file = os.path.join(self.log_dir, \"best_model.pth\")\n",
        "\n",
        "        self.train_losses = []\n",
        "        self.valid_oas = []\n",
        "        self.idx_steps = []\n",
        "\n",
        "    def plot_log(self):\n",
        "        fig, (ax1, ax2) = plt.subplots(2)\n",
        "        fig.suptitle(\"Visualization of training logs\")\n",
        "\n",
        "        ax1.plot(self.idx_steps, self.train_losses)\n",
        "\n",
        "        if self.config.use_cuda:\n",
        "            valid_oas = [acc.cpu().item() for acc in self.valid_oas]\n",
        "        else:\n",
        "            valid_oas = self.valid_oas\n",
        "        ax2.plot(self.idx_steps, valid_oas)\n",
        "        ax1.set_title(\"Training loss curve\")\n",
        "        ax2.set_title(\"Validation accuracy curve\")\n",
        "        plt.tight_layout()\n",
        "        plt.show()\n",
        "        plt.close()\n",
        "        return fig\n",
        "\n",
        "    def _save(self, pt_file):\n",
        "        torch.save(\n",
        "            {\n",
        "                \"model\": self.model.state_dict(),\n",
        "                \"optimizer\": self.optimizer.state_dict(),\n",
        "                \"train_losses\": self.train_losses,\n",
        "                \"valid_oas\": self.valid_oas,\n",
        "                \"idx_steps\": self.idx_steps,\n",
        "                \"config\": self.config,\n",
        "            },\n",
        "            pt_file,\n",
        "        )\n",
        "\n",
        "    def _restore(self, pt_file, restore_training=False):\n",
        "        print(f\"restoring {pt_file}\")\n",
        "\n",
        "        load_res = torch.load(pt_file)\n",
        "        self.model.load_state_dict(load_res[\"model\"])\n",
        "        self.optimizer.load_state_dict(load_res[\"optimizer\"])\n",
        "\n",
        "        if restore_training:\n",
        "            self.train_losses = load_res[\"train_losses\"]\n",
        "            self.valid_oas = load_res[\"valid_oas\"]\n",
        "            self.idx_steps = load_res[\"idx_steps\"]\n",
        "\n",
        "    def train(self, loader_tr, loader_va):\n",
        "        self.model.train()\n",
        "        best_va_acc = 0\n",
        "\n",
        "        for epoch in range(self.config.num_epochs):\n",
        "            losses = []\n",
        "            for data in loader_tr:\n",
        "                if self.config.use_cuda:\n",
        "                    for i in range(0, len(data)):\n",
        "                        data[i] = data[i].cuda()\n",
        "\n",
        "                labels = data[2].squeeze(-1)\n",
        "                one_hot_labels = torch.nn.functional.one_hot(labels.type(torch.int64), config.num_classes)\n",
        "                # print(data[2].shape)\n",
        "                pred = self.model(data[0])\n",
        "\n",
        "                loss = self.model.get_loss(pred, one_hot_labels.type(torch.float64))\n",
        "                losses += [loss]\n",
        "\n",
        "                loss.backward()\n",
        "\n",
        "                self.optimizer.step()\n",
        "                self.scheduler.step()\n",
        "                self.optimizer.zero_grad()\n",
        "\n",
        "            loss_avg = torch.mean(torch.stack(losses)).item()\n",
        "\n",
        "            # Save model every epoch.\n",
        "            self._save(self.checkpts_file)\n",
        "            acc = self.test(loader_va, mode=\"valid\")\n",
        "            if acc > best_va_acc:\n",
        "                best_va_acc = acc\n",
        "                self._save(self.bestmodel_file)\n",
        "\n",
        "            self.log_func(\n",
        "                \"Epoch: %3d, loss_avg: %.5f, val OA: %.5f, best val OA: %.5f\"\n",
        "                %(epoch, loss_avg, acc, best_va_acc)\n",
        "            )\n",
        "\n",
        "            # Recording training losses and validation performance.\n",
        "            self.train_losses += [loss_avg]\n",
        "            self.valid_oas += [acc]\n",
        "            self.idx_steps += [epoch]\n",
        "\n",
        "    def test(self, loader_te, mode=\"test\"):\n",
        "        if mode == \"test\":\n",
        "            self._restore(self.bestmodel_file)\n",
        "        self.model.eval()\n",
        "\n",
        "        with torch.no_grad():\n",
        "            accs = []\n",
        "            num_samples = 0\n",
        "            for data in loader_te:\n",
        "                if self.config.use_cuda:\n",
        "                    for i in range(0, len(data)):\n",
        "                        data[i] = data[i].cuda()\n",
        "                batch_size = len(data[2])\n",
        "                pred = self.model(data[0])\n",
        "                acc = self.model.get_acc(pred, data[2].squeeze(-1))\n",
        "                accs += [acc * batch_size]\n",
        "                # print(accs)\n",
        "                num_samples += batch_size\n",
        "            # print(accs)\n",
        "            # print(num_samples)\n",
        "            avg_acc = torch.stack(accs).sum() / num_samples\n",
        "\n",
        "        self.model.train()\n",
        "        return avg_acc"
      ]
    },
    {
      "cell_type": "code",
      "source": [
        "import matplotlib.pyplot as plt\n",
        "\n",
        "fig,ax=plt.subplots()\n",
        "ax.set_ylim(([0,10]))\n",
        "ax.plot([0.0,0.02,0.04,0.06,0.08,0.10],[9.198,8.91,8.02,8.51,8.14,7.82],marker=\"o\",color=\"blue\")\n",
        "ax.plot([0.0,0.02,0.04,0.06,0.08,0.10],[])\n",
        "# ax.legend()\n",
        "fig.savefig(\"/content/drive/MyDrive/cpsc_533y/modelnet40_experiments/no_rot_64/full_train_1/noise_accuracy.png\")"
      ],
      "metadata": {
        "colab": {
          "base_uri": "https://localhost:8080/",
          "height": 435
        },
        "outputId": "ad3f1608-25c9-483c-ce85-a7d8b37a2067",
        "id": "IupteP0QbL7d"
      },
      "execution_count": null,
      "outputs": [
        {
          "output_type": "display_data",
          "data": {
            "text/plain": [
              "<Figure size 640x480 with 1 Axes>"
            ],
            "image/png": "[encoded data removed]"
          },
          "metadata": {}
        }
      ]
    },
    {
      "cell_type": "code",
      "source": [
        "import matplotlib.pyplot as plt\n",
        "\n",
        "fig,ax=plt.subplots()\n",
        "ax.set_ylim(([0,10]))\n",
        "ax.plot([0.0,0.02,0.04,0.06,0.08,0.10],[7.455,6.28,7.01,6.85,5.96,5.92],marker=\"o\",color=\"blue\")\n",
        "# ax.legend()\n",
        "fig.savefig(\"/content/drive/MyDrive/cpsc_533y/modelnet40_experiments/no_rot_16/full_train_1/noise_accuracy.png\")"
      ],
      "metadata": {
        "colab": {
          "base_uri": "https://localhost:8080/",
          "height": 435
        },
        "outputId": "302ae280-4be1-46ba-e007-217b96d44d29",
        "id": "4c2ORWB1axpz"
      },
      "execution_count": null,
      "outputs": [
        {
          "output_type": "display_data",
          "data": {
            "text/plain": [
              "<Figure size 640x480 with 1 Axes>"
            ],
            "image/png": "[encoded data removed]"
          },
          "metadata": {}
        }
      ]
    },
    {
      "cell_type": "code",
      "source": [
        "import matplotlib.pyplot as plt\n",
        "\n",
        "fig,ax=plt.subplots()\n",
        "ax.set_ylim(([0,10]))\n",
        "ax.plot([0.0,0.02,0.04,0.06,0.08,0.10],[6.76,5.88,5.63,5.83,6.16,5.55],marker=\"o\",color=\"blue\")\n",
        "# ax.legend()\n",
        "fig.savefig(\"/content/drive/MyDrive/cpsc_533y/modelnet40_experiments/no_rot_8/full_train_1/noise_accuracy.png\")"
      ],
      "metadata": {
        "colab": {
          "base_uri": "https://localhost:8080/",
          "height": 435
        },
        "outputId": "0941d48d-da35-4213-b226-dcb0b0fda81a",
        "id": "Clu0PyRHmd3S"
      },
      "execution_count": null,
      "outputs": [
        {
          "output_type": "display_data",
          "data": {
            "text/plain": [
              "<Figure size 640x480 with 1 Axes>"
            ],
            "image/png": "[encoded data removed]"
          },
          "metadata": {}
        }
      ]
    },
    {
      "cell_type": "code",
      "source": [
        "import matplotlib.pyplot as plt\n",
        "\n",
        "fig,ax=plt.subplots()\n",
        "ax.set_ylim(([0,10]))\n",
        "ax.plot([0.0,0.02,0.04,0.06,0.08,0.10],[8.225,6.69,7.41,7.29,7.41,6.89],marker=\"o\",color=\"blue\")\n",
        "# ax.legend()\n",
        "fig.savefig(\"/content/drive/MyDrive/cpsc_533y/modelnet40_experiments/no_rot_256/full_train_3/noise_accuracy.png\")"
      ],
      "metadata": {
        "colab": {
          "base_uri": "https://localhost:8080/",
          "height": 435
        },
        "outputId": "9a983db4-0c1e-40d3-e9ba-10c985c24f1d",
        "id": "9BnNfNQoIVN8"
      },
      "execution_count": null,
      "outputs": [
        {
          "output_type": "display_data",
          "data": {
            "text/plain": [
              "<Figure size 640x480 with 1 Axes>"
            ],
            "image/png": "[encoded data removed]"
          },
          "metadata": {}
        }
      ]
    }
  ],
  "metadata": {
    "colab": {
      "machine_shape": "hm",
      "provenance": [],
      "gpuType": "T4",
      "authorship_tag": "ABX9TyNrMSLbSR4F2PtUo0oz9jR+",
      "include_colab_link": true
    },
    "kernelspec": {
      "display_name": "Python 3",
      "name": "python3"
    },
    "language_info": {
      "name": "python"
    },
    "accelerator": "GPU"
  },
  "nbformat": 4,
  "nbformat_minor": 0
}