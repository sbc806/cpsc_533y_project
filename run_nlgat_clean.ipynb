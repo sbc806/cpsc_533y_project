{
  "cells": [
    {
      "cell_type": "markdown",
      "metadata": {
        "id": "view-in-github",
        "colab_type": "text"
      },
      "source": [
        "<a href=\"https://colab.research.google.com/github/sbc806/cpsc_533y_project/blob/master/run_nlgat_clean.ipynb\" target=\"_parent\"><img src=\"https://colab.research.google.com/assets/colab-badge.svg\" alt=\"Open In Colab\"/></a>"
      ]
    },
    {
      "cell_type": "code",
      "source": [
        "!git clone https://github.com/sbc806/cpsc_533y_project.git"
      ],
      "metadata": {
        "colab": {
          "base_uri": "https://localhost:8080/"
        },
        "id": "9ybMTMHRCOCz",
        "outputId": "26d9225b-a1d3-4fb3-8d52-48420f30b074"
      },
      "execution_count": 2,
      "outputs": [
        {
          "output_type": "stream",
          "name": "stdout",
          "text": [
            "Cloning into 'cpsc_533y_project'...\n",
            "remote: Enumerating objects: 53, done.\u001b[K\n",
            "remote: Counting objects: 100% (43/43), done.\u001b[K\n",
            "remote: Compressing objects: 100% (39/39), done.\u001b[K\n",
            "remote: Total 53 (delta 18), reused 14 (delta 4), pack-reused 10\u001b[K\n",
            "Receiving objects: 100% (53/53), 282.43 KiB | 1.66 MiB/s, done.\n",
            "Resolving deltas: 100% (18/18), done.\n"
          ]
        }
      ]
    },
    {
      "cell_type": "code",
      "execution_count": 3,
      "metadata": {
        "id": "97zqHHP90idz"
      },
      "outputs": [],
      "source": [
        "import sys as sys\n",
        "\n",
        "sys.path.append(\"/content/cpsc_533y_project\")"
      ]
    },
    {
      "cell_type": "code",
      "execution_count": 4,
      "metadata": {
        "id": "StAnr_roKjMN"
      },
      "outputs": [],
      "source": [
        "import sys as sys\n",
        "\n",
        "sys.path.append(\"/content/cpsc_533y_project/nlgat\")"
      ]
    },
    {
      "cell_type": "markdown",
      "metadata": {
        "id": "QwW_m4FZQE7C"
      },
      "source": [
        "Read in data"
      ]
    },
    {
      "cell_type": "code",
      "execution_count": 5,
      "metadata": {
        "colab": {
          "base_uri": "https://localhost:8080/"
        },
        "id": "-Anb4xHnQDHL",
        "outputId": "bfaad8d5-72bb-48af-cd78-969dd72b4a9b"
      },
      "outputs": [
        {
          "output_type": "stream",
          "name": "stdout",
          "text": [
            "Collecting open3d\n",
            "  Downloading open3d-0.17.0-cp310-cp310-manylinux_2_27_x86_64.whl (420.5 MB)\n",
            "\u001b[2K     \u001b[90m━━━━━━━━━━━━━━━━━━━━━━━━━━━━━━━━━━━━━━━━\u001b[0m \u001b[32m420.5/420.5 MB\u001b[0m \u001b[31m2.9 MB/s\u001b[0m eta \u001b[36m0:00:00\u001b[0m\n",
            "\u001b[?25hRequirement already satisfied: numpy>=1.18.0 in /usr/local/lib/python3.10/dist-packages (from open3d) (1.23.5)\n",
            "Collecting dash>=2.6.0 (from open3d)\n",
            "  Downloading dash-2.14.2-py3-none-any.whl (10.2 MB)\n",
            "\u001b[2K     \u001b[90m━━━━━━━━━━━━━━━━━━━━━━━━━━━━━━━━━━━━━━━━\u001b[0m \u001b[32m10.2/10.2 MB\u001b[0m \u001b[31m101.8 MB/s\u001b[0m eta \u001b[36m0:00:00\u001b[0m\n",
            "\u001b[?25hRequirement already satisfied: werkzeug>=2.2.3 in /usr/local/lib/python3.10/dist-packages (from open3d) (3.0.1)\n",
            "Collecting nbformat==5.7.0 (from open3d)\n",
            "  Downloading nbformat-5.7.0-py3-none-any.whl (77 kB)\n",
            "\u001b[2K     \u001b[90m━━━━━━━━━━━━━━━━━━━━━━━━━━━━━━━━━━━━━━━━\u001b[0m \u001b[32m77.1/77.1 kB\u001b[0m \u001b[31m10.9 MB/s\u001b[0m eta \u001b[36m0:00:00\u001b[0m\n",
            "\u001b[?25hCollecting configargparse (from open3d)\n",
            "  Downloading ConfigArgParse-1.7-py3-none-any.whl (25 kB)\n",
            "Collecting ipywidgets>=8.0.4 (from open3d)\n",
            "  Downloading ipywidgets-8.1.1-py3-none-any.whl (139 kB)\n",
            "\u001b[2K     \u001b[90m━━━━━━━━━━━━━━━━━━━━━━━━━━━━━━━━━━━━━━━━\u001b[0m \u001b[32m139.4/139.4 kB\u001b[0m \u001b[31m18.9 MB/s\u001b[0m eta \u001b[36m0:00:00\u001b[0m\n",
            "\u001b[?25hCollecting addict (from open3d)\n",
            "  Downloading addict-2.4.0-py3-none-any.whl (3.8 kB)\n",
            "Requirement already satisfied: pillow>=9.3.0 in /usr/local/lib/python3.10/dist-packages (from open3d) (9.4.0)\n",
            "Requirement already satisfied: matplotlib>=3 in /usr/local/lib/python3.10/dist-packages (from open3d) (3.7.1)\n",
            "Requirement already satisfied: pandas>=1.0 in /usr/local/lib/python3.10/dist-packages (from open3d) (1.5.3)\n",
            "Requirement already satisfied: pyyaml>=5.4.1 in /usr/local/lib/python3.10/dist-packages (from open3d) (6.0.1)\n",
            "Requirement already satisfied: scikit-learn>=0.21 in /usr/local/lib/python3.10/dist-packages (from open3d) (1.2.2)\n",
            "Requirement already satisfied: tqdm in /usr/local/lib/python3.10/dist-packages (from open3d) (4.66.1)\n",
            "Collecting pyquaternion (from open3d)\n",
            "  Downloading pyquaternion-0.9.9-py3-none-any.whl (14 kB)\n",
            "Requirement already satisfied: fastjsonschema in /usr/local/lib/python3.10/dist-packages (from nbformat==5.7.0->open3d) (2.19.0)\n",
            "Requirement already satisfied: jsonschema>=2.6 in /usr/local/lib/python3.10/dist-packages (from nbformat==5.7.0->open3d) (4.19.2)\n",
            "Requirement already satisfied: jupyter-core in /usr/local/lib/python3.10/dist-packages (from nbformat==5.7.0->open3d) (5.5.1)\n",
            "Requirement already satisfied: traitlets>=5.1 in /usr/local/lib/python3.10/dist-packages (from nbformat==5.7.0->open3d) (5.7.1)\n",
            "Requirement already satisfied: Flask<3.1,>=1.0.4 in /usr/local/lib/python3.10/dist-packages (from dash>=2.6.0->open3d) (2.2.5)\n",
            "Requirement already satisfied: plotly>=5.0.0 in /usr/local/lib/python3.10/dist-packages (from dash>=2.6.0->open3d) (5.15.0)\n",
            "Collecting dash-html-components==2.0.0 (from dash>=2.6.0->open3d)\n",
            "  Downloading dash_html_components-2.0.0-py3-none-any.whl (4.1 kB)\n",
            "Collecting dash-core-components==2.0.0 (from dash>=2.6.0->open3d)\n",
            "  Downloading dash_core_components-2.0.0-py3-none-any.whl (3.8 kB)\n",
            "Collecting dash-table==5.0.0 (from dash>=2.6.0->open3d)\n",
            "  Downloading dash_table-5.0.0-py3-none-any.whl (3.9 kB)\n",
            "Requirement already satisfied: typing-extensions>=4.1.1 in /usr/local/lib/python3.10/dist-packages (from dash>=2.6.0->open3d) (4.5.0)\n",
            "Requirement already satisfied: requests in /usr/local/lib/python3.10/dist-packages (from dash>=2.6.0->open3d) (2.31.0)\n",
            "Collecting retrying (from dash>=2.6.0->open3d)\n",
            "  Downloading retrying-1.3.4-py3-none-any.whl (11 kB)\n",
            "Collecting ansi2html (from dash>=2.6.0->open3d)\n",
            "  Downloading ansi2html-1.9.1-py3-none-any.whl (17 kB)\n",
            "Requirement already satisfied: nest-asyncio in /usr/local/lib/python3.10/dist-packages (from dash>=2.6.0->open3d) (1.5.8)\n",
            "Requirement already satisfied: setuptools in /usr/local/lib/python3.10/dist-packages (from dash>=2.6.0->open3d) (67.7.2)\n",
            "Requirement already satisfied: importlib-metadata in /usr/local/lib/python3.10/dist-packages (from dash>=2.6.0->open3d) (7.0.0)\n",
            "Collecting comm>=0.1.3 (from ipywidgets>=8.0.4->open3d)\n",
            "  Downloading comm-0.2.0-py3-none-any.whl (7.0 kB)\n",
            "Requirement already satisfied: ipython>=6.1.0 in /usr/local/lib/python3.10/dist-packages (from ipywidgets>=8.0.4->open3d) (7.34.0)\n",
            "Collecting widgetsnbextension~=4.0.9 (from ipywidgets>=8.0.4->open3d)\n",
            "  Downloading widgetsnbextension-4.0.9-py3-none-any.whl (2.3 MB)\n",
            "\u001b[2K     \u001b[90m━━━━━━━━━━━━━━━━━━━━━━━━━━━━━━━━━━━━━━━━\u001b[0m \u001b[32m2.3/2.3 MB\u001b[0m \u001b[31m90.6 MB/s\u001b[0m eta \u001b[36m0:00:00\u001b[0m\n",
            "\u001b[?25hRequirement already satisfied: jupyterlab-widgets~=3.0.9 in /usr/local/lib/python3.10/dist-packages (from ipywidgets>=8.0.4->open3d) (3.0.9)\n",
            "Requirement already satisfied: contourpy>=1.0.1 in /usr/local/lib/python3.10/dist-packages (from matplotlib>=3->open3d) (1.2.0)\n",
            "Requirement already satisfied: cycler>=0.10 in /usr/local/lib/python3.10/dist-packages (from matplotlib>=3->open3d) (0.12.1)\n",
            "Requirement already satisfied: fonttools>=4.22.0 in /usr/local/lib/python3.10/dist-packages (from matplotlib>=3->open3d) (4.46.0)\n",
            "Requirement already satisfied: kiwisolver>=1.0.1 in /usr/local/lib/python3.10/dist-packages (from matplotlib>=3->open3d) (1.4.5)\n",
            "Requirement already satisfied: packaging>=20.0 in /usr/local/lib/python3.10/dist-packages (from matplotlib>=3->open3d) (23.2)\n",
            "Requirement already satisfied: pyparsing>=2.3.1 in /usr/local/lib/python3.10/dist-packages (from matplotlib>=3->open3d) (3.1.1)\n",
            "Requirement already satisfied: python-dateutil>=2.7 in /usr/local/lib/python3.10/dist-packages (from matplotlib>=3->open3d) (2.8.2)\n",
            "Requirement already satisfied: pytz>=2020.1 in /usr/local/lib/python3.10/dist-packages (from pandas>=1.0->open3d) (2023.3.post1)\n",
            "Requirement already satisfied: scipy>=1.3.2 in /usr/local/lib/python3.10/dist-packages (from scikit-learn>=0.21->open3d) (1.11.4)\n",
            "Requirement already satisfied: joblib>=1.1.1 in /usr/local/lib/python3.10/dist-packages (from scikit-learn>=0.21->open3d) (1.3.2)\n",
            "Requirement already satisfied: threadpoolctl>=2.0.0 in /usr/local/lib/python3.10/dist-packages (from scikit-learn>=0.21->open3d) (3.2.0)\n",
            "Requirement already satisfied: MarkupSafe>=2.1.1 in /usr/local/lib/python3.10/dist-packages (from werkzeug>=2.2.3->open3d) (2.1.3)\n",
            "Requirement already satisfied: Jinja2>=3.0 in /usr/local/lib/python3.10/dist-packages (from Flask<3.1,>=1.0.4->dash>=2.6.0->open3d) (3.1.2)\n",
            "Requirement already satisfied: itsdangerous>=2.0 in /usr/local/lib/python3.10/dist-packages (from Flask<3.1,>=1.0.4->dash>=2.6.0->open3d) (2.1.2)\n",
            "Requirement already satisfied: click>=8.0 in /usr/local/lib/python3.10/dist-packages (from Flask<3.1,>=1.0.4->dash>=2.6.0->open3d) (8.1.7)\n",
            "Collecting jedi>=0.16 (from ipython>=6.1.0->ipywidgets>=8.0.4->open3d)\n",
            "  Downloading jedi-0.19.1-py2.py3-none-any.whl (1.6 MB)\n",
            "\u001b[2K     \u001b[90m━━━━━━━━━━━━━━━━━━━━━━━━━━━━━━━━━━━━━━━━\u001b[0m \u001b[32m1.6/1.6 MB\u001b[0m \u001b[31m86.3 MB/s\u001b[0m eta \u001b[36m0:00:00\u001b[0m\n",
            "\u001b[?25hRequirement already satisfied: decorator in /usr/local/lib/python3.10/dist-packages (from ipython>=6.1.0->ipywidgets>=8.0.4->open3d) (4.4.2)\n",
            "Requirement already satisfied: pickleshare in /usr/local/lib/python3.10/dist-packages (from ipython>=6.1.0->ipywidgets>=8.0.4->open3d) (0.7.5)\n",
            "Requirement already satisfied: prompt-toolkit!=3.0.0,!=3.0.1,<3.1.0,>=2.0.0 in /usr/local/lib/python3.10/dist-packages (from ipython>=6.1.0->ipywidgets>=8.0.4->open3d) (3.0.43)\n",
            "Requirement already satisfied: pygments in /usr/local/lib/python3.10/dist-packages (from ipython>=6.1.0->ipywidgets>=8.0.4->open3d) (2.16.1)\n",
            "Requirement already satisfied: backcall in /usr/local/lib/python3.10/dist-packages (from ipython>=6.1.0->ipywidgets>=8.0.4->open3d) (0.2.0)\n",
            "Requirement already satisfied: matplotlib-inline in /usr/local/lib/python3.10/dist-packages (from ipython>=6.1.0->ipywidgets>=8.0.4->open3d) (0.1.6)\n",
            "Requirement already satisfied: pexpect>4.3 in /usr/local/lib/python3.10/dist-packages (from ipython>=6.1.0->ipywidgets>=8.0.4->open3d) (4.9.0)\n",
            "Requirement already satisfied: attrs>=22.2.0 in /usr/local/lib/python3.10/dist-packages (from jsonschema>=2.6->nbformat==5.7.0->open3d) (23.1.0)\n",
            "Requirement already satisfied: jsonschema-specifications>=2023.03.6 in /usr/local/lib/python3.10/dist-packages (from jsonschema>=2.6->nbformat==5.7.0->open3d) (2023.11.2)\n",
            "Requirement already satisfied: referencing>=0.28.4 in /usr/local/lib/python3.10/dist-packages (from jsonschema>=2.6->nbformat==5.7.0->open3d) (0.32.0)\n",
            "Requirement already satisfied: rpds-py>=0.7.1 in /usr/local/lib/python3.10/dist-packages (from jsonschema>=2.6->nbformat==5.7.0->open3d) (0.15.2)\n",
            "Requirement already satisfied: tenacity>=6.2.0 in /usr/local/lib/python3.10/dist-packages (from plotly>=5.0.0->dash>=2.6.0->open3d) (8.2.3)\n",
            "Requirement already satisfied: six>=1.5 in /usr/local/lib/python3.10/dist-packages (from python-dateutil>=2.7->matplotlib>=3->open3d) (1.16.0)\n",
            "Requirement already satisfied: zipp>=0.5 in /usr/local/lib/python3.10/dist-packages (from importlib-metadata->dash>=2.6.0->open3d) (3.17.0)\n",
            "Requirement already satisfied: platformdirs>=2.5 in /usr/local/lib/python3.10/dist-packages (from jupyter-core->nbformat==5.7.0->open3d) (4.1.0)\n",
            "Requirement already satisfied: charset-normalizer<4,>=2 in /usr/local/lib/python3.10/dist-packages (from requests->dash>=2.6.0->open3d) (3.3.2)\n",
            "Requirement already satisfied: idna<4,>=2.5 in /usr/local/lib/python3.10/dist-packages (from requests->dash>=2.6.0->open3d) (3.6)\n",
            "Requirement already satisfied: urllib3<3,>=1.21.1 in /usr/local/lib/python3.10/dist-packages (from requests->dash>=2.6.0->open3d) (2.0.7)\n",
            "Requirement already satisfied: certifi>=2017.4.17 in /usr/local/lib/python3.10/dist-packages (from requests->dash>=2.6.0->open3d) (2023.11.17)\n",
            "Requirement already satisfied: parso<0.9.0,>=0.8.3 in /usr/local/lib/python3.10/dist-packages (from jedi>=0.16->ipython>=6.1.0->ipywidgets>=8.0.4->open3d) (0.8.3)\n",
            "Requirement already satisfied: ptyprocess>=0.5 in /usr/local/lib/python3.10/dist-packages (from pexpect>4.3->ipython>=6.1.0->ipywidgets>=8.0.4->open3d) (0.7.0)\n",
            "Requirement already satisfied: wcwidth in /usr/local/lib/python3.10/dist-packages (from prompt-toolkit!=3.0.0,!=3.0.1,<3.1.0,>=2.0.0->ipython>=6.1.0->ipywidgets>=8.0.4->open3d) (0.2.12)\n",
            "Installing collected packages: dash-table, dash-html-components, dash-core-components, addict, widgetsnbextension, retrying, pyquaternion, jedi, configargparse, comm, ansi2html, ipywidgets, dash, nbformat, open3d\n",
            "  Attempting uninstall: widgetsnbextension\n",
            "    Found existing installation: widgetsnbextension 3.6.6\n",
            "    Uninstalling widgetsnbextension-3.6.6:\n",
            "      Successfully uninstalled widgetsnbextension-3.6.6\n",
            "  Attempting uninstall: ipywidgets\n",
            "    Found existing installation: ipywidgets 7.7.1\n",
            "    Uninstalling ipywidgets-7.7.1:\n",
            "      Successfully uninstalled ipywidgets-7.7.1\n",
            "  Attempting uninstall: nbformat\n",
            "    Found existing installation: nbformat 5.9.2\n",
            "    Uninstalling nbformat-5.9.2:\n",
            "      Successfully uninstalled nbformat-5.9.2\n",
            "Successfully installed addict-2.4.0 ansi2html-1.9.1 comm-0.2.0 configargparse-1.7 dash-2.14.2 dash-core-components-2.0.0 dash-html-components-2.0.0 dash-table-5.0.0 ipywidgets-8.1.1 jedi-0.19.1 nbformat-5.7.0 open3d-0.17.0 pyquaternion-0.9.9 retrying-1.3.4 widgetsnbextension-4.0.9\n"
          ]
        }
      ],
      "source": [
        "!pip install open3d"
      ]
    },
    {
      "cell_type": "markdown",
      "metadata": {
        "id": "CouOosfHbfAd"
      },
      "source": [
        "# Get configuration"
      ]
    },
    {
      "cell_type": "code",
      "execution_count": 6,
      "metadata": {
        "colab": {
          "base_uri": "https://localhost:8080/"
        },
        "id": "FyyhnPE6S4UD",
        "outputId": "20ef5fc8-1e2c-45d3-d027-73ad83726e47"
      },
      "outputs": [
        {
          "output_type": "stream",
          "name": "stdout",
          "text": [
            "Collecting ml_collections==0.1.1\n",
            "  Downloading ml_collections-0.1.1.tar.gz (77 kB)\n",
            "\u001b[?25l     \u001b[90m━━━━━━━━━━━━━━━━━━━━━━━━━━━━━━━━━━━━━━━━\u001b[0m \u001b[32m0.0/77.9 kB\u001b[0m \u001b[31m?\u001b[0m eta \u001b[36m-:--:--\u001b[0m\r\u001b[2K     \u001b[91m━━━━━━━━━━━━━━━━━━━━━━━━━━━━━━━━━━━━\u001b[0m\u001b[91m╸\u001b[0m\u001b[90m━━━\u001b[0m \u001b[32m71.7/77.9 kB\u001b[0m \u001b[31m2.1 MB/s\u001b[0m eta \u001b[36m0:00:01\u001b[0m\r\u001b[2K     \u001b[90m━━━━━━━━━━━━━━━━━━━━━━━━━━━━━━━━━━━━━━━━\u001b[0m \u001b[32m77.9/77.9 kB\u001b[0m \u001b[31m1.9 MB/s\u001b[0m eta \u001b[36m0:00:00\u001b[0m\n",
            "\u001b[?25h  Preparing metadata (setup.py) ... \u001b[?25l\u001b[?25hdone\n",
            "Requirement already satisfied: absl-py in /usr/local/lib/python3.10/dist-packages (from ml_collections==0.1.1) (1.4.0)\n",
            "Requirement already satisfied: PyYAML in /usr/local/lib/python3.10/dist-packages (from ml_collections==0.1.1) (6.0.1)\n",
            "Requirement already satisfied: six in /usr/local/lib/python3.10/dist-packages (from ml_collections==0.1.1) (1.16.0)\n",
            "Requirement already satisfied: contextlib2 in /usr/local/lib/python3.10/dist-packages (from ml_collections==0.1.1) (21.6.0)\n",
            "Building wheels for collected packages: ml_collections\n",
            "  Building wheel for ml_collections (setup.py) ... \u001b[?25l\u001b[?25hdone\n",
            "  Created wheel for ml_collections: filename=ml_collections-0.1.1-py3-none-any.whl size=94505 sha256=9caed5a601bee86252885700476297d8f984a8f6dd8f796a5e8df6e666a49dea\n",
            "  Stored in directory: /root/.cache/pip/wheels/7b/89/c9/a9b87790789e94aadcfc393c283e3ecd5ab916aed0a31be8fe\n",
            "Successfully built ml_collections\n",
            "Installing collected packages: ml_collections\n",
            "Successfully installed ml_collections-0.1.1\n"
          ]
        }
      ],
      "source": [
        "!pip install ml_collections==0.1.1"
      ]
    },
    {
      "cell_type": "code",
      "execution_count": 7,
      "metadata": {
        "id": "feoN_Qrj8sCc"
      },
      "outputs": [],
      "source": [
        "import ml_collections"
      ]
    },
    {
      "cell_type": "code",
      "execution_count": 8,
      "metadata": {
        "id": "desOhKb6e7LZ"
      },
      "outputs": [],
      "source": [
        "def get_config():\n",
        "    config = ml_collections.ConfigDict()\n",
        "\n",
        "    config.mode = \"train\"\n",
        "\n",
        "    # Hyperparameters for dataset.\n",
        "    config.num_pts = 64\n",
        "    config.num_classes = 40\n",
        "    config.use_voxel = False\n",
        "    config.rot_type = \"SO3\"\n",
        "    config.rot = False\n",
        "    config.normalize = True\n",
        "    config.center = False\n",
        "    config.preprocess = False\n",
        "\n",
        "    # Hyperparameters for models.\n",
        "\n",
        "    # Hyperparameters for GSN\n",
        "    config.gsn_init = None\n",
        "\n",
        "    # Hyperparameters for GRN\n",
        "    # Localize each local Gram matrix\n",
        "    config.localize = True\n",
        "    # For sorting the rows of the Gram matrix\n",
        "    # Can sort rows in ascending or descending order\n",
        "    config.descending = False\n",
        "    # For converting MxMxN tensor to MxN tensor\n",
        "    # Can be average, absolute_average or maximum\n",
        "    config.reduce_option = \"average\"\n",
        "\n",
        "    # Hyperparameters for training.\n",
        "    config.log_dir = \"logs\"\n",
        "    config.use_cuda = True\n",
        "    config.batch_size = 32\n",
        "    config.num_epochs = 200\n",
        "    config.lr = 0.02\n",
        "    config.weight_decay = 0.0\n",
        "    config.label_smoothing = 0.20\n",
        "\n",
        "    # Hyperparameters for ablation study\n",
        "    config.mode = \"both\"\n",
        "    return config"
      ]
    },
    {
      "cell_type": "code",
      "execution_count": 9,
      "metadata": {
        "id": "DjKJyT-qUR_k"
      },
      "outputs": [],
      "source": [
        "config = get_config()"
      ]
    },
    {
      "cell_type": "code",
      "source": [
        "config"
      ],
      "metadata": {
        "colab": {
          "base_uri": "https://localhost:8080/"
        },
        "id": "vhiX3y746ohD",
        "outputId": "b1788466-60d3-47c1-f099-1bd36d39d39f"
      },
      "execution_count": 10,
      "outputs": [
        {
          "output_type": "execute_result",
          "data": {
            "text/plain": [
              "batch_size: 32\n",
              "center: false\n",
              "descending: false\n",
              "gsn_init: null\n",
              "label_smoothing: 0.2\n",
              "localize: true\n",
              "log_dir: logs\n",
              "lr: 0.02\n",
              "mode: both\n",
              "normalize: true\n",
              "num_classes: 40\n",
              "num_epochs: 200\n",
              "num_pts: 64\n",
              "preprocess: false\n",
              "reduce_option: average\n",
              "rot: false\n",
              "rot_type: SO3\n",
              "use_cuda: true\n",
              "use_voxel: false\n",
              "weight_decay: 0.0"
            ]
          },
          "metadata": {},
          "execution_count": 10
        }
      ]
    },
    {
      "cell_type": "markdown",
      "metadata": {
        "id": "L54QsUg9bhnE"
      },
      "source": [
        "# Get dataloaders"
      ]
    },
    {
      "cell_type": "code",
      "execution_count": 11,
      "metadata": {
        "id": "P-CoUi-mHgtP"
      },
      "outputs": [],
      "source": [
        "# From ScanObjectNN GitHub\n",
        "def normalize_data(pcs):\n",
        "    for pc in pcs:\n",
        "        d = max(np.sum(np.abs(pc)**2, axis=-1)**(1./2))\n",
        "        # print(d)\n",
        "        pc /= d\n",
        "    return pcs"
      ]
    },
    {
      "cell_type": "code",
      "execution_count": 12,
      "metadata": {
        "id": "Il-Hej1tIetm"
      },
      "outputs": [],
      "source": [
        "# From ScanObjectNN GitHub\n",
        "def center_data(pcs):\n",
        "    for pc in pcs:\n",
        "        centroid = np.mean(pc, axis=0)\n",
        "        pc[:0]-=centroid[0]\n",
        "        pc[:,1]-=centroid[1]\n",
        "        pc[:,2]-=centroid[2]\n",
        "        # print(centroid)\n",
        "    return pcs"
      ]
    },
    {
      "cell_type": "code",
      "execution_count": 13,
      "metadata": {
        "id": "4GF9UzomVqHp"
      },
      "outputs": [],
      "source": [
        "from torch.utils.data import Subset\n",
        "import torch\n",
        "import torch.nn as nn\n",
        "import torch.utils.data\n",
        "import torch.optim as optim\n",
        "import torch.nn.functional as F\n",
        "\n",
        "import time\n",
        "import numpy as np"
      ]
    },
    {
      "cell_type": "code",
      "source": [
        "# Make any adjustments to the data configuration\n",
        "config.num_pts=256"
      ],
      "metadata": {
        "id": "mQcvEN8pPRg4"
      },
      "execution_count": 14,
      "outputs": []
    },
    {
      "cell_type": "code",
      "source": [
        "config.rot=True"
      ],
      "metadata": {
        "id": "1roUER-Q4OvF"
      },
      "execution_count": 15,
      "outputs": []
    },
    {
      "cell_type": "markdown",
      "source": [
        "## ModelNet40"
      ],
      "metadata": {
        "id": "G5_Ow1Sne9rC"
      }
    },
    {
      "cell_type": "markdown",
      "source": [
        "## Copy data from original directory to /cpsc_533y_project/data"
      ],
      "metadata": {
        "id": "epy8yKDlQzrA"
      }
    },
    {
      "cell_type": "code",
      "execution_count": 16,
      "metadata": {
        "id": "GSg93u8FOua7"
      },
      "outputs": [],
      "source": [
        "!cp -r /content/drive/MyDrive/cpsc_533y/project_datasets/modelnet40_ply_hdf5_2048 /content/cpsc_533y_project/data"
      ]
    },
    {
      "cell_type": "code",
      "execution_count": 17,
      "metadata": {
        "colab": {
          "base_uri": "https://localhost:8080/",
          "height": 436
        },
        "outputId": "076e794e-742d-416d-c813-e3f58e35f24f",
        "id": "uQIvTFvefAdV"
      },
      "outputs": [
        {
          "output_type": "stream",
          "name": "stdout",
          "text": [
            "batch_size: 32\n",
            "center: false\n",
            "descending: false\n",
            "gsn_init: null\n",
            "label_smoothing: 0.2\n",
            "localize: true\n",
            "log_dir: logs\n",
            "lr: 0.02\n",
            "mode: both\n",
            "normalize: true\n",
            "num_classes: 40\n",
            "num_epochs: 200\n",
            "num_pts: 256\n",
            "preprocess: false\n",
            "reduce_option: average\n",
            "rot: true\n",
            "rot_type: SO3\n",
            "use_cuda: true\n",
            "use_voxel: false\n",
            "weight_decay: 0.0\n",
            "\n",
            "Normalizing training data\n",
            "Normalizing test data\n"
          ]
        }
      ],
      "source": [
        "from dataloader import load_data, ModelNetDataLoader\n",
        "\n",
        "print(config)\n",
        "\n",
        "# Adjust path to the folder modelnet40_ply_hdf5_2048 as needed\n",
        "datapath = \"/content/cpsc_533y_project/data/modelnet40_ply_hdf5_2048/\"\n",
        "n_points = config.num_pts\n",
        "use_voxel = config.use_voxel\n",
        "rot_type = config.rot_type\n",
        "rot = config.rot\n",
        "\n",
        "train_data, train_label, test_data, test_label = load_data(datapath, classification=True)\n",
        "if config.normalize:\n",
        "    print(\"Normalizing training data\")\n",
        "    train_data = normalize_data(train_data)\n",
        "if config.center:\n",
        "    print(\"Centering training data\")\n",
        "    train_data = center_data(train_data)\n",
        "if config.normalize:\n",
        "    print(\"Normalizing test data\")\n",
        "    test_data = normalize_data(test_data)\n",
        "if config.center:\n",
        "    print(\"Centering test data\")\n",
        "    test_data = center_data(test_data)\n",
        "trainDataset = ModelNetDataLoader(train_data, train_label, use_voxel=use_voxel, point_num = n_points, rot_type=rot_type,rot=rot)\n",
        "testDataset = ModelNetDataLoader(test_data, test_label, use_voxel=use_voxel, point_num = n_points, rot_type=rot_type,rot=rot)\n",
        "trainDataLoader = torch.utils.data.DataLoader(trainDataset, batch_size=config.batch_size, shuffle=True) #, num_workers = 6\n",
        "testDataLoader = torch.utils.data.DataLoader(testDataset, batch_size=config.batch_size, shuffle=False) #, num_workers = 6\n",
        "\n",
        "# Create a single batch to overfit on\n",
        "num_all=4\n",
        "weights = torch.ones(len(trainDataset))\n",
        "random_indices=torch.multinomial(weights,num_all,replacement=False)\n",
        "batch_subset = Subset(trainDataset, random_indices)\n",
        "batchTrainDataLoader=torch.utils.data.DataLoader(batch_subset,batch_size=4,shuffle=True)\n",
        "batchTestDataLoader=torch.utils.data.DataLoader(batch_subset,batch_size=4,shuffle=False)"
      ]
    },
    {
      "cell_type": "code",
      "execution_count": 18,
      "metadata": {
        "colab": {
          "base_uri": "https://localhost:8080/"
        },
        "id": "EM1VDNhv-Ufr",
        "outputId": "b366748d-1736-4706-e187-de810b266d9b"
      },
      "outputs": [
        {
          "output_type": "stream",
          "name": "stdout",
          "text": [
            "3\n"
          ]
        }
      ],
      "source": [
        "print(len(trainDataset[0]))"
      ]
    },
    {
      "cell_type": "code",
      "execution_count": 19,
      "metadata": {
        "colab": {
          "base_uri": "https://localhost:8080/"
        },
        "id": "6iPZtuTCQgja",
        "outputId": "d4bf99d1-42f8-46b8-ae02-3acf2be1410e"
      },
      "outputs": [
        {
          "output_type": "stream",
          "name": "stdout",
          "text": [
            "3\n"
          ]
        }
      ],
      "source": [
        "data = next(iter(trainDataLoader))\n",
        "# First element is the point cloud, second element is the estimated normals, third element is the labels\n",
        "# If use_voxel=True, third element will be the voxels, and fourth element will be the labels\n",
        "print(len(data))"
      ]
    },
    {
      "cell_type": "code",
      "execution_count": 20,
      "metadata": {
        "colab": {
          "base_uri": "https://localhost:8080/"
        },
        "id": "g7hOpbBRTrhj",
        "outputId": "f83734a9-bf3b-431d-d170-1e56412400b4"
      },
      "outputs": [
        {
          "output_type": "stream",
          "name": "stdout",
          "text": [
            "Point cloud batch shape: torch.Size([32, 256, 3])\n"
          ]
        }
      ],
      "source": [
        "pc = data[0]\n",
        "print(f\"Point cloud batch shape: {pc.shape}\")"
      ]
    },
    {
      "cell_type": "code",
      "source": [
        "for i in range(0, 2):\n",
        "    data_2 = next(iter(trainDataLoader))\n",
        "pc_2 = data_2[0]"
      ],
      "metadata": {
        "id": "iuLBmu5hmnmP"
      },
      "execution_count": 21,
      "outputs": []
    },
    {
      "cell_type": "code",
      "source": [
        "for i in range(0, 3):\n",
        "    data_3 = next(iter(trainDataLoader))\n",
        "pc_3 = data_3[0]"
      ],
      "metadata": {
        "id": "YmnYGMowmxVg"
      },
      "execution_count": 22,
      "outputs": []
    },
    {
      "cell_type": "markdown",
      "source": [
        "# Calculate optimal k"
      ],
      "metadata": {
        "id": "emF_1OSgOeH0"
      }
    },
    {
      "cell_type": "code",
      "execution_count": 38,
      "metadata": {
        "id": "5jAmVJkAhCI2"
      },
      "outputs": [],
      "source": [
        "from helper_functions import get_knn_idx, index_points\n",
        "\n",
        "# Implementation of algorithm 1 from the Supplementary\n",
        "def construct_matrices(p, min_k=4, max_k=64, step_size=4):\n",
        "    b, c, n = p.shape\n",
        "\n",
        "    all_entropies = torch.zeros((b, n, len([i for i in range(min_k, max_k, step_size)])), dtype=torch.float64)\n",
        "    k_idx = torch.zeros(len([i for i in range(min_k, max_k, step_size)]), dtype=torch.int64)\n",
        "    count = 0\n",
        "    for j in range(min_k, max_k, step_size):\n",
        "        # print(\"p.shape:\", p.shape)\n",
        "        # Get the k-nearest neighbors of each point in the point cloud, (b, n, k)\n",
        "        knn_idx = get_knn_idx(p, p, j)\n",
        "        # Get the features of the k-nearest neighbors, (b, c, n, k)\n",
        "        knn_features = index_points(p, knn_idx)\n",
        "        # Calculate the neighborhood centroids of each point, (b, c, n, 1)\n",
        "        centroids = torch.mean(knn_features, dim=-1, keepdim=True)\n",
        "        # print(\"knn_features.shape:\", knn_features.shape)\n",
        "        # print(\"centroids.shape:\", centroids.shape)\n",
        "        difference = knn_features - centroids\n",
        "\n",
        "        # (b , c, k, k) to (b, n, c, k)\n",
        "        difference_1 = difference.transpose(2, 1)\n",
        "        # (b, n, c, k) to (b, n, k, c)\n",
        "        difference_1 = difference_1.transpose(3, 2)\n",
        "        # (b, n, c, k, ) to (b, n, c,k, c, )\n",
        "        difference_1 = difference_1.unsqueeze(-1)\n",
        "        # (b, n, c, k) to (b, n, c, k)\n",
        "        difference_2 = difference.transpose(2, 1)\n",
        "        # (b, n, c, k) to # (b, n, k, c)\n",
        "        difference_2 = difference_2.transpose(3, 2)\n",
        "        # (b, n, k, c) to (b, n, k, 1, c)\n",
        "        difference_2 = difference_2.unsqueeze(-2)\n",
        "\n",
        "        # Line 4 in aAlgorithm 1\n",
        "        M = torch.matmul(difference_1, difference_2)\n",
        "        M = torch.sum(M, dim=2) / j\n",
        "        # print(\"M.shape:\", M.shape)\n",
        "\n",
        "        eigenvalues = torch.linalg.eigvals(M).type(torch.float64)\n",
        "        # print(\"eigenvalues.shape:\", eigenvalues.shape)\n",
        "        top_eigenvalues, _ = torch.topk(eigenvalues, 3, largest=True, dim=2)\n",
        "\n",
        "        # print(\"top_eigenvalues.shape:\", top_eigenvalues.shape)\n",
        "        a1D = (torch.sqrt(top_eigenvalues[:,:,0]) - torch.sqrt(top_eigenvalues[:,:,1])) / torch.sqrt(top_eigenvalues[:,:,0])\n",
        "        a2D = (torch.sqrt(top_eigenvalues[:,:,1]) - torch.sqrt(top_eigenvalues[:,:,2])) / torch.sqrt(top_eigenvalues[:,:,0])\n",
        "        a3D = torch.sqrt(top_eigenvalues[:,:,2]) / torch.sqrt(top_eigenvalues[:,:,0])\n",
        "\n",
        "        H_k = - a1D * torch.log(a1D) - a2D * torch.log(a2D) - a3D * torch.log(a3D)\n",
        "        # print(\"H_k.shape:\", H_k.shape)\n",
        "\n",
        "        all_entropies[:, :, count:count+1] = H_k.unsqueeze(-1)\n",
        "        k_idx[count] = j\n",
        "        count = count + 1\n",
        "    # _, top_k_idx = torch.topk(all_entropies, 1, largest=True, dim=1)\n",
        "    # print(top_k_idx.shape)\n",
        "    # print(top_k_idx)\n",
        "    # top_k_entropies, top_k_idx = torch.topk(all_entropies, 1, largest=True, dim=2)\n",
        "    # _, minimum_k_idx = torch.topk(top_k_idx, 3, largest=False, dim=1)\n",
        "\n",
        "    # Get maximum entropies over N points for each k\n",
        "    top_k_entropies, _ = torch.topk(all_entropies, 1, largest=True, dim=1)\n",
        "    # print(\"top_k_entropies:\", top_k_entropies.shape)\n",
        "    # Pick the three k with the smallest maximum entropies\n",
        "    _, minimum_k_idx = torch.topk(top_k_entropies, 3, largest=False, dim=2)\n",
        "    # print(\"minimum_k_idx.shape:\", minimum_k_idx.shape)\n",
        "    # print(minimum_k_idx)\n",
        "    # print(k_idx)\n",
        "\n",
        "    # indices=index_points(top_k_idx.transpose(2,1),minimum_k_idx.squeeze(-1)).transpose(2,1).squeeze(-1)\n",
        "\n",
        "    pc_top_k = k_idx[minimum_k_idx.squeeze()]\n",
        "\n",
        "    _, optimal_k = torch.topk(torch.bincount(pc_top_k.flatten()), 3, largest=True)\n",
        "\n",
        "    return optimal_k"
      ]
    },
    {
      "cell_type": "code",
      "execution_count": 39,
      "metadata": {
        "colab": {
          "base_uri": "https://localhost:8080/"
        },
        "id": "cLsUdCm0xLdf",
        "outputId": "456ee696-9f57-4289-e03a-e26587b2877d"
      },
      "outputs": [
        {
          "output_type": "execute_result",
          "data": {
            "text/plain": [
              "tensor([52, 60, 56])"
            ]
          },
          "metadata": {},
          "execution_count": 39
        }
      ],
      "source": [
        "# Calculate optimal k with algorithm 1\n",
        "construct_matrices(pc.transpose(2, 1), min_k=4, max_k=64, step_size=4)"
      ]
    },
    {
      "cell_type": "markdown",
      "metadata": {
        "id": "e9sZdQyPcmR0"
      },
      "source": [
        "# NLGAT"
      ]
    },
    {
      "cell_type": "code",
      "source": [
        "from gsn import GlobalStructureNetwork\n",
        "from grn import GlobalRepresentationNetwork\n",
        "from nlgat import NLGAT\n",
        "from network import Network"
      ],
      "metadata": {
        "id": "QZE-2SD9HCGd"
      },
      "execution_count": 27,
      "outputs": []
    },
    {
      "cell_type": "markdown",
      "metadata": {
        "id": "oKbtqhfaeKZt"
      },
      "source": [
        "# Network"
      ]
    },
    {
      "cell_type": "code",
      "execution_count": 28,
      "metadata": {
        "colab": {
          "base_uri": "https://localhost:8080/"
        },
        "id": "Ioft2STqYC7q",
        "outputId": "61ce6b2e-b4a1-452d-9244-f2a999219997"
      },
      "outputs": [
        {
          "output_type": "execute_result",
          "data": {
            "text/plain": [
              "batch_size: 32\n",
              "center: false\n",
              "descending: false\n",
              "gsn_init: null\n",
              "label_smoothing: 0.2\n",
              "localize: true\n",
              "log_dir: logs\n",
              "lr: 0.02\n",
              "mode: both\n",
              "normalize: true\n",
              "num_classes: 40\n",
              "num_epochs: 200\n",
              "num_pts: 256\n",
              "preprocess: false\n",
              "reduce_option: average\n",
              "rot: true\n",
              "rot_type: SO3\n",
              "use_cuda: true\n",
              "use_voxel: false\n",
              "weight_decay: 0.0"
            ]
          },
          "metadata": {},
          "execution_count": 28
        }
      ],
      "source": [
        "config"
      ]
    },
    {
      "cell_type": "code",
      "source": [
        "config.mode=\"both\""
      ],
      "metadata": {
        "id": "WbSo6XdT-MyP"
      },
      "execution_count": 29,
      "outputs": []
    },
    {
      "cell_type": "code",
      "source": [
        "config.gsn_init=None"
      ],
      "metadata": {
        "id": "y6NOLQC0UfVL"
      },
      "execution_count": 30,
      "outputs": []
    },
    {
      "cell_type": "code",
      "source": [
        "import os as os"
      ],
      "metadata": {
        "id": "JzPw5cKajUdE"
      },
      "execution_count": 31,
      "outputs": []
    },
    {
      "cell_type": "code",
      "source": [
        "config.num_epochs=200\n",
        "config.reduce_option=\"average\"\n",
        "config.batch_size=32\n",
        "config.lr=0.0001\n",
        "config.betas=(0.9,0.999)\n",
        "weight_decay=0\n",
        "config.localize=True\n",
        "config.use_cuda=True\n",
        "config.k_1=8\n",
        "config.k_2=16\n",
        "config.k_3=24\n",
        "\n",
        "model_dir = \"/content/drive/MyDrive/cpsc_533y/localize_test\"\n",
        "\n",
        "if not os.path.exists(model_dir):\n",
        "    os.makedirs(model_dir)\n",
        "\n",
        "config.log_dir = os.path.join(model_dir, \"logs\")\n",
        "\n",
        "if not os.path.exists(config.log_dir):\n",
        "    os.makedirs(config.log_dir)\n",
        "\n",
        "model = NLGAT(config)\n",
        "network = Network(model, config)"
      ],
      "metadata": {
        "colab": {
          "base_uri": "https://localhost:8080/"
        },
        "id": "t1CCY98YgeWd",
        "outputId": "23ed3253-ca5d-4a1b-b8d5-2071a20c52bd"
      },
      "execution_count": 32,
      "outputs": [
        {
          "output_type": "stream",
          "name": "stdout",
          "text": [
            "Network mode: both\n"
          ]
        }
      ]
    },
    {
      "cell_type": "code",
      "source": [
        "config"
      ],
      "metadata": {
        "colab": {
          "base_uri": "https://localhost:8080/"
        },
        "id": "T175-23xeAlS",
        "outputId": "ad3834b0-875e-419c-f64e-81a57e17bf1d"
      },
      "execution_count": 33,
      "outputs": [
        {
          "output_type": "execute_result",
          "data": {
            "text/plain": [
              "batch_size: 32\n",
              "betas: !!python/tuple\n",
              "- 0.9\n",
              "- 0.999\n",
              "center: false\n",
              "descending: false\n",
              "gsn_init: null\n",
              "k_1: 8\n",
              "k_2: 16\n",
              "k_3: 24\n",
              "label_smoothing: 0.2\n",
              "localize: true\n",
              "log_dir: /content/drive/MyDrive/cpsc_533y/localize_test/logs\n",
              "lr: 0.0001\n",
              "mode: both\n",
              "normalize: true\n",
              "num_classes: 40\n",
              "num_epochs: 200\n",
              "num_pts: 256\n",
              "preprocess: false\n",
              "reduce_option: average\n",
              "rot: true\n",
              "rot_type: SO3\n",
              "use_cuda: true\n",
              "use_voxel: false\n",
              "weight_decay: 0.0"
            ]
          },
          "metadata": {},
          "execution_count": 33
        }
      ]
    },
    {
      "cell_type": "code",
      "execution_count": 34,
      "metadata": {
        "colab": {
          "base_uri": "https://localhost:8080/"
        },
        "id": "p_RdxngOgfs1",
        "outputId": "c3f1728f-edf2-47d3-eeb9-60af03f78b6d"
      },
      "outputs": [
        {
          "output_type": "stream",
          "name": "stdout",
          "text": [
            "Epoch:   0, loss_avg: 4.08714, val OA: 0.00000, best val OA: 0.00000\n",
            "Epoch:   1, loss_avg: 2.90693, val OA: 0.00000, best val OA: 0.00000\n",
            "Epoch:   2, loss_avg: 2.39312, val OA: 0.00000, best val OA: 0.00000\n",
            "Epoch:   3, loss_avg: 2.15715, val OA: 0.00000, best val OA: 0.00000\n",
            "Epoch:   4, loss_avg: 2.07481, val OA: 0.00000, best val OA: 0.00000\n",
            "Epoch:   5, loss_avg: 2.16169, val OA: 0.00000, best val OA: 0.00000\n",
            "Epoch:   6, loss_avg: 2.00502, val OA: 0.00000, best val OA: 0.00000\n",
            "Epoch:   7, loss_avg: 1.97055, val OA: 0.00000, best val OA: 0.00000\n",
            "Epoch:   8, loss_avg: 1.98488, val OA: 0.00000, best val OA: 0.00000\n",
            "Epoch:   9, loss_avg: 1.80931, val OA: 0.00000, best val OA: 0.00000\n",
            "Epoch:  10, loss_avg: 1.84486, val OA: 0.00000, best val OA: 0.00000\n",
            "Epoch:  11, loss_avg: 1.85251, val OA: 0.00000, best val OA: 0.00000\n",
            "Epoch:  12, loss_avg: 2.04767, val OA: 0.00000, best val OA: 0.00000\n",
            "Epoch:  13, loss_avg: 1.95807, val OA: 0.00000, best val OA: 0.00000\n",
            "Epoch:  14, loss_avg: 1.80224, val OA: 0.00000, best val OA: 0.00000\n",
            "Epoch:  15, loss_avg: 1.67149, val OA: 0.00000, best val OA: 0.00000\n",
            "Epoch:  16, loss_avg: 1.88438, val OA: 0.00000, best val OA: 0.00000\n",
            "Epoch:  17, loss_avg: 2.03961, val OA: 0.00000, best val OA: 0.00000\n",
            "Epoch:  18, loss_avg: 1.83549, val OA: 0.00000, best val OA: 0.00000\n",
            "Epoch:  19, loss_avg: 1.88258, val OA: 0.00000, best val OA: 0.00000\n",
            "Epoch:  20, loss_avg: 1.93357, val OA: 0.00000, best val OA: 0.00000\n",
            "Epoch:  21, loss_avg: 1.73033, val OA: 0.00000, best val OA: 0.00000\n",
            "Epoch:  22, loss_avg: 1.85630, val OA: 0.00000, best val OA: 0.00000\n",
            "Epoch:  23, loss_avg: 1.87095, val OA: 0.00000, best val OA: 0.00000\n",
            "Epoch:  24, loss_avg: 1.93673, val OA: 0.00000, best val OA: 0.00000\n",
            "Epoch:  25, loss_avg: 1.88198, val OA: 0.00000, best val OA: 0.00000\n",
            "Epoch:  26, loss_avg: 1.73611, val OA: 0.00000, best val OA: 0.00000\n",
            "Epoch:  27, loss_avg: 1.81933, val OA: 0.00000, best val OA: 0.00000\n",
            "Epoch:  28, loss_avg: 1.80510, val OA: 0.00000, best val OA: 0.00000\n",
            "Epoch:  29, loss_avg: 1.82953, val OA: 0.00000, best val OA: 0.00000\n",
            "Epoch:  30, loss_avg: 1.94414, val OA: 0.00000, best val OA: 0.00000\n",
            "Epoch:  31, loss_avg: 2.01657, val OA: 0.00000, best val OA: 0.00000\n",
            "Epoch:  32, loss_avg: 1.87559, val OA: 0.25000, best val OA: 0.25000\n",
            "Epoch:  33, loss_avg: 1.58695, val OA: 0.25000, best val OA: 0.25000\n",
            "Epoch:  34, loss_avg: 1.99667, val OA: 0.25000, best val OA: 0.25000\n",
            "Epoch:  35, loss_avg: 2.07802, val OA: 0.25000, best val OA: 0.25000\n",
            "Epoch:  36, loss_avg: 1.71414, val OA: 0.25000, best val OA: 0.25000\n",
            "Epoch:  37, loss_avg: 1.92614, val OA: 0.25000, best val OA: 0.25000\n",
            "Epoch:  38, loss_avg: 1.86127, val OA: 0.25000, best val OA: 0.25000\n",
            "Epoch:  39, loss_avg: 1.99835, val OA: 0.25000, best val OA: 0.25000\n",
            "Epoch:  40, loss_avg: 1.99154, val OA: 0.25000, best val OA: 0.25000\n",
            "Epoch:  41, loss_avg: 1.73055, val OA: 0.25000, best val OA: 0.25000\n",
            "Epoch:  42, loss_avg: 1.93761, val OA: 0.25000, best val OA: 0.25000\n",
            "Epoch:  43, loss_avg: 1.85523, val OA: 0.25000, best val OA: 0.25000\n",
            "Epoch:  44, loss_avg: 1.76645, val OA: 0.25000, best val OA: 0.25000\n",
            "Epoch:  45, loss_avg: 1.85229, val OA: 0.50000, best val OA: 0.50000\n",
            "Epoch:  46, loss_avg: 1.75458, val OA: 0.75000, best val OA: 0.75000\n",
            "Epoch:  47, loss_avg: 1.78417, val OA: 0.25000, best val OA: 0.75000\n",
            "Epoch:  48, loss_avg: 2.17169, val OA: 0.50000, best val OA: 0.75000\n",
            "Epoch:  49, loss_avg: 1.84327, val OA: 0.25000, best val OA: 0.75000\n",
            "Epoch:  50, loss_avg: 1.79920, val OA: 0.50000, best val OA: 0.75000\n",
            "Epoch:  51, loss_avg: 1.99296, val OA: 0.50000, best val OA: 0.75000\n",
            "Epoch:  52, loss_avg: 1.87186, val OA: 0.75000, best val OA: 0.75000\n",
            "Epoch:  53, loss_avg: 1.77616, val OA: 0.50000, best val OA: 0.75000\n",
            "Epoch:  54, loss_avg: 1.82250, val OA: 0.75000, best val OA: 0.75000\n",
            "Epoch:  55, loss_avg: 1.89041, val OA: 0.50000, best val OA: 0.75000\n",
            "Epoch:  56, loss_avg: 1.84621, val OA: 0.50000, best val OA: 0.75000\n",
            "Epoch:  57, loss_avg: 1.79491, val OA: 0.75000, best val OA: 0.75000\n",
            "Epoch:  58, loss_avg: 1.85059, val OA: 0.50000, best val OA: 0.75000\n",
            "Epoch:  59, loss_avg: 1.75522, val OA: 0.75000, best val OA: 0.75000\n",
            "Epoch:  60, loss_avg: 2.01743, val OA: 0.75000, best val OA: 0.75000\n",
            "Epoch:  61, loss_avg: 1.95640, val OA: 0.50000, best val OA: 0.75000\n",
            "Epoch:  62, loss_avg: 2.12215, val OA: 0.75000, best val OA: 0.75000\n",
            "Epoch:  63, loss_avg: 1.93221, val OA: 0.75000, best val OA: 0.75000\n",
            "Epoch:  64, loss_avg: 1.91759, val OA: 0.75000, best val OA: 0.75000\n",
            "Epoch:  65, loss_avg: 1.85246, val OA: 0.75000, best val OA: 0.75000\n",
            "Epoch:  66, loss_avg: 1.80937, val OA: 0.75000, best val OA: 0.75000\n",
            "Epoch:  67, loss_avg: 1.86677, val OA: 0.75000, best val OA: 0.75000\n",
            "Epoch:  68, loss_avg: 1.82585, val OA: 0.75000, best val OA: 0.75000\n",
            "Epoch:  69, loss_avg: 1.98884, val OA: 0.75000, best val OA: 0.75000\n",
            "Epoch:  70, loss_avg: 1.89076, val OA: 0.75000, best val OA: 0.75000\n",
            "Epoch:  71, loss_avg: 2.00332, val OA: 1.00000, best val OA: 1.00000\n",
            "Epoch:  72, loss_avg: 2.37448, val OA: 0.75000, best val OA: 1.00000\n",
            "Epoch:  73, loss_avg: 2.04982, val OA: 0.75000, best val OA: 1.00000\n",
            "Epoch:  74, loss_avg: 1.84121, val OA: 0.50000, best val OA: 1.00000\n",
            "Epoch:  75, loss_avg: 1.86069, val OA: 0.75000, best val OA: 1.00000\n",
            "Epoch:  76, loss_avg: 1.73600, val OA: 0.75000, best val OA: 1.00000\n",
            "Epoch:  77, loss_avg: 1.86346, val OA: 0.50000, best val OA: 1.00000\n",
            "Epoch:  78, loss_avg: 1.88905, val OA: 0.75000, best val OA: 1.00000\n",
            "Epoch:  79, loss_avg: 1.90174, val OA: 0.75000, best val OA: 1.00000\n",
            "Epoch:  80, loss_avg: 1.81681, val OA: 0.75000, best val OA: 1.00000\n",
            "Epoch:  81, loss_avg: 1.87694, val OA: 0.75000, best val OA: 1.00000\n",
            "Epoch:  82, loss_avg: 1.86679, val OA: 0.75000, best val OA: 1.00000\n",
            "Epoch:  83, loss_avg: 2.03539, val OA: 0.75000, best val OA: 1.00000\n",
            "Epoch:  84, loss_avg: 1.87441, val OA: 0.50000, best val OA: 1.00000\n",
            "Epoch:  85, loss_avg: 1.99062, val OA: 0.50000, best val OA: 1.00000\n",
            "Epoch:  86, loss_avg: 1.86949, val OA: 0.75000, best val OA: 1.00000\n",
            "Epoch:  87, loss_avg: 2.15619, val OA: 0.75000, best val OA: 1.00000\n",
            "Epoch:  88, loss_avg: 1.77969, val OA: 0.75000, best val OA: 1.00000\n",
            "Epoch:  89, loss_avg: 1.97856, val OA: 0.75000, best val OA: 1.00000\n",
            "Epoch:  90, loss_avg: 1.91910, val OA: 0.75000, best val OA: 1.00000\n",
            "Epoch:  91, loss_avg: 1.76631, val OA: 1.00000, best val OA: 1.00000\n",
            "Epoch:  92, loss_avg: 1.86939, val OA: 0.50000, best val OA: 1.00000\n",
            "Epoch:  93, loss_avg: 1.93652, val OA: 0.75000, best val OA: 1.00000\n",
            "Epoch:  94, loss_avg: 1.72299, val OA: 0.75000, best val OA: 1.00000\n",
            "Epoch:  95, loss_avg: 1.84225, val OA: 0.75000, best val OA: 1.00000\n",
            "Epoch:  96, loss_avg: 1.98535, val OA: 1.00000, best val OA: 1.00000\n",
            "Epoch:  97, loss_avg: 1.86815, val OA: 0.75000, best val OA: 1.00000\n",
            "Epoch:  98, loss_avg: 1.77743, val OA: 0.75000, best val OA: 1.00000\n",
            "Epoch:  99, loss_avg: 1.88698, val OA: 0.75000, best val OA: 1.00000\n",
            "Epoch: 100, loss_avg: 2.10539, val OA: 0.75000, best val OA: 1.00000\n",
            "Epoch: 101, loss_avg: 2.00562, val OA: 0.50000, best val OA: 1.00000\n",
            "Epoch: 102, loss_avg: 1.86130, val OA: 0.75000, best val OA: 1.00000\n",
            "Epoch: 103, loss_avg: 1.72589, val OA: 0.75000, best val OA: 1.00000\n",
            "Epoch: 104, loss_avg: 1.95762, val OA: 0.75000, best val OA: 1.00000\n",
            "Epoch: 105, loss_avg: 1.71246, val OA: 0.50000, best val OA: 1.00000\n",
            "Epoch: 106, loss_avg: 1.91821, val OA: 0.75000, best val OA: 1.00000\n",
            "Epoch: 107, loss_avg: 1.88235, val OA: 0.50000, best val OA: 1.00000\n",
            "Epoch: 108, loss_avg: 2.04755, val OA: 1.00000, best val OA: 1.00000\n",
            "Epoch: 109, loss_avg: 1.87190, val OA: 0.75000, best val OA: 1.00000\n",
            "Epoch: 110, loss_avg: 1.94117, val OA: 1.00000, best val OA: 1.00000\n",
            "Epoch: 111, loss_avg: 1.85787, val OA: 0.75000, best val OA: 1.00000\n",
            "Epoch: 112, loss_avg: 1.90827, val OA: 0.75000, best val OA: 1.00000\n",
            "Epoch: 113, loss_avg: 1.90731, val OA: 0.75000, best val OA: 1.00000\n",
            "Epoch: 114, loss_avg: 1.84434, val OA: 0.75000, best val OA: 1.00000\n",
            "Epoch: 115, loss_avg: 1.90513, val OA: 0.75000, best val OA: 1.00000\n",
            "Epoch: 116, loss_avg: 1.91070, val OA: 0.75000, best val OA: 1.00000\n",
            "Epoch: 117, loss_avg: 2.10275, val OA: 0.50000, best val OA: 1.00000\n",
            "Epoch: 118, loss_avg: 1.77655, val OA: 0.75000, best val OA: 1.00000\n",
            "Epoch: 119, loss_avg: 1.80280, val OA: 0.75000, best val OA: 1.00000\n",
            "Epoch: 120, loss_avg: 1.88945, val OA: 0.50000, best val OA: 1.00000\n",
            "Epoch: 121, loss_avg: 1.88821, val OA: 1.00000, best val OA: 1.00000\n",
            "Epoch: 122, loss_avg: 1.83674, val OA: 0.75000, best val OA: 1.00000\n",
            "Epoch: 123, loss_avg: 1.92202, val OA: 0.50000, best val OA: 1.00000\n",
            "Epoch: 124, loss_avg: 1.85374, val OA: 0.75000, best val OA: 1.00000\n",
            "Epoch: 125, loss_avg: 1.90364, val OA: 0.50000, best val OA: 1.00000\n",
            "Epoch: 126, loss_avg: 1.72235, val OA: 0.75000, best val OA: 1.00000\n",
            "Epoch: 127, loss_avg: 1.82510, val OA: 0.75000, best val OA: 1.00000\n",
            "Epoch: 128, loss_avg: 1.86124, val OA: 0.75000, best val OA: 1.00000\n",
            "Epoch: 129, loss_avg: 1.95533, val OA: 1.00000, best val OA: 1.00000\n",
            "Epoch: 130, loss_avg: 1.76033, val OA: 0.75000, best val OA: 1.00000\n",
            "Epoch: 131, loss_avg: 1.79977, val OA: 0.75000, best val OA: 1.00000\n",
            "Epoch: 132, loss_avg: 1.93890, val OA: 0.75000, best val OA: 1.00000\n",
            "Epoch: 133, loss_avg: 1.88536, val OA: 0.75000, best val OA: 1.00000\n",
            "Epoch: 134, loss_avg: 2.10781, val OA: 0.50000, best val OA: 1.00000\n",
            "Epoch: 135, loss_avg: 1.81253, val OA: 0.75000, best val OA: 1.00000\n",
            "Epoch: 136, loss_avg: 1.93364, val OA: 0.75000, best val OA: 1.00000\n",
            "Epoch: 137, loss_avg: 1.84589, val OA: 0.75000, best val OA: 1.00000\n",
            "Epoch: 138, loss_avg: 2.08714, val OA: 0.75000, best val OA: 1.00000\n",
            "Epoch: 139, loss_avg: 1.95333, val OA: 0.50000, best val OA: 1.00000\n",
            "Epoch: 140, loss_avg: 1.89528, val OA: 0.75000, best val OA: 1.00000\n",
            "Epoch: 141, loss_avg: 1.94693, val OA: 0.50000, best val OA: 1.00000\n",
            "Epoch: 142, loss_avg: 1.94216, val OA: 0.75000, best val OA: 1.00000\n",
            "Epoch: 143, loss_avg: 1.98073, val OA: 0.75000, best val OA: 1.00000\n",
            "Epoch: 144, loss_avg: 1.95258, val OA: 0.50000, best val OA: 1.00000\n",
            "Epoch: 145, loss_avg: 1.86045, val OA: 0.75000, best val OA: 1.00000\n",
            "Epoch: 146, loss_avg: 1.94083, val OA: 0.75000, best val OA: 1.00000\n",
            "Epoch: 147, loss_avg: 1.91561, val OA: 0.75000, best val OA: 1.00000\n",
            "Epoch: 148, loss_avg: 2.00162, val OA: 1.00000, best val OA: 1.00000\n",
            "Epoch: 149, loss_avg: 1.79669, val OA: 0.75000, best val OA: 1.00000\n",
            "Epoch: 150, loss_avg: 1.80575, val OA: 0.75000, best val OA: 1.00000\n",
            "Epoch: 151, loss_avg: 2.05343, val OA: 0.75000, best val OA: 1.00000\n",
            "Epoch: 152, loss_avg: 1.91316, val OA: 0.75000, best val OA: 1.00000\n",
            "Epoch: 153, loss_avg: 1.83241, val OA: 0.50000, best val OA: 1.00000\n",
            "Epoch: 154, loss_avg: 1.87514, val OA: 0.75000, best val OA: 1.00000\n",
            "Epoch: 155, loss_avg: 1.72837, val OA: 0.50000, best val OA: 1.00000\n",
            "Epoch: 156, loss_avg: 1.81906, val OA: 0.75000, best val OA: 1.00000\n",
            "Epoch: 157, loss_avg: 1.85093, val OA: 0.75000, best val OA: 1.00000\n",
            "Epoch: 158, loss_avg: 1.90354, val OA: 0.75000, best val OA: 1.00000\n",
            "Epoch: 159, loss_avg: 1.83554, val OA: 1.00000, best val OA: 1.00000\n",
            "Epoch: 160, loss_avg: 1.83762, val OA: 0.75000, best val OA: 1.00000\n",
            "Epoch: 161, loss_avg: 1.88910, val OA: 0.75000, best val OA: 1.00000\n",
            "Epoch: 162, loss_avg: 1.86074, val OA: 0.75000, best val OA: 1.00000\n",
            "Epoch: 163, loss_avg: 1.84116, val OA: 0.75000, best val OA: 1.00000\n",
            "Epoch: 164, loss_avg: 1.95591, val OA: 0.50000, best val OA: 1.00000\n",
            "Epoch: 165, loss_avg: 1.78698, val OA: 1.00000, best val OA: 1.00000\n",
            "Epoch: 166, loss_avg: 1.88720, val OA: 0.75000, best val OA: 1.00000\n",
            "Epoch: 167, loss_avg: 1.92521, val OA: 0.50000, best val OA: 1.00000\n",
            "Epoch: 168, loss_avg: 1.76938, val OA: 0.75000, best val OA: 1.00000\n",
            "Epoch: 169, loss_avg: 2.06680, val OA: 0.75000, best val OA: 1.00000\n",
            "Epoch: 170, loss_avg: 1.97274, val OA: 0.50000, best val OA: 1.00000\n",
            "Epoch: 171, loss_avg: 1.94317, val OA: 0.75000, best val OA: 1.00000\n",
            "Epoch: 172, loss_avg: 1.81332, val OA: 0.75000, best val OA: 1.00000\n",
            "Epoch: 173, loss_avg: 1.90669, val OA: 0.75000, best val OA: 1.00000\n",
            "Epoch: 174, loss_avg: 1.98649, val OA: 0.75000, best val OA: 1.00000\n",
            "Epoch: 175, loss_avg: 2.10096, val OA: 1.00000, best val OA: 1.00000\n",
            "Epoch: 176, loss_avg: 1.97074, val OA: 0.75000, best val OA: 1.00000\n",
            "Epoch: 177, loss_avg: 2.21884, val OA: 0.75000, best val OA: 1.00000\n",
            "Epoch: 178, loss_avg: 1.86651, val OA: 0.75000, best val OA: 1.00000\n",
            "Epoch: 179, loss_avg: 1.86826, val OA: 0.75000, best val OA: 1.00000\n",
            "Epoch: 180, loss_avg: 1.80451, val OA: 0.75000, best val OA: 1.00000\n",
            "Epoch: 181, loss_avg: 1.85260, val OA: 0.75000, best val OA: 1.00000\n",
            "Epoch: 182, loss_avg: 1.83320, val OA: 0.50000, best val OA: 1.00000\n",
            "Epoch: 183, loss_avg: 1.96288, val OA: 0.75000, best val OA: 1.00000\n",
            "Epoch: 184, loss_avg: 1.90036, val OA: 0.75000, best val OA: 1.00000\n",
            "Epoch: 185, loss_avg: 1.78473, val OA: 0.75000, best val OA: 1.00000\n",
            "Epoch: 186, loss_avg: 1.87344, val OA: 0.50000, best val OA: 1.00000\n",
            "Epoch: 187, loss_avg: 1.94000, val OA: 0.75000, best val OA: 1.00000\n",
            "Epoch: 188, loss_avg: 2.16906, val OA: 1.00000, best val OA: 1.00000\n",
            "Epoch: 189, loss_avg: 1.88062, val OA: 0.50000, best val OA: 1.00000\n",
            "Epoch: 190, loss_avg: 1.69999, val OA: 0.75000, best val OA: 1.00000\n",
            "Epoch: 191, loss_avg: 1.91078, val OA: 0.75000, best val OA: 1.00000\n",
            "Epoch: 192, loss_avg: 1.80875, val OA: 0.75000, best val OA: 1.00000\n",
            "Epoch: 193, loss_avg: 1.88422, val OA: 1.00000, best val OA: 1.00000\n",
            "Epoch: 194, loss_avg: 1.95579, val OA: 0.50000, best val OA: 1.00000\n",
            "Epoch: 195, loss_avg: 1.89488, val OA: 0.75000, best val OA: 1.00000\n",
            "Epoch: 196, loss_avg: 1.91113, val OA: 0.50000, best val OA: 1.00000\n",
            "Epoch: 197, loss_avg: 1.90735, val OA: 0.75000, best val OA: 1.00000\n",
            "Epoch: 198, loss_avg: 1.85759, val OA: 0.75000, best val OA: 1.00000\n",
            "Epoch: 199, loss_avg: 1.85010, val OA: 0.75000, best val OA: 1.00000\n"
          ]
        }
      ],
      "source": [
        "network.train(batchTrainDataLoader, batchTestDataLoader)"
      ]
    },
    {
      "cell_type": "code",
      "source": [
        "network.plot_log()"
      ],
      "metadata": {
        "id": "Afctdc2iWS07",
        "colab": {
          "base_uri": "https://localhost:8080/",
          "height": 967
        },
        "outputId": "faf180e2-74b4-4e10-befa-42b4166c5445"
      },
      "execution_count": 36,
      "outputs": [
        {
          "output_type": "display_data",
          "data": {
            "text/plain": [
              "<Figure size 640x480 with 2 Axes>"
            ],
            "image/png": "[encoded data removed]"
          },
          "metadata": {}
        },
        {
          "output_type": "execute_result",
          "data": {
            "text/plain": [
              "<Figure size 640x480 with 2 Axes>"
            ],
            "image/png": "[encoded data removed]"
          },
          "metadata": {},
          "execution_count": 36
        }
      ]
    },
    {
      "cell_type": "code",
      "execution_count": null,
      "metadata": {
        "colab": {
          "base_uri": "https://localhost:8080/",
          "height": 527
        },
        "id": "TGK5v579OB-x",
        "outputId": "011f7926-f487-4b3e-b3c9-b642c92c3e1a"
      },
      "outputs": [
        {
          "output_type": "stream",
          "name": "stdout",
          "text": [
            "Epoch:   0, loss_avg: 4.75056, val OA: 0.05024, best val OA: 0.05024\n",
            "Epoch:   1, loss_avg: 4.76019, val OA: 0.04579, best val OA: 0.05024\n",
            "Epoch:   2, loss_avg: 4.73498, val OA: 0.05186, best val OA: 0.05186\n",
            "Epoch:   3, loss_avg: 4.75178, val OA: 0.04822, best val OA: 0.05186\n",
            "Epoch:   4, loss_avg: 4.73723, val OA: 0.05024, best val OA: 0.05186\n",
            "Epoch:   5, loss_avg: 4.76068, val OA: 0.04943, best val OA: 0.05186\n",
            "Epoch:   6, loss_avg: 4.73893, val OA: 0.05105, best val OA: 0.05186\n",
            "Epoch:   7, loss_avg: 4.72933, val OA: 0.04498, best val OA: 0.05186\n",
            "Epoch:   8, loss_avg: 4.76802, val OA: 0.04781, best val OA: 0.05186\n",
            "Epoch:   9, loss_avg: 4.75623, val OA: 0.04538, best val OA: 0.05186\n",
            "Epoch:  10, loss_avg: 4.75731, val OA: 0.05308, best val OA: 0.05308\n",
            "Epoch:  11, loss_avg: 4.74173, val OA: 0.04943, best val OA: 0.05308\n"
          ]
        },
        {
          "output_type": "error",
          "ename": "KeyboardInterrupt",
          "evalue": "ignored",
          "traceback": [
            "\u001b[0;31m---------------------------------------------------------------------------\u001b[0m",
            "\u001b[0;31mKeyboardInterrupt\u001b[0m                         Traceback (most recent call last)",
            "\u001b[0;32m<ipython-input-60-3d4e68f7948e>\u001b[0m in \u001b[0;36m<cell line: 1>\u001b[0;34m()\u001b[0m\n\u001b[0;32m----> 1\u001b[0;31m \u001b[0mnetwork\u001b[0m\u001b[0;34m.\u001b[0m\u001b[0mtrain\u001b[0m\u001b[0;34m(\u001b[0m\u001b[0mtrainDataLoader\u001b[0m\u001b[0;34m,\u001b[0m \u001b[0mtestDataLoader\u001b[0m\u001b[0;34m)\u001b[0m\u001b[0;34m\u001b[0m\u001b[0;34m\u001b[0m\u001b[0m\n\u001b[0m",
            "\u001b[0;32m<ipython-input-45-7043e933bb5a>\u001b[0m in \u001b[0;36mtrain\u001b[0;34m(self, loader_tr, loader_va)\u001b[0m\n\u001b[1;32m     86\u001b[0m                 \u001b[0;32mif\u001b[0m \u001b[0mself\u001b[0m\u001b[0;34m.\u001b[0m\u001b[0mconfig\u001b[0m\u001b[0;34m.\u001b[0m\u001b[0muse_cuda\u001b[0m\u001b[0;34m:\u001b[0m\u001b[0;34m\u001b[0m\u001b[0;34m\u001b[0m\u001b[0m\n\u001b[1;32m     87\u001b[0m                     \u001b[0;32mfor\u001b[0m \u001b[0mi\u001b[0m \u001b[0;32min\u001b[0m \u001b[0mrange\u001b[0m\u001b[0;34m(\u001b[0m\u001b[0;36m0\u001b[0m\u001b[0;34m,\u001b[0m \u001b[0mlen\u001b[0m\u001b[0;34m(\u001b[0m\u001b[0mdata\u001b[0m\u001b[0;34m)\u001b[0m\u001b[0;34m)\u001b[0m\u001b[0;34m:\u001b[0m\u001b[0;34m\u001b[0m\u001b[0;34m\u001b[0m\u001b[0m\n\u001b[0;32m---> 88\u001b[0;31m                         \u001b[0mdata\u001b[0m\u001b[0;34m[\u001b[0m\u001b[0mi\u001b[0m\u001b[0;34m]\u001b[0m \u001b[0;34m=\u001b[0m \u001b[0mdata\u001b[0m\u001b[0;34m[\u001b[0m\u001b[0mi\u001b[0m\u001b[0;34m]\u001b[0m\u001b[0;34m.\u001b[0m\u001b[0mcuda\u001b[0m\u001b[0;34m(\u001b[0m\u001b[0;34m)\u001b[0m\u001b[0;34m\u001b[0m\u001b[0;34m\u001b[0m\u001b[0m\n\u001b[0m\u001b[1;32m     89\u001b[0m \u001b[0;34m\u001b[0m\u001b[0m\n\u001b[1;32m     90\u001b[0m                 \u001b[0mlabels\u001b[0m \u001b[0;34m=\u001b[0m \u001b[0mdata\u001b[0m\u001b[0;34m[\u001b[0m\u001b[0;36m2\u001b[0m\u001b[0;34m]\u001b[0m\u001b[0;34m.\u001b[0m\u001b[0msqueeze\u001b[0m\u001b[0;34m(\u001b[0m\u001b[0;34m-\u001b[0m\u001b[0;36m1\u001b[0m\u001b[0;34m)\u001b[0m\u001b[0;34m\u001b[0m\u001b[0;34m\u001b[0m\u001b[0m\n",
            "\u001b[0;31mKeyboardInterrupt\u001b[0m: "
          ]
        }
      ],
      "source": [
        "network.train(trainDataLoader, testDataLoader)"
      ]
    },
    {
      "cell_type": "code",
      "execution_count": null,
      "metadata": {
        "id": "NvnsM0Bn8Y2q",
        "colab": {
          "base_uri": "https://localhost:8080/",
          "height": 492
        },
        "outputId": "69996f4f-7e5c-4ac5-9638-020d7f0a8097"
      },
      "outputs": [
        {
          "output_type": "display_data",
          "data": {
            "text/plain": [
              "<Figure size 640x480 with 2 Axes>"
            ],
            "image/png": "[encoded data removed]"
          },
          "metadata": {}
        }
      ],
      "source": [
        "fig = network.plot_log()\n",
        "fig.savefig(os.path.join(model_dir,\"training_logs.png\"))"
      ]
    },
    {
      "cell_type": "code",
      "execution_count": null,
      "metadata": {
        "id": "fzFCZN7BL3yG"
      },
      "outputs": [],
      "source": [
        "from datetime import date\n",
        "lines=[\"Used a single batch of size 4 for training and validation.\",\n",
        "       \"\\n\"+str(config),\n",
        "       str(date.today()),\n",
        "       \"Used label smoothing and log_softmax()\",\n",
        "       \"Only k-nearest points with no similar points.\",\n",
        "       ]\n",
        "with open(os.path.join(model_dir,'description.txt'), 'w') as f:\n",
        "    for line in lines:\n",
        "        f.write(line)\n",
        "        f.write('\\n')"
      ]
    },
    {
      "cell_type": "code",
      "source": [
        "network._restore(\"/content/drive/MyDrive/cpsc_533y/modelnet40_experiments/so3_rot_8/single_batch_1/logs/best_model.pth\",restore_training=True)"
      ],
      "metadata": {
        "colab": {
          "base_uri": "https://localhost:8080/"
        },
        "id": "lnQGsYoka6RK",
        "outputId": "241e8d3d-5484-4bf4-efb6-7d51b6f73ebb"
      },
      "execution_count": null,
      "outputs": [
        {
          "output_type": "stream",
          "name": "stdout",
          "text": [
            "restoring /content/drive/MyDrive/cpsc_533y/modelnet40_experiments/so3_rot_8/single_batch_1/logs/best_model.pth\n"
          ]
        }
      ]
    },
    {
      "cell_type": "code",
      "source": [
        "config.noise_std=0.08\n",
        "noisy_testDataset=ModelNetDataLoader(test_data,test_label,use_voxel=use_voxel,point_num=n_points,rot_type=rot_type,rot=rot,noise_std=config.noise_std)\n",
        "noisy_testDataLoader=torch.utils.data.DataLoader(noisy_testDataset,batch_size=config.batch_size,shuffle=False)"
      ],
      "metadata": {
        "id": "IKg1T_PvoL68"
      },
      "execution_count": null,
      "outputs": []
    },
    {
      "cell_type": "code",
      "source": [
        "print(config.noise_std)\n",
        "network.test(noisy_testDataLoader, mode=\"test\")"
      ],
      "metadata": {
        "colab": {
          "base_uri": "https://localhost:8080/"
        },
        "id": "-NKCV557q2Pk",
        "outputId": "fd9290ea-5b97-4809-8dd0-e0cb9b895785"
      },
      "execution_count": null,
      "outputs": [
        {
          "output_type": "stream",
          "name": "stdout",
          "text": [
            "0.08\n",
            "restoring /content/drive/MyDrive/cpsc_533y/modelnet40_experiments/no_rot_8/full_train_1/logs/best_model.pth\n"
          ]
        },
        {
          "output_type": "execute_result",
          "data": {
            "text/plain": [
              "tensor(0.0616, device='cuda:0')"
            ]
          },
          "metadata": {},
          "execution_count": 169
        }
      ]
    },
    {
      "cell_type": "code",
      "execution_count": null,
      "metadata": {
        "id": "UdZhK2UORdqp",
        "colab": {
          "base_uri": "https://localhost:8080/"
        },
        "outputId": "71c0dec2-2f59-4db2-991a-a552e1b22259"
      },
      "outputs": [
        {
          "output_type": "execute_result",
          "data": {
            "text/plain": [
              "1055744"
            ]
          },
          "metadata": {},
          "execution_count": 317
        }
      ],
      "source": [
        "sum([x.nelement() for x in network.model.GSN.parameters()])"
      ]
    },
    {
      "cell_type": "code",
      "execution_count": null,
      "metadata": {
        "id": "whZ6jvOOR2z3",
        "colab": {
          "base_uri": "https://localhost:8080/"
        },
        "outputId": "fb81aa76-dc73-4378-9a20-23de4df12164"
      },
      "outputs": [
        {
          "output_type": "execute_result",
          "data": {
            "text/plain": [
              "4259235"
            ]
          },
          "metadata": {},
          "execution_count": 318
        }
      ],
      "source": [
        "sum([x.nelement() for x in network.model.GRN.parameters()])"
      ]
    }
  ],
  "metadata": {
    "colab": {
      "machine_shape": "hm",
      "provenance": [],
      "gpuType": "T4",
      "authorship_tag": "ABX9TyMUGQr7xX1Lbp7YDjkBune+",
      "include_colab_link": true
    },
    "kernelspec": {
      "display_name": "Python 3",
      "name": "python3"
    },
    "language_info": {
      "name": "python"
    },
    "accelerator": "GPU"
  },
  "nbformat": 4,
  "nbformat_minor": 0
}